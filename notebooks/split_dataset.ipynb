{
 "cells": [
  {
   "cell_type": "markdown",
   "id": "3776167c-2388-430e-9e49-418cd1ed2630",
   "metadata": {},
   "source": [
    "# Generate splits for an experimental dataset\n",
    "This notebook shows how to generate splits for an experimental dataset, using the avGFP dataset as an example."
   ]
  },
  {
   "cell_type": "code",
   "execution_count": 1,
   "id": "d13a5a8b-bcc8-4263-9584-27c9b54a25a1",
   "metadata": {
    "ExecuteTime": {
     "end_time": "2024-02-16T22:51:36.573559Z",
     "start_time": "2024-02-16T22:51:36.569490Z"
    },
    "collapsed": false,
    "jupyter": {
     "outputs_hidden": false
    }
   },
   "outputs": [],
   "source": [
    "%load_ext autoreload\n",
    "%autoreload 2"
   ]
  },
  {
   "cell_type": "code",
   "execution_count": 2,
   "id": "c82462e3-adb2-4387-b011-c162f2c5e3b3",
   "metadata": {},
   "outputs": [],
   "source": [
    "import os\n",
    "import sys\n",
    "\n",
    "# define the name of the project root directory\n",
    "project_root_dir_name = \"metl\"\n",
    "\n",
    "# find the project root by checking each parent directory\n",
    "current_dir = os.getcwd()\n",
    "while os.path.basename(current_dir) != project_root_dir_name and current_dir != os.path.dirname(current_dir):\n",
    "    current_dir = os.path.dirname(current_dir)\n",
    "\n",
    "# change the current working directory to the project root directory\n",
    "if os.path.basename(current_dir) == project_root_dir_name:\n",
    "    os.chdir(current_dir)\n",
    "else:\n",
    "    print(\"project root directory not found\")\n",
    "    \n",
    "# add the project code folder to the system path so imports work\n",
    "module_path = os.path.abspath(\"code\")\n",
    "if module_path not in sys.path:\n",
    "    sys.path.append(module_path)"
   ]
  },
  {
   "cell_type": "markdown",
   "id": "80a60e6e-d07a-4285-841a-63c95b75e043",
   "metadata": {},
   "source": [
    "# Withhold a \"super test\" set"
   ]
  },
  {
   "cell_type": "code",
   "execution_count": null,
   "id": "18dd84e2-9671-4740-badc-260fd96d5bad",
   "metadata": {},
   "outputs": [],
   "source": []
  },
  {
   "cell_type": "markdown",
   "id": "1f7b6702-fbf8-4efa-a06c-65801ccf2059",
   "metadata": {},
   "source": [
    "# Standard train, validation, and test splits"
   ]
  },
  {
   "cell_type": "code",
   "execution_count": null,
   "id": "2b29caa1-e46a-412e-8664-e685979f0d01",
   "metadata": {},
   "outputs": [],
   "source": []
  },
  {
   "cell_type": "markdown",
   "id": "92f45b81-3abf-4ad9-9509-97e3c742f019",
   "metadata": {},
   "source": [
    "# Extrapolation splits"
   ]
  },
  {
   "cell_type": "code",
   "execution_count": null,
   "id": "01050409-4462-44a7-bffe-71896311d30b",
   "metadata": {},
   "outputs": [],
   "source": []
  }
 ],
 "metadata": {
  "kernelspec": {
   "display_name": "Python 3 (ipykernel)",
   "language": "python",
   "name": "python3"
  },
  "language_info": {
   "codemirror_mode": {
    "name": "ipython",
    "version": 3
   },
   "file_extension": ".py",
   "mimetype": "text/x-python",
   "name": "python",
   "nbconvert_exporter": "python",
   "pygments_lexer": "ipython3",
   "version": "3.9.13"
  }
 },
 "nbformat": 4,
 "nbformat_minor": 5
}
