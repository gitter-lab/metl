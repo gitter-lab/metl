{
  "cells": [
    {
      "cell_type": "markdown",
      "metadata": {
        "id": "_Om47-OgrLFv"
      },
      "source": [
        "This notebook will show an example on how to use METL models through hugging face to predict on more than the sequences allowed by the demo.\n",
        "\n",
        "The example provided through the notebook uses a pretrained METL model to predict GB1 binding affinity.\n",
        "\n",
        "First, we will download some dependencies not included in Colab and import the required modules that we will need to download the METL model through 🤗 and predict with it."
      ]
    },
    {
      "cell_type": "code",
      "execution_count": 6,
      "metadata": {
        "cellView": "form",
        "id": "WkNKKIqXr4OU"
      },
      "outputs": [],
      "source": [
        "# @title Installing libraries not included with colab\n",
        "!pip install -q biopandas==0.5.1"
      ]
    },
    {
      "cell_type": "code",
      "execution_count": 7,
      "metadata": {
        "cellView": "form",
        "colab": {
          "base_uri": "https://localhost:8080/"
        },
        "id": "tP_HrR5YSiqk",
        "outputId": "c4f0a814-5daf-45b1-8d7f-cb7fbbbb3142"
      },
      "outputs": [
        {
          "output_type": "stream",
          "name": "stdout",
          "text": [
            "--2024-08-23 20:50:43--  https://raw.githubusercontent.com/gitter-lab/metl-pretrained/main/pdbs/2qmt_p.pdb\n",
            "Resolving raw.githubusercontent.com (raw.githubusercontent.com)... 185.199.108.133, 185.199.109.133, 185.199.110.133, ...\n",
            "Connecting to raw.githubusercontent.com (raw.githubusercontent.com)|185.199.108.133|:443... connected.\n",
            "HTTP request sent, awaiting response... 200 OK\n",
            "Length: 78764 (77K) [text/plain]\n",
            "Saving to: ‘2qmt_p.pdb’\n",
            "\n",
            "\r2qmt_p.pdb            0%[                    ]       0  --.-KB/s               \r2qmt_p.pdb          100%[===================>]  76.92K  --.-KB/s    in 0.009s  \n",
            "\n",
            "2024-08-23 20:50:43 (8.73 MB/s) - ‘2qmt_p.pdb’ saved [78764/78764]\n",
            "\n"
          ]
        }
      ],
      "source": [
        "# @title Download the example pdb file\n",
        "!wget -O 2qmt_p.pdb https://raw.githubusercontent.com/gitter-lab/metl-pretrained/main/pdbs/2qmt_p.pdb"
      ]
    },
    {
      "cell_type": "code",
      "execution_count": 8,
      "metadata": {
        "cellView": "form",
        "id": "mpjvGjzArLF1"
      },
      "outputs": [],
      "source": [
        "# @title Importing required libraries\n",
        "from transformers import AutoModel, AutoConfig, logging\n",
        "import ipywidgets as widgets\n",
        "from IPython.display import clear_output, HTML, display\n",
        "import pandas as pd\n",
        "import torch\n",
        "from huggingface_hub import login\n",
        "import io\n",
        "import json\n",
        "import biopandas\n",
        "\n",
        "logging.set_verbosity_error()\n",
        "\n",
        "# Declaring this here so that it's available regardless if later cells are run or not\n",
        "variant_file = None\n",
        "pdb_file_path = '2qmt_p.pdb'\n",
        "\n",
        "def to_zero_based(variants):\n",
        "    zero_based = []\n",
        "    for line in variants:\n",
        "        line_as_json = json.loads(line)\n",
        "        new_variants = []\n",
        "        for variant in line_as_json:\n",
        "            new_variant = []\n",
        "            mutations = variant.split(',')\n",
        "            for mutation in mutations:\n",
        "                residue_zero_based = int(mutation[1:-1]) - 1\n",
        "                new_variant.append(f\"{mutation[0]}{residue_zero_based}{mutation[-1]}\")\n",
        "            new_variants.append(\",\".join(new_variant))\n",
        "        zero_based.append(new_variants)\n",
        "\n",
        "    return zero_based"
      ]
    },
    {
      "cell_type": "markdown",
      "metadata": {
        "id": "JWJCsBukrLF7"
      },
      "source": [
        "We will then load a METL model through the 🤗 API. trust_remote_code=True is required to use METL models through 🤗."
      ]
    },
    {
      "cell_type": "code",
      "execution_count": 9,
      "metadata": {
        "cellView": "form",
        "colab": {
          "base_uri": "https://localhost:8080/",
          "height": 202,
          "referenced_widgets": [
            "0e89a61715a2405795e9204d487e16a7",
            "706504f4e2b44623b06d81e4bfb9fec6",
            "6139b052d48b4b8a88bf1d0cfbee89d1",
            "cb8a74409964470399e759c9c373c1fb",
            "1127b0a462414b60937c6f38b1adee12",
            "fc53173bf32d4afabfdf9ee50cb3b00a",
            "eb4407c45c0e4ac9b0fed9b2e0c56ff9",
            "b31c4d8d76224754846690925ecf8910",
            "554bd3d19ad24ab79e011fe89c768793",
            "b292e0907116481f8a67236d5fff4023",
            "948b99490be74d4483ce432455905bda",
            "9a4fa89166dc4ed9ba241082e0b295d0",
            "e89279b489fc4dcaa507ff5b8e67d890",
            "5268bf3171724c6aabba1a5e491120d0",
            "174d3daccf6542128f9e665d225da25f",
            "49c094a124f6497f81e8d99d5f539c3e",
            "aceb1c83343f42f5ba327ea0181f54ba",
            "3f8c6dc919de4ca79ac2d5bb4cac2d4f",
            "279615cb9a9f4d0a939e915aadb1390b",
            "706b2fd4323d42129ef68cf138535fe8",
            "26ba5323b65441d5ae3bca32edeaeb6b",
            "eb142d0f070c47a19b80d327c79929db",
            "3db12ffb0cc64e47a9445ed6f30ad4a7",
            "c064486920084853839ba97bbf7adcef",
            "c48bf3a44113463e9a2ce990ca58fd89",
            "49ed05570a474155ac1cc9c920956277",
            "b8de008d9ea8492d89b4220190f341df",
            "561825fd86a24139b76b0714fcf4ee07",
            "e243c6dbff6f462ba643e44ad05d6199",
            "dca0f426047a4fc69905113bfab76ddf",
            "61459277623143eeae90e152128d8e41",
            "0cff14529ed44602992665ab2769cc3a",
            "840350d162c54b248ad178915821d3e2"
          ]
        },
        "id": "vIp69-KLrLF8",
        "outputId": "0a5081fe-d8ae-45cb-ab38-0352ccb33fcd"
      },
      "outputs": [
        {
          "output_type": "stream",
          "name": "stdout",
          "text": [
            "The token has not been saved to the git credentials helper. Pass `add_to_git_credential=True` in this function directly or `--add-to-git-credential` if using via `huggingface-cli` if you want to set the git credential as well.\n",
            "Token is valid (permission: write).\n",
            "Your token has been saved to /root/.cache/huggingface/token\n",
            "Login successful\n"
          ]
        },
        {
          "output_type": "display_data",
          "data": {
            "text/plain": [
              "config.json:   0%|          | 0.00/269 [00:00<?, ?B/s]"
            ],
            "application/vnd.jupyter.widget-view+json": {
              "version_major": 2,
              "version_minor": 0,
              "model_id": "0e89a61715a2405795e9204d487e16a7"
            }
          },
          "metadata": {}
        },
        {
          "output_type": "display_data",
          "data": {
            "text/plain": [
              "huggingface_wrapper.py:   0%|          | 0.00/95.9k [00:00<?, ?B/s]"
            ],
            "application/vnd.jupyter.widget-view+json": {
              "version_major": 2,
              "version_minor": 0,
              "model_id": "9a4fa89166dc4ed9ba241082e0b295d0"
            }
          },
          "metadata": {}
        },
        {
          "output_type": "display_data",
          "data": {
            "text/plain": [
              "model.safetensors:   0%|          | 0.00/176 [00:00<?, ?B/s]"
            ],
            "application/vnd.jupyter.widget-view+json": {
              "version_major": 2,
              "version_minor": 0,
              "model_id": "3db12ffb0cc64e47a9445ed6f30ad4a7"
            }
          },
          "metadata": {}
        }
      ],
      "source": [
        "# @title Loading METL from 🤗\n",
        "from google.colab import userdata\n",
        "\n",
        "API_KEY = userdata.get('SPACE_KEY')\n",
        "login(API_KEY)\n",
        "metl = AutoModel.from_pretrained('gitter-lab/METL', trust_remote_code=True)"
      ]
    },
    {
      "cell_type": "markdown",
      "metadata": {
        "id": "Y6PH3mozrLF_"
      },
      "source": [
        "The METL 🤗 wrapper requires the loading of the specific METL model after initialization of the `metl` variable above. Use the dropdown below to select a model to use for predicting.\n",
        "\n",
        "The publically available METL models are hosted on [Zenodo](https://zenodo.org/records/11051645). The [metl-pretrained](https://github.com/gitter-lab/metl-pretrained#available-models) repo provides a table describing the available models."
      ]
    },
    {
      "cell_type": "code",
      "execution_count": 10,
      "metadata": {
        "colab": {
          "base_uri": "https://localhost:8080/"
        },
        "id": "Odg6Mps7rLGA",
        "outputId": "068e9866-3d2c-4f3b-82d0-e783b38df018"
      },
      "outputs": [
        {
          "output_type": "stream",
          "name": "stderr",
          "text": [
            "Downloading: \"https://zenodo.org/records/11051645/files/METL-L-2M-3D-GB1-epegcFiH.pt?download=1\" to /root/.cache/torch/hub/checkpoints/epegcFiH.pt\n",
            "100%|██████████| 9.40M/9.40M [00:00<00:00, 63.1MB/s]\n"
          ]
        },
        {
          "output_type": "stream",
          "name": "stdout",
          "text": [
            "Initialized PDB bucket matrices in: 0.000\n",
            "Initialized PDB bucket matrices in: 0.000\n"
          ]
        }
      ],
      "source": [
        "# @title Available metl models\n",
        "# @markdown You may use this dropdown here to choose a metl model to predict with. Running this cell will load the selected model.\n",
        "metl_model = 'metl-l-2m-3d-gb1' # @param [\"metl-g-20m-1d\",\"metl-g-20m-3d\",\"metl-g-50m-1d\",\"metl-g-50m-3d\",\"metl-l-2m-1d-gfp\",\"metl-l-2m-3d-gfp\",\"metl-l-2m-1d-dlg4\",\"metl-l-2m-3d-dlg4\",\"metl-l-2m-1d-gb1\",\"metl-l-2m-3d-gb1\",\"metl-l-2m-1d-grb2\",\"metl-l-2m-3d-grb2\",\"metl-l-2m-1d-pab1\",\"metl-l-2m-3d-pab1\",\"metl-l-2m-1d-tem-1\",\"metl-l-2m-3d-tem-1\",\"metl-l-2m-1d-ube4b\",\"metl-l-2m-3d-ube4b\",\"metl-bind-2m-3d-gb1-standard\",\"metl-bind-2m-3d-gb1-binding\",\"metl-l-2m-1d-gfp-ft-design\",\"metl-l-2m-3d-gfp-ft-design\"]\n",
        "metl.load_from_ident(metl_model)"
      ]
    },
    {
      "cell_type": "markdown",
      "metadata": {
        "id": "UENVWR2srLGD"
      },
      "source": [
        "Depending on the model chosen, different files might be needed. This example is setup to use metl-l-2m-3d-gb1 and will need a few data for prediction.\n",
        "\n",
        "Specifically, for this 3d gb1 model we will need:\n",
        "- a wild type sequnece\n",
        "- a PDB structure file (as this is a 3d model)\n",
        "- variants to use with METL"
      ]
    },
    {
      "cell_type": "code",
      "execution_count": 11,
      "metadata": {
        "cellView": "form",
        "id": "HBAocw_urLGE"
      },
      "outputs": [],
      "source": [
        "# @title Protein wild type\n",
        "# @markdown Enter the wild type of your protein here. The wildtype for gb1 is provided to use with the default model example here.\n",
        "wildtype = 'MQYKLILNGKTLKGETTTEAVDAATAEKVFKQYANDNGVDGEWTYDDATKTFTVTE' # @param {type:\"string\", placeholder:\"Enter a wildtype here\"}"
      ]
    },
    {
      "cell_type": "code",
      "execution_count": 12,
      "metadata": {
        "cellView": "form",
        "colab": {
          "base_uri": "https://localhost:8080/",
          "height": 49,
          "referenced_widgets": [
            "b85b44e3b4b843f0946831f3c483f8d6",
            "7a62aa6956264d2394634f14579e963f",
            "1da4309d84904fd0a519a0ac28a89acc"
          ]
        },
        "id": "nVj7UumyrLGF",
        "outputId": "50177ef3-4c5a-496d-e32f-34234511b1aa"
      },
      "outputs": [
        {
          "output_type": "display_data",
          "data": {
            "text/plain": [
              "FileUpload(value={}, accept='.pdb', description='Upload')"
            ],
            "application/vnd.jupyter.widget-view+json": {
              "version_major": 2,
              "version_minor": 0,
              "model_id": "b85b44e3b4b843f0946831f3c483f8d6"
            }
          },
          "metadata": {}
        }
      ],
      "source": [
        "# @title PDB file upload\n",
        "# @markdown If your model needs a PDB file, run this cell and upload the file with the provided button that appears below.\n",
        "# @markdown\n",
        "# @markdown If you would like to change the file, simply upload another one. The last uploaded file will be what is used.\n",
        "# @markdown If you would like to predict with the pre-loaded GB1 model, download [this pdb file](https://github.com/gitter-lab/metl-pretrained/blob/main/pdbs/2qmt_p.pdb)\n",
        "\n",
        "def update_pdb_file(file_name):\n",
        "  global pdb_file_path\n",
        "  for name, data in file_name['new'].items():\n",
        "    clear_output()\n",
        "    display(pdb_upload)\n",
        "    print(f\"Selected file: {name}\")\n",
        "    pdb_file_path = f'./{name}'\n",
        "\n",
        "    with open(name, 'wb') as f:\n",
        "      f.write(data['content'])\n",
        "\n",
        "pdb_upload = widgets.FileUpload(\n",
        "    accept='.pdb',\n",
        "    multiple=False\n",
        ")\n",
        "pdb_upload.observe(update_pdb_file, names='value')\n",
        "pdb_upload"
      ]
    },
    {
      "cell_type": "markdown",
      "metadata": {
        "id": "p63MHIlsrLGG"
      },
      "source": [
        "Lastly, we will then collect some variants. The code in this notebook supports variants in JSON list format. Either enter a JSON-formatted list of variants in the text box below or upload a variant JSON file in the following cell. Run the cell to active the text entry or file upload."
      ]
    },
    {
      "cell_type": "code",
      "execution_count": 13,
      "metadata": {
        "cellView": "form",
        "colab": {
          "base_uri": "https://localhost:8080/",
          "height": 121,
          "referenced_widgets": [
            "652003f6d3774d4f96dccccc6531d9c2",
            "c505a59405964bffbee1f02db2fe2227",
            "e955bf593f2f451c9a986b0683d35d30"
          ]
        },
        "id": "EjleQbnprLGH",
        "outputId": "078724b9-706f-4961-bb4d-db51a14c175c"
      },
      "outputs": [
        {
          "output_type": "display_data",
          "data": {
            "text/plain": [
              "<IPython.core.display.HTML object>"
            ],
            "text/html": [
              "\n",
              "<style>\n",
              "  .variant_text_area > textarea::placeholder {\n",
              "    color: var(--colab-primary-text-color);\n",
              "  }\n",
              "\n",
              "  .variant_text_area > textarea {\n",
              "    background-color: var(--colab-secondary-surface-color);\n",
              "    color: var(--colab-primary-text-color);\n",
              "  }\n",
              "</style>\n"
            ]
          },
          "metadata": {}
        },
        {
          "output_type": "display_data",
          "data": {
            "text/plain": [
              "Textarea(value='', description='Variant String:', layout=Layout(height='100px', width='500px'), placeholder='[…"
            ],
            "application/vnd.jupyter.widget-view+json": {
              "version_major": 2,
              "version_minor": 0,
              "model_id": "652003f6d3774d4f96dccccc6531d9c2"
            }
          },
          "metadata": {}
        }
      ],
      "source": [
        "# @title Variant text input\n",
        "variants_string = \"\"\"[\"T17P,T54F\", \"V28L,F51A\", \"T17P,V28L,F51A,T54F\"]\n",
        "[\"T13P,T33F\"]\"\"\"\n",
        "style = {'description_width':'initial'}\n",
        "\n",
        "variant_text = widgets.Textarea(\n",
        "    value='',\n",
        "    placeholder=variants_string,\n",
        "    description='Variant String:',\n",
        "    disabled=False,\n",
        "    style = style,\n",
        "    layout=widgets.Layout(height='100px', width='500px'),\n",
        ")\n",
        "\n",
        "variant_text.add_class('variant_text_area')\n",
        "\n",
        "style = \"\"\"\n",
        "<style>\n",
        "  .variant_text_area > textarea::placeholder {\n",
        "    color: var(--colab-primary-text-color);\n",
        "  }\n",
        "\n",
        "  .variant_text_area > textarea {\n",
        "    background-color: var(--colab-secondary-surface-color);\n",
        "    color: var(--colab-primary-text-color);\n",
        "  }\n",
        "</style>\n",
        "\"\"\"\n",
        "\n",
        "display(HTML(style))\n",
        "display(variant_text)"
      ]
    },
    {
      "cell_type": "markdown",
      "metadata": {
        "id": "ggs9zSgPHOYj"
      },
      "source": [
        "If you would rather upload a file, run the cell below and use it to upload a file. If a file is uploaded, the input above will not be looked at for variants\n"
      ]
    },
    {
      "cell_type": "code",
      "execution_count": 14,
      "metadata": {
        "cellView": "form",
        "colab": {
          "base_uri": "https://localhost:8080/",
          "height": 49,
          "referenced_widgets": [
            "f77f31e709c84c48b86316dbe9d7b0c9",
            "bd9755e9b09148d480b2d4604aa9ff16",
            "3171d7d717ba4baba7ac948a4fb60529"
          ]
        },
        "id": "8TLYi6orHN_8",
        "outputId": "adaa8601-177c-4281-cc09-fd486828b577"
      },
      "outputs": [
        {
          "output_type": "display_data",
          "data": {
            "text/plain": [
              "FileUpload(value={}, accept='.json, .txt', description='Upload')"
            ],
            "application/vnd.jupyter.widget-view+json": {
              "version_major": 2,
              "version_minor": 0,
              "model_id": "f77f31e709c84c48b86316dbe9d7b0c9"
            }
          },
          "metadata": {}
        }
      ],
      "source": [
        "# @title Variant file upload\n",
        "# @markdown If you want to upload a variant JSON file, run this cell and upload the file with the provided button that appears below.\n",
        "\n",
        "\n",
        "def update_variant_file(button_input):\n",
        "  global variant_file\n",
        "  for name, data in button_input['new'].items():\n",
        "    clear_output()\n",
        "    display(variant_upload)\n",
        "    print(f'Loaded file: {name}')\n",
        "    variant_file = data['content'].decode('utf-8').splitlines()\n",
        "\n",
        "variant_upload = widgets.FileUpload(\n",
        "    accept='.json, .txt',\n",
        "    multiple=False\n",
        ")\n",
        "\n",
        "variant_upload.observe(update_variant_file, names='value')\n",
        "variant_upload"
      ]
    },
    {
      "cell_type": "code",
      "execution_count": 15,
      "metadata": {
        "cellView": "form",
        "colab": {
          "base_uri": "https://localhost:8080/"
        },
        "id": "mASfltPUrLGI",
        "outputId": "bf78aa81-176f-4c65-d311-d128e77c1b2a"
      },
      "outputs": [
        {
          "output_type": "stream",
          "name": "stdout",
          "text": [
            "Using variant placeholder\n"
          ]
        }
      ],
      "source": [
        "# @title Variant Selecting Logic (always run this)\n",
        "\n",
        "clear_output()\n",
        "if len(variant_text.value) > 0:\n",
        "  print(\"Using text area input\")\n",
        "  variants = variant_text.value\n",
        "elif variant_file:\n",
        "  print(\"Using variants file\")\n",
        "  variants = variant_file\n",
        "else:\n",
        "  print(\"Using variant placeholder\")\n",
        "  variants = variant_text.placeholder.splitlines()"
      ]
    },
    {
      "cell_type": "markdown",
      "metadata": {
        "id": "YOfEUeNYrLGI"
      },
      "source": [
        "For biologists, one-based indexing is commonly used. However, METL models were designed to used zero-based indexing. If one-based indexing is needed, select it in the dropdown below."
      ]
    },
    {
      "cell_type": "code",
      "execution_count": 16,
      "metadata": {
        "cellView": "form",
        "id": "ecLAU9IOrLGK"
      },
      "outputs": [],
      "source": [
        "# @title Transform input from 1 based indexing to zero based indexing\n",
        "# @markdown Select indexing for residue mutations\n",
        "indexing = \"0\" # @param ['0', '1']"
      ]
    },
    {
      "cell_type": "markdown",
      "metadata": {
        "id": "ixhZbYm8rLGM"
      },
      "source": [
        "Since both file and string variants give the same result, we only need to use one moving forwards. We will use the string_variants variable.\n",
        "\n",
        "To predict with METL, we will need to use the loaded model and encoder with our variables we defined above. We will wrap this in a for loop to predict on all of our variants as we have multiple lines of them."
      ]
    },
    {
      "cell_type": "code",
      "execution_count": 17,
      "metadata": {
        "cellView": "form",
        "id": "th1JyojWrLGN"
      },
      "outputs": [],
      "source": [
        "# @title METL predicting loop\n",
        "output = []\n",
        "\n",
        "device = torch.device(\"cuda\" if torch.cuda.is_available() else \"cpu\")\n",
        "\n",
        "metl = metl.to(device)\n",
        "\n",
        "if indexing == \"1\":\n",
        "  predict_variants = to_zero_based(variants)\n",
        "else:\n",
        "  predict_variants = variants\n",
        "\n",
        "for variant in predict_variants:\n",
        "    # First in METL we need to encode our variants\n",
        "    if not isinstance(variant, list):\n",
        "      variant = json.loads(variant)\n",
        "    encoded_variants = metl.encoder.encode_variants(wildtype, variant)\n",
        "\n",
        "    #Next, we predict\n",
        "    with torch.no_grad():\n",
        "        if pdb_file_path:\n",
        "            predictions = metl(torch.tensor(encoded_variants).to(device), pdb_fn=pdb_file_path)\n",
        "        else:\n",
        "            predictions = metl(torch.tensor(encoded_variants).to(device))\n",
        "\n",
        "        output.append({\n",
        "            \"wt\": wildtype,\n",
        "            \"variants\": variant,\n",
        "            \"logits\": predictions.tolist()\n",
        "        })"
      ]
    },
    {
      "cell_type": "code",
      "execution_count": 18,
      "metadata": {
        "colab": {
          "base_uri": "https://localhost:8080/",
          "height": 300
        },
        "id": "J5XJ-4memIYp",
        "outputId": "2f3940fb-a9c1-44c5-e46b-f90ed881f65e"
      },
      "outputs": [
        {
          "output_type": "display_data",
          "data": {
            "text/plain": [
              "<IPython.core.display.Javascript object>"
            ],
            "application/javascript": [
              "google.colab.output.setIframeHeight(0, true, {maxHeight: 300})"
            ]
          },
          "metadata": {}
        },
        {
          "output_type": "stream",
          "name": "stdout",
          "text": [
            "[\n",
            "  {\n",
            "    \"wt\": \"MQYKLILNGKTLKGETTTEAVDAATAEKVFKQYANDNGVDGEWTYDDATKTFTVTE\",\n",
            "    \"variants\": [\n",
            "      \"T17P,T54F\",\n",
            "      \"V28L,F51A\",\n",
            "      \"T17P,V28L,F51A,T54F\"\n",
            "    ],\n",
            "    \"logits\": [\n",
            "      [\n",
            "        0.5292270183563232,\n",
            "        -0.00635790079832077,\n",
            "        0.17878465354442596,\n",
            "        1.1964856386184692,\n",
            "        -0.1410972625017166,\n",
            "        0.4245254397392273,\n",
            "        0.49948519468307495,\n",
            "        -1.252655029296875,\n",
            "        -0.07002095878124237,\n",
            "        2.5800626277923584,\n",
            "        0.5571333169937134,\n",
            "        0.2929157614707947,\n",
            "        -0.7204746007919312,\n",
            "        1.4087975025177002,\n",
            "        -0.13526171445846558,\n",
            "        0.4451870322227478,\n",
            "        0.47679874300956726,\n",
            "        -0.7604540586471558,\n",
            "        -0.32842519879341125,\n",
            "        0.174473375082016,\n",
            "        0.9062246680259705,\n",
            "        0.9195166826248169,\n",
            "        0.30183035135269165,\n",
            "        1.6597294807434082,\n",
            "        -0.03541536629199982,\n",
            "        0.043147869408130646,\n",
            "        -0.33600711822509766,\n",
            "        -0.28499874472618103,\n",
            "        -0.45709776878356934,\n",
            "        0.5732420086860657,\n",
            "        0.301296591758728,\n",
            "        0.1905842423439026,\n",
            "        0.11839717626571655,\n",
            "        0.010071471333503723,\n",
            "        1.0923458337783813,\n",
            "        0.6748439073562622,\n",
            "        1.5611048936843872,\n",
            "        0.04846012592315674,\n",
            "        -0.8394069075584412,\n",
            "        0.6452361345291138,\n",
            "        0.8015000820159912,\n",
            "        0.3012917637825012,\n",
            "        -0.9944744110107422,\n",
            "        0.5505945682525635,\n",
            "        1.714401125907898,\n",
            "        0.7703320384025574,\n",
            "        -0.495473712682724,\n",
            "        -0.6125894784927368,\n",
            "        2.158444881439209,\n",
            "        0.9037455320358276,\n",
            "        -1.3000812530517578,\n",
            "        2.848412275314331,\n",
            "        -0.0677073672413826,\n",
            "        2.9145853519439697,\n",
            "        -0.1981428563594818\n",
            "      ],\n",
            "      [\n",
            "        -0.01722341775894165,\n",
            "        1.2210073471069336,\n",
            "        0.24815717339515686,\n",
            "        -0.7029280662536621,\n",
            "        -0.5088874697685242,\n",
            "        -0.3307756185531616,\n",
            "        -0.5633893013000488,\n",
            "        0.028160421177744865,\n",
            "        -0.18122625350952148,\n",
            "        -0.5184474587440491,\n",
            "        0.3085406720638275,\n",
            "        -0.940387487411499,\n",
            "        0.8490463495254517,\n",
            "        0.03737708926200867,\n",
            "        -0.608630895614624,\n",
            "        -0.17219318449497223,\n",
            "        -0.43211156129837036,\n",
            "        -0.14947322010993958,\n",
            "        -0.6647481322288513,\n",
            "        -1.4207477569580078,\n",
            "        -0.40536749362945557,\n",
            "        -1.3684806823730469,\n",
            "        -0.4631795883178711,\n",
            "        -0.9709943532943726,\n",
            "        0.44077521562576294,\n",
            "        0.47045791149139404,\n",
            "        0.8034104108810425,\n",
            "        0.24572360515594482,\n",
            "        -0.2397092878818512,\n",
            "        0.177909255027771,\n",
            "        0.3903772830963135,\n",
            "        0.23348857462406158,\n",
            "        -0.9387896060943604,\n",
            "        0.1962720900774002,\n",
            "        -0.5104262828826904,\n",
            "        -0.5291773080825806,\n",
            "        -0.8410506844520569,\n",
            "        0.0023225219920277596,\n",
            "        -0.1816508024930954,\n",
            "        -0.9726844429969788,\n",
            "        -1.0377684831619263,\n",
            "        0.3903738856315613,\n",
            "        -1.104882001876831,\n",
            "        -0.5858286619186401,\n",
            "        0.18134573101997375,\n",
            "        -0.13541924953460693,\n",
            "        -0.10175728797912598,\n",
            "        -0.30430376529693604,\n",
            "        0.04023014008998871,\n",
            "        0.5344060063362122,\n",
            "        -0.3049039840698242,\n",
            "        0.12503939867019653,\n",
            "        -0.0063738590106368065,\n",
            "        0.5353919863700867,\n",
            "        -0.21872639656066895\n",
            "      ],\n",
            "      [\n",
            "        0.9745208024978638,\n",
            "        1.6411770582199097,\n",
            "        0.011551842093467712,\n",
            "        0.9416571855545044,\n",
            "        -0.34567391872406006,\n",
            "        -0.305616557598114,\n",
            "        -0.24241159856319427,\n",
            "        -1.0071650743484497,\n",
            "        -0.13596588373184204,\n",
            "        1.904878854751587,\n",
            "        1.0379902124404907,\n",
            "        -0.5258059501647949,\n",
            "        0.08713588118553162,\n",
            "        0.6488298773765564,\n",
            "        0.043180376291275024,\n",
            "        0.2960386872291565,\n",
            "        0.19371595978736877,\n",
            "        -0.5728404521942139,\n",
            "        -0.6003221273422241,\n",
            "        -1.3684114217758179,\n",
            "        0.16984377801418304,\n",
            "        -0.997677206993103,\n",
            "        -0.8820958137512207,\n",
            "        -0.08379369974136353,\n",
            "        -0.2198265939950943,\n",
            "        0.7478681802749634,\n",
            "        -0.13289690017700195,\n",
            "        0.6055126786231995,\n",
            "        0.013591520488262177,\n",
            "        0.552927553653717,\n",
            "        1.0734628438949585,\n",
            "        -0.1570722758769989,\n",
            "        -0.6280275583267212,\n",
            "        -0.42706063389778137,\n",
            "        0.5036394596099854,\n",
            "        -0.4750063717365265,\n",
            "        0.2665322422981262,\n",
            "        -0.0416048988699913,\n",
            "        -0.2380569875240326,\n",
            "        0.1254364252090454,\n",
            "        0.25495198369026184,\n",
            "        1.0734580755233765,\n",
            "        -1.8388532400131226,\n",
            "        0.689285397529602,\n",
            "        2.5169692039489746,\n",
            "        0.4923449754714966,\n",
            "        0.4585099518299103,\n",
            "        0.5566230416297913,\n",
            "        1.953762173652649,\n",
            "        1.2897024154663086,\n",
            "        -0.6108239889144897,\n",
            "        2.4234204292297363,\n",
            "        -0.05348635092377663,\n",
            "        2.5644595623016357,\n",
            "        -0.22086088359355927\n",
            "      ]\n",
            "    ]\n",
            "  },\n",
            "  {\n",
            "    \"wt\": \"MQYKLILNGKTLKGETTTEAVDAATAEKVFKQYANDNGVDGEWTYDDATKTFTVTE\",\n",
            "    \"variants\": [\n",
            "      \"T13P,T33F\"\n",
            "    ],\n",
            "    \"logits\": [\n",
            "      [\n",
            "        5.569112777709961,\n",
            "        -0.5020171403884888,\n",
            "        3.355616569519043,\n",
            "        1.2582664489746094,\n",
            "        1.3858609199523926,\n",
            "        0.3561202883720398,\n",
            "        4.800301551818848,\n",
            "        -1.0308297872543335,\n",
            "        -0.7910942435264587,\n",
            "        1.2529215812683105,\n",
            "        -1.2155834436416626,\n",
            "        0.8307411074638367,\n",
            "        -0.12144401669502258,\n",
            "        9.678494453430176,\n",
            "        1.8569309711456299,\n",
            "        4.882192611694336,\n",
            "        3.205979824066162,\n",
            "        -0.4538998007774353,\n",
            "        -0.590088427066803,\n",
            "        0.6940065622329712,\n",
            "        0.5590921640396118,\n",
            "        1.8643975257873535,\n",
            "        -0.653666615486145,\n",
            "        3.05572509765625,\n",
            "        -2.151517391204834,\n",
            "        -0.8255422115325928,\n",
            "        -0.5450078248977661,\n",
            "        0.42817264795303345,\n",
            "        0.007160749286413193,\n",
            "        0.11352846771478653,\n",
            "        0.48807865381240845,\n",
            "        -1.34535551071167,\n",
            "        0.22795911133289337,\n",
            "        -1.933388113975525,\n",
            "        -0.7364113926887512,\n",
            "        -0.9042844772338867,\n",
            "        1.3124635219573975,\n",
            "        0.012029402889311314,\n",
            "        -0.6239970326423645,\n",
            "        1.390344500541687,\n",
            "        1.4910836219787598,\n",
            "        0.4880709648132324,\n",
            "        -0.35117512941360474,\n",
            "        0.41036996245384216,\n",
            "        0.572378933429718,\n",
            "        1.5470837354660034,\n",
            "        1.403868556022644,\n",
            "        -0.664261519908905,\n",
            "        2.738084316253662,\n",
            "        -0.5879711508750916,\n",
            "        1.0336809158325195,\n",
            "        1.1961349248886108,\n",
            "        -0.12495376169681549,\n",
            "        -0.22980979084968567,\n",
            "        0.038008347153663635\n",
            "      ]\n",
            "    ]\n",
            "  }\n",
            "]\n"
          ]
        }
      ],
      "source": [
        "# @title Display METL preditions\n",
        "from IPython.display import Javascript\n",
        "\n",
        "display(Javascript('''google.colab.output.setIframeHeight(0, true, {maxHeight: 300})'''))\n",
        "print(json.dumps(output, indent=2))"
      ]
    },
    {
      "cell_type": "markdown",
      "metadata": {
        "id": "pO8jdBssrLGO"
      },
      "source": [
        "Finally, we will save our output. We will save our output as a list of JSON Objects."
      ]
    },
    {
      "cell_type": "code",
      "execution_count": 19,
      "metadata": {
        "cellView": "form",
        "id": "nYz6NRB_rLGP"
      },
      "outputs": [],
      "source": [
        "# @title Saving the predictions\n",
        "with open('./output.json', 'w') as f:\n",
        "    f.write(json.dumps(output, indent=2))"
      ]
    }
  ],
  "metadata": {
    "accelerator": "GPU",
    "colab": {
      "gpuType": "T4",
      "provenance": []
    },
    "kernelspec": {
      "display_name": "Python 3",
      "name": "python3"
    },
    "language_info": {
      "codemirror_mode": {
        "name": "ipython",
        "version": 3
      },
      "file_extension": ".py",
      "mimetype": "text/x-python",
      "name": "python",
      "nbconvert_exporter": "python",
      "pygments_lexer": "ipython3",
      "version": "3.11.5"
    },
    "widgets": {
      "application/vnd.jupyter.widget-state+json": {
        "0e89a61715a2405795e9204d487e16a7": {
          "model_module": "@jupyter-widgets/controls",
          "model_name": "HBoxModel",
          "model_module_version": "1.5.0",
          "state": {
            "_dom_classes": [],
            "_model_module": "@jupyter-widgets/controls",
            "_model_module_version": "1.5.0",
            "_model_name": "HBoxModel",
            "_view_count": null,
            "_view_module": "@jupyter-widgets/controls",
            "_view_module_version": "1.5.0",
            "_view_name": "HBoxView",
            "box_style": "",
            "children": [
              "IPY_MODEL_706504f4e2b44623b06d81e4bfb9fec6",
              "IPY_MODEL_6139b052d48b4b8a88bf1d0cfbee89d1",
              "IPY_MODEL_cb8a74409964470399e759c9c373c1fb"
            ],
            "layout": "IPY_MODEL_1127b0a462414b60937c6f38b1adee12"
          }
        },
        "706504f4e2b44623b06d81e4bfb9fec6": {
          "model_module": "@jupyter-widgets/controls",
          "model_name": "HTMLModel",
          "model_module_version": "1.5.0",
          "state": {
            "_dom_classes": [],
            "_model_module": "@jupyter-widgets/controls",
            "_model_module_version": "1.5.0",
            "_model_name": "HTMLModel",
            "_view_count": null,
            "_view_module": "@jupyter-widgets/controls",
            "_view_module_version": "1.5.0",
            "_view_name": "HTMLView",
            "description": "",
            "description_tooltip": null,
            "layout": "IPY_MODEL_fc53173bf32d4afabfdf9ee50cb3b00a",
            "placeholder": "​",
            "style": "IPY_MODEL_eb4407c45c0e4ac9b0fed9b2e0c56ff9",
            "value": "config.json: 100%"
          }
        },
        "6139b052d48b4b8a88bf1d0cfbee89d1": {
          "model_module": "@jupyter-widgets/controls",
          "model_name": "FloatProgressModel",
          "model_module_version": "1.5.0",
          "state": {
            "_dom_classes": [],
            "_model_module": "@jupyter-widgets/controls",
            "_model_module_version": "1.5.0",
            "_model_name": "FloatProgressModel",
            "_view_count": null,
            "_view_module": "@jupyter-widgets/controls",
            "_view_module_version": "1.5.0",
            "_view_name": "ProgressView",
            "bar_style": "success",
            "description": "",
            "description_tooltip": null,
            "layout": "IPY_MODEL_b31c4d8d76224754846690925ecf8910",
            "max": 269,
            "min": 0,
            "orientation": "horizontal",
            "style": "IPY_MODEL_554bd3d19ad24ab79e011fe89c768793",
            "value": 269
          }
        },
        "cb8a74409964470399e759c9c373c1fb": {
          "model_module": "@jupyter-widgets/controls",
          "model_name": "HTMLModel",
          "model_module_version": "1.5.0",
          "state": {
            "_dom_classes": [],
            "_model_module": "@jupyter-widgets/controls",
            "_model_module_version": "1.5.0",
            "_model_name": "HTMLModel",
            "_view_count": null,
            "_view_module": "@jupyter-widgets/controls",
            "_view_module_version": "1.5.0",
            "_view_name": "HTMLView",
            "description": "",
            "description_tooltip": null,
            "layout": "IPY_MODEL_b292e0907116481f8a67236d5fff4023",
            "placeholder": "​",
            "style": "IPY_MODEL_948b99490be74d4483ce432455905bda",
            "value": " 269/269 [00:00&lt;00:00, 6.48kB/s]"
          }
        },
        "1127b0a462414b60937c6f38b1adee12": {
          "model_module": "@jupyter-widgets/base",
          "model_name": "LayoutModel",
          "model_module_version": "1.2.0",
          "state": {
            "_model_module": "@jupyter-widgets/base",
            "_model_module_version": "1.2.0",
            "_model_name": "LayoutModel",
            "_view_count": null,
            "_view_module": "@jupyter-widgets/base",
            "_view_module_version": "1.2.0",
            "_view_name": "LayoutView",
            "align_content": null,
            "align_items": null,
            "align_self": null,
            "border": null,
            "bottom": null,
            "display": null,
            "flex": null,
            "flex_flow": null,
            "grid_area": null,
            "grid_auto_columns": null,
            "grid_auto_flow": null,
            "grid_auto_rows": null,
            "grid_column": null,
            "grid_gap": null,
            "grid_row": null,
            "grid_template_areas": null,
            "grid_template_columns": null,
            "grid_template_rows": null,
            "height": null,
            "justify_content": null,
            "justify_items": null,
            "left": null,
            "margin": null,
            "max_height": null,
            "max_width": null,
            "min_height": null,
            "min_width": null,
            "object_fit": null,
            "object_position": null,
            "order": null,
            "overflow": null,
            "overflow_x": null,
            "overflow_y": null,
            "padding": null,
            "right": null,
            "top": null,
            "visibility": null,
            "width": null
          }
        },
        "fc53173bf32d4afabfdf9ee50cb3b00a": {
          "model_module": "@jupyter-widgets/base",
          "model_name": "LayoutModel",
          "model_module_version": "1.2.0",
          "state": {
            "_model_module": "@jupyter-widgets/base",
            "_model_module_version": "1.2.0",
            "_model_name": "LayoutModel",
            "_view_count": null,
            "_view_module": "@jupyter-widgets/base",
            "_view_module_version": "1.2.0",
            "_view_name": "LayoutView",
            "align_content": null,
            "align_items": null,
            "align_self": null,
            "border": null,
            "bottom": null,
            "display": null,
            "flex": null,
            "flex_flow": null,
            "grid_area": null,
            "grid_auto_columns": null,
            "grid_auto_flow": null,
            "grid_auto_rows": null,
            "grid_column": null,
            "grid_gap": null,
            "grid_row": null,
            "grid_template_areas": null,
            "grid_template_columns": null,
            "grid_template_rows": null,
            "height": null,
            "justify_content": null,
            "justify_items": null,
            "left": null,
            "margin": null,
            "max_height": null,
            "max_width": null,
            "min_height": null,
            "min_width": null,
            "object_fit": null,
            "object_position": null,
            "order": null,
            "overflow": null,
            "overflow_x": null,
            "overflow_y": null,
            "padding": null,
            "right": null,
            "top": null,
            "visibility": null,
            "width": null
          }
        },
        "eb4407c45c0e4ac9b0fed9b2e0c56ff9": {
          "model_module": "@jupyter-widgets/controls",
          "model_name": "DescriptionStyleModel",
          "model_module_version": "1.5.0",
          "state": {
            "_model_module": "@jupyter-widgets/controls",
            "_model_module_version": "1.5.0",
            "_model_name": "DescriptionStyleModel",
            "_view_count": null,
            "_view_module": "@jupyter-widgets/base",
            "_view_module_version": "1.2.0",
            "_view_name": "StyleView",
            "description_width": ""
          }
        },
        "b31c4d8d76224754846690925ecf8910": {
          "model_module": "@jupyter-widgets/base",
          "model_name": "LayoutModel",
          "model_module_version": "1.2.0",
          "state": {
            "_model_module": "@jupyter-widgets/base",
            "_model_module_version": "1.2.0",
            "_model_name": "LayoutModel",
            "_view_count": null,
            "_view_module": "@jupyter-widgets/base",
            "_view_module_version": "1.2.0",
            "_view_name": "LayoutView",
            "align_content": null,
            "align_items": null,
            "align_self": null,
            "border": null,
            "bottom": null,
            "display": null,
            "flex": null,
            "flex_flow": null,
            "grid_area": null,
            "grid_auto_columns": null,
            "grid_auto_flow": null,
            "grid_auto_rows": null,
            "grid_column": null,
            "grid_gap": null,
            "grid_row": null,
            "grid_template_areas": null,
            "grid_template_columns": null,
            "grid_template_rows": null,
            "height": null,
            "justify_content": null,
            "justify_items": null,
            "left": null,
            "margin": null,
            "max_height": null,
            "max_width": null,
            "min_height": null,
            "min_width": null,
            "object_fit": null,
            "object_position": null,
            "order": null,
            "overflow": null,
            "overflow_x": null,
            "overflow_y": null,
            "padding": null,
            "right": null,
            "top": null,
            "visibility": null,
            "width": null
          }
        },
        "554bd3d19ad24ab79e011fe89c768793": {
          "model_module": "@jupyter-widgets/controls",
          "model_name": "ProgressStyleModel",
          "model_module_version": "1.5.0",
          "state": {
            "_model_module": "@jupyter-widgets/controls",
            "_model_module_version": "1.5.0",
            "_model_name": "ProgressStyleModel",
            "_view_count": null,
            "_view_module": "@jupyter-widgets/base",
            "_view_module_version": "1.2.0",
            "_view_name": "StyleView",
            "bar_color": null,
            "description_width": ""
          }
        },
        "b292e0907116481f8a67236d5fff4023": {
          "model_module": "@jupyter-widgets/base",
          "model_name": "LayoutModel",
          "model_module_version": "1.2.0",
          "state": {
            "_model_module": "@jupyter-widgets/base",
            "_model_module_version": "1.2.0",
            "_model_name": "LayoutModel",
            "_view_count": null,
            "_view_module": "@jupyter-widgets/base",
            "_view_module_version": "1.2.0",
            "_view_name": "LayoutView",
            "align_content": null,
            "align_items": null,
            "align_self": null,
            "border": null,
            "bottom": null,
            "display": null,
            "flex": null,
            "flex_flow": null,
            "grid_area": null,
            "grid_auto_columns": null,
            "grid_auto_flow": null,
            "grid_auto_rows": null,
            "grid_column": null,
            "grid_gap": null,
            "grid_row": null,
            "grid_template_areas": null,
            "grid_template_columns": null,
            "grid_template_rows": null,
            "height": null,
            "justify_content": null,
            "justify_items": null,
            "left": null,
            "margin": null,
            "max_height": null,
            "max_width": null,
            "min_height": null,
            "min_width": null,
            "object_fit": null,
            "object_position": null,
            "order": null,
            "overflow": null,
            "overflow_x": null,
            "overflow_y": null,
            "padding": null,
            "right": null,
            "top": null,
            "visibility": null,
            "width": null
          }
        },
        "948b99490be74d4483ce432455905bda": {
          "model_module": "@jupyter-widgets/controls",
          "model_name": "DescriptionStyleModel",
          "model_module_version": "1.5.0",
          "state": {
            "_model_module": "@jupyter-widgets/controls",
            "_model_module_version": "1.5.0",
            "_model_name": "DescriptionStyleModel",
            "_view_count": null,
            "_view_module": "@jupyter-widgets/base",
            "_view_module_version": "1.2.0",
            "_view_name": "StyleView",
            "description_width": ""
          }
        },
        "9a4fa89166dc4ed9ba241082e0b295d0": {
          "model_module": "@jupyter-widgets/controls",
          "model_name": "HBoxModel",
          "model_module_version": "1.5.0",
          "state": {
            "_dom_classes": [],
            "_model_module": "@jupyter-widgets/controls",
            "_model_module_version": "1.5.0",
            "_model_name": "HBoxModel",
            "_view_count": null,
            "_view_module": "@jupyter-widgets/controls",
            "_view_module_version": "1.5.0",
            "_view_name": "HBoxView",
            "box_style": "",
            "children": [
              "IPY_MODEL_e89279b489fc4dcaa507ff5b8e67d890",
              "IPY_MODEL_5268bf3171724c6aabba1a5e491120d0",
              "IPY_MODEL_174d3daccf6542128f9e665d225da25f"
            ],
            "layout": "IPY_MODEL_49c094a124f6497f81e8d99d5f539c3e"
          }
        },
        "e89279b489fc4dcaa507ff5b8e67d890": {
          "model_module": "@jupyter-widgets/controls",
          "model_name": "HTMLModel",
          "model_module_version": "1.5.0",
          "state": {
            "_dom_classes": [],
            "_model_module": "@jupyter-widgets/controls",
            "_model_module_version": "1.5.0",
            "_model_name": "HTMLModel",
            "_view_count": null,
            "_view_module": "@jupyter-widgets/controls",
            "_view_module_version": "1.5.0",
            "_view_name": "HTMLView",
            "description": "",
            "description_tooltip": null,
            "layout": "IPY_MODEL_aceb1c83343f42f5ba327ea0181f54ba",
            "placeholder": "​",
            "style": "IPY_MODEL_3f8c6dc919de4ca79ac2d5bb4cac2d4f",
            "value": "huggingface_wrapper.py: 100%"
          }
        },
        "5268bf3171724c6aabba1a5e491120d0": {
          "model_module": "@jupyter-widgets/controls",
          "model_name": "FloatProgressModel",
          "model_module_version": "1.5.0",
          "state": {
            "_dom_classes": [],
            "_model_module": "@jupyter-widgets/controls",
            "_model_module_version": "1.5.0",
            "_model_name": "FloatProgressModel",
            "_view_count": null,
            "_view_module": "@jupyter-widgets/controls",
            "_view_module_version": "1.5.0",
            "_view_name": "ProgressView",
            "bar_style": "success",
            "description": "",
            "description_tooltip": null,
            "layout": "IPY_MODEL_279615cb9a9f4d0a939e915aadb1390b",
            "max": 95901,
            "min": 0,
            "orientation": "horizontal",
            "style": "IPY_MODEL_706b2fd4323d42129ef68cf138535fe8",
            "value": 95901
          }
        },
        "174d3daccf6542128f9e665d225da25f": {
          "model_module": "@jupyter-widgets/controls",
          "model_name": "HTMLModel",
          "model_module_version": "1.5.0",
          "state": {
            "_dom_classes": [],
            "_model_module": "@jupyter-widgets/controls",
            "_model_module_version": "1.5.0",
            "_model_name": "HTMLModel",
            "_view_count": null,
            "_view_module": "@jupyter-widgets/controls",
            "_view_module_version": "1.5.0",
            "_view_name": "HTMLView",
            "description": "",
            "description_tooltip": null,
            "layout": "IPY_MODEL_26ba5323b65441d5ae3bca32edeaeb6b",
            "placeholder": "​",
            "style": "IPY_MODEL_eb142d0f070c47a19b80d327c79929db",
            "value": " 95.9k/95.9k [00:00&lt;00:00, 1.08MB/s]"
          }
        },
        "49c094a124f6497f81e8d99d5f539c3e": {
          "model_module": "@jupyter-widgets/base",
          "model_name": "LayoutModel",
          "model_module_version": "1.2.0",
          "state": {
            "_model_module": "@jupyter-widgets/base",
            "_model_module_version": "1.2.0",
            "_model_name": "LayoutModel",
            "_view_count": null,
            "_view_module": "@jupyter-widgets/base",
            "_view_module_version": "1.2.0",
            "_view_name": "LayoutView",
            "align_content": null,
            "align_items": null,
            "align_self": null,
            "border": null,
            "bottom": null,
            "display": null,
            "flex": null,
            "flex_flow": null,
            "grid_area": null,
            "grid_auto_columns": null,
            "grid_auto_flow": null,
            "grid_auto_rows": null,
            "grid_column": null,
            "grid_gap": null,
            "grid_row": null,
            "grid_template_areas": null,
            "grid_template_columns": null,
            "grid_template_rows": null,
            "height": null,
            "justify_content": null,
            "justify_items": null,
            "left": null,
            "margin": null,
            "max_height": null,
            "max_width": null,
            "min_height": null,
            "min_width": null,
            "object_fit": null,
            "object_position": null,
            "order": null,
            "overflow": null,
            "overflow_x": null,
            "overflow_y": null,
            "padding": null,
            "right": null,
            "top": null,
            "visibility": null,
            "width": null
          }
        },
        "aceb1c83343f42f5ba327ea0181f54ba": {
          "model_module": "@jupyter-widgets/base",
          "model_name": "LayoutModel",
          "model_module_version": "1.2.0",
          "state": {
            "_model_module": "@jupyter-widgets/base",
            "_model_module_version": "1.2.0",
            "_model_name": "LayoutModel",
            "_view_count": null,
            "_view_module": "@jupyter-widgets/base",
            "_view_module_version": "1.2.0",
            "_view_name": "LayoutView",
            "align_content": null,
            "align_items": null,
            "align_self": null,
            "border": null,
            "bottom": null,
            "display": null,
            "flex": null,
            "flex_flow": null,
            "grid_area": null,
            "grid_auto_columns": null,
            "grid_auto_flow": null,
            "grid_auto_rows": null,
            "grid_column": null,
            "grid_gap": null,
            "grid_row": null,
            "grid_template_areas": null,
            "grid_template_columns": null,
            "grid_template_rows": null,
            "height": null,
            "justify_content": null,
            "justify_items": null,
            "left": null,
            "margin": null,
            "max_height": null,
            "max_width": null,
            "min_height": null,
            "min_width": null,
            "object_fit": null,
            "object_position": null,
            "order": null,
            "overflow": null,
            "overflow_x": null,
            "overflow_y": null,
            "padding": null,
            "right": null,
            "top": null,
            "visibility": null,
            "width": null
          }
        },
        "3f8c6dc919de4ca79ac2d5bb4cac2d4f": {
          "model_module": "@jupyter-widgets/controls",
          "model_name": "DescriptionStyleModel",
          "model_module_version": "1.5.0",
          "state": {
            "_model_module": "@jupyter-widgets/controls",
            "_model_module_version": "1.5.0",
            "_model_name": "DescriptionStyleModel",
            "_view_count": null,
            "_view_module": "@jupyter-widgets/base",
            "_view_module_version": "1.2.0",
            "_view_name": "StyleView",
            "description_width": ""
          }
        },
        "279615cb9a9f4d0a939e915aadb1390b": {
          "model_module": "@jupyter-widgets/base",
          "model_name": "LayoutModel",
          "model_module_version": "1.2.0",
          "state": {
            "_model_module": "@jupyter-widgets/base",
            "_model_module_version": "1.2.0",
            "_model_name": "LayoutModel",
            "_view_count": null,
            "_view_module": "@jupyter-widgets/base",
            "_view_module_version": "1.2.0",
            "_view_name": "LayoutView",
            "align_content": null,
            "align_items": null,
            "align_self": null,
            "border": null,
            "bottom": null,
            "display": null,
            "flex": null,
            "flex_flow": null,
            "grid_area": null,
            "grid_auto_columns": null,
            "grid_auto_flow": null,
            "grid_auto_rows": null,
            "grid_column": null,
            "grid_gap": null,
            "grid_row": null,
            "grid_template_areas": null,
            "grid_template_columns": null,
            "grid_template_rows": null,
            "height": null,
            "justify_content": null,
            "justify_items": null,
            "left": null,
            "margin": null,
            "max_height": null,
            "max_width": null,
            "min_height": null,
            "min_width": null,
            "object_fit": null,
            "object_position": null,
            "order": null,
            "overflow": null,
            "overflow_x": null,
            "overflow_y": null,
            "padding": null,
            "right": null,
            "top": null,
            "visibility": null,
            "width": null
          }
        },
        "706b2fd4323d42129ef68cf138535fe8": {
          "model_module": "@jupyter-widgets/controls",
          "model_name": "ProgressStyleModel",
          "model_module_version": "1.5.0",
          "state": {
            "_model_module": "@jupyter-widgets/controls",
            "_model_module_version": "1.5.0",
            "_model_name": "ProgressStyleModel",
            "_view_count": null,
            "_view_module": "@jupyter-widgets/base",
            "_view_module_version": "1.2.0",
            "_view_name": "StyleView",
            "bar_color": null,
            "description_width": ""
          }
        },
        "26ba5323b65441d5ae3bca32edeaeb6b": {
          "model_module": "@jupyter-widgets/base",
          "model_name": "LayoutModel",
          "model_module_version": "1.2.0",
          "state": {
            "_model_module": "@jupyter-widgets/base",
            "_model_module_version": "1.2.0",
            "_model_name": "LayoutModel",
            "_view_count": null,
            "_view_module": "@jupyter-widgets/base",
            "_view_module_version": "1.2.0",
            "_view_name": "LayoutView",
            "align_content": null,
            "align_items": null,
            "align_self": null,
            "border": null,
            "bottom": null,
            "display": null,
            "flex": null,
            "flex_flow": null,
            "grid_area": null,
            "grid_auto_columns": null,
            "grid_auto_flow": null,
            "grid_auto_rows": null,
            "grid_column": null,
            "grid_gap": null,
            "grid_row": null,
            "grid_template_areas": null,
            "grid_template_columns": null,
            "grid_template_rows": null,
            "height": null,
            "justify_content": null,
            "justify_items": null,
            "left": null,
            "margin": null,
            "max_height": null,
            "max_width": null,
            "min_height": null,
            "min_width": null,
            "object_fit": null,
            "object_position": null,
            "order": null,
            "overflow": null,
            "overflow_x": null,
            "overflow_y": null,
            "padding": null,
            "right": null,
            "top": null,
            "visibility": null,
            "width": null
          }
        },
        "eb142d0f070c47a19b80d327c79929db": {
          "model_module": "@jupyter-widgets/controls",
          "model_name": "DescriptionStyleModel",
          "model_module_version": "1.5.0",
          "state": {
            "_model_module": "@jupyter-widgets/controls",
            "_model_module_version": "1.5.0",
            "_model_name": "DescriptionStyleModel",
            "_view_count": null,
            "_view_module": "@jupyter-widgets/base",
            "_view_module_version": "1.2.0",
            "_view_name": "StyleView",
            "description_width": ""
          }
        },
        "3db12ffb0cc64e47a9445ed6f30ad4a7": {
          "model_module": "@jupyter-widgets/controls",
          "model_name": "HBoxModel",
          "model_module_version": "1.5.0",
          "state": {
            "_dom_classes": [],
            "_model_module": "@jupyter-widgets/controls",
            "_model_module_version": "1.5.0",
            "_model_name": "HBoxModel",
            "_view_count": null,
            "_view_module": "@jupyter-widgets/controls",
            "_view_module_version": "1.5.0",
            "_view_name": "HBoxView",
            "box_style": "",
            "children": [
              "IPY_MODEL_c064486920084853839ba97bbf7adcef",
              "IPY_MODEL_c48bf3a44113463e9a2ce990ca58fd89",
              "IPY_MODEL_49ed05570a474155ac1cc9c920956277"
            ],
            "layout": "IPY_MODEL_b8de008d9ea8492d89b4220190f341df"
          }
        },
        "c064486920084853839ba97bbf7adcef": {
          "model_module": "@jupyter-widgets/controls",
          "model_name": "HTMLModel",
          "model_module_version": "1.5.0",
          "state": {
            "_dom_classes": [],
            "_model_module": "@jupyter-widgets/controls",
            "_model_module_version": "1.5.0",
            "_model_name": "HTMLModel",
            "_view_count": null,
            "_view_module": "@jupyter-widgets/controls",
            "_view_module_version": "1.5.0",
            "_view_name": "HTMLView",
            "description": "",
            "description_tooltip": null,
            "layout": "IPY_MODEL_561825fd86a24139b76b0714fcf4ee07",
            "placeholder": "​",
            "style": "IPY_MODEL_e243c6dbff6f462ba643e44ad05d6199",
            "value": "model.safetensors: 100%"
          }
        },
        "c48bf3a44113463e9a2ce990ca58fd89": {
          "model_module": "@jupyter-widgets/controls",
          "model_name": "FloatProgressModel",
          "model_module_version": "1.5.0",
          "state": {
            "_dom_classes": [],
            "_model_module": "@jupyter-widgets/controls",
            "_model_module_version": "1.5.0",
            "_model_name": "FloatProgressModel",
            "_view_count": null,
            "_view_module": "@jupyter-widgets/controls",
            "_view_module_version": "1.5.0",
            "_view_name": "ProgressView",
            "bar_style": "success",
            "description": "",
            "description_tooltip": null,
            "layout": "IPY_MODEL_dca0f426047a4fc69905113bfab76ddf",
            "max": 176,
            "min": 0,
            "orientation": "horizontal",
            "style": "IPY_MODEL_61459277623143eeae90e152128d8e41",
            "value": 176
          }
        },
        "49ed05570a474155ac1cc9c920956277": {
          "model_module": "@jupyter-widgets/controls",
          "model_name": "HTMLModel",
          "model_module_version": "1.5.0",
          "state": {
            "_dom_classes": [],
            "_model_module": "@jupyter-widgets/controls",
            "_model_module_version": "1.5.0",
            "_model_name": "HTMLModel",
            "_view_count": null,
            "_view_module": "@jupyter-widgets/controls",
            "_view_module_version": "1.5.0",
            "_view_name": "HTMLView",
            "description": "",
            "description_tooltip": null,
            "layout": "IPY_MODEL_0cff14529ed44602992665ab2769cc3a",
            "placeholder": "​",
            "style": "IPY_MODEL_840350d162c54b248ad178915821d3e2",
            "value": " 176/176 [00:00&lt;00:00, 4.07kB/s]"
          }
        },
        "b8de008d9ea8492d89b4220190f341df": {
          "model_module": "@jupyter-widgets/base",
          "model_name": "LayoutModel",
          "model_module_version": "1.2.0",
          "state": {
            "_model_module": "@jupyter-widgets/base",
            "_model_module_version": "1.2.0",
            "_model_name": "LayoutModel",
            "_view_count": null,
            "_view_module": "@jupyter-widgets/base",
            "_view_module_version": "1.2.0",
            "_view_name": "LayoutView",
            "align_content": null,
            "align_items": null,
            "align_self": null,
            "border": null,
            "bottom": null,
            "display": null,
            "flex": null,
            "flex_flow": null,
            "grid_area": null,
            "grid_auto_columns": null,
            "grid_auto_flow": null,
            "grid_auto_rows": null,
            "grid_column": null,
            "grid_gap": null,
            "grid_row": null,
            "grid_template_areas": null,
            "grid_template_columns": null,
            "grid_template_rows": null,
            "height": null,
            "justify_content": null,
            "justify_items": null,
            "left": null,
            "margin": null,
            "max_height": null,
            "max_width": null,
            "min_height": null,
            "min_width": null,
            "object_fit": null,
            "object_position": null,
            "order": null,
            "overflow": null,
            "overflow_x": null,
            "overflow_y": null,
            "padding": null,
            "right": null,
            "top": null,
            "visibility": null,
            "width": null
          }
        },
        "561825fd86a24139b76b0714fcf4ee07": {
          "model_module": "@jupyter-widgets/base",
          "model_name": "LayoutModel",
          "model_module_version": "1.2.0",
          "state": {
            "_model_module": "@jupyter-widgets/base",
            "_model_module_version": "1.2.0",
            "_model_name": "LayoutModel",
            "_view_count": null,
            "_view_module": "@jupyter-widgets/base",
            "_view_module_version": "1.2.0",
            "_view_name": "LayoutView",
            "align_content": null,
            "align_items": null,
            "align_self": null,
            "border": null,
            "bottom": null,
            "display": null,
            "flex": null,
            "flex_flow": null,
            "grid_area": null,
            "grid_auto_columns": null,
            "grid_auto_flow": null,
            "grid_auto_rows": null,
            "grid_column": null,
            "grid_gap": null,
            "grid_row": null,
            "grid_template_areas": null,
            "grid_template_columns": null,
            "grid_template_rows": null,
            "height": null,
            "justify_content": null,
            "justify_items": null,
            "left": null,
            "margin": null,
            "max_height": null,
            "max_width": null,
            "min_height": null,
            "min_width": null,
            "object_fit": null,
            "object_position": null,
            "order": null,
            "overflow": null,
            "overflow_x": null,
            "overflow_y": null,
            "padding": null,
            "right": null,
            "top": null,
            "visibility": null,
            "width": null
          }
        },
        "e243c6dbff6f462ba643e44ad05d6199": {
          "model_module": "@jupyter-widgets/controls",
          "model_name": "DescriptionStyleModel",
          "model_module_version": "1.5.0",
          "state": {
            "_model_module": "@jupyter-widgets/controls",
            "_model_module_version": "1.5.0",
            "_model_name": "DescriptionStyleModel",
            "_view_count": null,
            "_view_module": "@jupyter-widgets/base",
            "_view_module_version": "1.2.0",
            "_view_name": "StyleView",
            "description_width": ""
          }
        },
        "dca0f426047a4fc69905113bfab76ddf": {
          "model_module": "@jupyter-widgets/base",
          "model_name": "LayoutModel",
          "model_module_version": "1.2.0",
          "state": {
            "_model_module": "@jupyter-widgets/base",
            "_model_module_version": "1.2.0",
            "_model_name": "LayoutModel",
            "_view_count": null,
            "_view_module": "@jupyter-widgets/base",
            "_view_module_version": "1.2.0",
            "_view_name": "LayoutView",
            "align_content": null,
            "align_items": null,
            "align_self": null,
            "border": null,
            "bottom": null,
            "display": null,
            "flex": null,
            "flex_flow": null,
            "grid_area": null,
            "grid_auto_columns": null,
            "grid_auto_flow": null,
            "grid_auto_rows": null,
            "grid_column": null,
            "grid_gap": null,
            "grid_row": null,
            "grid_template_areas": null,
            "grid_template_columns": null,
            "grid_template_rows": null,
            "height": null,
            "justify_content": null,
            "justify_items": null,
            "left": null,
            "margin": null,
            "max_height": null,
            "max_width": null,
            "min_height": null,
            "min_width": null,
            "object_fit": null,
            "object_position": null,
            "order": null,
            "overflow": null,
            "overflow_x": null,
            "overflow_y": null,
            "padding": null,
            "right": null,
            "top": null,
            "visibility": null,
            "width": null
          }
        },
        "61459277623143eeae90e152128d8e41": {
          "model_module": "@jupyter-widgets/controls",
          "model_name": "ProgressStyleModel",
          "model_module_version": "1.5.0",
          "state": {
            "_model_module": "@jupyter-widgets/controls",
            "_model_module_version": "1.5.0",
            "_model_name": "ProgressStyleModel",
            "_view_count": null,
            "_view_module": "@jupyter-widgets/base",
            "_view_module_version": "1.2.0",
            "_view_name": "StyleView",
            "bar_color": null,
            "description_width": ""
          }
        },
        "0cff14529ed44602992665ab2769cc3a": {
          "model_module": "@jupyter-widgets/base",
          "model_name": "LayoutModel",
          "model_module_version": "1.2.0",
          "state": {
            "_model_module": "@jupyter-widgets/base",
            "_model_module_version": "1.2.0",
            "_model_name": "LayoutModel",
            "_view_count": null,
            "_view_module": "@jupyter-widgets/base",
            "_view_module_version": "1.2.0",
            "_view_name": "LayoutView",
            "align_content": null,
            "align_items": null,
            "align_self": null,
            "border": null,
            "bottom": null,
            "display": null,
            "flex": null,
            "flex_flow": null,
            "grid_area": null,
            "grid_auto_columns": null,
            "grid_auto_flow": null,
            "grid_auto_rows": null,
            "grid_column": null,
            "grid_gap": null,
            "grid_row": null,
            "grid_template_areas": null,
            "grid_template_columns": null,
            "grid_template_rows": null,
            "height": null,
            "justify_content": null,
            "justify_items": null,
            "left": null,
            "margin": null,
            "max_height": null,
            "max_width": null,
            "min_height": null,
            "min_width": null,
            "object_fit": null,
            "object_position": null,
            "order": null,
            "overflow": null,
            "overflow_x": null,
            "overflow_y": null,
            "padding": null,
            "right": null,
            "top": null,
            "visibility": null,
            "width": null
          }
        },
        "840350d162c54b248ad178915821d3e2": {
          "model_module": "@jupyter-widgets/controls",
          "model_name": "DescriptionStyleModel",
          "model_module_version": "1.5.0",
          "state": {
            "_model_module": "@jupyter-widgets/controls",
            "_model_module_version": "1.5.0",
            "_model_name": "DescriptionStyleModel",
            "_view_count": null,
            "_view_module": "@jupyter-widgets/base",
            "_view_module_version": "1.2.0",
            "_view_name": "StyleView",
            "description_width": ""
          }
        },
        "b85b44e3b4b843f0946831f3c483f8d6": {
          "model_module": "@jupyter-widgets/controls",
          "model_name": "FileUploadModel",
          "model_module_version": "1.5.0",
          "state": {
            "_counter": 0,
            "_dom_classes": [],
            "_model_module": "@jupyter-widgets/controls",
            "_model_module_version": "1.5.0",
            "_model_name": "FileUploadModel",
            "_view_count": null,
            "_view_module": "@jupyter-widgets/controls",
            "_view_module_version": "1.5.0",
            "_view_name": "FileUploadView",
            "accept": ".pdb",
            "button_style": "",
            "data": [],
            "description": "Upload",
            "description_tooltip": null,
            "disabled": false,
            "error": "",
            "icon": "upload",
            "layout": "IPY_MODEL_7a62aa6956264d2394634f14579e963f",
            "metadata": [],
            "multiple": false,
            "style": "IPY_MODEL_1da4309d84904fd0a519a0ac28a89acc"
          }
        },
        "7a62aa6956264d2394634f14579e963f": {
          "model_module": "@jupyter-widgets/base",
          "model_name": "LayoutModel",
          "model_module_version": "1.2.0",
          "state": {
            "_model_module": "@jupyter-widgets/base",
            "_model_module_version": "1.2.0",
            "_model_name": "LayoutModel",
            "_view_count": null,
            "_view_module": "@jupyter-widgets/base",
            "_view_module_version": "1.2.0",
            "_view_name": "LayoutView",
            "align_content": null,
            "align_items": null,
            "align_self": null,
            "border": null,
            "bottom": null,
            "display": null,
            "flex": null,
            "flex_flow": null,
            "grid_area": null,
            "grid_auto_columns": null,
            "grid_auto_flow": null,
            "grid_auto_rows": null,
            "grid_column": null,
            "grid_gap": null,
            "grid_row": null,
            "grid_template_areas": null,
            "grid_template_columns": null,
            "grid_template_rows": null,
            "height": null,
            "justify_content": null,
            "justify_items": null,
            "left": null,
            "margin": null,
            "max_height": null,
            "max_width": null,
            "min_height": null,
            "min_width": null,
            "object_fit": null,
            "object_position": null,
            "order": null,
            "overflow": null,
            "overflow_x": null,
            "overflow_y": null,
            "padding": null,
            "right": null,
            "top": null,
            "visibility": null,
            "width": null
          }
        },
        "1da4309d84904fd0a519a0ac28a89acc": {
          "model_module": "@jupyter-widgets/controls",
          "model_name": "ButtonStyleModel",
          "model_module_version": "1.5.0",
          "state": {
            "_model_module": "@jupyter-widgets/controls",
            "_model_module_version": "1.5.0",
            "_model_name": "ButtonStyleModel",
            "_view_count": null,
            "_view_module": "@jupyter-widgets/base",
            "_view_module_version": "1.2.0",
            "_view_name": "StyleView",
            "button_color": null,
            "font_weight": ""
          }
        },
        "652003f6d3774d4f96dccccc6531d9c2": {
          "model_module": "@jupyter-widgets/controls",
          "model_name": "TextareaModel",
          "model_module_version": "1.5.0",
          "state": {
            "_dom_classes": [
              "variant_text_area"
            ],
            "_model_module": "@jupyter-widgets/controls",
            "_model_module_version": "1.5.0",
            "_model_name": "TextareaModel",
            "_view_count": null,
            "_view_module": "@jupyter-widgets/controls",
            "_view_module_version": "1.5.0",
            "_view_name": "TextareaView",
            "continuous_update": true,
            "description": "Variant String:",
            "description_tooltip": null,
            "disabled": false,
            "layout": "IPY_MODEL_c505a59405964bffbee1f02db2fe2227",
            "placeholder": "[\"T17P,T54F\", \"V28L,F51A\", \"T17P,V28L,F51A,T54F\"]\n[\"T13P,T33F\"]",
            "rows": null,
            "style": "IPY_MODEL_e955bf593f2f451c9a986b0683d35d30",
            "value": ""
          }
        },
        "c505a59405964bffbee1f02db2fe2227": {
          "model_module": "@jupyter-widgets/base",
          "model_name": "LayoutModel",
          "model_module_version": "1.2.0",
          "state": {
            "_model_module": "@jupyter-widgets/base",
            "_model_module_version": "1.2.0",
            "_model_name": "LayoutModel",
            "_view_count": null,
            "_view_module": "@jupyter-widgets/base",
            "_view_module_version": "1.2.0",
            "_view_name": "LayoutView",
            "align_content": null,
            "align_items": null,
            "align_self": null,
            "border": null,
            "bottom": null,
            "display": null,
            "flex": null,
            "flex_flow": null,
            "grid_area": null,
            "grid_auto_columns": null,
            "grid_auto_flow": null,
            "grid_auto_rows": null,
            "grid_column": null,
            "grid_gap": null,
            "grid_row": null,
            "grid_template_areas": null,
            "grid_template_columns": null,
            "grid_template_rows": null,
            "height": "100px",
            "justify_content": null,
            "justify_items": null,
            "left": null,
            "margin": null,
            "max_height": null,
            "max_width": null,
            "min_height": null,
            "min_width": null,
            "object_fit": null,
            "object_position": null,
            "order": null,
            "overflow": null,
            "overflow_x": null,
            "overflow_y": null,
            "padding": null,
            "right": null,
            "top": null,
            "visibility": null,
            "width": "500px"
          }
        },
        "e955bf593f2f451c9a986b0683d35d30": {
          "model_module": "@jupyter-widgets/controls",
          "model_name": "DescriptionStyleModel",
          "model_module_version": "1.5.0",
          "state": {
            "_model_module": "@jupyter-widgets/controls",
            "_model_module_version": "1.5.0",
            "_model_name": "DescriptionStyleModel",
            "_view_count": null,
            "_view_module": "@jupyter-widgets/base",
            "_view_module_version": "1.2.0",
            "_view_name": "StyleView",
            "description_width": "initial"
          }
        },
        "f77f31e709c84c48b86316dbe9d7b0c9": {
          "model_module": "@jupyter-widgets/controls",
          "model_name": "FileUploadModel",
          "model_module_version": "1.5.0",
          "state": {
            "_counter": 0,
            "_dom_classes": [],
            "_model_module": "@jupyter-widgets/controls",
            "_model_module_version": "1.5.0",
            "_model_name": "FileUploadModel",
            "_view_count": null,
            "_view_module": "@jupyter-widgets/controls",
            "_view_module_version": "1.5.0",
            "_view_name": "FileUploadView",
            "accept": ".json, .txt",
            "button_style": "",
            "data": [],
            "description": "Upload",
            "description_tooltip": null,
            "disabled": false,
            "error": "",
            "icon": "upload",
            "layout": "IPY_MODEL_bd9755e9b09148d480b2d4604aa9ff16",
            "metadata": [],
            "multiple": false,
            "style": "IPY_MODEL_3171d7d717ba4baba7ac948a4fb60529"
          }
        },
        "bd9755e9b09148d480b2d4604aa9ff16": {
          "model_module": "@jupyter-widgets/base",
          "model_name": "LayoutModel",
          "model_module_version": "1.2.0",
          "state": {
            "_model_module": "@jupyter-widgets/base",
            "_model_module_version": "1.2.0",
            "_model_name": "LayoutModel",
            "_view_count": null,
            "_view_module": "@jupyter-widgets/base",
            "_view_module_version": "1.2.0",
            "_view_name": "LayoutView",
            "align_content": null,
            "align_items": null,
            "align_self": null,
            "border": null,
            "bottom": null,
            "display": null,
            "flex": null,
            "flex_flow": null,
            "grid_area": null,
            "grid_auto_columns": null,
            "grid_auto_flow": null,
            "grid_auto_rows": null,
            "grid_column": null,
            "grid_gap": null,
            "grid_row": null,
            "grid_template_areas": null,
            "grid_template_columns": null,
            "grid_template_rows": null,
            "height": null,
            "justify_content": null,
            "justify_items": null,
            "left": null,
            "margin": null,
            "max_height": null,
            "max_width": null,
            "min_height": null,
            "min_width": null,
            "object_fit": null,
            "object_position": null,
            "order": null,
            "overflow": null,
            "overflow_x": null,
            "overflow_y": null,
            "padding": null,
            "right": null,
            "top": null,
            "visibility": null,
            "width": null
          }
        },
        "3171d7d717ba4baba7ac948a4fb60529": {
          "model_module": "@jupyter-widgets/controls",
          "model_name": "ButtonStyleModel",
          "model_module_version": "1.5.0",
          "state": {
            "_model_module": "@jupyter-widgets/controls",
            "_model_module_version": "1.5.0",
            "_model_name": "ButtonStyleModel",
            "_view_count": null,
            "_view_module": "@jupyter-widgets/base",
            "_view_module_version": "1.2.0",
            "_view_name": "StyleView",
            "button_color": null,
            "font_weight": ""
          }
        }
      }
    }
  },
  "nbformat": 4,
  "nbformat_minor": 0
}