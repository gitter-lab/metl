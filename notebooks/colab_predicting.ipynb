{
  "cells": [
    {
      "cell_type": "markdown",
      "metadata": {
        "id": "_Om47-OgrLFv"
      },
      "source": [
        "This notebook will show an example on how to use METL models through Hugging Face to predict on more than the sequences allowed by the demo.\n",
        "\n",
        "The example provided through the notebook uses a pretrained METL model to predict GB1 binding affinity.\n",
        "\n",
        "First, we will download some dependencies not included in Colab and import the required modules that we will need to download the METL model through 🤗 and predict with it."
      ]
    },
    {
      "cell_type": "code",
      "execution_count": 1,
      "metadata": {
        "cellView": "form",
        "id": "WkNKKIqXr4OU"
      },
      "outputs": [],
      "source": [
        "# @title Installing libraries not included with colab\n",
        "!pip install -q biopandas==0.5.1"
      ]
    },
    {
      "cell_type": "code",
      "execution_count": 2,
      "metadata": {
        "cellView": "form",
        "colab": {
          "base_uri": "https://localhost:8080/"
        },
        "id": "tP_HrR5YSiqk",
        "outputId": "5956174a-fa5b-434d-8a70-54092c58597e"
      },
      "outputs": [
        {
          "output_type": "stream",
          "name": "stdout",
          "text": [
            "--2025-05-05 20:03:28--  https://raw.githubusercontent.com/gitter-lab/metl-pretrained/main/pdbs/2qmt_p.pdb\n",
            "Resolving raw.githubusercontent.com (raw.githubusercontent.com)... 185.199.108.133, 185.199.109.133, 185.199.110.133, ...\n",
            "Connecting to raw.githubusercontent.com (raw.githubusercontent.com)|185.199.108.133|:443... connected.\n",
            "HTTP request sent, awaiting response... 200 OK\n",
            "Length: 78764 (77K) [text/plain]\n",
            "Saving to: ‘2qmt_p.pdb’\n",
            "\n",
            "\r2qmt_p.pdb            0%[                    ]       0  --.-KB/s               \r2qmt_p.pdb          100%[===================>]  76.92K  --.-KB/s    in 0.02s   \n",
            "\n",
            "2025-05-05 20:03:28 (3.38 MB/s) - ‘2qmt_p.pdb’ saved [78764/78764]\n",
            "\n"
          ]
        }
      ],
      "source": [
        "# @title Download the example pdb file\n",
        "!wget -O 2qmt_p.pdb https://raw.githubusercontent.com/gitter-lab/metl-pretrained/main/pdbs/2qmt_p.pdb"
      ]
    },
    {
      "cell_type": "code",
      "execution_count": 3,
      "metadata": {
        "cellView": "form",
        "id": "mpjvGjzArLF1"
      },
      "outputs": [],
      "source": [
        "# @title Importing required libraries\n",
        "from transformers import AutoModel, AutoConfig, logging\n",
        "import ipywidgets as widgets\n",
        "from IPython.display import clear_output, HTML, display\n",
        "import pandas as pd\n",
        "import torch\n",
        "import io\n",
        "import json\n",
        "import biopandas\n",
        "\n",
        "logging.set_verbosity_error()\n",
        "\n",
        "# Declaring this here so that it's available regardless if later cells are run or not\n",
        "variant_file = None\n",
        "pdb_file_path = '2qmt_p.pdb'\n",
        "\n",
        "def to_zero_based(variants):\n",
        "    zero_based = []\n",
        "    for line in variants:\n",
        "        line_as_json = json.loads(line)\n",
        "        new_variants = []\n",
        "        for variant in line_as_json:\n",
        "            new_variant = []\n",
        "            mutations = variant.split(',')\n",
        "            for mutation in mutations:\n",
        "                residue_zero_based = int(mutation[1:-1]) - 1\n",
        "                new_variant.append(f\"{mutation[0]}{residue_zero_based}{mutation[-1]}\")\n",
        "            new_variants.append(\",\".join(new_variant))\n",
        "        zero_based.append(new_variants)\n",
        "\n",
        "    return zero_based"
      ]
    },
    {
      "cell_type": "markdown",
      "metadata": {
        "id": "JWJCsBukrLF7"
      },
      "source": [
        "We will then load a METL model through the 🤗 API. trust_remote_code=True is required to use METL models through 🤗."
      ]
    },
    {
      "cell_type": "code",
      "execution_count": 4,
      "metadata": {
        "cellView": "form",
        "id": "vIp69-KLrLF8"
      },
      "outputs": [],
      "source": [
        "# @title Loading METL from 🤗\n",
        "metl = AutoModel.from_pretrained('gitter-lab/METL', trust_remote_code=True)"
      ]
    },
    {
      "cell_type": "markdown",
      "metadata": {
        "id": "Y6PH3mozrLF_"
      },
      "source": [
        "The METL 🤗 wrapper requires the loading of the specific METL model after initialization of the `metl` variable above. Use the dropdown below to select a model to use for predicting.\n",
        "\n",
        "The publicly available METL models are hosted on [Zenodo](https://zenodo.org/doi/10.5281/zenodo.11051644). The [metl-pretrained](https://github.com/gitter-lab/metl-pretrained#available-models) repo provides a table describing the available models."
      ]
    },
    {
      "cell_type": "code",
      "execution_count": 5,
      "metadata": {
        "cellView": "form",
        "id": "Odg6Mps7rLGA"
      },
      "outputs": [],
      "source": [
        "# @title Available METL models\n",
        "# @markdown Use this dropdown to choose a METL model. Running the cell will load the selected model by UUID.\n",
        "dropdown_selection = \"Source / Global / 1D — [METL-G-20M-1D] (D72M9aEp)\"  # @param [\"Source / Global / 1D — [METL-G-20M-1D] (D72M9aEp)\", \"Source / Global / 3D — [METL-G-20M-3D] (Nr9zCKpR)\", \"Source / Global / 1D — [METL-G-50M-1D] (auKdzzwX)\", \"Source / Global / 3D — [METL-G-50M-3D] (6PSAzdfv)\", \"Source / Local / GFP / 1D — [METL-L-2M-1D-GFP] (8gMPQJy4)\", \"Source / Local / GFP / 3D — [METL-L-2M-3D-GFP] (Hr4GNHws)\", \"Source / Local / DLG4 / 1D — [METL-L-2M-1D-DLG4_2022] (8iFoiYw2)\", \"Source / Local / DLG4 / 3D — [METL-L-2M-3D-DLG4_2022] (kt5DdWTa)\", \"Source / Local / GB1 / 1D — [METL-L-2M-1D-GB1] (DMfkjVzT)\", \"Source / Local / GB1 / 3D — [METL-L-2M-3D-GB1] (epegcFiH)\", \"Source / Local / GRB2 / 1D — [METL-L-2M-1D-GRB2] (kS3rUS7h)\", \"Source / Local / GRB2 / 3D — [METL-L-2M-3D-GRB2] (X7w83g6S)\", \"Source / Local / Pab1 / 1D — [METL-L-2M-1D-Pab1] (UKebCQGz)\", \"Source / Local / Pab1 / 3D — [METL-L-2M-3D-Pab1] (2rr8V4th)\", \"Source / Local / PTEN / 1D — [METL-L-2M-1D-PTEN] (CEMSx7ZC)\", \"Source / Local / PTEN / 3D — [METL-L-2M-3D-PTEN] (PjxR5LW7)\", \"Source / Local / TEM-1 / 1D — [METL-L-2M-1D-TEM-1] (PREhfC22)\", \"Source / Local / TEM-1 / 3D — [METL-L-2M-3D-TEM-1] (9ASvszux)\", \"Source / Local / Ube4b / 1D — [METL-L-2M-1D-Ube4b] (HscFFkAb)\", \"Source / Local / Ube4b / 3D — [METL-L-2M-3D-Ube4b] (H48oiNZN)\", \"METL-BIND / Source / Local / GB1 / 3D — [METL-BIND-2M-3D-GB1-STANDARD] (K6mw24Rg)\", \"METL-BIND / Source / Local / GB1 / 3D — [METL-BIND-2M-3D-GB1-BINDING] (Bo5wn2SG)\", \"Finetuned / Global / GFP / 1D — (PeT2D92j)\", \"Finetuned / Global / GFP / 3D — (6JBzHpkQ)\", \"Finetuned / Global / DLG4-Abundance / 1D — (4Rh3WCbG)\", \"Finetuned / Global / DLG4-Abundance / 3D — (RBtqxzvu)\", \"Finetuned / Global / DLG4-Binding / 1D — (4xbuC5y7)\", \"Finetuned / Global / DLG4-Binding / 3D — (BuvxgE2x)\", \"Finetuned / Global / GB1 / 1D — (dAndZfJ4)\", \"Finetuned / Global / GB1 / 3D — (9vSB3DRM)\", \"Finetuned / Global / GRB2-Abundance / 1D — (HenDpDWe)\", \"Finetuned / Global / GRB2-Abundance / 3D — (dDoCCvfr)\", \"Finetuned / Global / GRB2-Binding / 1D — (cvnycE5Q)\", \"Finetuned / Global / GRB2-Binding / 3D — (jYesS9Ki)\", \"Finetuned / Global / Pab1 / 1D — (ho54gxzv)\", \"Finetuned / Global / Pab1 / 3D — (jhbL2FeB)\", \"Finetuned / Global / PTEN-Abundance / 1D — (UEuMtmfx)\", \"Finetuned / Global / PTEN-Abundance / 3D — (eJPPQYEW)\", \"Finetuned / Global / PTEN-Activity / 1D — (U3X8mSeT)\", \"Finetuned / Global / PTEN-Activity / 3D — (4gqYnW6V)\", \"Finetuned / Global / TEM-1 / 1D — (ELL4GGQq)\", \"Finetuned / Global / TEM-1 / 3D — (K6BjsWXm)\", \"Finetuned / Global / Ube4b / 1D — (BAWw23vW)\", \"Finetuned / Global / Ube4b / 3D — (G9piq6WH)\", \"Finetuned / Local / GFP / 1D — (HaUuRwfE)\", \"Finetuned / Local / GFP / 3D — (LWEY95Yb)\", \"Finetuned / Local / DLG4-Abundance / 1D — (RMFA6dnX)\", \"Finetuned / Local / DLG4-Abundance / 3D — (V3uTtXVe)\", \"Finetuned / Local / DLG4-Binding / 1D — (YdzBYWHs)\", \"Finetuned / Local / DLG4-Binding / 3D — (iu6ZahPw)\", \"Finetuned / Local / GB1 / 1D — (Pgcseywk)\", \"Finetuned / Local / GB1 / 3D — (UvMMdsq4)\", \"Finetuned / Local / GRB2-Abundance / 1D — (VNpi9Zjt)\", \"Finetuned / Local / GRB2-Abundance / 3D — (PqBMjXkA)\", \"Finetuned / Local / GRB2-Binding / 1D — (Z59BhUaE)\", \"Finetuned / Local / GRB2-Binding / 3D — (VwcRN6UB)\", \"Finetuned / Local / Pab1 / 1D — (TdjCzoQQ)\", \"Finetuned / Local / Pab1 / 3D — (5SjoLx3y)\", \"Finetuned / Local / PTEN-Abundance / 1D — (oUScGeHo)\", \"Finetuned / Local / PTEN-Abundance / 3D — (DhuasDEr)\", \"Finetuned / Local / PTEN-Activity / 1D — (m9UsG7dq)\", \"Finetuned / Local / PTEN-Activity / 3D — (8Vi7ENcC)\", \"Finetuned / Local / TEM-1 / 1D — (64ncFxBR)\", \"Finetuned / Local / TEM-1 / 3D — (PncvgiJU)\", \"Finetuned / Local / Ube4b / 1D — (e9uhhnAv)\", \"Finetuned / Local / Ube4b / 3D — (NfbZL7jK)\", \"GFP DESIGN / Finetuned / Local / GFP / 1D — (YoQkzoLD)\", \"GFP DESIGN / Finetuned / Local / GFP / 3D — (PEkeRuxb)\"]\n",
        "\n",
        "uuid_lookup = {\n",
        "    \"Source / Global / 1D — [METL-G-20M-1D] (D72M9aEp)\": \"D72M9aEp\",\n",
        "    \"Source / Global / 3D — [METL-G-20M-3D] (Nr9zCKpR)\": \"Nr9zCKpR\",\n",
        "    \"Source / Global / 1D — [METL-G-50M-1D] (auKdzzwX)\": \"auKdzzwX\",\n",
        "    \"Source / Global / 3D — [METL-G-50M-3D] (6PSAzdfv)\": \"6PSAzdfv\",\n",
        "    \"Source / Local / GFP / 1D — [METL-L-2M-1D-GFP] (8gMPQJy4)\": \"8gMPQJy4\",\n",
        "    \"Source / Local / GFP / 3D — [METL-L-2M-3D-GFP] (Hr4GNHws)\": \"Hr4GNHws\",\n",
        "    \"Source / Local / DLG4 / 1D — [METL-L-2M-1D-DLG4_2022] (8iFoiYw2)\": \"8iFoiYw2\",\n",
        "    \"Source / Local / DLG4 / 3D — [METL-L-2M-3D-DLG4_2022] (kt5DdWTa)\": \"kt5DdWTa\",\n",
        "    \"Source / Local / GB1 / 1D — [METL-L-2M-1D-GB1] (DMfkjVzT)\": \"DMfkjVzT\",\n",
        "    \"Source / Local / GB1 / 3D — [METL-L-2M-3D-GB1] (epegcFiH)\": \"epegcFiH\",\n",
        "    \"Source / Local / GRB2 / 1D — [METL-L-2M-1D-GRB2] (kS3rUS7h)\": \"kS3rUS7h\",\n",
        "    \"Source / Local / GRB2 / 3D — [METL-L-2M-3D-GRB2] (X7w83g6S)\": \"X7w83g6S\",\n",
        "    \"Source / Local / Pab1 / 1D — [METL-L-2M-1D-Pab1] (UKebCQGz)\": \"UKebCQGz\",\n",
        "    \"Source / Local / Pab1 / 3D — [METL-L-2M-3D-Pab1] (2rr8V4th)\": \"2rr8V4th\",\n",
        "    \"Source / Local / PTEN / 1D — [METL-L-2M-1D-PTEN] (CEMSx7ZC)\": \"CEMSx7ZC\",\n",
        "    \"Source / Local / PTEN / 3D — [METL-L-2M-3D-PTEN] (PjxR5LW7)\": \"PjxR5LW7\",\n",
        "    \"Source / Local / TEM-1 / 1D — [METL-L-2M-1D-TEM-1] (PREhfC22)\": \"PREhfC22\",\n",
        "    \"Source / Local / TEM-1 / 3D — [METL-L-2M-3D-TEM-1] (9ASvszux)\": \"9ASvszux\",\n",
        "    \"Source / Local / Ube4b / 1D — [METL-L-2M-1D-Ube4b] (HscFFkAb)\": \"HscFFkAb\",\n",
        "    \"Source / Local / Ube4b / 3D — [METL-L-2M-3D-Ube4b] (H48oiNZN)\": \"H48oiNZN\",\n",
        "    \"METL-BIND / Source / Local / GB1 / 3D — [METL-BIND-2M-3D-GB1-STANDARD] (K6mw24Rg)\": \"K6mw24Rg\",\n",
        "    \"METL-BIND / Source / Local / GB1 / 3D — [METL-BIND-2M-3D-GB1-BINDING] (Bo5wn2SG)\": \"Bo5wn2SG\",\n",
        "    \"Finetuned / Global / GFP / 1D — (PeT2D92j)\": \"PeT2D92j\",\n",
        "    \"Finetuned / Global / GFP / 3D — (6JBzHpkQ)\": \"6JBzHpkQ\",\n",
        "    \"Finetuned / Global / DLG4-Abundance / 1D — (4Rh3WCbG)\": \"4Rh3WCbG\",\n",
        "    \"Finetuned / Global / DLG4-Abundance / 3D — (RBtqxzvu)\": \"RBtqxzvu\",\n",
        "    \"Finetuned / Global / DLG4-Binding / 1D — (4xbuC5y7)\": \"4xbuC5y7\",\n",
        "    \"Finetuned / Global / DLG4-Binding / 3D — (BuvxgE2x)\": \"BuvxgE2x\",\n",
        "    \"Finetuned / Global / GB1 / 1D — (dAndZfJ4)\": \"dAndZfJ4\",\n",
        "    \"Finetuned / Global / GB1 / 3D — (9vSB3DRM)\": \"9vSB3DRM\",\n",
        "    \"Finetuned / Global / GRB2-Abundance / 1D — (HenDpDWe)\": \"HenDpDWe\",\n",
        "    \"Finetuned / Global / GRB2-Abundance / 3D — (dDoCCvfr)\": \"dDoCCvfr\",\n",
        "    \"Finetuned / Global / GRB2-Binding / 1D — (cvnycE5Q)\": \"cvnycE5Q\",\n",
        "    \"Finetuned / Global / GRB2-Binding / 3D — (jYesS9Ki)\": \"jYesS9Ki\",\n",
        "    \"Finetuned / Global / Pab1 / 1D — (ho54gxzv)\": \"ho54gxzv\",\n",
        "    \"Finetuned / Global / Pab1 / 3D — (jhbL2FeB)\": \"jhbL2FeB\",\n",
        "    \"Finetuned / Global / PTEN-Abundance / 1D — (UEuMtmfx)\": \"UEuMtmfx\",\n",
        "    \"Finetuned / Global / PTEN-Abundance / 3D — (eJPPQYEW)\": \"eJPPQYEW\",\n",
        "    \"Finetuned / Global / PTEN-Activity / 1D — (U3X8mSeT)\": \"U3X8mSeT\",\n",
        "    \"Finetuned / Global / PTEN-Activity / 3D — (4gqYnW6V)\": \"4gqYnW6V\",\n",
        "    \"Finetuned / Global / TEM-1 / 1D — (ELL4GGQq)\": \"ELL4GGQq\",\n",
        "    \"Finetuned / Global / TEM-1 / 3D — (K6BjsWXm)\": \"K6BjsWXm\",\n",
        "    \"Finetuned / Global / Ube4b / 1D — (BAWw23vW)\": \"BAWw23vW\",\n",
        "    \"Finetuned / Global / Ube4b / 3D — (G9piq6WH)\": \"G9piq6WH\",\n",
        "    \"Finetuned / Local / GFP / 1D — (HaUuRwfE)\": \"HaUuRwfE\",\n",
        "    \"Finetuned / Local / GFP / 3D — (LWEY95Yb)\": \"LWEY95Yb\",\n",
        "    \"Finetuned / Local / DLG4-Abundance / 1D — (RMFA6dnX)\": \"RMFA6dnX\",\n",
        "    \"Finetuned / Local / DLG4-Abundance / 3D — (V3uTtXVe)\": \"V3uTtXVe\",\n",
        "    \"Finetuned / Local / DLG4-Binding / 1D — (YdzBYWHs)\": \"YdzBYWHs\",\n",
        "    \"Finetuned / Local / DLG4-Binding / 3D — (iu6ZahPw)\": \"iu6ZahPw\",\n",
        "    \"Finetuned / Local / GB1 / 1D — (Pgcseywk)\": \"Pgcseywk\",\n",
        "    \"Finetuned / Local / GB1 / 3D — (UvMMdsq4)\": \"UvMMdsq4\",\n",
        "    \"Finetuned / Local / GRB2-Abundance / 1D — (VNpi9Zjt)\": \"VNpi9Zjt\",\n",
        "    \"Finetuned / Local / GRB2-Abundance / 3D — (PqBMjXkA)\": \"PqBMjXkA\",\n",
        "    \"Finetuned / Local / GRB2-Binding / 1D — (Z59BhUaE)\": \"Z59BhUaE\",\n",
        "    \"Finetuned / Local / GRB2-Binding / 3D — (VwcRN6UB)\": \"VwcRN6UB\",\n",
        "    \"Finetuned / Local / Pab1 / 1D — (TdjCzoQQ)\": \"TdjCzoQQ\",\n",
        "    \"Finetuned / Local / Pab1 / 3D — (5SjoLx3y)\": \"5SjoLx3y\",\n",
        "    \"Finetuned / Local / PTEN-Abundance / 1D — (oUScGeHo)\": \"oUScGeHo\",\n",
        "    \"Finetuned / Local / PTEN-Abundance / 3D — (DhuasDEr)\": \"DhuasDEr\",\n",
        "    \"Finetuned / Local / PTEN-Activity / 1D — (m9UsG7dq)\": \"m9UsG7dq\",\n",
        "    \"Finetuned / Local / PTEN-Activity / 3D — (8Vi7ENcC)\": \"8Vi7ENcC\",\n",
        "    \"Finetuned / Local / TEM-1 / 1D — (64ncFxBR)\": \"64ncFxBR\",\n",
        "    \"Finetuned / Local / TEM-1 / 3D — (PncvgiJU)\": \"PncvgiJU\",\n",
        "    \"Finetuned / Local / Ube4b / 1D — (e9uhhnAv)\": \"e9uhhnAv\",\n",
        "    \"Finetuned / Local / Ube4b / 3D — (NfbZL7jK)\": \"NfbZL7jK\",\n",
        "    \"GFP DESIGN / Finetuned / Local / GFP / 1D — (YoQkzoLD)\": \"YoQkzoLD\",\n",
        "    \"GFP DESIGN / Finetuned / Local / GFP / 3D — (PEkeRuxb)\": \"PEkeRuxb\"\n",
        "}\n",
        "\n",
        "uuid = uuid_lookup[dropdown_selection]\n",
        "metl.load_from_uuid(uuid)\n"
      ]
    },
    {
      "cell_type": "markdown",
      "metadata": {
        "id": "UENVWR2srLGD"
      },
      "source": [
        "Depending on the model chosen, different files might be needed. This example is setup to use metl-l-2m-3d-gb1 and will need a few inputs for prediction.\n",
        "\n",
        "Specifically, for this 3d GB1 model we will need:\n",
        "- a wild type sequnece\n",
        "- a PDB structure file (as this is a 3d model)\n",
        "- variants to use with METL"
      ]
    },
    {
      "cell_type": "code",
      "execution_count": 6,
      "metadata": {
        "cellView": "form",
        "id": "HBAocw_urLGE"
      },
      "outputs": [],
      "source": [
        "# @title Protein wild type sequence\n",
        "# @markdown Enter the wild type of your protein here. The wildtype for gb1 is provided to use with the default model example here.\n",
        "wildtype = 'MQYKLILNGKTLKGETTTEAVDAATAEKVFKQYANDNGVDGEWTYDDATKTFTVTE' # @param {type:\"string\", placeholder:\"Enter a wildtype here\"}"
      ]
    },
    {
      "cell_type": "code",
      "execution_count": 7,
      "metadata": {
        "cellView": "form",
        "colab": {
          "base_uri": "https://localhost:8080/",
          "height": 49,
          "referenced_widgets": [
            "f042307a30bb4afa874dee875cd09584",
            "c9abb1261d4e405187551d2989f90b8e",
            "6f3fe908f95e4c809d2550e8f9107936"
          ]
        },
        "id": "nVj7UumyrLGF",
        "outputId": "9939bdb5-66bc-4506-8d93-f479601bcf55"
      },
      "outputs": [
        {
          "output_type": "display_data",
          "data": {
            "text/plain": [
              "FileUpload(value={}, accept='.pdb', description='Upload')"
            ],
            "application/vnd.jupyter.widget-view+json": {
              "version_major": 2,
              "version_minor": 0,
              "model_id": "f042307a30bb4afa874dee875cd09584"
            }
          },
          "metadata": {}
        }
      ],
      "source": [
        "# @title PDB file upload\n",
        "# @markdown If your model needs a PDB file, run this cell and upload the file with the provided button that appears below.\n",
        "# @markdown\n",
        "# @markdown If you would like to change the file, simply upload another one. The last uploaded file will be what is used.\n",
        "# @markdown If you would like to predict with the pre-loaded GB1 model, download [this pdb file](https://github.com/gitter-lab/metl-pretrained/blob/main/pdbs/2qmt_p.pdb)\n",
        "\n",
        "def update_pdb_file(file_name):\n",
        "  global pdb_file_path\n",
        "  for name, data in file_name['new'].items():\n",
        "    clear_output()\n",
        "    display(pdb_upload)\n",
        "    print(f\"Selected file: {name}\")\n",
        "    pdb_file_path = f'./{name}'\n",
        "\n",
        "    with open(name, 'wb') as f:\n",
        "      f.write(data['content'])\n",
        "\n",
        "pdb_upload = widgets.FileUpload(\n",
        "    accept='.pdb',\n",
        "    multiple=False\n",
        ")\n",
        "pdb_upload.observe(update_pdb_file, names='value')\n",
        "pdb_upload"
      ]
    },
    {
      "cell_type": "markdown",
      "metadata": {
        "id": "p63MHIlsrLGG"
      },
      "source": [
        "Lastly, we will then collect some variants. The code in this notebook supports variants in JSON list format. Either enter a JSON-formatted list of variants in the text box below or upload a variant JSON file in the following cell. Run the cell to active the text entry or file upload."
      ]
    },
    {
      "cell_type": "code",
      "execution_count": 8,
      "metadata": {
        "cellView": "form",
        "colab": {
          "base_uri": "https://localhost:8080/",
          "height": 121,
          "referenced_widgets": [
            "73ecc18277aa47429b8b576b87c3cbea",
            "32bc97ebab284e10bcae497e1d4075bd",
            "b38ebc4ddd7b4e14861912819bea69b0"
          ]
        },
        "id": "EjleQbnprLGH",
        "outputId": "53279f1a-1a59-4038-e38b-3372c5b3f84c"
      },
      "outputs": [
        {
          "output_type": "display_data",
          "data": {
            "text/plain": [
              "<IPython.core.display.HTML object>"
            ],
            "text/html": [
              "\n",
              "<style>\n",
              "  .variant_text_area > textarea::placeholder {\n",
              "    color: var(--colab-primary-text-color);\n",
              "  }\n",
              "\n",
              "  .variant_text_area > textarea {\n",
              "    background-color: var(--colab-secondary-surface-color);\n",
              "    color: var(--colab-primary-text-color);\n",
              "  }\n",
              "</style>\n"
            ]
          },
          "metadata": {}
        },
        {
          "output_type": "display_data",
          "data": {
            "text/plain": [
              "Textarea(value='', description='Variant String:', layout=Layout(height='100px', width='500px'), placeholder='[…"
            ],
            "application/vnd.jupyter.widget-view+json": {
              "version_major": 2,
              "version_minor": 0,
              "model_id": "73ecc18277aa47429b8b576b87c3cbea"
            }
          },
          "metadata": {}
        }
      ],
      "source": [
        "# @title Variant text input\n",
        "# @markdown The placehold variants below use 0-based indexing.\n",
        "variants_string = \"\"\"[\"T17P,T54F\", \"V28L,F51A\", \"T17P,V28L,F51A,T54F\"]\n",
        "[\"T13P,T33F\"]\"\"\"\n",
        "style = {'description_width':'initial'}\n",
        "\n",
        "variant_text = widgets.Textarea(\n",
        "    value='',\n",
        "    placeholder=variants_string,\n",
        "    description='Variant String:',\n",
        "    disabled=False,\n",
        "    style = style,\n",
        "    layout=widgets.Layout(height='100px', width='500px'),\n",
        ")\n",
        "\n",
        "variant_text.add_class('variant_text_area')\n",
        "\n",
        "style = \"\"\"\n",
        "<style>\n",
        "  .variant_text_area > textarea::placeholder {\n",
        "    color: var(--colab-primary-text-color);\n",
        "  }\n",
        "\n",
        "  .variant_text_area > textarea {\n",
        "    background-color: var(--colab-secondary-surface-color);\n",
        "    color: var(--colab-primary-text-color);\n",
        "  }\n",
        "</style>\n",
        "\"\"\"\n",
        "\n",
        "display(HTML(style))\n",
        "display(variant_text)"
      ]
    },
    {
      "cell_type": "markdown",
      "metadata": {
        "id": "ggs9zSgPHOYj"
      },
      "source": [
        "If you would rather upload a file, run the cell below and use it to upload a file. If a file is uploaded, the input above will not be looked at for variants\n"
      ]
    },
    {
      "cell_type": "code",
      "execution_count": 9,
      "metadata": {
        "cellView": "form",
        "colab": {
          "base_uri": "https://localhost:8080/",
          "height": 49,
          "referenced_widgets": [
            "6692342dd89c40e3aad7a74037a29224",
            "158bf7d7e6ce4b12b1de4b1d8ef9325b",
            "013515cf37ea4e578032c2540b18c622"
          ]
        },
        "id": "8TLYi6orHN_8",
        "outputId": "6c1cd795-b841-44bf-bba9-ca8822e43943"
      },
      "outputs": [
        {
          "output_type": "display_data",
          "data": {
            "text/plain": [
              "FileUpload(value={}, accept='.json, .txt', description='Upload')"
            ],
            "application/vnd.jupyter.widget-view+json": {
              "version_major": 2,
              "version_minor": 0,
              "model_id": "6692342dd89c40e3aad7a74037a29224"
            }
          },
          "metadata": {}
        }
      ],
      "source": [
        "# @title Variant file upload\n",
        "# @markdown If you want to upload a variant JSON file, run this cell and upload the file with the provided button that appears below.\n",
        "\n",
        "\n",
        "def update_variant_file(button_input):\n",
        "  global variant_file\n",
        "  for name, data in button_input['new'].items():\n",
        "    clear_output()\n",
        "    display(variant_upload)\n",
        "    print(f'Loaded file: {name}')\n",
        "    variant_file = data['content'].decode('utf-8').splitlines()\n",
        "\n",
        "variant_upload = widgets.FileUpload(\n",
        "    accept='.json, .txt',\n",
        "    multiple=False\n",
        ")\n",
        "\n",
        "variant_upload.observe(update_variant_file, names='value')\n",
        "variant_upload"
      ]
    },
    {
      "cell_type": "code",
      "execution_count": 10,
      "metadata": {
        "cellView": "form",
        "colab": {
          "base_uri": "https://localhost:8080/"
        },
        "id": "mASfltPUrLGI",
        "outputId": "85f52c9f-eebc-453c-d8fb-a04daa1db2ad"
      },
      "outputs": [
        {
          "output_type": "stream",
          "name": "stdout",
          "text": [
            "Using variant placeholder\n"
          ]
        }
      ],
      "source": [
        "# @title Variant selecting logic (always run this)\n",
        "\n",
        "clear_output()\n",
        "if len(variant_text.value) > 0:\n",
        "  print(\"Using text area input\")\n",
        "  variants = variant_text.value\n",
        "elif variant_file:\n",
        "  print(\"Using variants file\")\n",
        "  variants = variant_file\n",
        "else:\n",
        "  print(\"Using variant placeholder\")\n",
        "  variants = variant_text.placeholder.splitlines()"
      ]
    },
    {
      "cell_type": "markdown",
      "metadata": {
        "id": "YOfEUeNYrLGI"
      },
      "source": [
        "For biologists, 1-based indexing is commonly used. However, METL models were designed to used 0-based indexing. If one-based indexing is needed, select it in the dropdown below."
      ]
    },
    {
      "cell_type": "code",
      "execution_count": 11,
      "metadata": {
        "cellView": "form",
        "id": "ecLAU9IOrLGK"
      },
      "outputs": [],
      "source": [
        "# @title Transform input from 1-based indexing to 0-based indexing\n",
        "# @markdown Select indexing for residue mutations\n",
        "indexing = \"0\" # @param ['0', '1']"
      ]
    },
    {
      "cell_type": "markdown",
      "metadata": {
        "id": "ixhZbYm8rLGM"
      },
      "source": [
        "Since both file and string variants give the same result, we only need to use one moving forwards. We will use the string_variants variable.\n",
        "\n",
        "To predict with METL, we will need to use the loaded model and encoder with our variables we defined above. We will wrap this in a for loop to predict on all of our variants as we have multiple lines of them."
      ]
    },
    {
      "cell_type": "code",
      "execution_count": 12,
      "metadata": {
        "cellView": "form",
        "id": "th1JyojWrLGN"
      },
      "outputs": [],
      "source": [
        "# @title METL predicting loop\n",
        "output = []\n",
        "\n",
        "device = torch.device(\"cuda\" if torch.cuda.is_available() else \"cpu\")\n",
        "\n",
        "metl = metl.to(device)\n",
        "\n",
        "if indexing == \"1\":\n",
        "  predict_variants = to_zero_based(variants)\n",
        "else:\n",
        "  predict_variants = variants\n",
        "\n",
        "for variant in predict_variants:\n",
        "    # First in METL we need to encode our variants\n",
        "    if not isinstance(variant, list):\n",
        "      variant = json.loads(variant)\n",
        "    encoded_variants = metl.encoder.encode_variants(wildtype, variant)\n",
        "\n",
        "    #Next, we predict\n",
        "    with torch.no_grad():\n",
        "        if pdb_file_path:\n",
        "            predictions = metl(torch.tensor(encoded_variants).to(device), pdb_fn=pdb_file_path)\n",
        "        else:\n",
        "            predictions = metl(torch.tensor(encoded_variants).to(device))\n",
        "\n",
        "        output.append({\n",
        "            \"wt\": wildtype,\n",
        "            \"variants\": variant,\n",
        "            \"output\": predictions.tolist()\n",
        "        })"
      ]
    },
    {
      "cell_type": "code",
      "execution_count": 13,
      "metadata": {
        "cellView": "form",
        "colab": {
          "base_uri": "https://localhost:8080/",
          "height": 300
        },
        "id": "J5XJ-4memIYp",
        "outputId": "1f47d3a9-696d-463d-ebb4-7efaaff404e7"
      },
      "outputs": [
        {
          "output_type": "display_data",
          "data": {
            "text/plain": [
              "<IPython.core.display.Javascript object>"
            ],
            "application/javascript": [
              "google.colab.output.setIframeHeight(0, true, {maxHeight: 300})"
            ]
          },
          "metadata": {}
        },
        {
          "output_type": "stream",
          "name": "stdout",
          "text": [
            "[\n",
            "  {\n",
            "    \"wt\": \"MQYKLILNGKTLKGETTTEAVDAATAEKVFKQYANDNGVDGEWTYDDATKTFTVTE\",\n",
            "    \"variants\": [\n",
            "      \"T17P,T54F\",\n",
            "      \"V28L,F51A\",\n",
            "      \"T17P,V28L,F51A,T54F\"\n",
            "    ],\n",
            "    \"output\": [\n",
            "      [\n",
            "        4.2775397300720215,\n",
            "        3.786275863647461,\n",
            "        -1.6370080709457397,\n",
            "        0.1933237612247467,\n",
            "        -0.13506530225276947,\n",
            "        -1.456122875213623,\n",
            "        0.40609604120254517,\n",
            "        -0.14475120604038239,\n",
            "        1.3374593257904053,\n",
            "        2.163062572479248,\n",
            "        0.4950665831565857,\n",
            "        0.4560806155204773,\n",
            "        -1.0170670747756958,\n",
            "        2.858417510986328,\n",
            "        5.019073963165283,\n",
            "        0.013847976922988892,\n",
            "        2.2520668506622314,\n",
            "        0.967809796333313,\n",
            "        0.4779720604419708,\n",
            "        -2.347883701324463,\n",
            "        -0.13269801437854767,\n",
            "        -1.4652981758117676,\n",
            "        -1.1244169473648071,\n",
            "        -1.6959165334701538,\n",
            "        -1.374971866607666,\n",
            "        -0.6227024793624878,\n",
            "        -0.8287121057510376,\n",
            "        1.7804256677627563,\n",
            "        2.171955108642578,\n",
            "        -0.6565226316452026,\n",
            "        1.0104891061782837,\n",
            "        -1.144966959953308,\n",
            "        -2.5914223194122314,\n",
            "        -0.8559749126434326,\n",
            "        -0.5850390791893005,\n",
            "        -2.046734571456909,\n",
            "        -2.424253225326538,\n",
            "        -1.2831813097000122,\n",
            "        3.7844603061676025,\n",
            "        -0.9694756865501404,\n",
            "        -1.0858943462371826,\n",
            "        1.0104891061782837,\n",
            "        -0.6352817416191101,\n",
            "        1.4260270595550537,\n",
            "        2.9255435466766357,\n",
            "        0.5004701614379883,\n",
            "        0.9679129719734192,\n",
            "        2.830063581466675,\n",
            "        -0.04313451051712036,\n",
            "        2.172283172607422,\n",
            "        2.1654210090637207,\n",
            "        0.8281375169754028,\n",
            "        0.1433318555355072,\n",
            "        1.4066869020462036,\n",
            "        0.21422891318798065\n",
            "      ],\n",
            "      [\n",
            "        3.599005699157715,\n",
            "        4.000086307525635,\n",
            "        -3.0909271240234375,\n",
            "        0.4858768582344055,\n",
            "        -0.8488843441009521,\n",
            "        -2.7647578716278076,\n",
            "        -0.24386394023895264,\n",
            "        -0.8517329096794128,\n",
            "        -0.19231688976287842,\n",
            "        1.6623207330703735,\n",
            "        1.3741695880889893,\n",
            "        0.06949999928474426,\n",
            "        -0.10226830840110779,\n",
            "        1.3069491386413574,\n",
            "        5.420313358306885,\n",
            "        -0.37105339765548706,\n",
            "        2.4827041625976562,\n",
            "        1.8129785060882568,\n",
            "        0.28777843713760376,\n",
            "        -2.9268722534179688,\n",
            "        -0.8425529599189758,\n",
            "        -2.3980424404144287,\n",
            "        -1.4916445016860962,\n",
            "        -1.7236937284469604,\n",
            "        -0.8610510230064392,\n",
            "        -0.3468705713748932,\n",
            "        -0.6569114327430725,\n",
            "        1.3407901525497437,\n",
            "        1.753261685371399,\n",
            "        -0.626339852809906,\n",
            "        0.760465145111084,\n",
            "        -1.5272020101547241,\n",
            "        -2.6956429481506348,\n",
            "        -0.5113038420677185,\n",
            "        -0.3138844668865204,\n",
            "        -1.995438575744629,\n",
            "        -1.44125497341156,\n",
            "        -1.678829550743103,\n",
            "        2.19063663482666,\n",
            "        -1.529599905014038,\n",
            "        -1.3376927375793457,\n",
            "        0.7604653835296631,\n",
            "        -2.413787841796875,\n",
            "        0.6266834139823914,\n",
            "        2.621164321899414,\n",
            "        0.03989154472947121,\n",
            "        0.8936969041824341,\n",
            "        3.097533702850342,\n",
            "        -0.42017266154289246,\n",
            "        2.4489452838897705,\n",
            "        1.8460462093353271,\n",
            "        -0.04885926842689514,\n",
            "        -0.07307650148868561,\n",
            "        0.108339324593544,\n",
            "        0.031157374382019043\n",
            "      ],\n",
            "      [\n",
            "        4.393838882446289,\n",
            "        4.143911838531494,\n",
            "        -2.0340843200683594,\n",
            "        0.9716600775718689,\n",
            "        -0.6146652698516846,\n",
            "        -1.8540453910827637,\n",
            "        0.3949509859085083,\n",
            "        -0.932229220867157,\n",
            "        0.2307473123073578,\n",
            "        2.895686149597168,\n",
            "        0.8506678938865662,\n",
            "        0.3040979504585266,\n",
            "        -0.655519425868988,\n",
            "        1.6011921167373657,\n",
            "        5.1520538330078125,\n",
            "        0.02481517195701599,\n",
            "        3.4669811725616455,\n",
            "        0.5190660953521729,\n",
            "        2.3791112899780273,\n",
            "        -3.029308795928955,\n",
            "        0.353994756937027,\n",
            "        -1.351706624031067,\n",
            "        -1.380313754081726,\n",
            "        -1.0940065383911133,\n",
            "        -1.4875812530517578,\n",
            "        -0.7346552610397339,\n",
            "        -0.7848735451698303,\n",
            "        2.1237692832946777,\n",
            "        1.6853913068771362,\n",
            "        -0.21032091975212097,\n",
            "        1.5876550674438477,\n",
            "        -1.594293236732483,\n",
            "        -2.4952142238616943,\n",
            "        -1.037440538406372,\n",
            "        -0.7655227184295654,\n",
            "        -1.9711623191833496,\n",
            "        -1.9608186483383179,\n",
            "        -1.178925633430481,\n",
            "        2.724914789199829,\n",
            "        -1.1078886985778809,\n",
            "        -1.2483118772506714,\n",
            "        1.5876556634902954,\n",
            "        -1.512184977531433,\n",
            "        1.2743635177612305,\n",
            "        3.153357982635498,\n",
            "        1.301721215248108,\n",
            "        0.712602972984314,\n",
            "        2.2946619987487793,\n",
            "        -0.467790424823761,\n",
            "        3.302936315536499,\n",
            "        1.7507222890853882,\n",
            "        -0.011372365057468414,\n",
            "        0.9001898169517517,\n",
            "        0.5248006582260132,\n",
            "        -0.05565221607685089\n",
            "      ]\n",
            "    ]\n",
            "  },\n",
            "  {\n",
            "    \"wt\": \"MQYKLILNGKTLKGETTTEAVDAATAEKVFKQYANDNGVDGEWTYDDATKTFTVTE\",\n",
            "    \"variants\": [\n",
            "      \"T13P,T33F\"\n",
            "    ],\n",
            "    \"output\": [\n",
            "      [\n",
            "        4.487919807434082,\n",
            "        3.555485486984253,\n",
            "        -2.0197503566741943,\n",
            "        1.3902842998504639,\n",
            "        0.09665316343307495,\n",
            "        -1.8297433853149414,\n",
            "        0.5238563418388367,\n",
            "        -0.9605975151062012,\n",
            "        0.6990158557891846,\n",
            "        3.7832517623901367,\n",
            "        2.0133466720581055,\n",
            "        -0.02103431150317192,\n",
            "        -0.7425110340118408,\n",
            "        2.3008880615234375,\n",
            "        5.143612861633301,\n",
            "        -0.142356738448143,\n",
            "        2.0963938236236572,\n",
            "        1.4726805686950684,\n",
            "        1.050451397895813,\n",
            "        -2.823535203933716,\n",
            "        -0.34189584851264954,\n",
            "        -1.6865370273590088,\n",
            "        -1.530194878578186,\n",
            "        -1.335917353630066,\n",
            "        -2.4228439331054688,\n",
            "        -1.1937510967254639,\n",
            "        -1.6858205795288086,\n",
            "        2.00344181060791,\n",
            "        2.1263070106506348,\n",
            "        -0.0771263837814331,\n",
            "        1.7750829458236694,\n",
            "        -1.5724091529846191,\n",
            "        -2.3650002479553223,\n",
            "        -1.3995028734207153,\n",
            "        -1.0508397817611694,\n",
            "        -2.0234766006469727,\n",
            "        -1.7244423627853394,\n",
            "        -0.884211540222168,\n",
            "        3.4764089584350586,\n",
            "        -0.11836127936840057,\n",
            "        -0.19986292719841003,\n",
            "        1.7750831842422485,\n",
            "        -1.4337999820709229,\n",
            "        1.1249899864196777,\n",
            "        2.8532729148864746,\n",
            "        1.095868468284607,\n",
            "        1.335593581199646,\n",
            "        2.86000394821167,\n",
            "        -0.29078182578086853,\n",
            "        1.8829216957092285,\n",
            "        4.202813148498535,\n",
            "        -0.18745332956314087,\n",
            "        0.4710339605808258,\n",
            "        -0.10281313955783844,\n",
            "        0.028893351554870605\n",
            "      ]\n",
            "    ]\n",
            "  }\n",
            "]\n"
          ]
        }
      ],
      "source": [
        "# @title Display METL preditions\n",
        "from IPython.display import Javascript\n",
        "\n",
        "display(Javascript('''google.colab.output.setIframeHeight(0, true, {maxHeight: 300})'''))\n",
        "print(json.dumps(output, indent=2))"
      ]
    },
    {
      "cell_type": "markdown",
      "metadata": {
        "id": "pO8jdBssrLGO"
      },
      "source": [
        "Finally, we will save our output. We will save our output as a list of JSON Objects. Access the saved output.json file with the Files icon to the left."
      ]
    },
    {
      "cell_type": "code",
      "execution_count": 14,
      "metadata": {
        "cellView": "form",
        "id": "nYz6NRB_rLGP"
      },
      "outputs": [],
      "source": [
        "# @title Saving the predictions\n",
        "with open('./output.json', 'w') as f:\n",
        "    f.write(json.dumps(output, indent=2))"
      ]
    }
  ],
  "metadata": {
    "accelerator": "GPU",
    "colab": {
      "gpuType": "T4",
      "provenance": []
    },
    "kernelspec": {
      "display_name": "Python 3",
      "name": "python3"
    },
    "language_info": {
      "codemirror_mode": {
        "name": "ipython",
        "version": 3
      },
      "file_extension": ".py",
      "mimetype": "text/x-python",
      "name": "python",
      "nbconvert_exporter": "python",
      "pygments_lexer": "ipython3",
      "version": "3.11.5"
    },
    "widgets": {
      "application/vnd.jupyter.widget-state+json": {
        "f042307a30bb4afa874dee875cd09584": {
          "model_module": "@jupyter-widgets/controls",
          "model_name": "FileUploadModel",
          "model_module_version": "1.5.0",
          "state": {
            "_counter": 0,
            "_dom_classes": [],
            "_model_module": "@jupyter-widgets/controls",
            "_model_module_version": "1.5.0",
            "_model_name": "FileUploadModel",
            "_view_count": null,
            "_view_module": "@jupyter-widgets/controls",
            "_view_module_version": "1.5.0",
            "_view_name": "FileUploadView",
            "accept": ".pdb",
            "button_style": "",
            "data": [],
            "description": "Upload",
            "description_tooltip": null,
            "disabled": false,
            "error": "",
            "icon": "upload",
            "layout": "IPY_MODEL_c9abb1261d4e405187551d2989f90b8e",
            "metadata": [],
            "multiple": false,
            "style": "IPY_MODEL_6f3fe908f95e4c809d2550e8f9107936"
          }
        },
        "c9abb1261d4e405187551d2989f90b8e": {
          "model_module": "@jupyter-widgets/base",
          "model_name": "LayoutModel",
          "model_module_version": "1.2.0",
          "state": {
            "_model_module": "@jupyter-widgets/base",
            "_model_module_version": "1.2.0",
            "_model_name": "LayoutModel",
            "_view_count": null,
            "_view_module": "@jupyter-widgets/base",
            "_view_module_version": "1.2.0",
            "_view_name": "LayoutView",
            "align_content": null,
            "align_items": null,
            "align_self": null,
            "border": null,
            "bottom": null,
            "display": null,
            "flex": null,
            "flex_flow": null,
            "grid_area": null,
            "grid_auto_columns": null,
            "grid_auto_flow": null,
            "grid_auto_rows": null,
            "grid_column": null,
            "grid_gap": null,
            "grid_row": null,
            "grid_template_areas": null,
            "grid_template_columns": null,
            "grid_template_rows": null,
            "height": null,
            "justify_content": null,
            "justify_items": null,
            "left": null,
            "margin": null,
            "max_height": null,
            "max_width": null,
            "min_height": null,
            "min_width": null,
            "object_fit": null,
            "object_position": null,
            "order": null,
            "overflow": null,
            "overflow_x": null,
            "overflow_y": null,
            "padding": null,
            "right": null,
            "top": null,
            "visibility": null,
            "width": null
          }
        },
        "6f3fe908f95e4c809d2550e8f9107936": {
          "model_module": "@jupyter-widgets/controls",
          "model_name": "ButtonStyleModel",
          "model_module_version": "1.5.0",
          "state": {
            "_model_module": "@jupyter-widgets/controls",
            "_model_module_version": "1.5.0",
            "_model_name": "ButtonStyleModel",
            "_view_count": null,
            "_view_module": "@jupyter-widgets/base",
            "_view_module_version": "1.2.0",
            "_view_name": "StyleView",
            "button_color": null,
            "font_weight": ""
          }
        },
        "73ecc18277aa47429b8b576b87c3cbea": {
          "model_module": "@jupyter-widgets/controls",
          "model_name": "TextareaModel",
          "model_module_version": "1.5.0",
          "state": {
            "_dom_classes": [
              "variant_text_area"
            ],
            "_model_module": "@jupyter-widgets/controls",
            "_model_module_version": "1.5.0",
            "_model_name": "TextareaModel",
            "_view_count": null,
            "_view_module": "@jupyter-widgets/controls",
            "_view_module_version": "1.5.0",
            "_view_name": "TextareaView",
            "continuous_update": true,
            "description": "Variant String:",
            "description_tooltip": null,
            "disabled": false,
            "layout": "IPY_MODEL_32bc97ebab284e10bcae497e1d4075bd",
            "placeholder": "[\"T17P,T54F\", \"V28L,F51A\", \"T17P,V28L,F51A,T54F\"]\n[\"T13P,T33F\"]",
            "rows": null,
            "style": "IPY_MODEL_b38ebc4ddd7b4e14861912819bea69b0",
            "value": ""
          }
        },
        "32bc97ebab284e10bcae497e1d4075bd": {
          "model_module": "@jupyter-widgets/base",
          "model_name": "LayoutModel",
          "model_module_version": "1.2.0",
          "state": {
            "_model_module": "@jupyter-widgets/base",
            "_model_module_version": "1.2.0",
            "_model_name": "LayoutModel",
            "_view_count": null,
            "_view_module": "@jupyter-widgets/base",
            "_view_module_version": "1.2.0",
            "_view_name": "LayoutView",
            "align_content": null,
            "align_items": null,
            "align_self": null,
            "border": null,
            "bottom": null,
            "display": null,
            "flex": null,
            "flex_flow": null,
            "grid_area": null,
            "grid_auto_columns": null,
            "grid_auto_flow": null,
            "grid_auto_rows": null,
            "grid_column": null,
            "grid_gap": null,
            "grid_row": null,
            "grid_template_areas": null,
            "grid_template_columns": null,
            "grid_template_rows": null,
            "height": "100px",
            "justify_content": null,
            "justify_items": null,
            "left": null,
            "margin": null,
            "max_height": null,
            "max_width": null,
            "min_height": null,
            "min_width": null,
            "object_fit": null,
            "object_position": null,
            "order": null,
            "overflow": null,
            "overflow_x": null,
            "overflow_y": null,
            "padding": null,
            "right": null,
            "top": null,
            "visibility": null,
            "width": "500px"
          }
        },
        "b38ebc4ddd7b4e14861912819bea69b0": {
          "model_module": "@jupyter-widgets/controls",
          "model_name": "DescriptionStyleModel",
          "model_module_version": "1.5.0",
          "state": {
            "_model_module": "@jupyter-widgets/controls",
            "_model_module_version": "1.5.0",
            "_model_name": "DescriptionStyleModel",
            "_view_count": null,
            "_view_module": "@jupyter-widgets/base",
            "_view_module_version": "1.2.0",
            "_view_name": "StyleView",
            "description_width": "initial"
          }
        },
        "6692342dd89c40e3aad7a74037a29224": {
          "model_module": "@jupyter-widgets/controls",
          "model_name": "FileUploadModel",
          "model_module_version": "1.5.0",
          "state": {
            "_counter": 0,
            "_dom_classes": [],
            "_model_module": "@jupyter-widgets/controls",
            "_model_module_version": "1.5.0",
            "_model_name": "FileUploadModel",
            "_view_count": null,
            "_view_module": "@jupyter-widgets/controls",
            "_view_module_version": "1.5.0",
            "_view_name": "FileUploadView",
            "accept": ".json, .txt",
            "button_style": "",
            "data": [],
            "description": "Upload",
            "description_tooltip": null,
            "disabled": false,
            "error": "",
            "icon": "upload",
            "layout": "IPY_MODEL_158bf7d7e6ce4b12b1de4b1d8ef9325b",
            "metadata": [],
            "multiple": false,
            "style": "IPY_MODEL_013515cf37ea4e578032c2540b18c622"
          }
        },
        "158bf7d7e6ce4b12b1de4b1d8ef9325b": {
          "model_module": "@jupyter-widgets/base",
          "model_name": "LayoutModel",
          "model_module_version": "1.2.0",
          "state": {
            "_model_module": "@jupyter-widgets/base",
            "_model_module_version": "1.2.0",
            "_model_name": "LayoutModel",
            "_view_count": null,
            "_view_module": "@jupyter-widgets/base",
            "_view_module_version": "1.2.0",
            "_view_name": "LayoutView",
            "align_content": null,
            "align_items": null,
            "align_self": null,
            "border": null,
            "bottom": null,
            "display": null,
            "flex": null,
            "flex_flow": null,
            "grid_area": null,
            "grid_auto_columns": null,
            "grid_auto_flow": null,
            "grid_auto_rows": null,
            "grid_column": null,
            "grid_gap": null,
            "grid_row": null,
            "grid_template_areas": null,
            "grid_template_columns": null,
            "grid_template_rows": null,
            "height": null,
            "justify_content": null,
            "justify_items": null,
            "left": null,
            "margin": null,
            "max_height": null,
            "max_width": null,
            "min_height": null,
            "min_width": null,
            "object_fit": null,
            "object_position": null,
            "order": null,
            "overflow": null,
            "overflow_x": null,
            "overflow_y": null,
            "padding": null,
            "right": null,
            "top": null,
            "visibility": null,
            "width": null
          }
        },
        "013515cf37ea4e578032c2540b18c622": {
          "model_module": "@jupyter-widgets/controls",
          "model_name": "ButtonStyleModel",
          "model_module_version": "1.5.0",
          "state": {
            "_model_module": "@jupyter-widgets/controls",
            "_model_module_version": "1.5.0",
            "_model_name": "ButtonStyleModel",
            "_view_count": null,
            "_view_module": "@jupyter-widgets/base",
            "_view_module_version": "1.2.0",
            "_view_name": "StyleView",
            "button_color": null,
            "font_weight": ""
          }
        }
      }
    }
  },
  "nbformat": 4,
  "nbformat_minor": 0
}