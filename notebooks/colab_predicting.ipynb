{
  "cells": [
    {
      "cell_type": "markdown",
      "metadata": {
        "id": "_Om47-OgrLFv"
      },
      "source": [
        "This notebook will show an example on how to use METL models through hugging face to predict on more than the sequences allowed by the demo.\n",
        "\n",
        "The example provided through the notebook uses a pretrained METL model to predict GB1 binding affinity.\n",
        "\n",
        "First, we will download some dependencies not included in Colab and import the required modules that we will need to download the METL model through 🤗 and predict with it."
      ]
    },
    {
      "cell_type": "code",
      "execution_count": 1,
      "metadata": {
        "cellView": "form",
        "colab": {
          "base_uri": "https://localhost:8080/"
        },
        "id": "WkNKKIqXr4OU",
        "outputId": "43ab0b4c-5ea2-4d62-a326-53a6b5099b83"
      },
      "outputs": [
        {
          "name": "stdout",
          "output_type": "stream",
          "text": [
            "\u001b[?25l   \u001b[90m━━━━━━━━━━━━━━━━━━━━━━━━━━━━━━━━━━━━━━━━\u001b[0m \u001b[32m0.0/68.3 kB\u001b[0m \u001b[31m?\u001b[0m eta \u001b[36m-:--:--\u001b[0m\r\u001b[2K   \u001b[91m━━━━━━━━━━━━━━━━━━━━━━━━━━━━━━━━━━━\u001b[0m\u001b[91m╸\u001b[0m\u001b[90m━━━━\u001b[0m \u001b[32m61.4/68.3 kB\u001b[0m \u001b[31m7.1 MB/s\u001b[0m eta \u001b[36m0:00:01\u001b[0m\r\u001b[2K   \u001b[90m━━━━━━━━━━━━━━━━━━━━━━━━━━━━━━━━━━━━━━━━\u001b[0m \u001b[32m68.3/68.3 kB\u001b[0m \u001b[31m1.6 MB/s\u001b[0m eta \u001b[36m0:00:00\u001b[0m\n",
            "\u001b[?25h"
          ]
        }
      ],
      "source": [
        "# @title Installing libraries not included with colab\n",
        "!pip install -q biopandas==0.5.1"
      ]
    },
    {
      "cell_type": "code",
      "execution_count": 2,
      "metadata": {
        "cellView": "form",
        "colab": {
          "base_uri": "https://localhost:8080/"
        },
        "id": "tP_HrR5YSiqk",
        "outputId": "9eca4606-77c0-4ebe-b20f-2f0bf8a15359"
      },
      "outputs": [
        {
          "name": "stdout",
          "output_type": "stream",
          "text": [
            "--2024-08-28 21:50:07--  https://raw.githubusercontent.com/gitter-lab/metl-pretrained/main/pdbs/2qmt_p.pdb\n",
            "Resolving raw.githubusercontent.com (raw.githubusercontent.com)... 185.199.108.133, 185.199.111.133, 185.199.109.133, ...\n",
            "Connecting to raw.githubusercontent.com (raw.githubusercontent.com)|185.199.108.133|:443... connected.\n",
            "HTTP request sent, awaiting response... 200 OK\n",
            "Length: 78764 (77K) [text/plain]\n",
            "Saving to: ‘2qmt_p.pdb’\n",
            "\n",
            "\r2qmt_p.pdb            0%[                    ]       0  --.-KB/s               \r2qmt_p.pdb          100%[===================>]  76.92K  --.-KB/s    in 0.01s   \n",
            "\n",
            "2024-08-28 21:50:07 (6.60 MB/s) - ‘2qmt_p.pdb’ saved [78764/78764]\n",
            "\n"
          ]
        }
      ],
      "source": [
        "# @title Download the example pdb file\n",
        "!wget -O 2qmt_p.pdb https://raw.githubusercontent.com/gitter-lab/metl-pretrained/main/pdbs/2qmt_p.pdb"
      ]
    },
    {
      "cell_type": "code",
      "execution_count": 3,
      "metadata": {
        "cellView": "form",
        "id": "mpjvGjzArLF1"
      },
      "outputs": [],
      "source": [
        "# @title Importing required libraries\n",
        "from transformers import AutoModel, AutoConfig, logging\n",
        "import ipywidgets as widgets\n",
        "from IPython.display import clear_output, HTML, display\n",
        "import pandas as pd\n",
        "import torch\n",
        "import io\n",
        "import json\n",
        "import biopandas\n",
        "\n",
        "logging.set_verbosity_error()\n",
        "\n",
        "# Declaring this here so that it's available regardless if later cells are run or not\n",
        "variant_file = None\n",
        "pdb_file_path = '2qmt_p.pdb'\n",
        "\n",
        "def to_zero_based(variants):\n",
        "    zero_based = []\n",
        "    for line in variants:\n",
        "        line_as_json = json.loads(line)\n",
        "        new_variants = []\n",
        "        for variant in line_as_json:\n",
        "            new_variant = []\n",
        "            mutations = variant.split(',')\n",
        "            for mutation in mutations:\n",
        "                residue_zero_based = int(mutation[1:-1]) - 1\n",
        "                new_variant.append(f\"{mutation[0]}{residue_zero_based}{mutation[-1]}\")\n",
        "            new_variants.append(\",\".join(new_variant))\n",
        "        zero_based.append(new_variants)\n",
        "\n",
        "    return zero_based"
      ]
    },
    {
      "cell_type": "markdown",
      "metadata": {
        "id": "JWJCsBukrLF7"
      },
      "source": [
        "We will then load a METL model through the 🤗 API. trust_remote_code=True is required to use METL models through 🤗."
      ]
    },
    {
      "cell_type": "code",
      "execution_count": 4,
      "metadata": {
        "cellView": "form",
        "colab": {
          "base_uri": "https://localhost:8080/",
          "height": 237,
          "referenced_widgets": [
            "548aee36a23840da8d2d9112c1a126e4",
            "9875bd75c19140e8982cfc83ab405980",
            "08b5e6a111014f50be5b549dc61c04bd",
            "47cb28f509c648a1a435b946bfc07518",
            "541c0af07fc64fcfabaa49cd90ccacd2",
            "7df715d2ab2d45adb6cf04e1b908fe34",
            "9df76c111df140c3b7dfadb724aae88f",
            "43f1996def8b4fca9ef92d15e935f1ba",
            "1cea69ccb7ab49eab6b3ceccc60f846b",
            "b8b4d2ec394547cc86dcfe1eddaf0402",
            "579c2d34818e4ff0ba157532d81edfb7",
            "08ce7a7c160f48488a1ccfff9e52fc19",
            "289c3d37c529432d9f2d4ee502b427b5",
            "634f94c13ef74971a26f4988ade714fa",
            "55eb8ffb95564d25acb8b40d2ac86b0c",
            "f935b17bb46649b5a81733fb0e5529ab",
            "1ee82a5c2acc4c7fb0c63ddbb30b471c",
            "67a7158ed55842d38aa55392ab1d3744",
            "812642ecbb744904a74c1dbcf414cea9",
            "c38ea535ff6e4d60a772700d1667c7c1",
            "5b68d66d5ceb473eaf8e45a979e58e8f",
            "1f6ef9a762f841f4acf9fe8edd589b2b",
            "6eabe0cb30a142f2b79185efb52f6bb0",
            "a05042c291aa4e1e9bb4f09be3d9f806",
            "3f9981ff162245f49f533d90c0100a9c",
            "531cde6e3d8f44009ab3480338bb316e",
            "8ae64abd8d234c218a8fb4e92a059377",
            "640f95344552481aa56d9d17398a9b45",
            "3fcaf29e93bc4f0ea5293b761fbe9194",
            "69bd8895c8f948c7b879b1c869539334",
            "61c6494ff4fb4f7a888e3129ac641df4",
            "7243419b29bc471fa4a8ef56d6041f47",
            "a4b4fdbd7d5648a1ab7850e2f81ead15"
          ]
        },
        "id": "vIp69-KLrLF8",
        "outputId": "27117ccf-b5ca-4906-c532-f23bd26f65dc"
      },
      "outputs": [
        {
          "name": "stderr",
          "output_type": "stream",
          "text": [
            "/usr/local/lib/python3.10/dist-packages/huggingface_hub/utils/_token.py:89: UserWarning: \n",
            "The secret `HF_TOKEN` does not exist in your Colab secrets.\n",
            "To authenticate with the Hugging Face Hub, create a token in your settings tab (https://huggingface.co/settings/tokens), set it as secret in your Google Colab and restart your session.\n",
            "You will be able to reuse this secret in all of your notebooks.\n",
            "Please note that authentication is recommended but still optional to access public models or datasets.\n",
            "  warnings.warn(\n"
          ]
        },
        {
          "data": {
            "application/vnd.jupyter.widget-view+json": {
              "model_id": "548aee36a23840da8d2d9112c1a126e4",
              "version_major": 2,
              "version_minor": 0
            },
            "text/plain": [
              "config.json:   0%|          | 0.00/269 [00:00<?, ?B/s]"
            ]
          },
          "metadata": {},
          "output_type": "display_data"
        },
        {
          "data": {
            "application/vnd.jupyter.widget-view+json": {
              "model_id": "08ce7a7c160f48488a1ccfff9e52fc19",
              "version_major": 2,
              "version_minor": 0
            },
            "text/plain": [
              "huggingface_wrapper.py:   0%|          | 0.00/95.9k [00:00<?, ?B/s]"
            ]
          },
          "metadata": {},
          "output_type": "display_data"
        },
        {
          "data": {
            "application/vnd.jupyter.widget-view+json": {
              "model_id": "6eabe0cb30a142f2b79185efb52f6bb0",
              "version_major": 2,
              "version_minor": 0
            },
            "text/plain": [
              "model.safetensors:   0%|          | 0.00/176 [00:00<?, ?B/s]"
            ]
          },
          "metadata": {},
          "output_type": "display_data"
        }
      ],
      "source": [
        "# @title Loading METL from 🤗\n",
        "metl = AutoModel.from_pretrained('gitter-lab/METL', trust_remote_code=True)"
      ]
    },
    {
      "cell_type": "markdown",
      "metadata": {
        "id": "Y6PH3mozrLF_"
      },
      "source": [
        "The METL 🤗 wrapper requires the loading of the specific METL model after initialization of the `metl` variable above. Use the dropdown below to select a model to use for predicting.\n",
        "\n",
        "The publically available METL models are hosted on [Zenodo](https://zenodo.org/records/11051645). The [metl-pretrained](https://github.com/gitter-lab/metl-pretrained#available-models) repo provides a table describing the available models."
      ]
    },
    {
      "cell_type": "code",
      "execution_count": 5,
      "metadata": {
        "cellView": "form",
        "colab": {
          "base_uri": "https://localhost:8080/"
        },
        "id": "Odg6Mps7rLGA",
        "outputId": "7b0a0e30-bdb7-44d5-ee46-3d02c857998b"
      },
      "outputs": [
        {
          "name": "stderr",
          "output_type": "stream",
          "text": [
            "Downloading: \"https://zenodo.org/records/11051645/files/METL-L-2M-3D-GB1-epegcFiH.pt?download=1\" to /root/.cache/torch/hub/checkpoints/epegcFiH.pt\n",
            "100%|██████████| 9.40M/9.40M [00:01<00:00, 6.67MB/s]\n"
          ]
        },
        {
          "name": "stdout",
          "output_type": "stream",
          "text": [
            "Initialized PDB bucket matrices in: 0.000\n",
            "Initialized PDB bucket matrices in: 0.000\n"
          ]
        }
      ],
      "source": [
        "# @title Available metl models\n",
        "# @markdown You may use this dropdown here to choose a metl model to predict with. Running this cell will load the selected model.\n",
        "metl_model = 'metl-l-2m-3d-gb1' # @param [\"metl-g-20m-1d\",\"metl-g-20m-3d\",\"metl-g-50m-1d\",\"metl-g-50m-3d\",\"metl-l-2m-1d-gfp\",\"metl-l-2m-3d-gfp\",\"metl-l-2m-1d-dlg4\",\"metl-l-2m-3d-dlg4\",\"metl-l-2m-1d-gb1\",\"metl-l-2m-3d-gb1\",\"metl-l-2m-1d-grb2\",\"metl-l-2m-3d-grb2\",\"metl-l-2m-1d-pab1\",\"metl-l-2m-3d-pab1\",\"metl-l-2m-1d-tem-1\",\"metl-l-2m-3d-tem-1\",\"metl-l-2m-1d-ube4b\",\"metl-l-2m-3d-ube4b\",\"metl-bind-2m-3d-gb1-standard\",\"metl-bind-2m-3d-gb1-binding\",\"metl-l-2m-1d-gfp-ft-design\",\"metl-l-2m-3d-gfp-ft-design\"]\n",
        "metl.load_from_ident(metl_model)"
      ]
    },
    {
      "cell_type": "markdown",
      "metadata": {
        "id": "UENVWR2srLGD"
      },
      "source": [
        "Depending on the model chosen, different files might be needed. This example is setup to use metl-l-2m-3d-gb1 and will need a few data for prediction.\n",
        "\n",
        "Specifically, for this 3d gb1 model we will need:\n",
        "- a wild type sequnece\n",
        "- a PDB structure file (as this is a 3d model)\n",
        "- variants to use with METL"
      ]
    },
    {
      "cell_type": "code",
      "execution_count": 6,
      "metadata": {
        "cellView": "form",
        "id": "HBAocw_urLGE"
      },
      "outputs": [],
      "source": [
        "# @title Protein wild type\n",
        "# @markdown Enter the wild type of your protein here. The wildtype for gb1 is provided to use with the default model example here.\n",
        "wildtype = 'MQYKLILNGKTLKGETTTEAVDAATAEKVFKQYANDNGVDGEWTYDDATKTFTVTE' # @param {type:\"string\", placeholder:\"Enter a wildtype here\"}"
      ]
    },
    {
      "cell_type": "code",
      "execution_count": 7,
      "metadata": {
        "cellView": "form",
        "colab": {
          "base_uri": "https://localhost:8080/",
          "height": 49,
          "referenced_widgets": [
            "88183c92883b4c9787ecaf63b1f73f6e",
            "974500e54aa5465fb97c17152439918a",
            "e3d473ff87114b4aafb71269df884892"
          ]
        },
        "id": "nVj7UumyrLGF",
        "outputId": "c4bb38cd-dbcd-4baf-b01b-4f50873e3c5c"
      },
      "outputs": [
        {
          "data": {
            "application/vnd.jupyter.widget-view+json": {
              "model_id": "88183c92883b4c9787ecaf63b1f73f6e",
              "version_major": 2,
              "version_minor": 0
            },
            "text/plain": [
              "FileUpload(value={}, accept='.pdb', description='Upload')"
            ]
          },
          "metadata": {},
          "output_type": "display_data"
        }
      ],
      "source": [
        "# @title PDB file upload\n",
        "# @markdown If your model needs a PDB file, run this cell and upload the file with the provided button that appears below.\n",
        "# @markdown\n",
        "# @markdown If you would like to change the file, simply upload another one. The last uploaded file will be what is used.\n",
        "# @markdown If you would like to predict with the pre-loaded GB1 model, download [this pdb file](https://github.com/gitter-lab/metl-pretrained/blob/main/pdbs/2qmt_p.pdb)\n",
        "\n",
        "def update_pdb_file(file_name):\n",
        "  global pdb_file_path\n",
        "  for name, data in file_name['new'].items():\n",
        "    clear_output()\n",
        "    display(pdb_upload)\n",
        "    print(f\"Selected file: {name}\")\n",
        "    pdb_file_path = f'./{name}'\n",
        "\n",
        "    with open(name, 'wb') as f:\n",
        "      f.write(data['content'])\n",
        "\n",
        "pdb_upload = widgets.FileUpload(\n",
        "    accept='.pdb',\n",
        "    multiple=False\n",
        ")\n",
        "pdb_upload.observe(update_pdb_file, names='value')\n",
        "pdb_upload"
      ]
    },
    {
      "cell_type": "markdown",
      "metadata": {
        "id": "p63MHIlsrLGG"
      },
      "source": [
        "Lastly, we will then collect some variants. The code in this notebook supports variants in JSON list format. Either enter a JSON-formatted list of variants in the text box below or upload a variant JSON file in the following cell. Run the cell to active the text entry or file upload."
      ]
    },
    {
      "cell_type": "code",
      "execution_count": 8,
      "metadata": {
        "cellView": "form",
        "colab": {
          "base_uri": "https://localhost:8080/",
          "height": 121,
          "referenced_widgets": [
            "9d004e2783e54df7a8dca1952ec2434d",
            "8131214e739d4fea923d9a4b61bc0a8e",
            "ea799d8361454d628d2dcdb09c6b18a8"
          ]
        },
        "id": "EjleQbnprLGH",
        "outputId": "01c4bae6-f2f4-47f2-ce95-96d72c92c691"
      },
      "outputs": [
        {
          "data": {
            "text/html": [
              "\n",
              "<style>\n",
              "  .variant_text_area > textarea::placeholder {\n",
              "    color: var(--colab-primary-text-color);\n",
              "  }\n",
              "\n",
              "  .variant_text_area > textarea {\n",
              "    background-color: var(--colab-secondary-surface-color);\n",
              "    color: var(--colab-primary-text-color);\n",
              "  }\n",
              "</style>\n"
            ],
            "text/plain": [
              "<IPython.core.display.HTML object>"
            ]
          },
          "metadata": {},
          "output_type": "display_data"
        },
        {
          "data": {
            "application/vnd.jupyter.widget-view+json": {
              "model_id": "9d004e2783e54df7a8dca1952ec2434d",
              "version_major": 2,
              "version_minor": 0
            },
            "text/plain": [
              "Textarea(value='', description='Variant String:', layout=Layout(height='100px', width='500px'), placeholder='[…"
            ]
          },
          "metadata": {},
          "output_type": "display_data"
        }
      ],
      "source": [
        "# @title Variant text input\n",
        "# @markdown The placehold variants below use 0-based indexing.\n",
        "variants_string = \"\"\"[\"T17P,T54F\", \"V28L,F51A\", \"T17P,V28L,F51A,T54F\"]\n",
        "[\"T13P,T33F\"]\"\"\"\n",
        "style = {'description_width':'initial'}\n",
        "\n",
        "variant_text = widgets.Textarea(\n",
        "    value='',\n",
        "    placeholder=variants_string,\n",
        "    description='Variant String:',\n",
        "    disabled=False,\n",
        "    style = style,\n",
        "    layout=widgets.Layout(height='100px', width='500px'),\n",
        ")\n",
        "\n",
        "variant_text.add_class('variant_text_area')\n",
        "\n",
        "style = \"\"\"\n",
        "<style>\n",
        "  .variant_text_area > textarea::placeholder {\n",
        "    color: var(--colab-primary-text-color);\n",
        "  }\n",
        "\n",
        "  .variant_text_area > textarea {\n",
        "    background-color: var(--colab-secondary-surface-color);\n",
        "    color: var(--colab-primary-text-color);\n",
        "  }\n",
        "</style>\n",
        "\"\"\"\n",
        "\n",
        "display(HTML(style))\n",
        "display(variant_text)"
      ]
    },
    {
      "cell_type": "markdown",
      "metadata": {
        "id": "ggs9zSgPHOYj"
      },
      "source": [
        "If you would rather upload a file, run the cell below and use it to upload a file. If a file is uploaded, the input above will not be looked at for variants\n"
      ]
    },
    {
      "cell_type": "code",
      "execution_count": 9,
      "metadata": {
        "cellView": "form",
        "colab": {
          "base_uri": "https://localhost:8080/",
          "height": 49,
          "referenced_widgets": [
            "7b4e21e8ad294346b7552f231dee95b4",
            "5141f5b94903473c9e89d2ec2ed8e5c4",
            "a03c2859b511486da91a88babee36f63"
          ]
        },
        "id": "8TLYi6orHN_8",
        "outputId": "d6a92501-fa48-4e4c-fe90-6612a5cd57a1"
      },
      "outputs": [
        {
          "data": {
            "application/vnd.jupyter.widget-view+json": {
              "model_id": "7b4e21e8ad294346b7552f231dee95b4",
              "version_major": 2,
              "version_minor": 0
            },
            "text/plain": [
              "FileUpload(value={}, accept='.json, .txt', description='Upload')"
            ]
          },
          "metadata": {},
          "output_type": "display_data"
        }
      ],
      "source": [
        "# @title Variant file upload\n",
        "# @markdown If you want to upload a variant JSON file, run this cell and upload the file with the provided button that appears below.\n",
        "\n",
        "\n",
        "def update_variant_file(button_input):\n",
        "  global variant_file\n",
        "  for name, data in button_input['new'].items():\n",
        "    clear_output()\n",
        "    display(variant_upload)\n",
        "    print(f'Loaded file: {name}')\n",
        "    variant_file = data['content'].decode('utf-8').splitlines()\n",
        "\n",
        "variant_upload = widgets.FileUpload(\n",
        "    accept='.json, .txt',\n",
        "    multiple=False\n",
        ")\n",
        "\n",
        "variant_upload.observe(update_variant_file, names='value')\n",
        "variant_upload"
      ]
    },
    {
      "cell_type": "code",
      "execution_count": 10,
      "metadata": {
        "cellView": "form",
        "colab": {
          "base_uri": "https://localhost:8080/"
        },
        "id": "mASfltPUrLGI",
        "outputId": "d0ff24de-5f1d-44d9-9eca-010f6fdebe91"
      },
      "outputs": [
        {
          "name": "stdout",
          "output_type": "stream",
          "text": [
            "Using variant placeholder\n"
          ]
        }
      ],
      "source": [
        "# @title Variant Selecting Logic (always run this)\n",
        "\n",
        "clear_output()\n",
        "if len(variant_text.value) > 0:\n",
        "  print(\"Using text area input\")\n",
        "  variants = variant_text.value\n",
        "elif variant_file:\n",
        "  print(\"Using variants file\")\n",
        "  variants = variant_file\n",
        "else:\n",
        "  print(\"Using variant placeholder\")\n",
        "  variants = variant_text.placeholder.splitlines()"
      ]
    },
    {
      "cell_type": "markdown",
      "metadata": {
        "id": "YOfEUeNYrLGI"
      },
      "source": [
        "For biologists, one-based indexing is commonly used. However, METL models were designed to used zero-based indexing. If one-based indexing is needed, select it in the dropdown below."
      ]
    },
    {
      "cell_type": "code",
      "execution_count": 11,
      "metadata": {
        "cellView": "form",
        "id": "ecLAU9IOrLGK"
      },
      "outputs": [],
      "source": [
        "# @title Transform input from 1 based indexing to zero based indexing\n",
        "# @markdown Select indexing for residue mutations\n",
        "indexing = \"0\" # @param ['0', '1']"
      ]
    },
    {
      "cell_type": "markdown",
      "metadata": {
        "id": "ixhZbYm8rLGM"
      },
      "source": [
        "Since both file and string variants give the same result, we only need to use one moving forwards. We will use the string_variants variable.\n",
        "\n",
        "To predict with METL, we will need to use the loaded model and encoder with our variables we defined above. We will wrap this in a for loop to predict on all of our variants as we have multiple lines of them."
      ]
    },
    {
      "cell_type": "code",
      "execution_count": 12,
      "metadata": {
        "cellView": "form",
        "id": "th1JyojWrLGN"
      },
      "outputs": [],
      "source": [
        "# @title METL predicting loop\n",
        "output = []\n",
        "\n",
        "device = torch.device(\"cuda\" if torch.cuda.is_available() else \"cpu\")\n",
        "\n",
        "metl = metl.to(device)\n",
        "\n",
        "if indexing == \"1\":\n",
        "  predict_variants = to_zero_based(variants)\n",
        "else:\n",
        "  predict_variants = variants\n",
        "\n",
        "for variant in predict_variants:\n",
        "    # First in METL we need to encode our variants\n",
        "    if not isinstance(variant, list):\n",
        "      variant = json.loads(variant)\n",
        "    encoded_variants = metl.encoder.encode_variants(wildtype, variant)\n",
        "\n",
        "    #Next, we predict\n",
        "    with torch.no_grad():\n",
        "        if pdb_file_path:\n",
        "            predictions = metl(torch.tensor(encoded_variants).to(device), pdb_fn=pdb_file_path)\n",
        "        else:\n",
        "            predictions = metl(torch.tensor(encoded_variants).to(device))\n",
        "\n",
        "        output.append({\n",
        "            \"wt\": wildtype,\n",
        "            \"variants\": variant,\n",
        "            \"output\": predictions.tolist()\n",
        "        })"
      ]
    },
    {
      "cell_type": "code",
      "execution_count": 13,
      "metadata": {
        "cellView": "form",
        "colab": {
          "base_uri": "https://localhost:8080/",
          "height": 300
        },
        "id": "J5XJ-4memIYp",
        "outputId": "982a13f1-6434-4ea8-ce68-8664b94c4ae0"
      },
      "outputs": [
        {
          "data": {
            "application/javascript": "google.colab.output.setIframeHeight(0, true, {maxHeight: 300})",
            "text/plain": [
              "<IPython.core.display.Javascript object>"
            ]
          },
          "metadata": {},
          "output_type": "display_data"
        },
        {
          "name": "stdout",
          "output_type": "stream",
          "text": [
            "[\n",
            "  {\n",
            "    \"wt\": \"MQYKLILNGKTLKGETTTEAVDAATAEKVFKQYANDNGVDGEWTYDDATKTFTVTE\",\n",
            "    \"variants\": [\n",
            "      \"T17P,T54F\",\n",
            "      \"V28L,F51A\",\n",
            "      \"T17P,V28L,F51A,T54F\"\n",
            "    ],\n",
            "    \"output\": [\n",
            "      [\n",
            "        0.07013243436813354,\n",
            "        -0.25929510593414307,\n",
            "        0.03156351298093796,\n",
            "        0.7507199048995972,\n",
            "        -0.07624393701553345,\n",
            "        0.19459080696105957,\n",
            "        0.4965912103652954,\n",
            "        -1.2189791202545166,\n",
            "        0.047027163207530975,\n",
            "        2.024402618408203,\n",
            "        0.652029275894165,\n",
            "        0.38363683223724365,\n",
            "        -0.29057905077934265,\n",
            "        0.889313280582428,\n",
            "        -0.19636523723602295,\n",
            "        0.82305508852005,\n",
            "        0.2896294891834259,\n",
            "        -0.6637641191482544,\n",
            "        -0.39318302273750305,\n",
            "        0.3603857457637787,\n",
            "        0.857086181640625,\n",
            "        0.9503828287124634,\n",
            "        0.3519744873046875,\n",
            "        1.4875739812850952,\n",
            "        0.10600201040506363,\n",
            "        0.33237022161483765,\n",
            "        -0.3101063072681427,\n",
            "        -0.2387685775756836,\n",
            "        -0.5087016224861145,\n",
            "        0.686012327671051,\n",
            "        0.4524794816970825,\n",
            "        0.20570813119411469,\n",
            "        0.30475038290023804,\n",
            "        -0.31177929043769836,\n",
            "        0.9250588417053223,\n",
            "        0.6042543649673462,\n",
            "        1.1186459064483643,\n",
            "        0.03992972895503044,\n",
            "        -0.8309147357940674,\n",
            "        0.9451456665992737,\n",
            "        1.0041853189468384,\n",
            "        0.4524748921394348,\n",
            "        -0.9685558080673218,\n",
            "        0.49829766154289246,\n",
            "        1.1165390014648438,\n",
            "        0.7435593605041504,\n",
            "        -0.5233420133590698,\n",
            "        -0.5309135913848877,\n",
            "        2.0981578826904297,\n",
            "        0.552436351776123,\n",
            "        -1.0519232749938965,\n",
            "        2.288227081298828,\n",
            "        0.01622585952281952,\n",
            "        1.7331675291061401,\n",
            "        -0.1840410679578781\n",
            "      ],\n",
            "      [\n",
            "        0.08126264810562134,\n",
            "        1.445512056350708,\n",
            "        0.3407595753669739,\n",
            "        -0.8155512809753418,\n",
            "        -0.6581068634986877,\n",
            "        -0.28225141763687134,\n",
            "        -0.43325313925743103,\n",
            "        0.014442211017012596,\n",
            "        -0.16074422001838684,\n",
            "        -0.595990777015686,\n",
            "        -0.01838766783475876,\n",
            "        -0.9363240003585815,\n",
            "        1.200121521949768,\n",
            "        0.10803645849227905,\n",
            "        -0.47195640206336975,\n",
            "        -0.15199805796146393,\n",
            "        -0.2927914261817932,\n",
            "        -0.40319469571113586,\n",
            "        -0.5474604964256287,\n",
            "        -1.711698293685913,\n",
            "        -0.697638988494873,\n",
            "        -1.560241460800171,\n",
            "        -0.7673114538192749,\n",
            "        -1.1705756187438965,\n",
            "        0.45397740602493286,\n",
            "        0.5323038697242737,\n",
            "        0.6842557787895203,\n",
            "        0.37687546014785767,\n",
            "        -0.377780944108963,\n",
            "        0.451775461435318,\n",
            "        0.7726845741271973,\n",
            "        0.17020709812641144,\n",
            "        -0.674484372138977,\n",
            "        0.18455049395561218,\n",
            "        -0.5841971635818481,\n",
            "        -0.5465129613876343,\n",
            "        -0.9710506796836853,\n",
            "        0.015543186105787754,\n",
            "        -0.1828489601612091,\n",
            "        -1.1787317991256714,\n",
            "        -1.264413833618164,\n",
            "        0.7726802825927734,\n",
            "        -0.9820785522460938,\n",
            "        -0.6351808905601501,\n",
            "        -0.030753612518310547,\n",
            "        -0.04128456115722656,\n",
            "        -0.17912821471691132,\n",
            "        -0.3816293478012085,\n",
            "        0.10558390617370605,\n",
            "        -0.049853961914777756,\n",
            "        -0.20711421966552734,\n",
            "        0.2800188660621643,\n",
            "        0.00046062562614679337,\n",
            "        0.5665276050567627,\n",
            "        -0.15274114906787872\n",
            "      ],\n",
            "      [\n",
            "        1.2070168256759644,\n",
            "        1.7057719230651855,\n",
            "        -0.09893297404050827,\n",
            "        1.4028812646865845,\n",
            "        -0.5031474828720093,\n",
            "        -0.1666990965604782,\n",
            "        0.14461153745651245,\n",
            "        -1.1639573574066162,\n",
            "        -0.3492702841758728,\n",
            "        2.2343969345092773,\n",
            "        0.782096803188324,\n",
            "        0.08824858069419861,\n",
            "        -0.30225202441215515,\n",
            "        0.9438788294792175,\n",
            "        -0.34925132989883423,\n",
            "        0.9428834915161133,\n",
            "        0.6026463508605957,\n",
            "        -1.0658704042434692,\n",
            "        -0.4869558811187744,\n",
            "        -1.143844723701477,\n",
            "        0.18776728212833405,\n",
            "        -1.3262150287628174,\n",
            "        -0.9022694826126099,\n",
            "        -0.0188913457095623,\n",
            "        0.02201986312866211,\n",
            "        0.7734603881835938,\n",
            "        0.014177754521369934,\n",
            "        0.5803621411323547,\n",
            "        0.058175165206193924,\n",
            "        0.7798131704330444,\n",
            "        1.2709546089172363,\n",
            "        -0.09427222609519958,\n",
            "        -0.7404829263687134,\n",
            "        -0.44868460297584534,\n",
            "        0.6765958666801453,\n",
            "        -0.32317063212394714,\n",
            "        0.19626344740390778,\n",
            "        -0.061478253453969955,\n",
            "        -0.5555139183998108,\n",
            "        0.22458764910697937,\n",
            "        0.2969154417514801,\n",
            "        1.2709496021270752,\n",
            "        -2.17531681060791,\n",
            "        0.6555665731430054,\n",
            "        2.507157802581787,\n",
            "        0.3506653308868408,\n",
            "        0.7168694734573364,\n",
            "        0.04246610403060913,\n",
            "        2.134085178375244,\n",
            "        1.2071470022201538,\n",
            "        -0.540690541267395,\n",
            "        2.7881016731262207,\n",
            "        -0.0013065459206700325,\n",
            "        2.872316360473633,\n",
            "        -0.18022766709327698\n",
            "      ]\n",
            "    ]\n",
            "  },\n",
            "  {\n",
            "    \"wt\": \"MQYKLILNGKTLKGETTTEAVDAATAEKVFKQYANDNGVDGEWTYDDATKTFTVTE\",\n",
            "    \"variants\": [\n",
            "      \"T13P,T33F\"\n",
            "    ],\n",
            "    \"output\": [\n",
            "      [\n",
            "        5.645543098449707,\n",
            "        -0.08823452889919281,\n",
            "        3.270817518234253,\n",
            "        1.2460161447525024,\n",
            "        1.3037234544754028,\n",
            "        0.5322443246841431,\n",
            "        4.857309818267822,\n",
            "        -1.1067686080932617,\n",
            "        -0.6436038613319397,\n",
            "        1.9419636726379395,\n",
            "        -0.8911130428314209,\n",
            "        0.652341902256012,\n",
            "        -0.7837158441543579,\n",
            "        9.617301940917969,\n",
            "        2.1150782108306885,\n",
            "        5.2092108726501465,\n",
            "        2.7020974159240723,\n",
            "        -0.5816158652305603,\n",
            "        -0.5514440536499023,\n",
            "        0.43818673491477966,\n",
            "        0.4274188280105591,\n",
            "        1.6742618083953857,\n",
            "        -0.8721922636032104,\n",
            "        2.444389820098877,\n",
            "        -1.9845408201217651,\n",
            "        -1.1729459762573242,\n",
            "        -0.4310912489891052,\n",
            "        0.5365148186683655,\n",
            "        0.08791925013065338,\n",
            "        0.2855781018733978,\n",
            "        0.7514391541481018,\n",
            "        -0.9945945739746094,\n",
            "        -0.01072685420513153,\n",
            "        -2.4255361557006836,\n",
            "        -0.7554265260696411,\n",
            "        -1.6911653280258179,\n",
            "        1.3066627979278564,\n",
            "        0.041956719011068344,\n",
            "        -0.8304670453071594,\n",
            "        1.5064003467559814,\n",
            "        1.612711787223816,\n",
            "        0.7514318823814392,\n",
            "        -1.3307963609695435,\n",
            "        0.3869069516658783,\n",
            "        0.6399444341659546,\n",
            "        1.8638325929641724,\n",
            "        1.619768738746643,\n",
            "        -0.7826499938964844,\n",
            "        2.801478862762451,\n",
            "        -0.6386407017707825,\n",
            "        0.8158987760543823,\n",
            "        0.967729926109314,\n",
            "        -0.08497878909111023,\n",
            "        0.14499327540397644,\n",
            "        0.13757933676242828\n",
            "      ]\n",
            "    ]\n",
            "  }\n",
            "]\n"
          ]
        }
      ],
      "source": [
        "# @title Display METL preditions\n",
        "from IPython.display import Javascript\n",
        "\n",
        "display(Javascript('''google.colab.output.setIframeHeight(0, true, {maxHeight: 300})'''))\n",
        "print(json.dumps(output, indent=2))"
      ]
    },
    {
      "cell_type": "markdown",
      "metadata": {
        "id": "pO8jdBssrLGO"
      },
      "source": [
        "Finally, we will save our output. We will save our output as a list of JSON Objects."
      ]
    },
    {
      "cell_type": "code",
      "execution_count": 14,
      "metadata": {
        "cellView": "form",
        "id": "nYz6NRB_rLGP"
      },
      "outputs": [],
      "source": [
        "# @title Saving the predictions\n",
        "with open('./output.json', 'w') as f:\n",
        "    f.write(json.dumps(output, indent=2))"
      ]
    }
  ],
  "metadata": {
    "accelerator": "GPU",
    "colab": {
      "gpuType": "T4",
      "provenance": []
    },
    "kernelspec": {
      "display_name": "Python 3",
      "name": "python3"
    },
    "language_info": {
      "codemirror_mode": {
        "name": "ipython",
        "version": 3
      },
      "file_extension": ".py",
      "mimetype": "text/x-python",
      "name": "python",
      "nbconvert_exporter": "python",
      "pygments_lexer": "ipython3",
      "version": "3.11.5"
    },
    "widgets": {
      "application/vnd.jupyter.widget-state+json": {
        "08b5e6a111014f50be5b549dc61c04bd": {
          "model_module": "@jupyter-widgets/controls",
          "model_module_version": "1.5.0",
          "model_name": "FloatProgressModel",
          "state": {
            "_dom_classes": [],
            "_model_module": "@jupyter-widgets/controls",
            "_model_module_version": "1.5.0",
            "_model_name": "FloatProgressModel",
            "_view_count": null,
            "_view_module": "@jupyter-widgets/controls",
            "_view_module_version": "1.5.0",
            "_view_name": "ProgressView",
            "bar_style": "success",
            "description": "",
            "description_tooltip": null,
            "layout": "IPY_MODEL_43f1996def8b4fca9ef92d15e935f1ba",
            "max": 269,
            "min": 0,
            "orientation": "horizontal",
            "style": "IPY_MODEL_1cea69ccb7ab49eab6b3ceccc60f846b",
            "value": 269
          }
        },
        "08ce7a7c160f48488a1ccfff9e52fc19": {
          "model_module": "@jupyter-widgets/controls",
          "model_module_version": "1.5.0",
          "model_name": "HBoxModel",
          "state": {
            "_dom_classes": [],
            "_model_module": "@jupyter-widgets/controls",
            "_model_module_version": "1.5.0",
            "_model_name": "HBoxModel",
            "_view_count": null,
            "_view_module": "@jupyter-widgets/controls",
            "_view_module_version": "1.5.0",
            "_view_name": "HBoxView",
            "box_style": "",
            "children": [
              "IPY_MODEL_289c3d37c529432d9f2d4ee502b427b5",
              "IPY_MODEL_634f94c13ef74971a26f4988ade714fa",
              "IPY_MODEL_55eb8ffb95564d25acb8b40d2ac86b0c"
            ],
            "layout": "IPY_MODEL_f935b17bb46649b5a81733fb0e5529ab"
          }
        },
        "1cea69ccb7ab49eab6b3ceccc60f846b": {
          "model_module": "@jupyter-widgets/controls",
          "model_module_version": "1.5.0",
          "model_name": "ProgressStyleModel",
          "state": {
            "_model_module": "@jupyter-widgets/controls",
            "_model_module_version": "1.5.0",
            "_model_name": "ProgressStyleModel",
            "_view_count": null,
            "_view_module": "@jupyter-widgets/base",
            "_view_module_version": "1.2.0",
            "_view_name": "StyleView",
            "bar_color": null,
            "description_width": ""
          }
        },
        "1ee82a5c2acc4c7fb0c63ddbb30b471c": {
          "model_module": "@jupyter-widgets/base",
          "model_module_version": "1.2.0",
          "model_name": "LayoutModel",
          "state": {
            "_model_module": "@jupyter-widgets/base",
            "_model_module_version": "1.2.0",
            "_model_name": "LayoutModel",
            "_view_count": null,
            "_view_module": "@jupyter-widgets/base",
            "_view_module_version": "1.2.0",
            "_view_name": "LayoutView",
            "align_content": null,
            "align_items": null,
            "align_self": null,
            "border": null,
            "bottom": null,
            "display": null,
            "flex": null,
            "flex_flow": null,
            "grid_area": null,
            "grid_auto_columns": null,
            "grid_auto_flow": null,
            "grid_auto_rows": null,
            "grid_column": null,
            "grid_gap": null,
            "grid_row": null,
            "grid_template_areas": null,
            "grid_template_columns": null,
            "grid_template_rows": null,
            "height": null,
            "justify_content": null,
            "justify_items": null,
            "left": null,
            "margin": null,
            "max_height": null,
            "max_width": null,
            "min_height": null,
            "min_width": null,
            "object_fit": null,
            "object_position": null,
            "order": null,
            "overflow": null,
            "overflow_x": null,
            "overflow_y": null,
            "padding": null,
            "right": null,
            "top": null,
            "visibility": null,
            "width": null
          }
        },
        "1f6ef9a762f841f4acf9fe8edd589b2b": {
          "model_module": "@jupyter-widgets/controls",
          "model_module_version": "1.5.0",
          "model_name": "DescriptionStyleModel",
          "state": {
            "_model_module": "@jupyter-widgets/controls",
            "_model_module_version": "1.5.0",
            "_model_name": "DescriptionStyleModel",
            "_view_count": null,
            "_view_module": "@jupyter-widgets/base",
            "_view_module_version": "1.2.0",
            "_view_name": "StyleView",
            "description_width": ""
          }
        },
        "289c3d37c529432d9f2d4ee502b427b5": {
          "model_module": "@jupyter-widgets/controls",
          "model_module_version": "1.5.0",
          "model_name": "HTMLModel",
          "state": {
            "_dom_classes": [],
            "_model_module": "@jupyter-widgets/controls",
            "_model_module_version": "1.5.0",
            "_model_name": "HTMLModel",
            "_view_count": null,
            "_view_module": "@jupyter-widgets/controls",
            "_view_module_version": "1.5.0",
            "_view_name": "HTMLView",
            "description": "",
            "description_tooltip": null,
            "layout": "IPY_MODEL_1ee82a5c2acc4c7fb0c63ddbb30b471c",
            "placeholder": "​",
            "style": "IPY_MODEL_67a7158ed55842d38aa55392ab1d3744",
            "value": "huggingface_wrapper.py: 100%"
          }
        },
        "3f9981ff162245f49f533d90c0100a9c": {
          "model_module": "@jupyter-widgets/controls",
          "model_module_version": "1.5.0",
          "model_name": "FloatProgressModel",
          "state": {
            "_dom_classes": [],
            "_model_module": "@jupyter-widgets/controls",
            "_model_module_version": "1.5.0",
            "_model_name": "FloatProgressModel",
            "_view_count": null,
            "_view_module": "@jupyter-widgets/controls",
            "_view_module_version": "1.5.0",
            "_view_name": "ProgressView",
            "bar_style": "success",
            "description": "",
            "description_tooltip": null,
            "layout": "IPY_MODEL_69bd8895c8f948c7b879b1c869539334",
            "max": 176,
            "min": 0,
            "orientation": "horizontal",
            "style": "IPY_MODEL_61c6494ff4fb4f7a888e3129ac641df4",
            "value": 176
          }
        },
        "3fcaf29e93bc4f0ea5293b761fbe9194": {
          "model_module": "@jupyter-widgets/controls",
          "model_module_version": "1.5.0",
          "model_name": "DescriptionStyleModel",
          "state": {
            "_model_module": "@jupyter-widgets/controls",
            "_model_module_version": "1.5.0",
            "_model_name": "DescriptionStyleModel",
            "_view_count": null,
            "_view_module": "@jupyter-widgets/base",
            "_view_module_version": "1.2.0",
            "_view_name": "StyleView",
            "description_width": ""
          }
        },
        "43f1996def8b4fca9ef92d15e935f1ba": {
          "model_module": "@jupyter-widgets/base",
          "model_module_version": "1.2.0",
          "model_name": "LayoutModel",
          "state": {
            "_model_module": "@jupyter-widgets/base",
            "_model_module_version": "1.2.0",
            "_model_name": "LayoutModel",
            "_view_count": null,
            "_view_module": "@jupyter-widgets/base",
            "_view_module_version": "1.2.0",
            "_view_name": "LayoutView",
            "align_content": null,
            "align_items": null,
            "align_self": null,
            "border": null,
            "bottom": null,
            "display": null,
            "flex": null,
            "flex_flow": null,
            "grid_area": null,
            "grid_auto_columns": null,
            "grid_auto_flow": null,
            "grid_auto_rows": null,
            "grid_column": null,
            "grid_gap": null,
            "grid_row": null,
            "grid_template_areas": null,
            "grid_template_columns": null,
            "grid_template_rows": null,
            "height": null,
            "justify_content": null,
            "justify_items": null,
            "left": null,
            "margin": null,
            "max_height": null,
            "max_width": null,
            "min_height": null,
            "min_width": null,
            "object_fit": null,
            "object_position": null,
            "order": null,
            "overflow": null,
            "overflow_x": null,
            "overflow_y": null,
            "padding": null,
            "right": null,
            "top": null,
            "visibility": null,
            "width": null
          }
        },
        "47cb28f509c648a1a435b946bfc07518": {
          "model_module": "@jupyter-widgets/controls",
          "model_module_version": "1.5.0",
          "model_name": "HTMLModel",
          "state": {
            "_dom_classes": [],
            "_model_module": "@jupyter-widgets/controls",
            "_model_module_version": "1.5.0",
            "_model_name": "HTMLModel",
            "_view_count": null,
            "_view_module": "@jupyter-widgets/controls",
            "_view_module_version": "1.5.0",
            "_view_name": "HTMLView",
            "description": "",
            "description_tooltip": null,
            "layout": "IPY_MODEL_b8b4d2ec394547cc86dcfe1eddaf0402",
            "placeholder": "​",
            "style": "IPY_MODEL_579c2d34818e4ff0ba157532d81edfb7",
            "value": " 269/269 [00:00&lt;00:00, 3.64kB/s]"
          }
        },
        "5141f5b94903473c9e89d2ec2ed8e5c4": {
          "model_module": "@jupyter-widgets/base",
          "model_module_version": "1.2.0",
          "model_name": "LayoutModel",
          "state": {
            "_model_module": "@jupyter-widgets/base",
            "_model_module_version": "1.2.0",
            "_model_name": "LayoutModel",
            "_view_count": null,
            "_view_module": "@jupyter-widgets/base",
            "_view_module_version": "1.2.0",
            "_view_name": "LayoutView",
            "align_content": null,
            "align_items": null,
            "align_self": null,
            "border": null,
            "bottom": null,
            "display": null,
            "flex": null,
            "flex_flow": null,
            "grid_area": null,
            "grid_auto_columns": null,
            "grid_auto_flow": null,
            "grid_auto_rows": null,
            "grid_column": null,
            "grid_gap": null,
            "grid_row": null,
            "grid_template_areas": null,
            "grid_template_columns": null,
            "grid_template_rows": null,
            "height": null,
            "justify_content": null,
            "justify_items": null,
            "left": null,
            "margin": null,
            "max_height": null,
            "max_width": null,
            "min_height": null,
            "min_width": null,
            "object_fit": null,
            "object_position": null,
            "order": null,
            "overflow": null,
            "overflow_x": null,
            "overflow_y": null,
            "padding": null,
            "right": null,
            "top": null,
            "visibility": null,
            "width": null
          }
        },
        "531cde6e3d8f44009ab3480338bb316e": {
          "model_module": "@jupyter-widgets/controls",
          "model_module_version": "1.5.0",
          "model_name": "HTMLModel",
          "state": {
            "_dom_classes": [],
            "_model_module": "@jupyter-widgets/controls",
            "_model_module_version": "1.5.0",
            "_model_name": "HTMLModel",
            "_view_count": null,
            "_view_module": "@jupyter-widgets/controls",
            "_view_module_version": "1.5.0",
            "_view_name": "HTMLView",
            "description": "",
            "description_tooltip": null,
            "layout": "IPY_MODEL_7243419b29bc471fa4a8ef56d6041f47",
            "placeholder": "​",
            "style": "IPY_MODEL_a4b4fdbd7d5648a1ab7850e2f81ead15",
            "value": " 176/176 [00:00&lt;00:00, 3.73kB/s]"
          }
        },
        "541c0af07fc64fcfabaa49cd90ccacd2": {
          "model_module": "@jupyter-widgets/base",
          "model_module_version": "1.2.0",
          "model_name": "LayoutModel",
          "state": {
            "_model_module": "@jupyter-widgets/base",
            "_model_module_version": "1.2.0",
            "_model_name": "LayoutModel",
            "_view_count": null,
            "_view_module": "@jupyter-widgets/base",
            "_view_module_version": "1.2.0",
            "_view_name": "LayoutView",
            "align_content": null,
            "align_items": null,
            "align_self": null,
            "border": null,
            "bottom": null,
            "display": null,
            "flex": null,
            "flex_flow": null,
            "grid_area": null,
            "grid_auto_columns": null,
            "grid_auto_flow": null,
            "grid_auto_rows": null,
            "grid_column": null,
            "grid_gap": null,
            "grid_row": null,
            "grid_template_areas": null,
            "grid_template_columns": null,
            "grid_template_rows": null,
            "height": null,
            "justify_content": null,
            "justify_items": null,
            "left": null,
            "margin": null,
            "max_height": null,
            "max_width": null,
            "min_height": null,
            "min_width": null,
            "object_fit": null,
            "object_position": null,
            "order": null,
            "overflow": null,
            "overflow_x": null,
            "overflow_y": null,
            "padding": null,
            "right": null,
            "top": null,
            "visibility": null,
            "width": null
          }
        },
        "548aee36a23840da8d2d9112c1a126e4": {
          "model_module": "@jupyter-widgets/controls",
          "model_module_version": "1.5.0",
          "model_name": "HBoxModel",
          "state": {
            "_dom_classes": [],
            "_model_module": "@jupyter-widgets/controls",
            "_model_module_version": "1.5.0",
            "_model_name": "HBoxModel",
            "_view_count": null,
            "_view_module": "@jupyter-widgets/controls",
            "_view_module_version": "1.5.0",
            "_view_name": "HBoxView",
            "box_style": "",
            "children": [
              "IPY_MODEL_9875bd75c19140e8982cfc83ab405980",
              "IPY_MODEL_08b5e6a111014f50be5b549dc61c04bd",
              "IPY_MODEL_47cb28f509c648a1a435b946bfc07518"
            ],
            "layout": "IPY_MODEL_541c0af07fc64fcfabaa49cd90ccacd2"
          }
        },
        "55eb8ffb95564d25acb8b40d2ac86b0c": {
          "model_module": "@jupyter-widgets/controls",
          "model_module_version": "1.5.0",
          "model_name": "HTMLModel",
          "state": {
            "_dom_classes": [],
            "_model_module": "@jupyter-widgets/controls",
            "_model_module_version": "1.5.0",
            "_model_name": "HTMLModel",
            "_view_count": null,
            "_view_module": "@jupyter-widgets/controls",
            "_view_module_version": "1.5.0",
            "_view_name": "HTMLView",
            "description": "",
            "description_tooltip": null,
            "layout": "IPY_MODEL_5b68d66d5ceb473eaf8e45a979e58e8f",
            "placeholder": "​",
            "style": "IPY_MODEL_1f6ef9a762f841f4acf9fe8edd589b2b",
            "value": " 95.9k/95.9k [00:00&lt;00:00, 1.46MB/s]"
          }
        },
        "579c2d34818e4ff0ba157532d81edfb7": {
          "model_module": "@jupyter-widgets/controls",
          "model_module_version": "1.5.0",
          "model_name": "DescriptionStyleModel",
          "state": {
            "_model_module": "@jupyter-widgets/controls",
            "_model_module_version": "1.5.0",
            "_model_name": "DescriptionStyleModel",
            "_view_count": null,
            "_view_module": "@jupyter-widgets/base",
            "_view_module_version": "1.2.0",
            "_view_name": "StyleView",
            "description_width": ""
          }
        },
        "5b68d66d5ceb473eaf8e45a979e58e8f": {
          "model_module": "@jupyter-widgets/base",
          "model_module_version": "1.2.0",
          "model_name": "LayoutModel",
          "state": {
            "_model_module": "@jupyter-widgets/base",
            "_model_module_version": "1.2.0",
            "_model_name": "LayoutModel",
            "_view_count": null,
            "_view_module": "@jupyter-widgets/base",
            "_view_module_version": "1.2.0",
            "_view_name": "LayoutView",
            "align_content": null,
            "align_items": null,
            "align_self": null,
            "border": null,
            "bottom": null,
            "display": null,
            "flex": null,
            "flex_flow": null,
            "grid_area": null,
            "grid_auto_columns": null,
            "grid_auto_flow": null,
            "grid_auto_rows": null,
            "grid_column": null,
            "grid_gap": null,
            "grid_row": null,
            "grid_template_areas": null,
            "grid_template_columns": null,
            "grid_template_rows": null,
            "height": null,
            "justify_content": null,
            "justify_items": null,
            "left": null,
            "margin": null,
            "max_height": null,
            "max_width": null,
            "min_height": null,
            "min_width": null,
            "object_fit": null,
            "object_position": null,
            "order": null,
            "overflow": null,
            "overflow_x": null,
            "overflow_y": null,
            "padding": null,
            "right": null,
            "top": null,
            "visibility": null,
            "width": null
          }
        },
        "61c6494ff4fb4f7a888e3129ac641df4": {
          "model_module": "@jupyter-widgets/controls",
          "model_module_version": "1.5.0",
          "model_name": "ProgressStyleModel",
          "state": {
            "_model_module": "@jupyter-widgets/controls",
            "_model_module_version": "1.5.0",
            "_model_name": "ProgressStyleModel",
            "_view_count": null,
            "_view_module": "@jupyter-widgets/base",
            "_view_module_version": "1.2.0",
            "_view_name": "StyleView",
            "bar_color": null,
            "description_width": ""
          }
        },
        "634f94c13ef74971a26f4988ade714fa": {
          "model_module": "@jupyter-widgets/controls",
          "model_module_version": "1.5.0",
          "model_name": "FloatProgressModel",
          "state": {
            "_dom_classes": [],
            "_model_module": "@jupyter-widgets/controls",
            "_model_module_version": "1.5.0",
            "_model_name": "FloatProgressModel",
            "_view_count": null,
            "_view_module": "@jupyter-widgets/controls",
            "_view_module_version": "1.5.0",
            "_view_name": "ProgressView",
            "bar_style": "success",
            "description": "",
            "description_tooltip": null,
            "layout": "IPY_MODEL_812642ecbb744904a74c1dbcf414cea9",
            "max": 95901,
            "min": 0,
            "orientation": "horizontal",
            "style": "IPY_MODEL_c38ea535ff6e4d60a772700d1667c7c1",
            "value": 95901
          }
        },
        "640f95344552481aa56d9d17398a9b45": {
          "model_module": "@jupyter-widgets/base",
          "model_module_version": "1.2.0",
          "model_name": "LayoutModel",
          "state": {
            "_model_module": "@jupyter-widgets/base",
            "_model_module_version": "1.2.0",
            "_model_name": "LayoutModel",
            "_view_count": null,
            "_view_module": "@jupyter-widgets/base",
            "_view_module_version": "1.2.0",
            "_view_name": "LayoutView",
            "align_content": null,
            "align_items": null,
            "align_self": null,
            "border": null,
            "bottom": null,
            "display": null,
            "flex": null,
            "flex_flow": null,
            "grid_area": null,
            "grid_auto_columns": null,
            "grid_auto_flow": null,
            "grid_auto_rows": null,
            "grid_column": null,
            "grid_gap": null,
            "grid_row": null,
            "grid_template_areas": null,
            "grid_template_columns": null,
            "grid_template_rows": null,
            "height": null,
            "justify_content": null,
            "justify_items": null,
            "left": null,
            "margin": null,
            "max_height": null,
            "max_width": null,
            "min_height": null,
            "min_width": null,
            "object_fit": null,
            "object_position": null,
            "order": null,
            "overflow": null,
            "overflow_x": null,
            "overflow_y": null,
            "padding": null,
            "right": null,
            "top": null,
            "visibility": null,
            "width": null
          }
        },
        "67a7158ed55842d38aa55392ab1d3744": {
          "model_module": "@jupyter-widgets/controls",
          "model_module_version": "1.5.0",
          "model_name": "DescriptionStyleModel",
          "state": {
            "_model_module": "@jupyter-widgets/controls",
            "_model_module_version": "1.5.0",
            "_model_name": "DescriptionStyleModel",
            "_view_count": null,
            "_view_module": "@jupyter-widgets/base",
            "_view_module_version": "1.2.0",
            "_view_name": "StyleView",
            "description_width": ""
          }
        },
        "69bd8895c8f948c7b879b1c869539334": {
          "model_module": "@jupyter-widgets/base",
          "model_module_version": "1.2.0",
          "model_name": "LayoutModel",
          "state": {
            "_model_module": "@jupyter-widgets/base",
            "_model_module_version": "1.2.0",
            "_model_name": "LayoutModel",
            "_view_count": null,
            "_view_module": "@jupyter-widgets/base",
            "_view_module_version": "1.2.0",
            "_view_name": "LayoutView",
            "align_content": null,
            "align_items": null,
            "align_self": null,
            "border": null,
            "bottom": null,
            "display": null,
            "flex": null,
            "flex_flow": null,
            "grid_area": null,
            "grid_auto_columns": null,
            "grid_auto_flow": null,
            "grid_auto_rows": null,
            "grid_column": null,
            "grid_gap": null,
            "grid_row": null,
            "grid_template_areas": null,
            "grid_template_columns": null,
            "grid_template_rows": null,
            "height": null,
            "justify_content": null,
            "justify_items": null,
            "left": null,
            "margin": null,
            "max_height": null,
            "max_width": null,
            "min_height": null,
            "min_width": null,
            "object_fit": null,
            "object_position": null,
            "order": null,
            "overflow": null,
            "overflow_x": null,
            "overflow_y": null,
            "padding": null,
            "right": null,
            "top": null,
            "visibility": null,
            "width": null
          }
        },
        "6eabe0cb30a142f2b79185efb52f6bb0": {
          "model_module": "@jupyter-widgets/controls",
          "model_module_version": "1.5.0",
          "model_name": "HBoxModel",
          "state": {
            "_dom_classes": [],
            "_model_module": "@jupyter-widgets/controls",
            "_model_module_version": "1.5.0",
            "_model_name": "HBoxModel",
            "_view_count": null,
            "_view_module": "@jupyter-widgets/controls",
            "_view_module_version": "1.5.0",
            "_view_name": "HBoxView",
            "box_style": "",
            "children": [
              "IPY_MODEL_a05042c291aa4e1e9bb4f09be3d9f806",
              "IPY_MODEL_3f9981ff162245f49f533d90c0100a9c",
              "IPY_MODEL_531cde6e3d8f44009ab3480338bb316e"
            ],
            "layout": "IPY_MODEL_8ae64abd8d234c218a8fb4e92a059377"
          }
        },
        "7243419b29bc471fa4a8ef56d6041f47": {
          "model_module": "@jupyter-widgets/base",
          "model_module_version": "1.2.0",
          "model_name": "LayoutModel",
          "state": {
            "_model_module": "@jupyter-widgets/base",
            "_model_module_version": "1.2.0",
            "_model_name": "LayoutModel",
            "_view_count": null,
            "_view_module": "@jupyter-widgets/base",
            "_view_module_version": "1.2.0",
            "_view_name": "LayoutView",
            "align_content": null,
            "align_items": null,
            "align_self": null,
            "border": null,
            "bottom": null,
            "display": null,
            "flex": null,
            "flex_flow": null,
            "grid_area": null,
            "grid_auto_columns": null,
            "grid_auto_flow": null,
            "grid_auto_rows": null,
            "grid_column": null,
            "grid_gap": null,
            "grid_row": null,
            "grid_template_areas": null,
            "grid_template_columns": null,
            "grid_template_rows": null,
            "height": null,
            "justify_content": null,
            "justify_items": null,
            "left": null,
            "margin": null,
            "max_height": null,
            "max_width": null,
            "min_height": null,
            "min_width": null,
            "object_fit": null,
            "object_position": null,
            "order": null,
            "overflow": null,
            "overflow_x": null,
            "overflow_y": null,
            "padding": null,
            "right": null,
            "top": null,
            "visibility": null,
            "width": null
          }
        },
        "7b4e21e8ad294346b7552f231dee95b4": {
          "model_module": "@jupyter-widgets/controls",
          "model_module_version": "1.5.0",
          "model_name": "FileUploadModel",
          "state": {
            "_counter": 0,
            "_dom_classes": [],
            "_model_module": "@jupyter-widgets/controls",
            "_model_module_version": "1.5.0",
            "_model_name": "FileUploadModel",
            "_view_count": null,
            "_view_module": "@jupyter-widgets/controls",
            "_view_module_version": "1.5.0",
            "_view_name": "FileUploadView",
            "accept": ".json, .txt",
            "button_style": "",
            "data": [],
            "description": "Upload",
            "description_tooltip": null,
            "disabled": false,
            "error": "",
            "icon": "upload",
            "layout": "IPY_MODEL_5141f5b94903473c9e89d2ec2ed8e5c4",
            "metadata": [],
            "multiple": false,
            "style": "IPY_MODEL_a03c2859b511486da91a88babee36f63"
          }
        },
        "7df715d2ab2d45adb6cf04e1b908fe34": {
          "model_module": "@jupyter-widgets/base",
          "model_module_version": "1.2.0",
          "model_name": "LayoutModel",
          "state": {
            "_model_module": "@jupyter-widgets/base",
            "_model_module_version": "1.2.0",
            "_model_name": "LayoutModel",
            "_view_count": null,
            "_view_module": "@jupyter-widgets/base",
            "_view_module_version": "1.2.0",
            "_view_name": "LayoutView",
            "align_content": null,
            "align_items": null,
            "align_self": null,
            "border": null,
            "bottom": null,
            "display": null,
            "flex": null,
            "flex_flow": null,
            "grid_area": null,
            "grid_auto_columns": null,
            "grid_auto_flow": null,
            "grid_auto_rows": null,
            "grid_column": null,
            "grid_gap": null,
            "grid_row": null,
            "grid_template_areas": null,
            "grid_template_columns": null,
            "grid_template_rows": null,
            "height": null,
            "justify_content": null,
            "justify_items": null,
            "left": null,
            "margin": null,
            "max_height": null,
            "max_width": null,
            "min_height": null,
            "min_width": null,
            "object_fit": null,
            "object_position": null,
            "order": null,
            "overflow": null,
            "overflow_x": null,
            "overflow_y": null,
            "padding": null,
            "right": null,
            "top": null,
            "visibility": null,
            "width": null
          }
        },
        "812642ecbb744904a74c1dbcf414cea9": {
          "model_module": "@jupyter-widgets/base",
          "model_module_version": "1.2.0",
          "model_name": "LayoutModel",
          "state": {
            "_model_module": "@jupyter-widgets/base",
            "_model_module_version": "1.2.0",
            "_model_name": "LayoutModel",
            "_view_count": null,
            "_view_module": "@jupyter-widgets/base",
            "_view_module_version": "1.2.0",
            "_view_name": "LayoutView",
            "align_content": null,
            "align_items": null,
            "align_self": null,
            "border": null,
            "bottom": null,
            "display": null,
            "flex": null,
            "flex_flow": null,
            "grid_area": null,
            "grid_auto_columns": null,
            "grid_auto_flow": null,
            "grid_auto_rows": null,
            "grid_column": null,
            "grid_gap": null,
            "grid_row": null,
            "grid_template_areas": null,
            "grid_template_columns": null,
            "grid_template_rows": null,
            "height": null,
            "justify_content": null,
            "justify_items": null,
            "left": null,
            "margin": null,
            "max_height": null,
            "max_width": null,
            "min_height": null,
            "min_width": null,
            "object_fit": null,
            "object_position": null,
            "order": null,
            "overflow": null,
            "overflow_x": null,
            "overflow_y": null,
            "padding": null,
            "right": null,
            "top": null,
            "visibility": null,
            "width": null
          }
        },
        "8131214e739d4fea923d9a4b61bc0a8e": {
          "model_module": "@jupyter-widgets/base",
          "model_module_version": "1.2.0",
          "model_name": "LayoutModel",
          "state": {
            "_model_module": "@jupyter-widgets/base",
            "_model_module_version": "1.2.0",
            "_model_name": "LayoutModel",
            "_view_count": null,
            "_view_module": "@jupyter-widgets/base",
            "_view_module_version": "1.2.0",
            "_view_name": "LayoutView",
            "align_content": null,
            "align_items": null,
            "align_self": null,
            "border": null,
            "bottom": null,
            "display": null,
            "flex": null,
            "flex_flow": null,
            "grid_area": null,
            "grid_auto_columns": null,
            "grid_auto_flow": null,
            "grid_auto_rows": null,
            "grid_column": null,
            "grid_gap": null,
            "grid_row": null,
            "grid_template_areas": null,
            "grid_template_columns": null,
            "grid_template_rows": null,
            "height": "100px",
            "justify_content": null,
            "justify_items": null,
            "left": null,
            "margin": null,
            "max_height": null,
            "max_width": null,
            "min_height": null,
            "min_width": null,
            "object_fit": null,
            "object_position": null,
            "order": null,
            "overflow": null,
            "overflow_x": null,
            "overflow_y": null,
            "padding": null,
            "right": null,
            "top": null,
            "visibility": null,
            "width": "500px"
          }
        },
        "88183c92883b4c9787ecaf63b1f73f6e": {
          "model_module": "@jupyter-widgets/controls",
          "model_module_version": "1.5.0",
          "model_name": "FileUploadModel",
          "state": {
            "_counter": 0,
            "_dom_classes": [],
            "_model_module": "@jupyter-widgets/controls",
            "_model_module_version": "1.5.0",
            "_model_name": "FileUploadModel",
            "_view_count": null,
            "_view_module": "@jupyter-widgets/controls",
            "_view_module_version": "1.5.0",
            "_view_name": "FileUploadView",
            "accept": ".pdb",
            "button_style": "",
            "data": [],
            "description": "Upload",
            "description_tooltip": null,
            "disabled": false,
            "error": "",
            "icon": "upload",
            "layout": "IPY_MODEL_974500e54aa5465fb97c17152439918a",
            "metadata": [],
            "multiple": false,
            "style": "IPY_MODEL_e3d473ff87114b4aafb71269df884892"
          }
        },
        "8ae64abd8d234c218a8fb4e92a059377": {
          "model_module": "@jupyter-widgets/base",
          "model_module_version": "1.2.0",
          "model_name": "LayoutModel",
          "state": {
            "_model_module": "@jupyter-widgets/base",
            "_model_module_version": "1.2.0",
            "_model_name": "LayoutModel",
            "_view_count": null,
            "_view_module": "@jupyter-widgets/base",
            "_view_module_version": "1.2.0",
            "_view_name": "LayoutView",
            "align_content": null,
            "align_items": null,
            "align_self": null,
            "border": null,
            "bottom": null,
            "display": null,
            "flex": null,
            "flex_flow": null,
            "grid_area": null,
            "grid_auto_columns": null,
            "grid_auto_flow": null,
            "grid_auto_rows": null,
            "grid_column": null,
            "grid_gap": null,
            "grid_row": null,
            "grid_template_areas": null,
            "grid_template_columns": null,
            "grid_template_rows": null,
            "height": null,
            "justify_content": null,
            "justify_items": null,
            "left": null,
            "margin": null,
            "max_height": null,
            "max_width": null,
            "min_height": null,
            "min_width": null,
            "object_fit": null,
            "object_position": null,
            "order": null,
            "overflow": null,
            "overflow_x": null,
            "overflow_y": null,
            "padding": null,
            "right": null,
            "top": null,
            "visibility": null,
            "width": null
          }
        },
        "974500e54aa5465fb97c17152439918a": {
          "model_module": "@jupyter-widgets/base",
          "model_module_version": "1.2.0",
          "model_name": "LayoutModel",
          "state": {
            "_model_module": "@jupyter-widgets/base",
            "_model_module_version": "1.2.0",
            "_model_name": "LayoutModel",
            "_view_count": null,
            "_view_module": "@jupyter-widgets/base",
            "_view_module_version": "1.2.0",
            "_view_name": "LayoutView",
            "align_content": null,
            "align_items": null,
            "align_self": null,
            "border": null,
            "bottom": null,
            "display": null,
            "flex": null,
            "flex_flow": null,
            "grid_area": null,
            "grid_auto_columns": null,
            "grid_auto_flow": null,
            "grid_auto_rows": null,
            "grid_column": null,
            "grid_gap": null,
            "grid_row": null,
            "grid_template_areas": null,
            "grid_template_columns": null,
            "grid_template_rows": null,
            "height": null,
            "justify_content": null,
            "justify_items": null,
            "left": null,
            "margin": null,
            "max_height": null,
            "max_width": null,
            "min_height": null,
            "min_width": null,
            "object_fit": null,
            "object_position": null,
            "order": null,
            "overflow": null,
            "overflow_x": null,
            "overflow_y": null,
            "padding": null,
            "right": null,
            "top": null,
            "visibility": null,
            "width": null
          }
        },
        "9875bd75c19140e8982cfc83ab405980": {
          "model_module": "@jupyter-widgets/controls",
          "model_module_version": "1.5.0",
          "model_name": "HTMLModel",
          "state": {
            "_dom_classes": [],
            "_model_module": "@jupyter-widgets/controls",
            "_model_module_version": "1.5.0",
            "_model_name": "HTMLModel",
            "_view_count": null,
            "_view_module": "@jupyter-widgets/controls",
            "_view_module_version": "1.5.0",
            "_view_name": "HTMLView",
            "description": "",
            "description_tooltip": null,
            "layout": "IPY_MODEL_7df715d2ab2d45adb6cf04e1b908fe34",
            "placeholder": "​",
            "style": "IPY_MODEL_9df76c111df140c3b7dfadb724aae88f",
            "value": "config.json: 100%"
          }
        },
        "9d004e2783e54df7a8dca1952ec2434d": {
          "model_module": "@jupyter-widgets/controls",
          "model_module_version": "1.5.0",
          "model_name": "TextareaModel",
          "state": {
            "_dom_classes": [
              "variant_text_area"
            ],
            "_model_module": "@jupyter-widgets/controls",
            "_model_module_version": "1.5.0",
            "_model_name": "TextareaModel",
            "_view_count": null,
            "_view_module": "@jupyter-widgets/controls",
            "_view_module_version": "1.5.0",
            "_view_name": "TextareaView",
            "continuous_update": true,
            "description": "Variant String:",
            "description_tooltip": null,
            "disabled": false,
            "layout": "IPY_MODEL_8131214e739d4fea923d9a4b61bc0a8e",
            "placeholder": "[\"T17P,T54F\", \"V28L,F51A\", \"T17P,V28L,F51A,T54F\"]\n[\"T13P,T33F\"]",
            "rows": null,
            "style": "IPY_MODEL_ea799d8361454d628d2dcdb09c6b18a8",
            "value": ""
          }
        },
        "9df76c111df140c3b7dfadb724aae88f": {
          "model_module": "@jupyter-widgets/controls",
          "model_module_version": "1.5.0",
          "model_name": "DescriptionStyleModel",
          "state": {
            "_model_module": "@jupyter-widgets/controls",
            "_model_module_version": "1.5.0",
            "_model_name": "DescriptionStyleModel",
            "_view_count": null,
            "_view_module": "@jupyter-widgets/base",
            "_view_module_version": "1.2.0",
            "_view_name": "StyleView",
            "description_width": ""
          }
        },
        "a03c2859b511486da91a88babee36f63": {
          "model_module": "@jupyter-widgets/controls",
          "model_module_version": "1.5.0",
          "model_name": "ButtonStyleModel",
          "state": {
            "_model_module": "@jupyter-widgets/controls",
            "_model_module_version": "1.5.0",
            "_model_name": "ButtonStyleModel",
            "_view_count": null,
            "_view_module": "@jupyter-widgets/base",
            "_view_module_version": "1.2.0",
            "_view_name": "StyleView",
            "button_color": null,
            "font_weight": ""
          }
        },
        "a05042c291aa4e1e9bb4f09be3d9f806": {
          "model_module": "@jupyter-widgets/controls",
          "model_module_version": "1.5.0",
          "model_name": "HTMLModel",
          "state": {
            "_dom_classes": [],
            "_model_module": "@jupyter-widgets/controls",
            "_model_module_version": "1.5.0",
            "_model_name": "HTMLModel",
            "_view_count": null,
            "_view_module": "@jupyter-widgets/controls",
            "_view_module_version": "1.5.0",
            "_view_name": "HTMLView",
            "description": "",
            "description_tooltip": null,
            "layout": "IPY_MODEL_640f95344552481aa56d9d17398a9b45",
            "placeholder": "​",
            "style": "IPY_MODEL_3fcaf29e93bc4f0ea5293b761fbe9194",
            "value": "model.safetensors: 100%"
          }
        },
        "a4b4fdbd7d5648a1ab7850e2f81ead15": {
          "model_module": "@jupyter-widgets/controls",
          "model_module_version": "1.5.0",
          "model_name": "DescriptionStyleModel",
          "state": {
            "_model_module": "@jupyter-widgets/controls",
            "_model_module_version": "1.5.0",
            "_model_name": "DescriptionStyleModel",
            "_view_count": null,
            "_view_module": "@jupyter-widgets/base",
            "_view_module_version": "1.2.0",
            "_view_name": "StyleView",
            "description_width": ""
          }
        },
        "b8b4d2ec394547cc86dcfe1eddaf0402": {
          "model_module": "@jupyter-widgets/base",
          "model_module_version": "1.2.0",
          "model_name": "LayoutModel",
          "state": {
            "_model_module": "@jupyter-widgets/base",
            "_model_module_version": "1.2.0",
            "_model_name": "LayoutModel",
            "_view_count": null,
            "_view_module": "@jupyter-widgets/base",
            "_view_module_version": "1.2.0",
            "_view_name": "LayoutView",
            "align_content": null,
            "align_items": null,
            "align_self": null,
            "border": null,
            "bottom": null,
            "display": null,
            "flex": null,
            "flex_flow": null,
            "grid_area": null,
            "grid_auto_columns": null,
            "grid_auto_flow": null,
            "grid_auto_rows": null,
            "grid_column": null,
            "grid_gap": null,
            "grid_row": null,
            "grid_template_areas": null,
            "grid_template_columns": null,
            "grid_template_rows": null,
            "height": null,
            "justify_content": null,
            "justify_items": null,
            "left": null,
            "margin": null,
            "max_height": null,
            "max_width": null,
            "min_height": null,
            "min_width": null,
            "object_fit": null,
            "object_position": null,
            "order": null,
            "overflow": null,
            "overflow_x": null,
            "overflow_y": null,
            "padding": null,
            "right": null,
            "top": null,
            "visibility": null,
            "width": null
          }
        },
        "c38ea535ff6e4d60a772700d1667c7c1": {
          "model_module": "@jupyter-widgets/controls",
          "model_module_version": "1.5.0",
          "model_name": "ProgressStyleModel",
          "state": {
            "_model_module": "@jupyter-widgets/controls",
            "_model_module_version": "1.5.0",
            "_model_name": "ProgressStyleModel",
            "_view_count": null,
            "_view_module": "@jupyter-widgets/base",
            "_view_module_version": "1.2.0",
            "_view_name": "StyleView",
            "bar_color": null,
            "description_width": ""
          }
        },
        "e3d473ff87114b4aafb71269df884892": {
          "model_module": "@jupyter-widgets/controls",
          "model_module_version": "1.5.0",
          "model_name": "ButtonStyleModel",
          "state": {
            "_model_module": "@jupyter-widgets/controls",
            "_model_module_version": "1.5.0",
            "_model_name": "ButtonStyleModel",
            "_view_count": null,
            "_view_module": "@jupyter-widgets/base",
            "_view_module_version": "1.2.0",
            "_view_name": "StyleView",
            "button_color": null,
            "font_weight": ""
          }
        },
        "ea799d8361454d628d2dcdb09c6b18a8": {
          "model_module": "@jupyter-widgets/controls",
          "model_module_version": "1.5.0",
          "model_name": "DescriptionStyleModel",
          "state": {
            "_model_module": "@jupyter-widgets/controls",
            "_model_module_version": "1.5.0",
            "_model_name": "DescriptionStyleModel",
            "_view_count": null,
            "_view_module": "@jupyter-widgets/base",
            "_view_module_version": "1.2.0",
            "_view_name": "StyleView",
            "description_width": "initial"
          }
        },
        "f935b17bb46649b5a81733fb0e5529ab": {
          "model_module": "@jupyter-widgets/base",
          "model_module_version": "1.2.0",
          "model_name": "LayoutModel",
          "state": {
            "_model_module": "@jupyter-widgets/base",
            "_model_module_version": "1.2.0",
            "_model_name": "LayoutModel",
            "_view_count": null,
            "_view_module": "@jupyter-widgets/base",
            "_view_module_version": "1.2.0",
            "_view_name": "LayoutView",
            "align_content": null,
            "align_items": null,
            "align_self": null,
            "border": null,
            "bottom": null,
            "display": null,
            "flex": null,
            "flex_flow": null,
            "grid_area": null,
            "grid_auto_columns": null,
            "grid_auto_flow": null,
            "grid_auto_rows": null,
            "grid_column": null,
            "grid_gap": null,
            "grid_row": null,
            "grid_template_areas": null,
            "grid_template_columns": null,
            "grid_template_rows": null,
            "height": null,
            "justify_content": null,
            "justify_items": null,
            "left": null,
            "margin": null,
            "max_height": null,
            "max_width": null,
            "min_height": null,
            "min_width": null,
            "object_fit": null,
            "object_position": null,
            "order": null,
            "overflow": null,
            "overflow_x": null,
            "overflow_y": null,
            "padding": null,
            "right": null,
            "top": null,
            "visibility": null,
            "width": null
          }
        }
      }
    }
  },
  "nbformat": 4,
  "nbformat_minor": 0
}
