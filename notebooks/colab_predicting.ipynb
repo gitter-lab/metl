{
  "cells": [
    {
      "cell_type": "markdown",
      "metadata": {
        "id": "_Om47-OgrLFv"
      },
      "source": [
        "This notebook will show an example on how to use METL models through hugging face to predict on more than the sequences allowed by the demo.\n",
        "\n",
        "The example provided through the notebook uses a pretrained METL model to predict GB1 binding affinity.\n",
        "\n",
        "First, we will download some dependencies not included in Colab and import the required modules that we will need to download the METL model through 🤗 and predict with it."
      ]
    },
    {
      "cell_type": "code",
      "execution_count": 15,
      "metadata": {
        "cellView": "form",
        "id": "WkNKKIqXr4OU"
      },
      "outputs": [],
      "source": [
        "# @title Installing libraries not included with colab\n",
        "!pip install -q biopandas==0.5.1"
      ]
    },
    {
      "cell_type": "code",
      "execution_count": 16,
      "metadata": {
        "cellView": "form",
        "colab": {
          "base_uri": "https://localhost:8080/"
        },
        "id": "tP_HrR5YSiqk",
        "outputId": "70aa2f54-639d-4406-a0ce-6557caaa17d2"
      },
      "outputs": [
        {
          "output_type": "stream",
          "name": "stdout",
          "text": [
            "--2024-08-27 18:37:23--  https://raw.githubusercontent.com/gitter-lab/metl-pretrained/main/pdbs/2qmt_p.pdb\n",
            "Resolving raw.githubusercontent.com (raw.githubusercontent.com)... 185.199.108.133, 185.199.109.133, 185.199.110.133, ...\n",
            "Connecting to raw.githubusercontent.com (raw.githubusercontent.com)|185.199.108.133|:443... connected.\n",
            "HTTP request sent, awaiting response... 200 OK\n",
            "Length: 78764 (77K) [text/plain]\n",
            "Saving to: ‘2qmt_p.pdb’\n",
            "\n",
            "\r2qmt_p.pdb            0%[                    ]       0  --.-KB/s               \r2qmt_p.pdb          100%[===================>]  76.92K  --.-KB/s    in 0.01s   \n",
            "\n",
            "2024-08-27 18:37:23 (6.32 MB/s) - ‘2qmt_p.pdb’ saved [78764/78764]\n",
            "\n"
          ]
        }
      ],
      "source": [
        "# @title Download the example pdb file\n",
        "!wget -O 2qmt_p.pdb https://raw.githubusercontent.com/gitter-lab/metl-pretrained/main/pdbs/2qmt_p.pdb"
      ]
    },
    {
      "cell_type": "code",
      "execution_count": 17,
      "metadata": {
        "cellView": "form",
        "id": "mpjvGjzArLF1"
      },
      "outputs": [],
      "source": [
        "# @title Importing required libraries\n",
        "from transformers import AutoModel, AutoConfig, logging\n",
        "import ipywidgets as widgets\n",
        "from IPython.display import clear_output, HTML, display\n",
        "import pandas as pd\n",
        "import torch\n",
        "import io\n",
        "import json\n",
        "import biopandas\n",
        "\n",
        "logging.set_verbosity_error()\n",
        "\n",
        "# Declaring this here so that it's available regardless if later cells are run or not\n",
        "variant_file = None\n",
        "pdb_file_path = '2qmt_p.pdb'\n",
        "\n",
        "def to_zero_based(variants):\n",
        "    zero_based = []\n",
        "    for line in variants:\n",
        "        line_as_json = json.loads(line)\n",
        "        new_variants = []\n",
        "        for variant in line_as_json:\n",
        "            new_variant = []\n",
        "            mutations = variant.split(',')\n",
        "            for mutation in mutations:\n",
        "                residue_zero_based = int(mutation[1:-1]) - 1\n",
        "                new_variant.append(f\"{mutation[0]}{residue_zero_based}{mutation[-1]}\")\n",
        "            new_variants.append(\",\".join(new_variant))\n",
        "        zero_based.append(new_variants)\n",
        "\n",
        "    return zero_based"
      ]
    },
    {
      "cell_type": "markdown",
      "metadata": {
        "id": "JWJCsBukrLF7"
      },
      "source": [
        "We will then load a METL model through the 🤗 API. trust_remote_code=True is required to use METL models through 🤗."
      ]
    },
    {
      "cell_type": "code",
      "execution_count": 18,
      "metadata": {
        "cellView": "form",
        "id": "vIp69-KLrLF8"
      },
      "outputs": [],
      "source": [
        "# @title Loading METL from 🤗\n",
        "metl = AutoModel.from_pretrained('gitter-lab/METL', trust_remote_code=True)"
      ]
    },
    {
      "cell_type": "markdown",
      "metadata": {
        "id": "Y6PH3mozrLF_"
      },
      "source": [
        "The METL 🤗 wrapper requires the loading of the specific METL model after initialization of the `metl` variable above. Use the dropdown below to select a model to use for predicting.\n",
        "\n",
        "The publically available METL models are hosted on [Zenodo](https://zenodo.org/records/11051645). The [metl-pretrained](https://github.com/gitter-lab/metl-pretrained#available-models) repo provides a table describing the available models."
      ]
    },
    {
      "cell_type": "code",
      "execution_count": 19,
      "metadata": {
        "colab": {
          "base_uri": "https://localhost:8080/"
        },
        "id": "Odg6Mps7rLGA",
        "outputId": "6e4ca24b-8eca-480e-b882-f1dc1d3640a4",
        "cellView": "form"
      },
      "outputs": [
        {
          "output_type": "stream",
          "name": "stdout",
          "text": [
            "Initialized PDB bucket matrices in: 0.000\n",
            "Initialized PDB bucket matrices in: 0.000\n"
          ]
        }
      ],
      "source": [
        "# @title Available metl models\n",
        "# @markdown You may use this dropdown here to choose a metl model to predict with. Running this cell will load the selected model.\n",
        "metl_model = 'metl-l-2m-3d-gb1' # @param [\"metl-g-20m-1d\",\"metl-g-20m-3d\",\"metl-g-50m-1d\",\"metl-g-50m-3d\",\"metl-l-2m-1d-gfp\",\"metl-l-2m-3d-gfp\",\"metl-l-2m-1d-dlg4\",\"metl-l-2m-3d-dlg4\",\"metl-l-2m-1d-gb1\",\"metl-l-2m-3d-gb1\",\"metl-l-2m-1d-grb2\",\"metl-l-2m-3d-grb2\",\"metl-l-2m-1d-pab1\",\"metl-l-2m-3d-pab1\",\"metl-l-2m-1d-tem-1\",\"metl-l-2m-3d-tem-1\",\"metl-l-2m-1d-ube4b\",\"metl-l-2m-3d-ube4b\",\"metl-bind-2m-3d-gb1-standard\",\"metl-bind-2m-3d-gb1-binding\",\"metl-l-2m-1d-gfp-ft-design\",\"metl-l-2m-3d-gfp-ft-design\"]\n",
        "metl.load_from_ident(metl_model)"
      ]
    },
    {
      "cell_type": "markdown",
      "metadata": {
        "id": "UENVWR2srLGD"
      },
      "source": [
        "Depending on the model chosen, different files might be needed. This example is setup to use metl-l-2m-3d-gb1 and will need a few data for prediction.\n",
        "\n",
        "Specifically, for this 3d gb1 model we will need:\n",
        "- a wild type sequnece\n",
        "- a PDB structure file (as this is a 3d model)\n",
        "- variants to use with METL"
      ]
    },
    {
      "cell_type": "code",
      "execution_count": 20,
      "metadata": {
        "cellView": "form",
        "id": "HBAocw_urLGE"
      },
      "outputs": [],
      "source": [
        "# @title Protein wild type\n",
        "# @markdown Enter the wild type of your protein here. The wildtype for gb1 is provided to use with the default model example here.\n",
        "wildtype = 'MQYKLILNGKTLKGETTTEAVDAATAEKVFKQYANDNGVDGEWTYDDATKTFTVTE' # @param {type:\"string\", placeholder:\"Enter a wildtype here\"}"
      ]
    },
    {
      "cell_type": "code",
      "execution_count": 21,
      "metadata": {
        "cellView": "form",
        "colab": {
          "base_uri": "https://localhost:8080/",
          "height": 49,
          "referenced_widgets": [
            "dfbab67b2c494fb8ab0237a97f9738e0",
            "200ab63cae634eddaa992fd64b35c0ac",
            "59c5e99e773a4ab39eb9e8604814d36c"
          ]
        },
        "id": "nVj7UumyrLGF",
        "outputId": "4e936576-15be-49f3-dd06-5b9d1816efa5"
      },
      "outputs": [
        {
          "output_type": "display_data",
          "data": {
            "text/plain": [
              "FileUpload(value={}, accept='.pdb', description='Upload')"
            ],
            "application/vnd.jupyter.widget-view+json": {
              "version_major": 2,
              "version_minor": 0,
              "model_id": "dfbab67b2c494fb8ab0237a97f9738e0"
            }
          },
          "metadata": {}
        }
      ],
      "source": [
        "# @title PDB file upload\n",
        "# @markdown If your model needs a PDB file, run this cell and upload the file with the provided button that appears below.\n",
        "# @markdown\n",
        "# @markdown If you would like to change the file, simply upload another one. The last uploaded file will be what is used.\n",
        "# @markdown If you would like to predict with the pre-loaded GB1 model, download [this pdb file](https://github.com/gitter-lab/metl-pretrained/blob/main/pdbs/2qmt_p.pdb)\n",
        "\n",
        "def update_pdb_file(file_name):\n",
        "  global pdb_file_path\n",
        "  for name, data in file_name['new'].items():\n",
        "    clear_output()\n",
        "    display(pdb_upload)\n",
        "    print(f\"Selected file: {name}\")\n",
        "    pdb_file_path = f'./{name}'\n",
        "\n",
        "    with open(name, 'wb') as f:\n",
        "      f.write(data['content'])\n",
        "\n",
        "pdb_upload = widgets.FileUpload(\n",
        "    accept='.pdb',\n",
        "    multiple=False\n",
        ")\n",
        "pdb_upload.observe(update_pdb_file, names='value')\n",
        "pdb_upload"
      ]
    },
    {
      "cell_type": "markdown",
      "metadata": {
        "id": "p63MHIlsrLGG"
      },
      "source": [
        "Lastly, we will then collect some variants. The code in this notebook supports variants in JSON list format. Either enter a JSON-formatted list of variants in the text box below or upload a variant JSON file in the following cell. Run the cell to active the text entry or file upload."
      ]
    },
    {
      "cell_type": "code",
      "execution_count": 22,
      "metadata": {
        "cellView": "form",
        "colab": {
          "base_uri": "https://localhost:8080/",
          "height": 121,
          "referenced_widgets": [
            "2e1b8d20f17b4ef584c853fd4a99bf4b",
            "a6ebd99c816b4e58be247da685da9902",
            "32cd7130f6ba44fa85e4ad6f0aa492f4"
          ]
        },
        "id": "EjleQbnprLGH",
        "outputId": "216ea9e5-0806-46bd-afd8-dcfe350fe4c7"
      },
      "outputs": [
        {
          "output_type": "display_data",
          "data": {
            "text/plain": [
              "<IPython.core.display.HTML object>"
            ],
            "text/html": [
              "\n",
              "<style>\n",
              "  .variant_text_area > textarea::placeholder {\n",
              "    color: var(--colab-primary-text-color);\n",
              "  }\n",
              "\n",
              "  .variant_text_area > textarea {\n",
              "    background-color: var(--colab-secondary-surface-color);\n",
              "    color: var(--colab-primary-text-color);\n",
              "  }\n",
              "</style>\n"
            ]
          },
          "metadata": {}
        },
        {
          "output_type": "display_data",
          "data": {
            "text/plain": [
              "Textarea(value='', description='Variant String:', layout=Layout(height='100px', width='500px'), placeholder='[…"
            ],
            "application/vnd.jupyter.widget-view+json": {
              "version_major": 2,
              "version_minor": 0,
              "model_id": "2e1b8d20f17b4ef584c853fd4a99bf4b"
            }
          },
          "metadata": {}
        }
      ],
      "source": [
        "# @title Variant text input\n",
        "variants_string = \"\"\"[\"T17P,T54F\", \"V28L,F51A\", \"T17P,V28L,F51A,T54F\"]\n",
        "[\"T13P,T33F\"]\"\"\"\n",
        "style = {'description_width':'initial'}\n",
        "\n",
        "variant_text = widgets.Textarea(\n",
        "    value='',\n",
        "    placeholder=variants_string,\n",
        "    description='Variant String:',\n",
        "    disabled=False,\n",
        "    style = style,\n",
        "    layout=widgets.Layout(height='100px', width='500px'),\n",
        ")\n",
        "\n",
        "variant_text.add_class('variant_text_area')\n",
        "\n",
        "style = \"\"\"\n",
        "<style>\n",
        "  .variant_text_area > textarea::placeholder {\n",
        "    color: var(--colab-primary-text-color);\n",
        "  }\n",
        "\n",
        "  .variant_text_area > textarea {\n",
        "    background-color: var(--colab-secondary-surface-color);\n",
        "    color: var(--colab-primary-text-color);\n",
        "  }\n",
        "</style>\n",
        "\"\"\"\n",
        "\n",
        "display(HTML(style))\n",
        "display(variant_text)"
      ]
    },
    {
      "cell_type": "markdown",
      "metadata": {
        "id": "ggs9zSgPHOYj"
      },
      "source": [
        "If you would rather upload a file, run the cell below and use it to upload a file. If a file is uploaded, the input above will not be looked at for variants\n"
      ]
    },
    {
      "cell_type": "code",
      "execution_count": 23,
      "metadata": {
        "cellView": "form",
        "colab": {
          "base_uri": "https://localhost:8080/",
          "height": 49,
          "referenced_widgets": [
            "18ee47ab60e047bd8881c70e1999438f",
            "5ddecf2c18394ec2bda2e38999d2b1ae",
            "429005aabdfa4724af48b83a45bf1868"
          ]
        },
        "id": "8TLYi6orHN_8",
        "outputId": "e9b214fa-534f-4088-df0b-49ab6d6da89f"
      },
      "outputs": [
        {
          "output_type": "display_data",
          "data": {
            "text/plain": [
              "FileUpload(value={}, accept='.json, .txt', description='Upload')"
            ],
            "application/vnd.jupyter.widget-view+json": {
              "version_major": 2,
              "version_minor": 0,
              "model_id": "18ee47ab60e047bd8881c70e1999438f"
            }
          },
          "metadata": {}
        }
      ],
      "source": [
        "# @title Variant file upload\n",
        "# @markdown If you want to upload a variant JSON file, run this cell and upload the file with the provided button that appears below.\n",
        "\n",
        "\n",
        "def update_variant_file(button_input):\n",
        "  global variant_file\n",
        "  for name, data in button_input['new'].items():\n",
        "    clear_output()\n",
        "    display(variant_upload)\n",
        "    print(f'Loaded file: {name}')\n",
        "    variant_file = data['content'].decode('utf-8').splitlines()\n",
        "\n",
        "variant_upload = widgets.FileUpload(\n",
        "    accept='.json, .txt',\n",
        "    multiple=False\n",
        ")\n",
        "\n",
        "variant_upload.observe(update_variant_file, names='value')\n",
        "variant_upload"
      ]
    },
    {
      "cell_type": "code",
      "execution_count": 24,
      "metadata": {
        "cellView": "form",
        "colab": {
          "base_uri": "https://localhost:8080/"
        },
        "id": "mASfltPUrLGI",
        "outputId": "36dba643-0610-4632-d446-2df66c9bf99c"
      },
      "outputs": [
        {
          "output_type": "stream",
          "name": "stdout",
          "text": [
            "Using variant placeholder\n"
          ]
        }
      ],
      "source": [
        "# @title Variant Selecting Logic (always run this)\n",
        "\n",
        "clear_output()\n",
        "if len(variant_text.value) > 0:\n",
        "  print(\"Using text area input\")\n",
        "  variants = variant_text.value\n",
        "elif variant_file:\n",
        "  print(\"Using variants file\")\n",
        "  variants = variant_file\n",
        "else:\n",
        "  print(\"Using variant placeholder\")\n",
        "  variants = variant_text.placeholder.splitlines()"
      ]
    },
    {
      "cell_type": "markdown",
      "metadata": {
        "id": "YOfEUeNYrLGI"
      },
      "source": [
        "For biologists, one-based indexing is commonly used. However, METL models were designed to used zero-based indexing. If one-based indexing is needed, select it in the dropdown below."
      ]
    },
    {
      "cell_type": "code",
      "execution_count": 25,
      "metadata": {
        "cellView": "form",
        "id": "ecLAU9IOrLGK"
      },
      "outputs": [],
      "source": [
        "# @title Transform input from 1 based indexing to zero based indexing\n",
        "# @markdown Select indexing for residue mutations\n",
        "indexing = \"0\" # @param ['0', '1']"
      ]
    },
    {
      "cell_type": "markdown",
      "metadata": {
        "id": "ixhZbYm8rLGM"
      },
      "source": [
        "Since both file and string variants give the same result, we only need to use one moving forwards. We will use the string_variants variable.\n",
        "\n",
        "To predict with METL, we will need to use the loaded model and encoder with our variables we defined above. We will wrap this in a for loop to predict on all of our variants as we have multiple lines of them."
      ]
    },
    {
      "cell_type": "code",
      "execution_count": 26,
      "metadata": {
        "cellView": "form",
        "id": "th1JyojWrLGN"
      },
      "outputs": [],
      "source": [
        "# @title METL predicting loop\n",
        "output = []\n",
        "\n",
        "device = torch.device(\"cuda\" if torch.cuda.is_available() else \"cpu\")\n",
        "\n",
        "metl = metl.to(device)\n",
        "\n",
        "if indexing == \"1\":\n",
        "  predict_variants = to_zero_based(variants)\n",
        "else:\n",
        "  predict_variants = variants\n",
        "\n",
        "for variant in predict_variants:\n",
        "    # First in METL we need to encode our variants\n",
        "    if not isinstance(variant, list):\n",
        "      variant = json.loads(variant)\n",
        "    encoded_variants = metl.encoder.encode_variants(wildtype, variant)\n",
        "\n",
        "    #Next, we predict\n",
        "    with torch.no_grad():\n",
        "        if pdb_file_path:\n",
        "            predictions = metl(torch.tensor(encoded_variants).to(device), pdb_fn=pdb_file_path)\n",
        "        else:\n",
        "            predictions = metl(torch.tensor(encoded_variants).to(device))\n",
        "\n",
        "        output.append({\n",
        "            \"wt\": wildtype,\n",
        "            \"variants\": variant,\n",
        "            \"logits\": predictions.tolist()\n",
        "        })"
      ]
    },
    {
      "cell_type": "code",
      "execution_count": 27,
      "metadata": {
        "colab": {
          "base_uri": "https://localhost:8080/",
          "height": 300
        },
        "id": "J5XJ-4memIYp",
        "outputId": "5e031353-3de6-4637-f0cf-94c728e9b65f"
      },
      "outputs": [
        {
          "output_type": "display_data",
          "data": {
            "text/plain": [
              "<IPython.core.display.Javascript object>"
            ],
            "application/javascript": [
              "google.colab.output.setIframeHeight(0, true, {maxHeight: 300})"
            ]
          },
          "metadata": {}
        },
        {
          "output_type": "stream",
          "name": "stdout",
          "text": [
            "[\n",
            "  {\n",
            "    \"wt\": \"MQYKLILNGKTLKGETTTEAVDAATAEKVFKQYANDNGVDGEWTYDDATKTFTVTE\",\n",
            "    \"variants\": [\n",
            "      \"T17P,T54F\",\n",
            "      \"V28L,F51A\",\n",
            "      \"T17P,V28L,F51A,T54F\"\n",
            "    ],\n",
            "    \"logits\": [\n",
            "      [\n",
            "        0.6590991020202637,\n",
            "        -0.08049693703651428,\n",
            "        0.11373624205589294,\n",
            "        1.4331327676773071,\n",
            "        -0.003976300358772278,\n",
            "        0.16853787004947662,\n",
            "        0.5145285129547119,\n",
            "        -1.1548832654953003,\n",
            "        -0.20571443438529968,\n",
            "        2.667442560195923,\n",
            "        0.41927337646484375,\n",
            "        0.7023993134498596,\n",
            "        -0.6217738389968872,\n",
            "        1.088243007659912,\n",
            "        -0.2892734110355377,\n",
            "        1.396775722503662,\n",
            "        0.6249127388000488,\n",
            "        -0.8152581453323364,\n",
            "        -0.25194138288497925,\n",
            "        0.2249372899532318,\n",
            "        0.7511525750160217,\n",
            "        0.9799940586090088,\n",
            "        0.1690274327993393,\n",
            "        1.3717353343963623,\n",
            "        -0.07415583729743958,\n",
            "        0.8511269092559814,\n",
            "        -0.4129708707332611,\n",
            "        -0.04580826312303543,\n",
            "        -0.5695468187332153,\n",
            "        0.4530905783176422,\n",
            "        0.3971884846687317,\n",
            "        0.30440178513526917,\n",
            "        -0.28599846363067627,\n",
            "        -0.4856437146663666,\n",
            "        1.1446493864059448,\n",
            "        0.4548720121383667,\n",
            "        1.495203971862793,\n",
            "        0.05855285003781319,\n",
            "        -1.2672133445739746,\n",
            "        0.9071683883666992,\n",
            "        1.0979468822479248,\n",
            "        0.39718329906463623,\n",
            "        -1.2884514331817627,\n",
            "        0.7822027206420898,\n",
            "        1.424137830734253,\n",
            "        0.16050660610198975,\n",
            "        -0.47188788652420044,\n",
            "        -0.3807096481323242,\n",
            "        1.3630346059799194,\n",
            "        0.7026631832122803,\n",
            "        -1.1909109354019165,\n",
            "        2.3238673210144043,\n",
            "        -0.005734764039516449,\n",
            "        2.646303653717041,\n",
            "        -0.1562235802412033\n",
            "      ],\n",
            "      [\n",
            "        0.1514986753463745,\n",
            "        1.401354432106018,\n",
            "        0.3517235517501831,\n",
            "        -0.8150630593299866,\n",
            "        -0.523166298866272,\n",
            "        -0.3630932569503784,\n",
            "        -0.4683886468410492,\n",
            "        0.17266114056110382,\n",
            "        -0.23543331027030945,\n",
            "        -0.5443284511566162,\n",
            "        0.21576863527297974,\n",
            "        -0.9783605933189392,\n",
            "        1.1902419328689575,\n",
            "        0.05040577054023743,\n",
            "        -0.5202329754829407,\n",
            "        -0.16423140466213226,\n",
            "        -0.29233694076538086,\n",
            "        -0.38901495933532715,\n",
            "        -0.5652655959129333,\n",
            "        -1.5913454294204712,\n",
            "        -0.7642431259155273,\n",
            "        -1.5816686153411865,\n",
            "        -0.8396549224853516,\n",
            "        -1.3265753984451294,\n",
            "        0.17883414030075073,\n",
            "        0.576181948184967,\n",
            "        0.5685380697250366,\n",
            "        0.5376473665237427,\n",
            "        -0.3115624189376831,\n",
            "        0.3725539445877075,\n",
            "        0.8384069800376892,\n",
            "        0.1913319230079651,\n",
            "        -0.8014903664588928,\n",
            "        -0.007907867431640625,\n",
            "        -0.5338054299354553,\n",
            "        -0.6474889516830444,\n",
            "        -1.0113152265548706,\n",
            "        0.02648647502064705,\n",
            "        -0.10224349051713943,\n",
            "        -1.072929859161377,\n",
            "        -1.1568632125854492,\n",
            "        0.8384029269218445,\n",
            "        -1.3579269647598267,\n",
            "        -0.5934878587722778,\n",
            "        0.13653478026390076,\n",
            "        -0.23295338451862335,\n",
            "        0.02338385581970215,\n",
            "        -0.2941679060459137,\n",
            "        0.24144020676612854,\n",
            "        0.1747855842113495,\n",
            "        -0.014873862266540527,\n",
            "        0.20355601608753204,\n",
            "        -0.003633161075413227,\n",
            "        0.5389085412025452,\n",
            "        -0.16214129328727722\n",
            "      ],\n",
            "      [\n",
            "        1.0924522876739502,\n",
            "        1.3691527843475342,\n",
            "        -0.07067716866731644,\n",
            "        1.1789993047714233,\n",
            "        -0.7767326831817627,\n",
            "        -0.25737613439559937,\n",
            "        0.20370811223983765,\n",
            "        -1.0038195848464966,\n",
            "        0.12055148929357529,\n",
            "        2.332602024078369,\n",
            "        0.7964164614677429,\n",
            "        0.5360543727874756,\n",
            "        -0.13795414566993713,\n",
            "        1.0176711082458496,\n",
            "        -0.3136840760707855,\n",
            "        0.9249329566955566,\n",
            "        0.537727952003479,\n",
            "        -1.1812560558319092,\n",
            "        -0.7269535064697266,\n",
            "        -0.76736980676651,\n",
            "        0.11708268523216248,\n",
            "        -0.9698691368103027,\n",
            "        -0.5797880291938782,\n",
            "        -0.14410574734210968,\n",
            "        0.19867916405200958,\n",
            "        0.7335465550422668,\n",
            "        0.08814100176095963,\n",
            "        0.6794081330299377,\n",
            "        -0.08508408069610596,\n",
            "        0.6086207628250122,\n",
            "        1.1933220624923706,\n",
            "        -0.2659488916397095,\n",
            "        -0.4580877423286438,\n",
            "        -0.24715319275856018,\n",
            "        0.4782482981681824,\n",
            "        -0.34979870915412903,\n",
            "        -0.2117306888103485,\n",
            "        -0.07547205686569214,\n",
            "        -0.46878135204315186,\n",
            "        0.46530741453170776,\n",
            "        0.46666836738586426,\n",
            "        1.193317174911499,\n",
            "        -2.3628315925598145,\n",
            "        0.7037661075592041,\n",
            "        2.0700290203094482,\n",
            "        0.49032771587371826,\n",
            "        0.7943968772888184,\n",
            "        0.18035945296287537,\n",
            "        2.224592685699463,\n",
            "        1.2325092554092407,\n",
            "        -0.8344841003417969,\n",
            "        1.5976241827011108,\n",
            "        0.0013084327802062035,\n",
            "        2.0907530784606934,\n",
            "        -0.18517836928367615\n",
            "      ]\n",
            "    ]\n",
            "  },\n",
            "  {\n",
            "    \"wt\": \"MQYKLILNGKTLKGETTTEAVDAATAEKVFKQYANDNGVDGEWTYDDATKTFTVTE\",\n",
            "    \"variants\": [\n",
            "      \"T13P,T33F\"\n",
            "    ],\n",
            "    \"logits\": [\n",
            "      [\n",
            "        5.892396926879883,\n",
            "        -0.49729329347610474,\n",
            "        3.4404735565185547,\n",
            "        1.4037028551101685,\n",
            "        1.4926042556762695,\n",
            "        0.5995145440101624,\n",
            "        5.144721984863281,\n",
            "        -0.8868793845176697,\n",
            "        -0.5772048830986023,\n",
            "        2.4866859912872314,\n",
            "        -0.8809884190559387,\n",
            "        1.0559413433074951,\n",
            "        -1.0544968843460083,\n",
            "        8.170550346374512,\n",
            "        2.298809766769409,\n",
            "        4.560779571533203,\n",
            "        3.909329652786255,\n",
            "        -0.524370551109314,\n",
            "        -0.5766317844390869,\n",
            "        0.5325241088867188,\n",
            "        0.4633113741874695,\n",
            "        1.8912310600280762,\n",
            "        -1.1106513738632202,\n",
            "        3.052121639251709,\n",
            "        -2.182252883911133,\n",
            "        -1.3615329265594482,\n",
            "        -0.14913541078567505,\n",
            "        0.46431827545166016,\n",
            "        0.07554009556770325,\n",
            "        0.5355638265609741,\n",
            "        0.9300331473350525,\n",
            "        -1.5641148090362549,\n",
            "        -0.07960118353366852,\n",
            "        -2.1044697761535645,\n",
            "        -1.0663528442382812,\n",
            "        -1.3057321310043335,\n",
            "        1.3563634157180786,\n",
            "        0.04978596419095993,\n",
            "        -0.8320205807685852,\n",
            "        1.592291235923767,\n",
            "        1.6624232530593872,\n",
            "        0.9300246834754944,\n",
            "        -0.8972591161727905,\n",
            "        0.9684799909591675,\n",
            "        0.7739569544792175,\n",
            "        1.801008939743042,\n",
            "        1.642001986503601,\n",
            "        -0.7531395554542542,\n",
            "        3.081038475036621,\n",
            "        -0.7239490747451782,\n",
            "        1.1065503358840942,\n",
            "        1.1402804851531982,\n",
            "        -0.03098512813448906,\n",
            "        0.33966264128685,\n",
            "        0.5207974314689636\n",
            "      ]\n",
            "    ]\n",
            "  }\n",
            "]\n"
          ]
        }
      ],
      "source": [
        "# @title Display METL preditions\n",
        "from IPython.display import Javascript\n",
        "\n",
        "display(Javascript('''google.colab.output.setIframeHeight(0, true, {maxHeight: 300})'''))\n",
        "print(json.dumps(output, indent=2))"
      ]
    },
    {
      "cell_type": "markdown",
      "metadata": {
        "id": "pO8jdBssrLGO"
      },
      "source": [
        "Finally, we will save our output. We will save our output as a list of JSON Objects."
      ]
    },
    {
      "cell_type": "code",
      "execution_count": 28,
      "metadata": {
        "cellView": "form",
        "id": "nYz6NRB_rLGP"
      },
      "outputs": [],
      "source": [
        "# @title Saving the predictions\n",
        "with open('./output.json', 'w') as f:\n",
        "    f.write(json.dumps(output, indent=2))"
      ]
    }
  ],
  "metadata": {
    "accelerator": "GPU",
    "colab": {
      "gpuType": "T4",
      "provenance": []
    },
    "kernelspec": {
      "display_name": "Python 3",
      "name": "python3"
    },
    "language_info": {
      "codemirror_mode": {
        "name": "ipython",
        "version": 3
      },
      "file_extension": ".py",
      "mimetype": "text/x-python",
      "name": "python",
      "nbconvert_exporter": "python",
      "pygments_lexer": "ipython3",
      "version": "3.11.5"
    },
    "widgets": {
      "application/vnd.jupyter.widget-state+json": {
        "dfbab67b2c494fb8ab0237a97f9738e0": {
          "model_module": "@jupyter-widgets/controls",
          "model_name": "FileUploadModel",
          "model_module_version": "1.5.0",
          "state": {
            "_counter": 0,
            "_dom_classes": [],
            "_model_module": "@jupyter-widgets/controls",
            "_model_module_version": "1.5.0",
            "_model_name": "FileUploadModel",
            "_view_count": null,
            "_view_module": "@jupyter-widgets/controls",
            "_view_module_version": "1.5.0",
            "_view_name": "FileUploadView",
            "accept": ".pdb",
            "button_style": "",
            "data": [],
            "description": "Upload",
            "description_tooltip": null,
            "disabled": false,
            "error": "",
            "icon": "upload",
            "layout": "IPY_MODEL_200ab63cae634eddaa992fd64b35c0ac",
            "metadata": [],
            "multiple": false,
            "style": "IPY_MODEL_59c5e99e773a4ab39eb9e8604814d36c"
          }
        },
        "200ab63cae634eddaa992fd64b35c0ac": {
          "model_module": "@jupyter-widgets/base",
          "model_name": "LayoutModel",
          "model_module_version": "1.2.0",
          "state": {
            "_model_module": "@jupyter-widgets/base",
            "_model_module_version": "1.2.0",
            "_model_name": "LayoutModel",
            "_view_count": null,
            "_view_module": "@jupyter-widgets/base",
            "_view_module_version": "1.2.0",
            "_view_name": "LayoutView",
            "align_content": null,
            "align_items": null,
            "align_self": null,
            "border": null,
            "bottom": null,
            "display": null,
            "flex": null,
            "flex_flow": null,
            "grid_area": null,
            "grid_auto_columns": null,
            "grid_auto_flow": null,
            "grid_auto_rows": null,
            "grid_column": null,
            "grid_gap": null,
            "grid_row": null,
            "grid_template_areas": null,
            "grid_template_columns": null,
            "grid_template_rows": null,
            "height": null,
            "justify_content": null,
            "justify_items": null,
            "left": null,
            "margin": null,
            "max_height": null,
            "max_width": null,
            "min_height": null,
            "min_width": null,
            "object_fit": null,
            "object_position": null,
            "order": null,
            "overflow": null,
            "overflow_x": null,
            "overflow_y": null,
            "padding": null,
            "right": null,
            "top": null,
            "visibility": null,
            "width": null
          }
        },
        "59c5e99e773a4ab39eb9e8604814d36c": {
          "model_module": "@jupyter-widgets/controls",
          "model_name": "ButtonStyleModel",
          "model_module_version": "1.5.0",
          "state": {
            "_model_module": "@jupyter-widgets/controls",
            "_model_module_version": "1.5.0",
            "_model_name": "ButtonStyleModel",
            "_view_count": null,
            "_view_module": "@jupyter-widgets/base",
            "_view_module_version": "1.2.0",
            "_view_name": "StyleView",
            "button_color": null,
            "font_weight": ""
          }
        },
        "2e1b8d20f17b4ef584c853fd4a99bf4b": {
          "model_module": "@jupyter-widgets/controls",
          "model_name": "TextareaModel",
          "model_module_version": "1.5.0",
          "state": {
            "_dom_classes": [
              "variant_text_area"
            ],
            "_model_module": "@jupyter-widgets/controls",
            "_model_module_version": "1.5.0",
            "_model_name": "TextareaModel",
            "_view_count": null,
            "_view_module": "@jupyter-widgets/controls",
            "_view_module_version": "1.5.0",
            "_view_name": "TextareaView",
            "continuous_update": true,
            "description": "Variant String:",
            "description_tooltip": null,
            "disabled": false,
            "layout": "IPY_MODEL_a6ebd99c816b4e58be247da685da9902",
            "placeholder": "[\"T17P,T54F\", \"V28L,F51A\", \"T17P,V28L,F51A,T54F\"]\n[\"T13P,T33F\"]",
            "rows": null,
            "style": "IPY_MODEL_32cd7130f6ba44fa85e4ad6f0aa492f4",
            "value": ""
          }
        },
        "a6ebd99c816b4e58be247da685da9902": {
          "model_module": "@jupyter-widgets/base",
          "model_name": "LayoutModel",
          "model_module_version": "1.2.0",
          "state": {
            "_model_module": "@jupyter-widgets/base",
            "_model_module_version": "1.2.0",
            "_model_name": "LayoutModel",
            "_view_count": null,
            "_view_module": "@jupyter-widgets/base",
            "_view_module_version": "1.2.0",
            "_view_name": "LayoutView",
            "align_content": null,
            "align_items": null,
            "align_self": null,
            "border": null,
            "bottom": null,
            "display": null,
            "flex": null,
            "flex_flow": null,
            "grid_area": null,
            "grid_auto_columns": null,
            "grid_auto_flow": null,
            "grid_auto_rows": null,
            "grid_column": null,
            "grid_gap": null,
            "grid_row": null,
            "grid_template_areas": null,
            "grid_template_columns": null,
            "grid_template_rows": null,
            "height": "100px",
            "justify_content": null,
            "justify_items": null,
            "left": null,
            "margin": null,
            "max_height": null,
            "max_width": null,
            "min_height": null,
            "min_width": null,
            "object_fit": null,
            "object_position": null,
            "order": null,
            "overflow": null,
            "overflow_x": null,
            "overflow_y": null,
            "padding": null,
            "right": null,
            "top": null,
            "visibility": null,
            "width": "500px"
          }
        },
        "32cd7130f6ba44fa85e4ad6f0aa492f4": {
          "model_module": "@jupyter-widgets/controls",
          "model_name": "DescriptionStyleModel",
          "model_module_version": "1.5.0",
          "state": {
            "_model_module": "@jupyter-widgets/controls",
            "_model_module_version": "1.5.0",
            "_model_name": "DescriptionStyleModel",
            "_view_count": null,
            "_view_module": "@jupyter-widgets/base",
            "_view_module_version": "1.2.0",
            "_view_name": "StyleView",
            "description_width": "initial"
          }
        },
        "18ee47ab60e047bd8881c70e1999438f": {
          "model_module": "@jupyter-widgets/controls",
          "model_name": "FileUploadModel",
          "model_module_version": "1.5.0",
          "state": {
            "_counter": 0,
            "_dom_classes": [],
            "_model_module": "@jupyter-widgets/controls",
            "_model_module_version": "1.5.0",
            "_model_name": "FileUploadModel",
            "_view_count": null,
            "_view_module": "@jupyter-widgets/controls",
            "_view_module_version": "1.5.0",
            "_view_name": "FileUploadView",
            "accept": ".json, .txt",
            "button_style": "",
            "data": [],
            "description": "Upload",
            "description_tooltip": null,
            "disabled": false,
            "error": "",
            "icon": "upload",
            "layout": "IPY_MODEL_5ddecf2c18394ec2bda2e38999d2b1ae",
            "metadata": [],
            "multiple": false,
            "style": "IPY_MODEL_429005aabdfa4724af48b83a45bf1868"
          }
        },
        "5ddecf2c18394ec2bda2e38999d2b1ae": {
          "model_module": "@jupyter-widgets/base",
          "model_name": "LayoutModel",
          "model_module_version": "1.2.0",
          "state": {
            "_model_module": "@jupyter-widgets/base",
            "_model_module_version": "1.2.0",
            "_model_name": "LayoutModel",
            "_view_count": null,
            "_view_module": "@jupyter-widgets/base",
            "_view_module_version": "1.2.0",
            "_view_name": "LayoutView",
            "align_content": null,
            "align_items": null,
            "align_self": null,
            "border": null,
            "bottom": null,
            "display": null,
            "flex": null,
            "flex_flow": null,
            "grid_area": null,
            "grid_auto_columns": null,
            "grid_auto_flow": null,
            "grid_auto_rows": null,
            "grid_column": null,
            "grid_gap": null,
            "grid_row": null,
            "grid_template_areas": null,
            "grid_template_columns": null,
            "grid_template_rows": null,
            "height": null,
            "justify_content": null,
            "justify_items": null,
            "left": null,
            "margin": null,
            "max_height": null,
            "max_width": null,
            "min_height": null,
            "min_width": null,
            "object_fit": null,
            "object_position": null,
            "order": null,
            "overflow": null,
            "overflow_x": null,
            "overflow_y": null,
            "padding": null,
            "right": null,
            "top": null,
            "visibility": null,
            "width": null
          }
        },
        "429005aabdfa4724af48b83a45bf1868": {
          "model_module": "@jupyter-widgets/controls",
          "model_name": "ButtonStyleModel",
          "model_module_version": "1.5.0",
          "state": {
            "_model_module": "@jupyter-widgets/controls",
            "_model_module_version": "1.5.0",
            "_model_name": "ButtonStyleModel",
            "_view_count": null,
            "_view_module": "@jupyter-widgets/base",
            "_view_module_version": "1.2.0",
            "_view_name": "StyleView",
            "button_color": null,
            "font_weight": ""
          }
        }
      }
    }
  },
  "nbformat": 4,
  "nbformat_minor": 0
}