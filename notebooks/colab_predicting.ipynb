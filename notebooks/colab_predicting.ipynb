{
  "cells": [
    {
      "cell_type": "markdown",
      "metadata": {
        "id": "_Om47-OgrLFv"
      },
      "source": [
        "This notebook will show an example on how to use METL models through hugging face to predict on more than the sequences allowed by the demo.\n",
        "\n",
        "First, we will import the required 🤗 modules in order to download the METL wrapper through their API."
      ]
    },
    {
      "cell_type": "code",
      "execution_count": 1,
      "metadata": {
        "cellView": "form",
        "colab": {
          "base_uri": "https://localhost:8080/"
        },
        "id": "WkNKKIqXr4OU",
        "outputId": "3fcf08b6-b863-47cd-cd72-bed1ba1f1ce9"
      },
      "outputs": [
        {
          "name": "stdout",
          "output_type": "stream",
          "text": [
            "\u001b[?25l   \u001b[90m━━━━━━━━━━━━━━━━━━━━━━━━━━━━━━━━━━━━━━━━\u001b[0m \u001b[32m0.0/68.3 kB\u001b[0m \u001b[31m?\u001b[0m eta \u001b[36m-:--:--\u001b[0m\r\u001b[2K   \u001b[90m━━━━━━━━━━━━━━━━━━━━━━━━━━━━━━━━━━━━━━━━\u001b[0m \u001b[32m68.3/68.3 kB\u001b[0m \u001b[31m2.8 MB/s\u001b[0m eta \u001b[36m0:00:00\u001b[0m\n",
            "\u001b[?25h"
          ]
        }
      ],
      "source": [
        "# @title Installing libraries not included with colab\n",
        "!pip install -q biopandas==0.5.1"
      ]
    },
    {
      "cell_type": "code",
      "execution_count": 2,
      "metadata": {
        "cellView": "form",
        "colab": {
          "base_uri": "https://localhost:8080/"
        },
        "id": "tP_HrR5YSiqk",
        "outputId": "428ff993-1446-4c5d-a4a6-185cb346f176"
      },
      "outputs": [
        {
          "name": "stdout",
          "output_type": "stream",
          "text": [
            "--2024-08-19 21:44:05--  https://raw.githubusercontent.com/gitter-lab/metl-pretrained/main/pdbs/2qmt_p.pdb\n",
            "Resolving raw.githubusercontent.com (raw.githubusercontent.com)... 185.199.108.133, 185.199.109.133, 185.199.110.133, ...\n",
            "Connecting to raw.githubusercontent.com (raw.githubusercontent.com)|185.199.108.133|:443... connected.\n",
            "HTTP request sent, awaiting response... 200 OK\n",
            "Length: 78764 (77K) [text/plain]\n",
            "Saving to: ‘2qmt_p.pdb’\n",
            "\n",
            "\r2qmt_p.pdb            0%[                    ]       0  --.-KB/s               \r2qmt_p.pdb          100%[===================>]  76.92K  --.-KB/s    in 0.01s   \n",
            "\n",
            "2024-08-19 21:44:05 (5.27 MB/s) - ‘2qmt_p.pdb’ saved [78764/78764]\n",
            "\n"
          ]
        }
      ],
      "source": [
        "# @title download the example pdb file\n",
        "!wget -O 2qmt_p.pdb https://raw.githubusercontent.com/gitter-lab/metl-pretrained/main/pdbs/2qmt_p.pdb"
      ]
    },
    {
      "cell_type": "code",
      "execution_count": 3,
      "metadata": {
        "cellView": "form",
        "id": "mpjvGjzArLF1"
      },
      "outputs": [],
      "source": [
        "# @title Importing required libraries\n",
        "from transformers import AutoModel, AutoConfig, logging\n",
        "import ipywidgets as widgets\n",
        "from IPython.display import clear_output, HTML, display\n",
        "import pandas as pd\n",
        "import torch\n",
        "from huggingface_hub import login\n",
        "import io\n",
        "import json\n",
        "import biopandas\n",
        "\n",
        "logging.set_verbosity_error()\n",
        "\n",
        "# Declaring this here so that it's available regardless if later cells are run or not\n",
        "variant_file = None\n",
        "pdb_file_path = '2qmt_p.pdb'"
      ]
    },
    {
      "cell_type": "markdown",
      "metadata": {
        "id": "sfBGUCJorLF5"
      },
      "source": [
        "Next we will define a necessary helper function for later on in the file."
      ]
    },
    {
      "cell_type": "code",
      "execution_count": 4,
      "metadata": {
        "cellView": "form",
        "id": "bY_fMXgMrLF6"
      },
      "outputs": [],
      "source": [
        "# @title To zero based helper functoin\n",
        "def to_zero_based(variants):\n",
        "    zero_based = []\n",
        "    for line in variants:\n",
        "        line_as_json = json.loads(line)\n",
        "        new_variants = []\n",
        "        for variant in line_as_json:\n",
        "            new_variant = []\n",
        "            mutations = variant.split(',')\n",
        "            for mutation in mutations:\n",
        "                residue_zero_based = int(mutation[1:-1]) - 1\n",
        "                new_variant.append(f\"{mutation[0]}{residue_zero_based}{mutation[-1]}\")\n",
        "            new_variants.append(\",\".join(new_variant))\n",
        "        zero_based.append(new_variants)\n",
        "\n",
        "    return zero_based"
      ]
    },
    {
      "cell_type": "markdown",
      "metadata": {
        "id": "JWJCsBukrLF7"
      },
      "source": [
        "We will then load a METL model through the 🤗 API. trust_remote_code=True is required to use METL models through 🤗."
      ]
    },
    {
      "cell_type": "code",
      "execution_count": 5,
      "metadata": {
        "cellView": "form",
        "colab": {
          "base_uri": "https://localhost:8080/",
          "height": 202,
          "referenced_widgets": [
            "9675fa6ffbc24956b73f5678f1b1378e",
            "ce1b1efe8def42468305dc4aa9db46b7",
            "738f5ce4d5624866853a083c64061c17",
            "16b23742cc57451685c6d879074fa927",
            "d309692dd41d4ed39761a997e384ab9b",
            "a9983b7631014b1fa0f894e26dfa6baf",
            "7ee1cbd016db43fdaceaaa9461dc8c10",
            "de2b5bbb9de448f697c3ab63f657c269",
            "dfa18e57365a43ee82560b0914e71ec4",
            "8ed04e43e31741ad90b17f4d4a99fabd",
            "d530a1e92cab4d41bc9db878d456f950",
            "df8289201f734f90ab0d23b39bce8ae2",
            "d8cda8df783d41ca951fb0e983bfae23",
            "4abd40e6c94648658e1187064b778a7c",
            "56e0917ad5ca44db84fb15e1d44db0da",
            "e206c3c532824633809e3cffd58b9a1c",
            "7077f04cbcfb4dd5a44dc14d37381eaa",
            "53afbb49039148a8a94e3f108fc6b52a",
            "fb6cd2c0c96b4d51917eb458cf8acc97",
            "84e0849ad71b4c6b95daf28317d8fbb8",
            "0896776aeeaa4917b51cf946fea7663a",
            "d2ef61286bc44c8eb48277bc29730524",
            "bfe3b4b533f84e48a2b820cbfce9dcf2",
            "7ad2ca1b07674e4292b04f441660be0e",
            "b0e5e2207ce54861b47d7b593f1eb884",
            "f91362bcfd624785a438371699a724b3",
            "c05a432373d74c87ae7348e89e11c162",
            "db6cde19ca394758abfbc4b9267fbe03",
            "871af3cc19e1489e85834c0c20ea281d",
            "9c81c4f4b09f49e3aff7c81d34dc6fa2",
            "c239c3db91514be3aa4c84568f44d12d",
            "28e61c03f160467e8de45ce752620e13",
            "e908a67f37334277a65ab3b3b4f861da"
          ]
        },
        "id": "vIp69-KLrLF8",
        "outputId": "2baded08-7aac-4cd7-bdfc-30333473a53f"
      },
      "outputs": [
        {
          "name": "stdout",
          "output_type": "stream",
          "text": [
            "The token has not been saved to the git credentials helper. Pass `add_to_git_credential=True` in this function directly or `--add-to-git-credential` if using via `huggingface-cli` if you want to set the git credential as well.\n",
            "Token is valid (permission: write).\n",
            "Your token has been saved to /root/.cache/huggingface/token\n",
            "Login successful\n"
          ]
        },
        {
          "data": {
            "application/vnd.jupyter.widget-view+json": {
              "model_id": "9675fa6ffbc24956b73f5678f1b1378e",
              "version_major": 2,
              "version_minor": 0
            },
            "text/plain": [
              "config.json:   0%|          | 0.00/282 [00:00<?, ?B/s]"
            ]
          },
          "metadata": {},
          "output_type": "display_data"
        },
        {
          "data": {
            "application/vnd.jupyter.widget-view+json": {
              "model_id": "df8289201f734f90ab0d23b39bce8ae2",
              "version_major": 2,
              "version_minor": 0
            },
            "text/plain": [
              "huggingface_wrapper.py:   0%|          | 0.00/100k [00:00<?, ?B/s]"
            ]
          },
          "metadata": {},
          "output_type": "display_data"
        },
        {
          "data": {
            "application/vnd.jupyter.widget-view+json": {
              "model_id": "bfe3b4b533f84e48a2b820cbfce9dcf2",
              "version_major": 2,
              "version_minor": 0
            },
            "text/plain": [
              "model.safetensors:   0%|          | 0.00/176 [00:00<?, ?B/s]"
            ]
          },
          "metadata": {},
          "output_type": "display_data"
        }
      ],
      "source": [
        "# @title Loading METL from 🤗\n",
        "from google.colab import userdata\n",
        "\n",
        "API_KEY = userdata.get('SPACE_KEY')\n",
        "login(API_KEY)\n",
        "metl = AutoModel.from_pretrained('gitter-lab/METL', trust_remote_code=True)"
      ]
    },
    {
      "cell_type": "markdown",
      "metadata": {
        "id": "Y6PH3mozrLF_"
      },
      "source": [
        "The METL 🤗 wrapper requires the loading of the specific METL model after initialization of the `metl` variable above. Use the dropdown below to select a model to use for predicting.\n",
        "\n",
        "The publically available METL models are hosted on zenodo [here](https://zenodo.org/records/11051645). **TODO: Add some link to where we eventually document what each metl model does**"
      ]
    },
    {
      "cell_type": "code",
      "execution_count": 6,
      "metadata": {
        "cellView": "form",
        "colab": {
          "base_uri": "https://localhost:8080/"
        },
        "id": "Odg6Mps7rLGA",
        "outputId": "94754026-500e-47cc-cc25-0c0ac8091c21"
      },
      "outputs": [
        {
          "name": "stderr",
          "output_type": "stream",
          "text": [
            "Downloading: \"https://zenodo.org/records/11051645/files/METL-L-2M-3D-GB1-epegcFiH.pt?download=1\" to /root/.cache/torch/hub/checkpoints/epegcFiH.pt\n",
            "100%|██████████| 9.40M/9.40M [00:01<00:00, 6.84MB/s]\n"
          ]
        },
        {
          "name": "stdout",
          "output_type": "stream",
          "text": [
            "Initialized PDB bucket matrices in: 0.000\n",
            "Initialized PDB bucket matrices in: 0.000\n"
          ]
        }
      ],
      "source": [
        "# @title Available metl models\n",
        "# @markdown You may use this dropdown here to chose a metl model to predict with. Running this cell will load the selected model.\n",
        "metl_model = 'metl-l-2m-3d-gb1' # @param [\"metl-g-20m-1d\",\"metl-g-20m-3d\",\"metl-g-50m-1d\",\"metl-g-50m-3d\",\"metl-l-2m-1d-gfp\",\"metl-l-2m-3d-gfp\",\"metl-l-2m-1d-dlg4\",\"metl-l-2m-3d-dlg4\",\"metl-l-2m-1d-gb1\",\"metl-l-2m-3d-gb1\",\"metl-l-2m-1d-grb2\",\"metl-l-2m-3d-grb2\",\"metl-l-2m-1d-pab1\",\"metl-l-2m-3d-pab1\",\"metl-l-2m-1d-tem-1\",\"metl-l-2m-3d-tem-1\",\"metl-l-2m-1d-ube4b\",\"metl-l-2m-3d-ube4b\",\"metl-bind-2m-3d-gb1-standard\",\"metl-bind-2m-3d-gb1-binding\",\"metl-l-2m-1d-gfp-ft-design\",\"metl-l-2m-3d-gfp-ft-design\"]\n",
        "metl.load_from_ident(metl_model)"
      ]
    },
    {
      "cell_type": "markdown",
      "metadata": {
        "id": "UENVWR2srLGD"
      },
      "source": [
        "Depending on the model chosen, different files might be needed. This example is setup to use metl-l-2m-3d-gb1 and will need a few data for prediction. **Link to the model descriptions here again to describe the IO of each model**.\n",
        "\n",
        "Specifically, for this 3d gb1 model we will need:\n",
        "- A wild type sequnece\n",
        "- a PDB structure file (as this is a 3d model)\n",
        "- variants to use with METL"
      ]
    },
    {
      "cell_type": "code",
      "execution_count": 7,
      "metadata": {
        "cellView": "form",
        "id": "HBAocw_urLGE"
      },
      "outputs": [],
      "source": [
        "# @title Protein wild type\n",
        "# @markdown Enter the wild type of your protein here. The wildtype for gb1 is provided to use with the default model example here.\n",
        "wildtype = 'MQYKLILNGKTLKGETTTEAVDAATAEKVFKQYANDNGVDGEWTYDDATKTFTVTE' # @param {type:\"string\", placeholder:\"Enter a wildtype here\"}"
      ]
    },
    {
      "cell_type": "markdown",
      "metadata": {
        "id": "9H12FqxWrLGF"
      },
      "source": [
        "The PDB file is something that we will reference from within the colab through its file path. If you don't need a PDB file for your use-case, simply set this variable to None."
      ]
    },
    {
      "cell_type": "code",
      "execution_count": 8,
      "metadata": {
        "cellView": "form",
        "colab": {
          "base_uri": "https://localhost:8080/",
          "height": 49,
          "referenced_widgets": [
            "bda2b5a3958341afac697a9453d490ea",
            "b4771f2133ea478f883c72515a956e86",
            "55d27c64b1dd44b8867abc6afad050b6"
          ]
        },
        "id": "nVj7UumyrLGF",
        "outputId": "90ba1b80-748d-490e-db23-345752e0d8ac"
      },
      "outputs": [
        {
          "data": {
            "application/vnd.jupyter.widget-view+json": {
              "model_id": "bda2b5a3958341afac697a9453d490ea",
              "version_major": 2,
              "version_minor": 0
            },
            "text/plain": [
              "FileUpload(value={}, accept='.pdb', description='Upload')"
            ]
          },
          "metadata": {},
          "output_type": "display_data"
        }
      ],
      "source": [
        "# @title PDB file upload\n",
        "# @markdown If your model needs a PDB file, run this cell and upload the file with the provided button that appears below.\n",
        "# @markdown\n",
        "# @markdown If you would like to change the file, simply upload another one. The last uploaded file will be what is used.\n",
        "# @markdown If you would like to predict with the pre-loaded GB1 model, download (this pdb file)[https://github.com/gitter-lab/metl-pretrained/blob/main/pdbs/2qmt_p.pdb]\n",
        "\n",
        "def update_pdb_file(file_name):\n",
        "  global pdb_file_path\n",
        "  for name, data in file_name['new'].items():\n",
        "    clear_output()\n",
        "    display(pdb_upload)\n",
        "    print(f\"Selected file: {name}\")\n",
        "    pdb_file_path = f'./{name}'\n",
        "\n",
        "    with open(name, 'wb') as f:\n",
        "      f.write(data['content'])\n",
        "\n",
        "pdb_upload = widgets.FileUpload(\n",
        "    accept='.pdb',\n",
        "    multiple=False\n",
        ")\n",
        "pdb_upload.observe(update_pdb_file, names='value')\n",
        "pdb_upload"
      ]
    },
    {
      "cell_type": "markdown",
      "metadata": {
        "id": "p63MHIlsrLGG"
      },
      "source": [
        "Lastly, we will then collect some variants. The code in this notebook supports variants in JSON list format. Upload a file (2 cells below), or enter a JSON list formatted variants in the text box below."
      ]
    },
    {
      "cell_type": "code",
      "execution_count": 9,
      "metadata": {
        "cellView": "form",
        "colab": {
          "base_uri": "https://localhost:8080/",
          "height": 121,
          "referenced_widgets": [
            "4514938ed3f84b38af2d31106559e99e",
            "038f471ab24244d4ab4ec1a8b523882a",
            "10fb8e7ac03a4b0a9a13774ccba7eea4"
          ]
        },
        "id": "EjleQbnprLGH",
        "outputId": "a0446e35-b4c7-42c5-ee49-5fb4a836ab32"
      },
      "outputs": [
        {
          "data": {
            "text/html": [
              "\n",
              "<style>\n",
              "  .variant_text_area > textarea::placeholder {\n",
              "    color: var(--colab-primary-text-color);\n",
              "  }\n",
              "\n",
              "  .variant_text_area > textarea {\n",
              "    background-color: var(--colab-secondary-surface-color);\n",
              "    color: var(--colab-primary-text-color);\n",
              "  }\n",
              "</style>\n"
            ],
            "text/plain": [
              "<IPython.core.display.HTML object>"
            ]
          },
          "metadata": {},
          "output_type": "display_data"
        },
        {
          "data": {
            "application/vnd.jupyter.widget-view+json": {
              "model_id": "4514938ed3f84b38af2d31106559e99e",
              "version_major": 2,
              "version_minor": 0
            },
            "text/plain": [
              "Textarea(value='', description='Variant String:', layout=Layout(height='100px', width='500px'), placeholder='[…"
            ]
          },
          "metadata": {},
          "output_type": "display_data"
        }
      ],
      "source": [
        "# @title Variant text input\n",
        "variants_string = \"\"\"[\"T17P,T54F\", \"V28L,F51A\", \"T17P,V28L,F51A,T54F\"]\n",
        "[\"T13P,T33F\"]\"\"\"\n",
        "style = {'description_width':'initial'}\n",
        "\n",
        "variant_text = widgets.Textarea(\n",
        "    value='',\n",
        "    placeholder=variants_string,\n",
        "    description='Variant String:',\n",
        "    disabled=False,\n",
        "    style = style,\n",
        "    layout=widgets.Layout(height='100px', width='500px'),\n",
        ")\n",
        "\n",
        "variant_text.add_class('variant_text_area')\n",
        "\n",
        "style = \"\"\"\n",
        "<style>\n",
        "  .variant_text_area > textarea::placeholder {\n",
        "    color: var(--colab-primary-text-color);\n",
        "  }\n",
        "\n",
        "  .variant_text_area > textarea {\n",
        "    background-color: var(--colab-secondary-surface-color);\n",
        "    color: var(--colab-primary-text-color);\n",
        "  }\n",
        "</style>\n",
        "\"\"\"\n",
        "\n",
        "display(HTML(style))\n",
        "display(variant_text)"
      ]
    },
    {
      "cell_type": "markdown",
      "metadata": {
        "id": "ggs9zSgPHOYj"
      },
      "source": [
        "If you would rather upload a file, run the cell below and use it to upload a file. If a file is uploaded, the input above will not be looked at for variants\n"
      ]
    },
    {
      "cell_type": "code",
      "execution_count": 10,
      "metadata": {
        "cellView": "form",
        "colab": {
          "base_uri": "https://localhost:8080/",
          "height": 49,
          "referenced_widgets": [
            "1e2171b76da74feb84ce1b1e4341c15b",
            "d1a941b70bb541a88eb4cabe38477bdc",
            "04c99f8d2faf49928fb1e7cbd88e5f8a"
          ]
        },
        "id": "8TLYi6orHN_8",
        "outputId": "64901ee5-a8b0-4766-bf44-2273cb056bb8"
      },
      "outputs": [
        {
          "data": {
            "application/vnd.jupyter.widget-view+json": {
              "model_id": "1e2171b76da74feb84ce1b1e4341c15b",
              "version_major": 2,
              "version_minor": 0
            },
            "text/plain": [
              "FileUpload(value={}, accept='.json, .txt', description='Upload')"
            ]
          },
          "metadata": {},
          "output_type": "display_data"
        }
      ],
      "source": [
        "# @title Variant file upload\n",
        "# @markdown If you want to upload a variant JSON file, run this cell and upload the file with the provided button that appears below.\n",
        "\n",
        "\n",
        "def update_variant_file(button_input):\n",
        "  global variant_file\n",
        "  for name, data in button_input['new'].items():\n",
        "    clear_output()\n",
        "    display(variant_upload)\n",
        "    print(f'Loaded file: {name}')\n",
        "    variant_file = data['content'].decode('utf-8').splitlines()\n",
        "\n",
        "variant_upload = widgets.FileUpload(\n",
        "    accept='.json, .txt',\n",
        "    multiple=False\n",
        ")\n",
        "\n",
        "variant_upload.observe(update_variant_file, names='value')\n",
        "variant_upload"
      ]
    },
    {
      "cell_type": "code",
      "execution_count": 11,
      "metadata": {
        "cellView": "form",
        "colab": {
          "base_uri": "https://localhost:8080/"
        },
        "id": "mASfltPUrLGI",
        "outputId": "8d67aea9-f3b3-467c-ee43-6cbdc5f33d62"
      },
      "outputs": [
        {
          "name": "stdout",
          "output_type": "stream",
          "text": [
            "Using variant placeholder\n"
          ]
        }
      ],
      "source": [
        "# @title Variant Selecting Logic (always run this)\n",
        "\n",
        "clear_output()\n",
        "if len(variant_text.value) > 0:\n",
        "  print(\"Using text area input\")\n",
        "  variants = variant_text.value\n",
        "elif variant_file:\n",
        "  print(\"Using variants file\")\n",
        "  variants = variant_file\n",
        "else:\n",
        "  print(\"Using variant placeholder\")\n",
        "  variants = variant_text.placeholder.splitlines()"
      ]
    },
    {
      "cell_type": "markdown",
      "metadata": {
        "id": "YOfEUeNYrLGI"
      },
      "source": [
        "For biologists, one-based indexing is commonly used. However, METL models were designed to used zero-based indexing. If one-based indexing is needed, select it in the dropdown below."
      ]
    },
    {
      "cell_type": "code",
      "execution_count": 12,
      "metadata": {
        "cellView": "form",
        "id": "ecLAU9IOrLGK"
      },
      "outputs": [],
      "source": [
        "# @title Transform input from 1 based indexing to zero based indexing\n",
        "# @markdown Select indexing for residue mutations\n",
        "indexing = \"0\" # @param ['0', '1']"
      ]
    },
    {
      "cell_type": "markdown",
      "metadata": {
        "id": "ixhZbYm8rLGM"
      },
      "source": [
        "Since both file and string variants give the same result, we only need to use one moving forwards. We will use the string_variants variable.\n",
        "\n",
        "To predict with METL, we will need to use the loaded model and encoder with our variables we defined above. We will wrap this in a for loop to predict on all of our variants as we have multiple lines of them."
      ]
    },
    {
      "cell_type": "code",
      "execution_count": 13,
      "metadata": {
        "cellView": "form",
        "id": "th1JyojWrLGN"
      },
      "outputs": [],
      "source": [
        "# @title METL predicting loop\n",
        "output = []\n",
        "\n",
        "device = torch.device(\"cuda\" if torch.cuda.is_available() else \"cpu\")\n",
        "\n",
        "metl = metl.to(device)\n",
        "\n",
        "if indexing == \"1\":\n",
        "  predict_variants = to_zero_based(variants)\n",
        "else:\n",
        "  predict_variants = variants\n",
        "\n",
        "for variant in predict_variants:\n",
        "    # First in METL we need to encode our variants\n",
        "    if not isinstance(variant, list):\n",
        "      variant = json.loads(variant)\n",
        "    encoded_variants = metl.encoder.encode_variants(wildtype, variant)\n",
        "\n",
        "    #Next, we predict\n",
        "    with torch.no_grad():\n",
        "        if pdb_file_path:\n",
        "            predictions = metl(torch.tensor(encoded_variants).to(device), pdb_fn=pdb_file_path)\n",
        "        else:\n",
        "            predictions = metl(torch.tensor(encoded_variants).to(device))\n",
        "\n",
        "        output.append({\n",
        "            \"wt\": wildtype,\n",
        "            \"variants\": variant,\n",
        "            \"logits\": predictions.tolist()\n",
        "        })"
      ]
    },
    {
      "cell_type": "code",
      "execution_count": 16,
      "metadata": {
        "colab": {
          "base_uri": "https://localhost:8080/",
          "height": 300
        },
        "id": "J5XJ-4memIYp",
        "outputId": "a6514b60-6ad8-4bf0-849d-46cfaaf8a294"
      },
      "outputs": [
        {
          "data": {
            "application/javascript": "google.colab.output.setIframeHeight(0, true, {maxHeight: 300})",
            "text/plain": [
              "<IPython.core.display.Javascript object>"
            ]
          },
          "metadata": {},
          "output_type": "display_data"
        },
        {
          "name": "stdout",
          "output_type": "stream",
          "text": [
            "[\n",
            "  {\n",
            "    \"wt\": \"MQYKLILNGKTLKGETTTEAVDAATAEKVFKQYANDNGVDGEWTYDDATKTFTVTE\",\n",
            "    \"variants\": [\n",
            "      \"T17P,T54F\",\n",
            "      \"V28L,F51A\",\n",
            "      \"T17P,V28L,F51A,T54F\"\n",
            "    ],\n",
            "    \"logits\": [\n",
            "      [\n",
            "        0.7439557313919067,\n",
            "        0.05980418622493744,\n",
            "        0.024358421564102173,\n",
            "        1.2682971954345703,\n",
            "        -0.32055193185806274,\n",
            "        0.191476508975029,\n",
            "        0.48838353157043457,\n",
            "        -1.4894952774047852,\n",
            "        -0.2861354947090149,\n",
            "        2.8766539096832275,\n",
            "        0.8954546451568604,\n",
            "        0.5828602910041809,\n",
            "        -0.27455952763557434,\n",
            "        1.636953353881836,\n",
            "        -0.1327229142189026,\n",
            "        1.2955682277679443,\n",
            "        0.6702917814254761,\n",
            "        -0.6201027631759644,\n",
            "        -0.25465258955955505,\n",
            "        -0.11269893497228622,\n",
            "        0.5933904051780701,\n",
            "        0.7011810541152954,\n",
            "        -0.08423371613025665,\n",
            "        1.327063798904419,\n",
            "        -0.02551889419555664,\n",
            "        0.6531369686126709,\n",
            "        -0.23584792017936707,\n",
            "        0.06701026111841202,\n",
            "        -0.6870932579040527,\n",
            "        0.515762209892273,\n",
            "        0.5582014322280884,\n",
            "        0.2519944906234741,\n",
            "        0.09955058991909027,\n",
            "        -0.596206784248352,\n",
            "        1.0137680768966675,\n",
            "        0.11277520656585693,\n",
            "        1.3569642305374146,\n",
            "        0.08653093874454498,\n",
            "        -1.0626903772354126,\n",
            "        0.8437974452972412,\n",
            "        0.9905989170074463,\n",
            "        0.5581963062286377,\n",
            "        -1.1692564487457275,\n",
            "        0.7044106721878052,\n",
            "        1.4692021608352661,\n",
            "        0.48123621940612793,\n",
            "        -0.8125927448272705,\n",
            "        -0.7872622013092041,\n",
            "        2.2367138862609863,\n",
            "        1.0969915390014648,\n",
            "        -1.429244041442871,\n",
            "        2.8315937519073486,\n",
            "        0.004003586247563362,\n",
            "        2.5654659271240234,\n",
            "        -0.22442318499088287\n",
            "      ],\n",
            "      [\n",
            "        -0.08697620034217834,\n",
            "        1.3156228065490723,\n",
            "        0.13171598315238953,\n",
            "        -0.6739966869354248,\n",
            "        -0.370316743850708,\n",
            "        -0.09067602455615997,\n",
            "        -0.5265511274337769,\n",
            "        -0.05593187361955643,\n",
            "        -0.18329080939292908,\n",
            "        -0.5598616600036621,\n",
            "        0.1481737196445465,\n",
            "        -0.9173487424850464,\n",
            "        0.9922858476638794,\n",
            "        0.07365792989730835,\n",
            "        -0.795732319355011,\n",
            "        -0.12752263247966766,\n",
            "        -0.42093929648399353,\n",
            "        -0.30548492074012756,\n",
            "        -0.5884270071983337,\n",
            "        -1.527877926826477,\n",
            "        -0.5033639073371887,\n",
            "        -1.4557197093963623,\n",
            "        -0.307053804397583,\n",
            "        -0.9644832611083984,\n",
            "        0.27372103929519653,\n",
            "        0.32574689388275146,\n",
            "        0.7832091450691223,\n",
            "        0.538183867931366,\n",
            "        -0.25327128171920776,\n",
            "        0.27871063351631165,\n",
            "        0.748062014579773,\n",
            "        0.00212039053440094,\n",
            "        -0.7900306582450867,\n",
            "        0.21318531036376953,\n",
            "        -0.7907015681266785,\n",
            "        -0.4088272154331207,\n",
            "        -0.7049537897109985,\n",
            "        -0.06814368069171906,\n",
            "        -0.06530238687992096,\n",
            "        -0.8700871467590332,\n",
            "        -0.8985331654548645,\n",
            "        0.7480582594871521,\n",
            "        -0.8626811504364014,\n",
            "        -0.7626336216926575,\n",
            "        0.06568996608257294,\n",
            "        -0.01848423480987549,\n",
            "        0.03380918502807617,\n",
            "        -0.32451409101486206,\n",
            "        0.05743548274040222,\n",
            "        0.10730474442243576,\n",
            "        -0.20049329102039337,\n",
            "        0.0975203663110733,\n",
            "        -0.03245411440730095,\n",
            "        0.5450597405433655,\n",
            "        -0.2210157811641693\n",
            "      ],\n",
            "      [\n",
            "        0.7771878242492676,\n",
            "        1.3114343881607056,\n",
            "        -0.012182354927062988,\n",
            "        0.8552881479263306,\n",
            "        -0.7927926182746887,\n",
            "        -0.5721793174743652,\n",
            "        0.010838627815246582,\n",
            "        -1.0582994222640991,\n",
            "        -0.23413538932800293,\n",
            "        1.6550647020339966,\n",
            "        0.7121488451957703,\n",
            "        -0.14398884773254395,\n",
            "        0.4697418510913849,\n",
            "        0.8055416941642761,\n",
            "        -0.3256339132785797,\n",
            "        0.9476250410079956,\n",
            "        0.5597456693649292,\n",
            "        -0.9523859024047852,\n",
            "        -0.7322959899902344,\n",
            "        -0.6324459910392761,\n",
            "        0.3314003050327301,\n",
            "        -1.1419556140899658,\n",
            "        -0.894864559173584,\n",
            "        -0.344786673784256,\n",
            "        -0.03127695620059967,\n",
            "        0.5853173732757568,\n",
            "        -0.12264762073755264,\n",
            "        0.41519010066986084,\n",
            "        0.041307512670755386,\n",
            "        0.48165205121040344,\n",
            "        0.8350603580474854,\n",
            "        -0.04630818963050842,\n",
            "        -0.5424583554267883,\n",
            "        -0.3669750988483429,\n",
            "        0.7574549913406372,\n",
            "        -0.6029090881347656,\n",
            "        -0.1283474713563919,\n",
            "        -0.060376983135938644,\n",
            "        -0.643833577632904,\n",
            "        0.38315483927726746,\n",
            "        0.3885853588581085,\n",
            "        0.8350547552108765,\n",
            "        -2.4018311500549316,\n",
            "        0.37359121441841125,\n",
            "        1.9198334217071533,\n",
            "        0.8875982761383057,\n",
            "        -0.16969184577465057,\n",
            "        0.22055387496948242,\n",
            "        2.4585986137390137,\n",
            "        1.2325514554977417,\n",
            "        -0.5369597673416138,\n",
            "        1.9459927082061768,\n",
            "        -0.03438543528318405,\n",
            "        2.015953302383423,\n",
            "        -0.20249487459659576\n",
            "      ]\n",
            "    ]\n",
            "  },\n",
            "  {\n",
            "    \"wt\": \"MQYKLILNGKTLKGETTTEAVDAATAEKVFKQYANDNGVDGEWTYDDATKTFTVTE\",\n",
            "    \"variants\": [\n",
            "      \"T13P,T33F\"\n",
            "    ],\n",
            "    \"logits\": [\n",
            "      [\n",
            "        6.26312255859375,\n",
            "        -0.317566454410553,\n",
            "        3.4302141666412354,\n",
            "        1.4035505056381226,\n",
            "        1.241213321685791,\n",
            "        0.37521523237228394,\n",
            "        5.061342716217041,\n",
            "        -1.1037918329238892,\n",
            "        -0.7942070364952087,\n",
            "        2.8502368927001953,\n",
            "        -1.0051552057266235,\n",
            "        1.0691003799438477,\n",
            "        -0.9276374578475952,\n",
            "        10.052335739135742,\n",
            "        2.5388412475585938,\n",
            "        5.073174953460693,\n",
            "        4.180245399475098,\n",
            "        -0.7394668459892273,\n",
            "        -0.624318540096283,\n",
            "        0.4930281937122345,\n",
            "        0.5181777477264404,\n",
            "        1.98514723777771,\n",
            "        -0.5727043747901917,\n",
            "        2.8816614151000977,\n",
            "        -2.3935630321502686,\n",
            "        -1.311666488647461,\n",
            "        -0.30938494205474854,\n",
            "        0.4868788719177246,\n",
            "        0.13409340381622314,\n",
            "        0.3388042449951172,\n",
            "        0.7581492066383362,\n",
            "        -0.970974326133728,\n",
            "        -0.18873749673366547,\n",
            "        -2.2353787422180176,\n",
            "        -0.9657674431800842,\n",
            "        -1.3321665525436401,\n",
            "        1.2479448318481445,\n",
            "        0.0030700089409947395,\n",
            "        -0.5822324752807617,\n",
            "        1.5151475667953491,\n",
            "        1.6513816118240356,\n",
            "        0.7581412196159363,\n",
            "        -1.0448381900787354,\n",
            "        0.831072211265564,\n",
            "        0.8690347671508789,\n",
            "        1.860695719718933,\n",
            "        2.0122106075286865,\n",
            "        -0.9047555923461914,\n",
            "        2.885678291320801,\n",
            "        -0.6415910720825195,\n",
            "        0.899309515953064,\n",
            "        1.5127564668655396,\n",
            "        -0.09488194435834885,\n",
            "        0.14658042788505554,\n",
            "        0.7432166934013367\n",
            "      ]\n",
            "    ]\n",
            "  }\n",
            "]\n"
          ]
        }
      ],
      "source": [
        "# @title Display METL preditions\n",
        "from IPython.display import Javascript\n",
        "\n",
        "display(Javascript('''google.colab.output.setIframeHeight(0, true, {maxHeight: 300})'''))\n",
        "print(json.dumps(output, indent=2))"
      ]
    },
    {
      "cell_type": "markdown",
      "metadata": {
        "id": "pO8jdBssrLGO"
      },
      "source": [
        "Finally, we will save our output. We will save our output as a list of JSON Objects."
      ]
    },
    {
      "cell_type": "code",
      "execution_count": 15,
      "metadata": {
        "cellView": "form",
        "id": "nYz6NRB_rLGP"
      },
      "outputs": [],
      "source": [
        "# @title Saving the predictions\n",
        "with open('./output.json', 'w') as f:\n",
        "    f.write(json.dumps(output, indent=2))"
      ]
    }
  ],
  "metadata": {
    "accelerator": "GPU",
    "colab": {
      "gpuType": "T4",
      "provenance": []
    },
    "kernelspec": {
      "display_name": "Python 3",
      "name": "python3"
    },
    "language_info": {
      "codemirror_mode": {
        "name": "ipython",
        "version": 3
      },
      "file_extension": ".py",
      "mimetype": "text/x-python",
      "name": "python",
      "nbconvert_exporter": "python",
      "pygments_lexer": "ipython3",
      "version": "3.11.5"
    },
    "widgets": {
      "application/vnd.jupyter.widget-state+json": {
        "038f471ab24244d4ab4ec1a8b523882a": {
          "model_module": "@jupyter-widgets/base",
          "model_module_version": "1.2.0",
          "model_name": "LayoutModel",
          "state": {
            "_model_module": "@jupyter-widgets/base",
            "_model_module_version": "1.2.0",
            "_model_name": "LayoutModel",
            "_view_count": null,
            "_view_module": "@jupyter-widgets/base",
            "_view_module_version": "1.2.0",
            "_view_name": "LayoutView",
            "align_content": null,
            "align_items": null,
            "align_self": null,
            "border": null,
            "bottom": null,
            "display": null,
            "flex": null,
            "flex_flow": null,
            "grid_area": null,
            "grid_auto_columns": null,
            "grid_auto_flow": null,
            "grid_auto_rows": null,
            "grid_column": null,
            "grid_gap": null,
            "grid_row": null,
            "grid_template_areas": null,
            "grid_template_columns": null,
            "grid_template_rows": null,
            "height": "100px",
            "justify_content": null,
            "justify_items": null,
            "left": null,
            "margin": null,
            "max_height": null,
            "max_width": null,
            "min_height": null,
            "min_width": null,
            "object_fit": null,
            "object_position": null,
            "order": null,
            "overflow": null,
            "overflow_x": null,
            "overflow_y": null,
            "padding": null,
            "right": null,
            "top": null,
            "visibility": null,
            "width": "500px"
          }
        },
        "04c99f8d2faf49928fb1e7cbd88e5f8a": {
          "model_module": "@jupyter-widgets/controls",
          "model_module_version": "1.5.0",
          "model_name": "ButtonStyleModel",
          "state": {
            "_model_module": "@jupyter-widgets/controls",
            "_model_module_version": "1.5.0",
            "_model_name": "ButtonStyleModel",
            "_view_count": null,
            "_view_module": "@jupyter-widgets/base",
            "_view_module_version": "1.2.0",
            "_view_name": "StyleView",
            "button_color": null,
            "font_weight": ""
          }
        },
        "0896776aeeaa4917b51cf946fea7663a": {
          "model_module": "@jupyter-widgets/base",
          "model_module_version": "1.2.0",
          "model_name": "LayoutModel",
          "state": {
            "_model_module": "@jupyter-widgets/base",
            "_model_module_version": "1.2.0",
            "_model_name": "LayoutModel",
            "_view_count": null,
            "_view_module": "@jupyter-widgets/base",
            "_view_module_version": "1.2.0",
            "_view_name": "LayoutView",
            "align_content": null,
            "align_items": null,
            "align_self": null,
            "border": null,
            "bottom": null,
            "display": null,
            "flex": null,
            "flex_flow": null,
            "grid_area": null,
            "grid_auto_columns": null,
            "grid_auto_flow": null,
            "grid_auto_rows": null,
            "grid_column": null,
            "grid_gap": null,
            "grid_row": null,
            "grid_template_areas": null,
            "grid_template_columns": null,
            "grid_template_rows": null,
            "height": null,
            "justify_content": null,
            "justify_items": null,
            "left": null,
            "margin": null,
            "max_height": null,
            "max_width": null,
            "min_height": null,
            "min_width": null,
            "object_fit": null,
            "object_position": null,
            "order": null,
            "overflow": null,
            "overflow_x": null,
            "overflow_y": null,
            "padding": null,
            "right": null,
            "top": null,
            "visibility": null,
            "width": null
          }
        },
        "10fb8e7ac03a4b0a9a13774ccba7eea4": {
          "model_module": "@jupyter-widgets/controls",
          "model_module_version": "1.5.0",
          "model_name": "DescriptionStyleModel",
          "state": {
            "_model_module": "@jupyter-widgets/controls",
            "_model_module_version": "1.5.0",
            "_model_name": "DescriptionStyleModel",
            "_view_count": null,
            "_view_module": "@jupyter-widgets/base",
            "_view_module_version": "1.2.0",
            "_view_name": "StyleView",
            "description_width": "initial"
          }
        },
        "16b23742cc57451685c6d879074fa927": {
          "model_module": "@jupyter-widgets/controls",
          "model_module_version": "1.5.0",
          "model_name": "HTMLModel",
          "state": {
            "_dom_classes": [],
            "_model_module": "@jupyter-widgets/controls",
            "_model_module_version": "1.5.0",
            "_model_name": "HTMLModel",
            "_view_count": null,
            "_view_module": "@jupyter-widgets/controls",
            "_view_module_version": "1.5.0",
            "_view_name": "HTMLView",
            "description": "",
            "description_tooltip": null,
            "layout": "IPY_MODEL_8ed04e43e31741ad90b17f4d4a99fabd",
            "placeholder": "​",
            "style": "IPY_MODEL_d530a1e92cab4d41bc9db878d456f950",
            "value": " 282/282 [00:00&lt;00:00, 15.9kB/s]"
          }
        },
        "1e2171b76da74feb84ce1b1e4341c15b": {
          "model_module": "@jupyter-widgets/controls",
          "model_module_version": "1.5.0",
          "model_name": "FileUploadModel",
          "state": {
            "_counter": 0,
            "_dom_classes": [],
            "_model_module": "@jupyter-widgets/controls",
            "_model_module_version": "1.5.0",
            "_model_name": "FileUploadModel",
            "_view_count": null,
            "_view_module": "@jupyter-widgets/controls",
            "_view_module_version": "1.5.0",
            "_view_name": "FileUploadView",
            "accept": ".json, .txt",
            "button_style": "",
            "data": [],
            "description": "Upload",
            "description_tooltip": null,
            "disabled": false,
            "error": "",
            "icon": "upload",
            "layout": "IPY_MODEL_d1a941b70bb541a88eb4cabe38477bdc",
            "metadata": [],
            "multiple": false,
            "style": "IPY_MODEL_04c99f8d2faf49928fb1e7cbd88e5f8a"
          }
        },
        "28e61c03f160467e8de45ce752620e13": {
          "model_module": "@jupyter-widgets/base",
          "model_module_version": "1.2.0",
          "model_name": "LayoutModel",
          "state": {
            "_model_module": "@jupyter-widgets/base",
            "_model_module_version": "1.2.0",
            "_model_name": "LayoutModel",
            "_view_count": null,
            "_view_module": "@jupyter-widgets/base",
            "_view_module_version": "1.2.0",
            "_view_name": "LayoutView",
            "align_content": null,
            "align_items": null,
            "align_self": null,
            "border": null,
            "bottom": null,
            "display": null,
            "flex": null,
            "flex_flow": null,
            "grid_area": null,
            "grid_auto_columns": null,
            "grid_auto_flow": null,
            "grid_auto_rows": null,
            "grid_column": null,
            "grid_gap": null,
            "grid_row": null,
            "grid_template_areas": null,
            "grid_template_columns": null,
            "grid_template_rows": null,
            "height": null,
            "justify_content": null,
            "justify_items": null,
            "left": null,
            "margin": null,
            "max_height": null,
            "max_width": null,
            "min_height": null,
            "min_width": null,
            "object_fit": null,
            "object_position": null,
            "order": null,
            "overflow": null,
            "overflow_x": null,
            "overflow_y": null,
            "padding": null,
            "right": null,
            "top": null,
            "visibility": null,
            "width": null
          }
        },
        "4514938ed3f84b38af2d31106559e99e": {
          "model_module": "@jupyter-widgets/controls",
          "model_module_version": "1.5.0",
          "model_name": "TextareaModel",
          "state": {
            "_dom_classes": [
              "variant_text_area"
            ],
            "_model_module": "@jupyter-widgets/controls",
            "_model_module_version": "1.5.0",
            "_model_name": "TextareaModel",
            "_view_count": null,
            "_view_module": "@jupyter-widgets/controls",
            "_view_module_version": "1.5.0",
            "_view_name": "TextareaView",
            "continuous_update": true,
            "description": "Variant String:",
            "description_tooltip": null,
            "disabled": false,
            "layout": "IPY_MODEL_038f471ab24244d4ab4ec1a8b523882a",
            "placeholder": "[\"T17P,T54F\", \"V28L,F51A\", \"T17P,V28L,F51A,T54F\"]\n[\"T13P,T33F\"]",
            "rows": null,
            "style": "IPY_MODEL_10fb8e7ac03a4b0a9a13774ccba7eea4",
            "value": ""
          }
        },
        "4abd40e6c94648658e1187064b778a7c": {
          "model_module": "@jupyter-widgets/controls",
          "model_module_version": "1.5.0",
          "model_name": "FloatProgressModel",
          "state": {
            "_dom_classes": [],
            "_model_module": "@jupyter-widgets/controls",
            "_model_module_version": "1.5.0",
            "_model_name": "FloatProgressModel",
            "_view_count": null,
            "_view_module": "@jupyter-widgets/controls",
            "_view_module_version": "1.5.0",
            "_view_name": "ProgressView",
            "bar_style": "success",
            "description": "",
            "description_tooltip": null,
            "layout": "IPY_MODEL_fb6cd2c0c96b4d51917eb458cf8acc97",
            "max": 99960,
            "min": 0,
            "orientation": "horizontal",
            "style": "IPY_MODEL_84e0849ad71b4c6b95daf28317d8fbb8",
            "value": 99960
          }
        },
        "53afbb49039148a8a94e3f108fc6b52a": {
          "model_module": "@jupyter-widgets/controls",
          "model_module_version": "1.5.0",
          "model_name": "DescriptionStyleModel",
          "state": {
            "_model_module": "@jupyter-widgets/controls",
            "_model_module_version": "1.5.0",
            "_model_name": "DescriptionStyleModel",
            "_view_count": null,
            "_view_module": "@jupyter-widgets/base",
            "_view_module_version": "1.2.0",
            "_view_name": "StyleView",
            "description_width": ""
          }
        },
        "55d27c64b1dd44b8867abc6afad050b6": {
          "model_module": "@jupyter-widgets/controls",
          "model_module_version": "1.5.0",
          "model_name": "ButtonStyleModel",
          "state": {
            "_model_module": "@jupyter-widgets/controls",
            "_model_module_version": "1.5.0",
            "_model_name": "ButtonStyleModel",
            "_view_count": null,
            "_view_module": "@jupyter-widgets/base",
            "_view_module_version": "1.2.0",
            "_view_name": "StyleView",
            "button_color": null,
            "font_weight": ""
          }
        },
        "56e0917ad5ca44db84fb15e1d44db0da": {
          "model_module": "@jupyter-widgets/controls",
          "model_module_version": "1.5.0",
          "model_name": "HTMLModel",
          "state": {
            "_dom_classes": [],
            "_model_module": "@jupyter-widgets/controls",
            "_model_module_version": "1.5.0",
            "_model_name": "HTMLModel",
            "_view_count": null,
            "_view_module": "@jupyter-widgets/controls",
            "_view_module_version": "1.5.0",
            "_view_name": "HTMLView",
            "description": "",
            "description_tooltip": null,
            "layout": "IPY_MODEL_0896776aeeaa4917b51cf946fea7663a",
            "placeholder": "​",
            "style": "IPY_MODEL_d2ef61286bc44c8eb48277bc29730524",
            "value": " 100k/100k [00:00&lt;00:00, 4.45MB/s]"
          }
        },
        "7077f04cbcfb4dd5a44dc14d37381eaa": {
          "model_module": "@jupyter-widgets/base",
          "model_module_version": "1.2.0",
          "model_name": "LayoutModel",
          "state": {
            "_model_module": "@jupyter-widgets/base",
            "_model_module_version": "1.2.0",
            "_model_name": "LayoutModel",
            "_view_count": null,
            "_view_module": "@jupyter-widgets/base",
            "_view_module_version": "1.2.0",
            "_view_name": "LayoutView",
            "align_content": null,
            "align_items": null,
            "align_self": null,
            "border": null,
            "bottom": null,
            "display": null,
            "flex": null,
            "flex_flow": null,
            "grid_area": null,
            "grid_auto_columns": null,
            "grid_auto_flow": null,
            "grid_auto_rows": null,
            "grid_column": null,
            "grid_gap": null,
            "grid_row": null,
            "grid_template_areas": null,
            "grid_template_columns": null,
            "grid_template_rows": null,
            "height": null,
            "justify_content": null,
            "justify_items": null,
            "left": null,
            "margin": null,
            "max_height": null,
            "max_width": null,
            "min_height": null,
            "min_width": null,
            "object_fit": null,
            "object_position": null,
            "order": null,
            "overflow": null,
            "overflow_x": null,
            "overflow_y": null,
            "padding": null,
            "right": null,
            "top": null,
            "visibility": null,
            "width": null
          }
        },
        "738f5ce4d5624866853a083c64061c17": {
          "model_module": "@jupyter-widgets/controls",
          "model_module_version": "1.5.0",
          "model_name": "FloatProgressModel",
          "state": {
            "_dom_classes": [],
            "_model_module": "@jupyter-widgets/controls",
            "_model_module_version": "1.5.0",
            "_model_name": "FloatProgressModel",
            "_view_count": null,
            "_view_module": "@jupyter-widgets/controls",
            "_view_module_version": "1.5.0",
            "_view_name": "ProgressView",
            "bar_style": "success",
            "description": "",
            "description_tooltip": null,
            "layout": "IPY_MODEL_de2b5bbb9de448f697c3ab63f657c269",
            "max": 282,
            "min": 0,
            "orientation": "horizontal",
            "style": "IPY_MODEL_dfa18e57365a43ee82560b0914e71ec4",
            "value": 282
          }
        },
        "7ad2ca1b07674e4292b04f441660be0e": {
          "model_module": "@jupyter-widgets/controls",
          "model_module_version": "1.5.0",
          "model_name": "HTMLModel",
          "state": {
            "_dom_classes": [],
            "_model_module": "@jupyter-widgets/controls",
            "_model_module_version": "1.5.0",
            "_model_name": "HTMLModel",
            "_view_count": null,
            "_view_module": "@jupyter-widgets/controls",
            "_view_module_version": "1.5.0",
            "_view_name": "HTMLView",
            "description": "",
            "description_tooltip": null,
            "layout": "IPY_MODEL_db6cde19ca394758abfbc4b9267fbe03",
            "placeholder": "​",
            "style": "IPY_MODEL_871af3cc19e1489e85834c0c20ea281d",
            "value": "model.safetensors: 100%"
          }
        },
        "7ee1cbd016db43fdaceaaa9461dc8c10": {
          "model_module": "@jupyter-widgets/controls",
          "model_module_version": "1.5.0",
          "model_name": "DescriptionStyleModel",
          "state": {
            "_model_module": "@jupyter-widgets/controls",
            "_model_module_version": "1.5.0",
            "_model_name": "DescriptionStyleModel",
            "_view_count": null,
            "_view_module": "@jupyter-widgets/base",
            "_view_module_version": "1.2.0",
            "_view_name": "StyleView",
            "description_width": ""
          }
        },
        "84e0849ad71b4c6b95daf28317d8fbb8": {
          "model_module": "@jupyter-widgets/controls",
          "model_module_version": "1.5.0",
          "model_name": "ProgressStyleModel",
          "state": {
            "_model_module": "@jupyter-widgets/controls",
            "_model_module_version": "1.5.0",
            "_model_name": "ProgressStyleModel",
            "_view_count": null,
            "_view_module": "@jupyter-widgets/base",
            "_view_module_version": "1.2.0",
            "_view_name": "StyleView",
            "bar_color": null,
            "description_width": ""
          }
        },
        "871af3cc19e1489e85834c0c20ea281d": {
          "model_module": "@jupyter-widgets/controls",
          "model_module_version": "1.5.0",
          "model_name": "DescriptionStyleModel",
          "state": {
            "_model_module": "@jupyter-widgets/controls",
            "_model_module_version": "1.5.0",
            "_model_name": "DescriptionStyleModel",
            "_view_count": null,
            "_view_module": "@jupyter-widgets/base",
            "_view_module_version": "1.2.0",
            "_view_name": "StyleView",
            "description_width": ""
          }
        },
        "8ed04e43e31741ad90b17f4d4a99fabd": {
          "model_module": "@jupyter-widgets/base",
          "model_module_version": "1.2.0",
          "model_name": "LayoutModel",
          "state": {
            "_model_module": "@jupyter-widgets/base",
            "_model_module_version": "1.2.0",
            "_model_name": "LayoutModel",
            "_view_count": null,
            "_view_module": "@jupyter-widgets/base",
            "_view_module_version": "1.2.0",
            "_view_name": "LayoutView",
            "align_content": null,
            "align_items": null,
            "align_self": null,
            "border": null,
            "bottom": null,
            "display": null,
            "flex": null,
            "flex_flow": null,
            "grid_area": null,
            "grid_auto_columns": null,
            "grid_auto_flow": null,
            "grid_auto_rows": null,
            "grid_column": null,
            "grid_gap": null,
            "grid_row": null,
            "grid_template_areas": null,
            "grid_template_columns": null,
            "grid_template_rows": null,
            "height": null,
            "justify_content": null,
            "justify_items": null,
            "left": null,
            "margin": null,
            "max_height": null,
            "max_width": null,
            "min_height": null,
            "min_width": null,
            "object_fit": null,
            "object_position": null,
            "order": null,
            "overflow": null,
            "overflow_x": null,
            "overflow_y": null,
            "padding": null,
            "right": null,
            "top": null,
            "visibility": null,
            "width": null
          }
        },
        "9675fa6ffbc24956b73f5678f1b1378e": {
          "model_module": "@jupyter-widgets/controls",
          "model_module_version": "1.5.0",
          "model_name": "HBoxModel",
          "state": {
            "_dom_classes": [],
            "_model_module": "@jupyter-widgets/controls",
            "_model_module_version": "1.5.0",
            "_model_name": "HBoxModel",
            "_view_count": null,
            "_view_module": "@jupyter-widgets/controls",
            "_view_module_version": "1.5.0",
            "_view_name": "HBoxView",
            "box_style": "",
            "children": [
              "IPY_MODEL_ce1b1efe8def42468305dc4aa9db46b7",
              "IPY_MODEL_738f5ce4d5624866853a083c64061c17",
              "IPY_MODEL_16b23742cc57451685c6d879074fa927"
            ],
            "layout": "IPY_MODEL_d309692dd41d4ed39761a997e384ab9b"
          }
        },
        "9c81c4f4b09f49e3aff7c81d34dc6fa2": {
          "model_module": "@jupyter-widgets/base",
          "model_module_version": "1.2.0",
          "model_name": "LayoutModel",
          "state": {
            "_model_module": "@jupyter-widgets/base",
            "_model_module_version": "1.2.0",
            "_model_name": "LayoutModel",
            "_view_count": null,
            "_view_module": "@jupyter-widgets/base",
            "_view_module_version": "1.2.0",
            "_view_name": "LayoutView",
            "align_content": null,
            "align_items": null,
            "align_self": null,
            "border": null,
            "bottom": null,
            "display": null,
            "flex": null,
            "flex_flow": null,
            "grid_area": null,
            "grid_auto_columns": null,
            "grid_auto_flow": null,
            "grid_auto_rows": null,
            "grid_column": null,
            "grid_gap": null,
            "grid_row": null,
            "grid_template_areas": null,
            "grid_template_columns": null,
            "grid_template_rows": null,
            "height": null,
            "justify_content": null,
            "justify_items": null,
            "left": null,
            "margin": null,
            "max_height": null,
            "max_width": null,
            "min_height": null,
            "min_width": null,
            "object_fit": null,
            "object_position": null,
            "order": null,
            "overflow": null,
            "overflow_x": null,
            "overflow_y": null,
            "padding": null,
            "right": null,
            "top": null,
            "visibility": null,
            "width": null
          }
        },
        "a9983b7631014b1fa0f894e26dfa6baf": {
          "model_module": "@jupyter-widgets/base",
          "model_module_version": "1.2.0",
          "model_name": "LayoutModel",
          "state": {
            "_model_module": "@jupyter-widgets/base",
            "_model_module_version": "1.2.0",
            "_model_name": "LayoutModel",
            "_view_count": null,
            "_view_module": "@jupyter-widgets/base",
            "_view_module_version": "1.2.0",
            "_view_name": "LayoutView",
            "align_content": null,
            "align_items": null,
            "align_self": null,
            "border": null,
            "bottom": null,
            "display": null,
            "flex": null,
            "flex_flow": null,
            "grid_area": null,
            "grid_auto_columns": null,
            "grid_auto_flow": null,
            "grid_auto_rows": null,
            "grid_column": null,
            "grid_gap": null,
            "grid_row": null,
            "grid_template_areas": null,
            "grid_template_columns": null,
            "grid_template_rows": null,
            "height": null,
            "justify_content": null,
            "justify_items": null,
            "left": null,
            "margin": null,
            "max_height": null,
            "max_width": null,
            "min_height": null,
            "min_width": null,
            "object_fit": null,
            "object_position": null,
            "order": null,
            "overflow": null,
            "overflow_x": null,
            "overflow_y": null,
            "padding": null,
            "right": null,
            "top": null,
            "visibility": null,
            "width": null
          }
        },
        "b0e5e2207ce54861b47d7b593f1eb884": {
          "model_module": "@jupyter-widgets/controls",
          "model_module_version": "1.5.0",
          "model_name": "FloatProgressModel",
          "state": {
            "_dom_classes": [],
            "_model_module": "@jupyter-widgets/controls",
            "_model_module_version": "1.5.0",
            "_model_name": "FloatProgressModel",
            "_view_count": null,
            "_view_module": "@jupyter-widgets/controls",
            "_view_module_version": "1.5.0",
            "_view_name": "ProgressView",
            "bar_style": "success",
            "description": "",
            "description_tooltip": null,
            "layout": "IPY_MODEL_9c81c4f4b09f49e3aff7c81d34dc6fa2",
            "max": 176,
            "min": 0,
            "orientation": "horizontal",
            "style": "IPY_MODEL_c239c3db91514be3aa4c84568f44d12d",
            "value": 176
          }
        },
        "b4771f2133ea478f883c72515a956e86": {
          "model_module": "@jupyter-widgets/base",
          "model_module_version": "1.2.0",
          "model_name": "LayoutModel",
          "state": {
            "_model_module": "@jupyter-widgets/base",
            "_model_module_version": "1.2.0",
            "_model_name": "LayoutModel",
            "_view_count": null,
            "_view_module": "@jupyter-widgets/base",
            "_view_module_version": "1.2.0",
            "_view_name": "LayoutView",
            "align_content": null,
            "align_items": null,
            "align_self": null,
            "border": null,
            "bottom": null,
            "display": null,
            "flex": null,
            "flex_flow": null,
            "grid_area": null,
            "grid_auto_columns": null,
            "grid_auto_flow": null,
            "grid_auto_rows": null,
            "grid_column": null,
            "grid_gap": null,
            "grid_row": null,
            "grid_template_areas": null,
            "grid_template_columns": null,
            "grid_template_rows": null,
            "height": null,
            "justify_content": null,
            "justify_items": null,
            "left": null,
            "margin": null,
            "max_height": null,
            "max_width": null,
            "min_height": null,
            "min_width": null,
            "object_fit": null,
            "object_position": null,
            "order": null,
            "overflow": null,
            "overflow_x": null,
            "overflow_y": null,
            "padding": null,
            "right": null,
            "top": null,
            "visibility": null,
            "width": null
          }
        },
        "bda2b5a3958341afac697a9453d490ea": {
          "model_module": "@jupyter-widgets/controls",
          "model_module_version": "1.5.0",
          "model_name": "FileUploadModel",
          "state": {
            "_counter": 0,
            "_dom_classes": [],
            "_model_module": "@jupyter-widgets/controls",
            "_model_module_version": "1.5.0",
            "_model_name": "FileUploadModel",
            "_view_count": null,
            "_view_module": "@jupyter-widgets/controls",
            "_view_module_version": "1.5.0",
            "_view_name": "FileUploadView",
            "accept": ".pdb",
            "button_style": "",
            "data": [],
            "description": "Upload",
            "description_tooltip": null,
            "disabled": false,
            "error": "",
            "icon": "upload",
            "layout": "IPY_MODEL_b4771f2133ea478f883c72515a956e86",
            "metadata": [],
            "multiple": false,
            "style": "IPY_MODEL_55d27c64b1dd44b8867abc6afad050b6"
          }
        },
        "bfe3b4b533f84e48a2b820cbfce9dcf2": {
          "model_module": "@jupyter-widgets/controls",
          "model_module_version": "1.5.0",
          "model_name": "HBoxModel",
          "state": {
            "_dom_classes": [],
            "_model_module": "@jupyter-widgets/controls",
            "_model_module_version": "1.5.0",
            "_model_name": "HBoxModel",
            "_view_count": null,
            "_view_module": "@jupyter-widgets/controls",
            "_view_module_version": "1.5.0",
            "_view_name": "HBoxView",
            "box_style": "",
            "children": [
              "IPY_MODEL_7ad2ca1b07674e4292b04f441660be0e",
              "IPY_MODEL_b0e5e2207ce54861b47d7b593f1eb884",
              "IPY_MODEL_f91362bcfd624785a438371699a724b3"
            ],
            "layout": "IPY_MODEL_c05a432373d74c87ae7348e89e11c162"
          }
        },
        "c05a432373d74c87ae7348e89e11c162": {
          "model_module": "@jupyter-widgets/base",
          "model_module_version": "1.2.0",
          "model_name": "LayoutModel",
          "state": {
            "_model_module": "@jupyter-widgets/base",
            "_model_module_version": "1.2.0",
            "_model_name": "LayoutModel",
            "_view_count": null,
            "_view_module": "@jupyter-widgets/base",
            "_view_module_version": "1.2.0",
            "_view_name": "LayoutView",
            "align_content": null,
            "align_items": null,
            "align_self": null,
            "border": null,
            "bottom": null,
            "display": null,
            "flex": null,
            "flex_flow": null,
            "grid_area": null,
            "grid_auto_columns": null,
            "grid_auto_flow": null,
            "grid_auto_rows": null,
            "grid_column": null,
            "grid_gap": null,
            "grid_row": null,
            "grid_template_areas": null,
            "grid_template_columns": null,
            "grid_template_rows": null,
            "height": null,
            "justify_content": null,
            "justify_items": null,
            "left": null,
            "margin": null,
            "max_height": null,
            "max_width": null,
            "min_height": null,
            "min_width": null,
            "object_fit": null,
            "object_position": null,
            "order": null,
            "overflow": null,
            "overflow_x": null,
            "overflow_y": null,
            "padding": null,
            "right": null,
            "top": null,
            "visibility": null,
            "width": null
          }
        },
        "c239c3db91514be3aa4c84568f44d12d": {
          "model_module": "@jupyter-widgets/controls",
          "model_module_version": "1.5.0",
          "model_name": "ProgressStyleModel",
          "state": {
            "_model_module": "@jupyter-widgets/controls",
            "_model_module_version": "1.5.0",
            "_model_name": "ProgressStyleModel",
            "_view_count": null,
            "_view_module": "@jupyter-widgets/base",
            "_view_module_version": "1.2.0",
            "_view_name": "StyleView",
            "bar_color": null,
            "description_width": ""
          }
        },
        "ce1b1efe8def42468305dc4aa9db46b7": {
          "model_module": "@jupyter-widgets/controls",
          "model_module_version": "1.5.0",
          "model_name": "HTMLModel",
          "state": {
            "_dom_classes": [],
            "_model_module": "@jupyter-widgets/controls",
            "_model_module_version": "1.5.0",
            "_model_name": "HTMLModel",
            "_view_count": null,
            "_view_module": "@jupyter-widgets/controls",
            "_view_module_version": "1.5.0",
            "_view_name": "HTMLView",
            "description": "",
            "description_tooltip": null,
            "layout": "IPY_MODEL_a9983b7631014b1fa0f894e26dfa6baf",
            "placeholder": "​",
            "style": "IPY_MODEL_7ee1cbd016db43fdaceaaa9461dc8c10",
            "value": "config.json: 100%"
          }
        },
        "d1a941b70bb541a88eb4cabe38477bdc": {
          "model_module": "@jupyter-widgets/base",
          "model_module_version": "1.2.0",
          "model_name": "LayoutModel",
          "state": {
            "_model_module": "@jupyter-widgets/base",
            "_model_module_version": "1.2.0",
            "_model_name": "LayoutModel",
            "_view_count": null,
            "_view_module": "@jupyter-widgets/base",
            "_view_module_version": "1.2.0",
            "_view_name": "LayoutView",
            "align_content": null,
            "align_items": null,
            "align_self": null,
            "border": null,
            "bottom": null,
            "display": null,
            "flex": null,
            "flex_flow": null,
            "grid_area": null,
            "grid_auto_columns": null,
            "grid_auto_flow": null,
            "grid_auto_rows": null,
            "grid_column": null,
            "grid_gap": null,
            "grid_row": null,
            "grid_template_areas": null,
            "grid_template_columns": null,
            "grid_template_rows": null,
            "height": null,
            "justify_content": null,
            "justify_items": null,
            "left": null,
            "margin": null,
            "max_height": null,
            "max_width": null,
            "min_height": null,
            "min_width": null,
            "object_fit": null,
            "object_position": null,
            "order": null,
            "overflow": null,
            "overflow_x": null,
            "overflow_y": null,
            "padding": null,
            "right": null,
            "top": null,
            "visibility": null,
            "width": null
          }
        },
        "d2ef61286bc44c8eb48277bc29730524": {
          "model_module": "@jupyter-widgets/controls",
          "model_module_version": "1.5.0",
          "model_name": "DescriptionStyleModel",
          "state": {
            "_model_module": "@jupyter-widgets/controls",
            "_model_module_version": "1.5.0",
            "_model_name": "DescriptionStyleModel",
            "_view_count": null,
            "_view_module": "@jupyter-widgets/base",
            "_view_module_version": "1.2.0",
            "_view_name": "StyleView",
            "description_width": ""
          }
        },
        "d309692dd41d4ed39761a997e384ab9b": {
          "model_module": "@jupyter-widgets/base",
          "model_module_version": "1.2.0",
          "model_name": "LayoutModel",
          "state": {
            "_model_module": "@jupyter-widgets/base",
            "_model_module_version": "1.2.0",
            "_model_name": "LayoutModel",
            "_view_count": null,
            "_view_module": "@jupyter-widgets/base",
            "_view_module_version": "1.2.0",
            "_view_name": "LayoutView",
            "align_content": null,
            "align_items": null,
            "align_self": null,
            "border": null,
            "bottom": null,
            "display": null,
            "flex": null,
            "flex_flow": null,
            "grid_area": null,
            "grid_auto_columns": null,
            "grid_auto_flow": null,
            "grid_auto_rows": null,
            "grid_column": null,
            "grid_gap": null,
            "grid_row": null,
            "grid_template_areas": null,
            "grid_template_columns": null,
            "grid_template_rows": null,
            "height": null,
            "justify_content": null,
            "justify_items": null,
            "left": null,
            "margin": null,
            "max_height": null,
            "max_width": null,
            "min_height": null,
            "min_width": null,
            "object_fit": null,
            "object_position": null,
            "order": null,
            "overflow": null,
            "overflow_x": null,
            "overflow_y": null,
            "padding": null,
            "right": null,
            "top": null,
            "visibility": null,
            "width": null
          }
        },
        "d530a1e92cab4d41bc9db878d456f950": {
          "model_module": "@jupyter-widgets/controls",
          "model_module_version": "1.5.0",
          "model_name": "DescriptionStyleModel",
          "state": {
            "_model_module": "@jupyter-widgets/controls",
            "_model_module_version": "1.5.0",
            "_model_name": "DescriptionStyleModel",
            "_view_count": null,
            "_view_module": "@jupyter-widgets/base",
            "_view_module_version": "1.2.0",
            "_view_name": "StyleView",
            "description_width": ""
          }
        },
        "d8cda8df783d41ca951fb0e983bfae23": {
          "model_module": "@jupyter-widgets/controls",
          "model_module_version": "1.5.0",
          "model_name": "HTMLModel",
          "state": {
            "_dom_classes": [],
            "_model_module": "@jupyter-widgets/controls",
            "_model_module_version": "1.5.0",
            "_model_name": "HTMLModel",
            "_view_count": null,
            "_view_module": "@jupyter-widgets/controls",
            "_view_module_version": "1.5.0",
            "_view_name": "HTMLView",
            "description": "",
            "description_tooltip": null,
            "layout": "IPY_MODEL_7077f04cbcfb4dd5a44dc14d37381eaa",
            "placeholder": "​",
            "style": "IPY_MODEL_53afbb49039148a8a94e3f108fc6b52a",
            "value": "huggingface_wrapper.py: 100%"
          }
        },
        "db6cde19ca394758abfbc4b9267fbe03": {
          "model_module": "@jupyter-widgets/base",
          "model_module_version": "1.2.0",
          "model_name": "LayoutModel",
          "state": {
            "_model_module": "@jupyter-widgets/base",
            "_model_module_version": "1.2.0",
            "_model_name": "LayoutModel",
            "_view_count": null,
            "_view_module": "@jupyter-widgets/base",
            "_view_module_version": "1.2.0",
            "_view_name": "LayoutView",
            "align_content": null,
            "align_items": null,
            "align_self": null,
            "border": null,
            "bottom": null,
            "display": null,
            "flex": null,
            "flex_flow": null,
            "grid_area": null,
            "grid_auto_columns": null,
            "grid_auto_flow": null,
            "grid_auto_rows": null,
            "grid_column": null,
            "grid_gap": null,
            "grid_row": null,
            "grid_template_areas": null,
            "grid_template_columns": null,
            "grid_template_rows": null,
            "height": null,
            "justify_content": null,
            "justify_items": null,
            "left": null,
            "margin": null,
            "max_height": null,
            "max_width": null,
            "min_height": null,
            "min_width": null,
            "object_fit": null,
            "object_position": null,
            "order": null,
            "overflow": null,
            "overflow_x": null,
            "overflow_y": null,
            "padding": null,
            "right": null,
            "top": null,
            "visibility": null,
            "width": null
          }
        },
        "de2b5bbb9de448f697c3ab63f657c269": {
          "model_module": "@jupyter-widgets/base",
          "model_module_version": "1.2.0",
          "model_name": "LayoutModel",
          "state": {
            "_model_module": "@jupyter-widgets/base",
            "_model_module_version": "1.2.0",
            "_model_name": "LayoutModel",
            "_view_count": null,
            "_view_module": "@jupyter-widgets/base",
            "_view_module_version": "1.2.0",
            "_view_name": "LayoutView",
            "align_content": null,
            "align_items": null,
            "align_self": null,
            "border": null,
            "bottom": null,
            "display": null,
            "flex": null,
            "flex_flow": null,
            "grid_area": null,
            "grid_auto_columns": null,
            "grid_auto_flow": null,
            "grid_auto_rows": null,
            "grid_column": null,
            "grid_gap": null,
            "grid_row": null,
            "grid_template_areas": null,
            "grid_template_columns": null,
            "grid_template_rows": null,
            "height": null,
            "justify_content": null,
            "justify_items": null,
            "left": null,
            "margin": null,
            "max_height": null,
            "max_width": null,
            "min_height": null,
            "min_width": null,
            "object_fit": null,
            "object_position": null,
            "order": null,
            "overflow": null,
            "overflow_x": null,
            "overflow_y": null,
            "padding": null,
            "right": null,
            "top": null,
            "visibility": null,
            "width": null
          }
        },
        "df8289201f734f90ab0d23b39bce8ae2": {
          "model_module": "@jupyter-widgets/controls",
          "model_module_version": "1.5.0",
          "model_name": "HBoxModel",
          "state": {
            "_dom_classes": [],
            "_model_module": "@jupyter-widgets/controls",
            "_model_module_version": "1.5.0",
            "_model_name": "HBoxModel",
            "_view_count": null,
            "_view_module": "@jupyter-widgets/controls",
            "_view_module_version": "1.5.0",
            "_view_name": "HBoxView",
            "box_style": "",
            "children": [
              "IPY_MODEL_d8cda8df783d41ca951fb0e983bfae23",
              "IPY_MODEL_4abd40e6c94648658e1187064b778a7c",
              "IPY_MODEL_56e0917ad5ca44db84fb15e1d44db0da"
            ],
            "layout": "IPY_MODEL_e206c3c532824633809e3cffd58b9a1c"
          }
        },
        "dfa18e57365a43ee82560b0914e71ec4": {
          "model_module": "@jupyter-widgets/controls",
          "model_module_version": "1.5.0",
          "model_name": "ProgressStyleModel",
          "state": {
            "_model_module": "@jupyter-widgets/controls",
            "_model_module_version": "1.5.0",
            "_model_name": "ProgressStyleModel",
            "_view_count": null,
            "_view_module": "@jupyter-widgets/base",
            "_view_module_version": "1.2.0",
            "_view_name": "StyleView",
            "bar_color": null,
            "description_width": ""
          }
        },
        "e206c3c532824633809e3cffd58b9a1c": {
          "model_module": "@jupyter-widgets/base",
          "model_module_version": "1.2.0",
          "model_name": "LayoutModel",
          "state": {
            "_model_module": "@jupyter-widgets/base",
            "_model_module_version": "1.2.0",
            "_model_name": "LayoutModel",
            "_view_count": null,
            "_view_module": "@jupyter-widgets/base",
            "_view_module_version": "1.2.0",
            "_view_name": "LayoutView",
            "align_content": null,
            "align_items": null,
            "align_self": null,
            "border": null,
            "bottom": null,
            "display": null,
            "flex": null,
            "flex_flow": null,
            "grid_area": null,
            "grid_auto_columns": null,
            "grid_auto_flow": null,
            "grid_auto_rows": null,
            "grid_column": null,
            "grid_gap": null,
            "grid_row": null,
            "grid_template_areas": null,
            "grid_template_columns": null,
            "grid_template_rows": null,
            "height": null,
            "justify_content": null,
            "justify_items": null,
            "left": null,
            "margin": null,
            "max_height": null,
            "max_width": null,
            "min_height": null,
            "min_width": null,
            "object_fit": null,
            "object_position": null,
            "order": null,
            "overflow": null,
            "overflow_x": null,
            "overflow_y": null,
            "padding": null,
            "right": null,
            "top": null,
            "visibility": null,
            "width": null
          }
        },
        "e908a67f37334277a65ab3b3b4f861da": {
          "model_module": "@jupyter-widgets/controls",
          "model_module_version": "1.5.0",
          "model_name": "DescriptionStyleModel",
          "state": {
            "_model_module": "@jupyter-widgets/controls",
            "_model_module_version": "1.5.0",
            "_model_name": "DescriptionStyleModel",
            "_view_count": null,
            "_view_module": "@jupyter-widgets/base",
            "_view_module_version": "1.2.0",
            "_view_name": "StyleView",
            "description_width": ""
          }
        },
        "f91362bcfd624785a438371699a724b3": {
          "model_module": "@jupyter-widgets/controls",
          "model_module_version": "1.5.0",
          "model_name": "HTMLModel",
          "state": {
            "_dom_classes": [],
            "_model_module": "@jupyter-widgets/controls",
            "_model_module_version": "1.5.0",
            "_model_name": "HTMLModel",
            "_view_count": null,
            "_view_module": "@jupyter-widgets/controls",
            "_view_module_version": "1.5.0",
            "_view_name": "HTMLView",
            "description": "",
            "description_tooltip": null,
            "layout": "IPY_MODEL_28e61c03f160467e8de45ce752620e13",
            "placeholder": "​",
            "style": "IPY_MODEL_e908a67f37334277a65ab3b3b4f861da",
            "value": " 176/176 [00:00&lt;00:00, 10.3kB/s]"
          }
        },
        "fb6cd2c0c96b4d51917eb458cf8acc97": {
          "model_module": "@jupyter-widgets/base",
          "model_module_version": "1.2.0",
          "model_name": "LayoutModel",
          "state": {
            "_model_module": "@jupyter-widgets/base",
            "_model_module_version": "1.2.0",
            "_model_name": "LayoutModel",
            "_view_count": null,
            "_view_module": "@jupyter-widgets/base",
            "_view_module_version": "1.2.0",
            "_view_name": "LayoutView",
            "align_content": null,
            "align_items": null,
            "align_self": null,
            "border": null,
            "bottom": null,
            "display": null,
            "flex": null,
            "flex_flow": null,
            "grid_area": null,
            "grid_auto_columns": null,
            "grid_auto_flow": null,
            "grid_auto_rows": null,
            "grid_column": null,
            "grid_gap": null,
            "grid_row": null,
            "grid_template_areas": null,
            "grid_template_columns": null,
            "grid_template_rows": null,
            "height": null,
            "justify_content": null,
            "justify_items": null,
            "left": null,
            "margin": null,
            "max_height": null,
            "max_width": null,
            "min_height": null,
            "min_width": null,
            "object_fit": null,
            "object_position": null,
            "order": null,
            "overflow": null,
            "overflow_x": null,
            "overflow_y": null,
            "padding": null,
            "right": null,
            "top": null,
            "visibility": null,
            "width": null
          }
        }
      }
    }
  },
  "nbformat": 4,
  "nbformat_minor": 0
}
