{
  "cells": [
    {
      "cell_type": "markdown",
      "metadata": {
        "id": "_Om47-OgrLFv"
      },
      "source": [
        "This notebook will show an example on how to use METL models through hugging face to predict on more than the sequences allowed by the demo.\n",
        "\n",
        "First, we will import the required 🤗 modules in order to download the METL wrapper through their API."
      ]
    },
    {
      "cell_type": "code",
      "source": [
        "# @title Installing libraries not included with colab\n",
        "!pip install -q biopandas==0.5.1"
      ],
      "metadata": {
        "id": "WkNKKIqXr4OU",
        "cellView": "form",
        "colab": {
          "base_uri": "https://localhost:8080/"
        },
        "outputId": "d813368c-8c9e-4297-8e17-92ddbd9a91f3"
      },
      "execution_count": null,
      "outputs": [
        {
          "output_type": "stream",
          "name": "stdout",
          "text": [
            "\u001b[?25l   \u001b[90m━━━━━━━━━━━━━━━━━━━━━━━━━━━━━━━━━━━━━━━━\u001b[0m \u001b[32m0.0/68.3 kB\u001b[0m \u001b[31m?\u001b[0m eta \u001b[36m-:--:--\u001b[0m\r\u001b[2K   \u001b[90m━━━━━━━━━━━━━━━━━━━━━━━━━━━━━━━━━━━━━━━━\u001b[0m \u001b[32m68.3/68.3 kB\u001b[0m \u001b[31m2.4 MB/s\u001b[0m eta \u001b[36m0:00:00\u001b[0m\n",
            "\u001b[?25h"
          ]
        }
      ]
    },
    {
      "cell_type": "code",
      "source": [
        "# @title download the example pdb file\n",
        "!wget -O 2qmt_p.pdb https://raw.githubusercontent.com/gitter-lab/metl-pretrained/main/pdbs/2qmt_p.pdb"
      ],
      "metadata": {
        "colab": {
          "base_uri": "https://localhost:8080/"
        },
        "cellView": "form",
        "id": "tP_HrR5YSiqk",
        "outputId": "17053513-6dbc-49c5-e7f3-83dffc3730be"
      },
      "execution_count": null,
      "outputs": [
        {
          "output_type": "stream",
          "name": "stdout",
          "text": [
            "--2024-08-16 22:23:13--  https://raw.githubusercontent.com/gitter-lab/metl-pretrained/main/pdbs/2qmt_p.pdb\n",
            "Resolving raw.githubusercontent.com (raw.githubusercontent.com)... 185.199.111.133, 185.199.108.133, 185.199.109.133, ...\n",
            "Connecting to raw.githubusercontent.com (raw.githubusercontent.com)|185.199.111.133|:443... connected.\n",
            "HTTP request sent, awaiting response... 200 OK\n",
            "Length: 78764 (77K) [text/plain]\n",
            "Saving to: ‘2qmt_p.pdb’\n",
            "\n",
            "\r2qmt_p.pdb            0%[                    ]       0  --.-KB/s               \r2qmt_p.pdb          100%[===================>]  76.92K  --.-KB/s    in 0.02s   \n",
            "\n",
            "2024-08-16 22:23:13 (4.79 MB/s) - ‘2qmt_p.pdb’ saved [78764/78764]\n",
            "\n"
          ]
        }
      ]
    },
    {
      "cell_type": "code",
      "execution_count": null,
      "metadata": {
        "id": "mpjvGjzArLF1",
        "cellView": "form"
      },
      "outputs": [],
      "source": [
        "# @title Importing required libraries\n",
        "from transformers import AutoModel, AutoConfig, logging\n",
        "import ipywidgets as widgets\n",
        "from IPython.display import clear_output, HTML, display\n",
        "import pandas as pd\n",
        "import torch\n",
        "from huggingface_hub import login\n",
        "import io\n",
        "import json\n",
        "import biopandas\n",
        "\n",
        "logging.set_verbosity_error()\n",
        "\n",
        "# Declaring this here so that it's available regardless if later cells are run or not\n",
        "variant_file = None\n",
        "pdb_file_path = '2qmt_p.pdb'"
      ]
    },
    {
      "cell_type": "markdown",
      "metadata": {
        "id": "sfBGUCJorLF5"
      },
      "source": [
        "Next we will define a necessary helper function for later on in the file."
      ]
    },
    {
      "cell_type": "code",
      "execution_count": null,
      "metadata": {
        "id": "bY_fMXgMrLF6",
        "cellView": "form"
      },
      "outputs": [],
      "source": [
        "# @title To zero based helper functoin\n",
        "def to_zero_based(variants):\n",
        "    zero_based = []\n",
        "    for line in variants:\n",
        "        line_as_json = json.loads(line)\n",
        "        new_variants = []\n",
        "        for variant in line_as_json:\n",
        "            new_variant = []\n",
        "            mutations = variant.split(',')\n",
        "            for mutation in mutations:\n",
        "                residue_zero_based = int(mutation[1:-1]) - 1\n",
        "                new_variant.append(f\"{mutation[0]}{residue_zero_based}{mutation[-1]}\")\n",
        "            new_variants.append(\",\".join(new_variant))\n",
        "        zero_based.append(new_variants)\n",
        "\n",
        "    return zero_based"
      ]
    },
    {
      "cell_type": "markdown",
      "metadata": {
        "id": "JWJCsBukrLF7"
      },
      "source": [
        "We will then load a METL model through the 🤗 API. trust_remote_code=True is required to use METL models through 🤗."
      ]
    },
    {
      "cell_type": "code",
      "execution_count": null,
      "metadata": {
        "id": "vIp69-KLrLF8",
        "cellView": "form",
        "colab": {
          "base_uri": "https://localhost:8080/",
          "height": 182,
          "referenced_widgets": [
            "d438d18254c247aea4e1762205a4847f",
            "a04aee5de6734d78bf97f29057882c2c",
            "d8d8c5c034f04f38911318e67b00b279",
            "3d812121bbaa4ad3af2754d11118dfdf",
            "d19f4dde776140e8b6d487f8ba356cc8",
            "13d2242e978f4e95a9a41d49bab7d278",
            "e0f23caf9cfb4e8e8650ac0207f1a35d",
            "2f49051f0cda4ac38d93d60c84c6cc0f",
            "d0126606e582428c86a0868a781a5822",
            "aaabbf4c748645339c1d11ebf0136d66",
            "349381bae0924ce2b5d0306efb3778d0",
            "763aa71022c64ef8a28ce64240271949",
            "a68ae0355b48417c9415a0370f02b5c5",
            "79dc84d811784d7f83aa9abde6f48e7c",
            "be5ffdd32ce74735b6819dc2c8eeaa8f",
            "32deec8f5b414cc6ad6869f3e68b4c88",
            "700d0fcd76684b6d8683859efc97b532",
            "bad4c385fa8a4efd8088400f580f7618",
            "5d95cdd43486472ba9e4a4fe91fdb99c",
            "466ae32bf3b648fc9237f2df7ef73e30",
            "c4795fdf2ec645ab8d6f44ba4f3d2fed",
            "d1cdc781de354248adbe248d5fbb9cc6",
            "5c9f38f207894e8fbe6eb1466f722b06",
            "2780bab4b72d4d02a2453f4c09f473ed",
            "2412e2bee90a4d78abcfc0d5c5395e1d",
            "2ba5948c078444fe83c37b02731c5d93",
            "e2f93ffdf05d4bc6a1ad3311cf583d32",
            "e6fa3fe9edd64ea19822a7b664e2aa70",
            "0f29f48044214fa1972fb05859ad0c30",
            "49f8cca765184dcab283a6ae3b276d48",
            "20c77d05af294ce5971a1980d73adc56",
            "ce185df9b8a8450b8e22ad21521e3eda",
            "6cfb7e2fe12e4e2797bd787b98822f09"
          ]
        },
        "outputId": "66f86219-562b-4e16-b7bb-f953b30a4bcf"
      },
      "outputs": [
        {
          "output_type": "stream",
          "name": "stdout",
          "text": [
            "The token has not been saved to the git credentials helper. Pass `add_to_git_credential=True` in this function directly or `--add-to-git-credential` if using via `huggingface-cli` if you want to set the git credential as well.\n",
            "Token is valid (permission: write).\n",
            "Your token has been saved to /root/.cache/huggingface/token\n",
            "Login successful\n"
          ]
        },
        {
          "output_type": "display_data",
          "data": {
            "text/plain": [
              "config.json:   0%|          | 0.00/282 [00:00<?, ?B/s]"
            ],
            "application/vnd.jupyter.widget-view+json": {
              "version_major": 2,
              "version_minor": 0,
              "model_id": "d438d18254c247aea4e1762205a4847f"
            }
          },
          "metadata": {}
        },
        {
          "output_type": "display_data",
          "data": {
            "text/plain": [
              "huggingface_wrapper.py:   0%|          | 0.00/100k [00:00<?, ?B/s]"
            ],
            "application/vnd.jupyter.widget-view+json": {
              "version_major": 2,
              "version_minor": 0,
              "model_id": "763aa71022c64ef8a28ce64240271949"
            }
          },
          "metadata": {}
        },
        {
          "output_type": "display_data",
          "data": {
            "text/plain": [
              "model.safetensors:   0%|          | 0.00/176 [00:00<?, ?B/s]"
            ],
            "application/vnd.jupyter.widget-view+json": {
              "version_major": 2,
              "version_minor": 0,
              "model_id": "5c9f38f207894e8fbe6eb1466f722b06"
            }
          },
          "metadata": {}
        }
      ],
      "source": [
        "# @title Loading METL from 🤗\n",
        "from google.colab import userdata\n",
        "\n",
        "API_KEY = userdata.get('SPACE_KEY')\n",
        "login(API_KEY)\n",
        "metl = AutoModel.from_pretrained('gitter-lab/METL', trust_remote_code=True)"
      ]
    },
    {
      "cell_type": "markdown",
      "metadata": {
        "id": "Y6PH3mozrLF_"
      },
      "source": [
        "The METL 🤗 wrapper requires the loading of the specific METL model after initialization of the `metl` variable above. Use the dropdown below to select a model to use for predicting.\n",
        "\n",
        "The publically available METL models are hosted on zenodo [here](https://zenodo.org/records/11051645). **TODO: Add some link to where we eventually document what each metl model does**"
      ]
    },
    {
      "cell_type": "code",
      "execution_count": null,
      "metadata": {
        "colab": {
          "base_uri": "https://localhost:8080/"
        },
        "id": "Odg6Mps7rLGA",
        "outputId": "9e4583a2-cfb1-4964-d39c-eeb9671f926f",
        "cellView": "form"
      },
      "outputs": [
        {
          "output_type": "stream",
          "name": "stderr",
          "text": [
            "Downloading: \"https://zenodo.org/records/11051645/files/METL-L-2M-3D-GB1-epegcFiH.pt?download=1\" to /root/.cache/torch/hub/checkpoints/epegcFiH.pt\n",
            "100%|██████████| 9.40M/9.40M [00:01<00:00, 7.44MB/s]\n"
          ]
        },
        {
          "output_type": "stream",
          "name": "stdout",
          "text": [
            "Initialized PDB bucket matrices in: 0.000\n",
            "Initialized PDB bucket matrices in: 0.000\n"
          ]
        }
      ],
      "source": [
        "# @title Available metl models\n",
        "# @markdown You may use this dropdown here to chose a metl model to predict with. Running this cell will load the selected model.\n",
        "metl_model = 'metl-l-2m-3d-gb1' # @param [\"metl-g-20m-1d\",\"metl-g-20m-3d\",\"metl-g-50m-1d\",\"metl-g-50m-3d\",\"metl-l-2m-1d-gfp\",\"metl-l-2m-3d-gfp\",\"metl-l-2m-1d-dlg4\",\"metl-l-2m-3d-dlg4\",\"metl-l-2m-1d-gb1\",\"metl-l-2m-3d-gb1\",\"metl-l-2m-1d-grb2\",\"metl-l-2m-3d-grb2\",\"metl-l-2m-1d-pab1\",\"metl-l-2m-3d-pab1\",\"metl-l-2m-1d-tem-1\",\"metl-l-2m-3d-tem-1\",\"metl-l-2m-1d-ube4b\",\"metl-l-2m-3d-ube4b\",\"metl-bind-2m-3d-gb1-standard\",\"metl-bind-2m-3d-gb1-binding\",\"metl-l-2m-1d-gfp-ft-design\",\"metl-l-2m-3d-gfp-ft-design\"]\n",
        "metl.load_from_ident(metl_model)"
      ]
    },
    {
      "cell_type": "markdown",
      "metadata": {
        "id": "UENVWR2srLGD"
      },
      "source": [
        "Depending on the model chosen, different files might be needed. This example is setup to use metl-l-2m-3d-gb1 and will need a few data for prediction. **Link to the model descriptions here again to describe the IO of each model**.\n",
        "\n",
        "Specifically, for this 3d gb1 model we will need:\n",
        "- A wild type sequnece\n",
        "- a PDB structure file (as this is a 3d model)\n",
        "- variants to use with METL"
      ]
    },
    {
      "cell_type": "code",
      "execution_count": null,
      "metadata": {
        "id": "HBAocw_urLGE",
        "cellView": "form"
      },
      "outputs": [],
      "source": [
        "# @title Protein wild type\n",
        "# @markdown Enter the wild type of your protein here. The wildtype for gb1 is provided to use with the default model example here.\n",
        "wildtype = 'MQYKLILNGKTLKGETTTEAVDAATAEKVFKQYANDNGVDGEWTYDDATKTFTVTE' # @param {type:\"string\", placeholder:\"Enter a wildtype here\"}"
      ]
    },
    {
      "cell_type": "markdown",
      "metadata": {
        "id": "9H12FqxWrLGF"
      },
      "source": [
        "The PDB file is something that we will reference from within the colab through its file path. If you don't need a PDB file for your use-case, simply set this variable to None."
      ]
    },
    {
      "cell_type": "code",
      "execution_count": null,
      "metadata": {
        "id": "nVj7UumyrLGF",
        "colab": {
          "base_uri": "https://localhost:8080/",
          "height": 49,
          "referenced_widgets": [
            "cbda63c2d2de449baff69851ca9342f4",
            "284ae90b84c040bdb227127b3428b471",
            "3cc0f506cc8540e3a1024d3dc12d8dae"
          ]
        },
        "cellView": "form",
        "outputId": "3dc96e24-4aca-499b-b3fc-d386c92f8bc5"
      },
      "outputs": [
        {
          "output_type": "display_data",
          "data": {
            "text/plain": [
              "FileUpload(value={}, accept='.pdb', description='Upload')"
            ],
            "application/vnd.jupyter.widget-view+json": {
              "version_major": 2,
              "version_minor": 0,
              "model_id": "cbda63c2d2de449baff69851ca9342f4"
            }
          },
          "metadata": {}
        }
      ],
      "source": [
        "# @title PDB file upload\n",
        "# @markdown If your model needs a PDB file, run this cell and upload the file with the provided button that appears below.\n",
        "# @markdown\n",
        "# @markdown If you would like to change the file, simply upload another one. The last uploaded file will be what is used.\n",
        "# @markdown If you would like to predict with the pre-loaded GB1 model, download (this pdb file)[https://github.com/gitter-lab/metl-pretrained/blob/main/pdbs/2qmt_p.pdb]\n",
        "\n",
        "def update_pdb_file(file_name):\n",
        "  global pdb_file_path\n",
        "  for name, data in file_name['new'].items():\n",
        "    clear_output()\n",
        "    display(pdb_upload)\n",
        "    print(f\"Selected file: {name}\")\n",
        "    pdb_file_path = f'./{name}'\n",
        "\n",
        "    with open(name, 'wb') as f:\n",
        "      f.write(data['content'])\n",
        "\n",
        "pdb_upload = widgets.FileUpload(\n",
        "    accept='.pdb',\n",
        "    multiple=False\n",
        ")\n",
        "pdb_upload.observe(update_pdb_file, names='value')\n",
        "pdb_upload"
      ]
    },
    {
      "cell_type": "markdown",
      "metadata": {
        "id": "p63MHIlsrLGG"
      },
      "source": [
        "Lastly, we will then collect some variants. The code in this notebook supports variants in JSON list format. Upload a file (2 cells below), or enter a JSON list formatted variants in the text box below."
      ]
    },
    {
      "cell_type": "code",
      "execution_count": null,
      "metadata": {
        "id": "EjleQbnprLGH",
        "colab": {
          "base_uri": "https://localhost:8080/",
          "height": 121,
          "referenced_widgets": [
            "44c550288df5419aaca625377a46f076",
            "19fcb40afff24a139a91964f3c74e26a",
            "68ac59224bcd48fa8b02928f240e4df4"
          ]
        },
        "outputId": "ec902976-d35a-404e-85ef-946190a35f95",
        "cellView": "form"
      },
      "outputs": [
        {
          "output_type": "display_data",
          "data": {
            "text/plain": [
              "<IPython.core.display.HTML object>"
            ],
            "text/html": [
              "\n",
              "<style>\n",
              "  .variant_text_area > textarea::placeholder {\n",
              "    color: var(--colab-primary-text-color);\n",
              "  }\n",
              "\n",
              "  .variant_text_area > textarea {\n",
              "    background-color: var(--colab-secondary-surface-color);\n",
              "    color: var(--colab-primary-text-color);\n",
              "  }\n",
              "</style>\n"
            ]
          },
          "metadata": {}
        },
        {
          "output_type": "display_data",
          "data": {
            "text/plain": [
              "Textarea(value='', description='Variant String:', layout=Layout(height='100px', width='500px'), placeholder='[…"
            ],
            "application/vnd.jupyter.widget-view+json": {
              "version_major": 2,
              "version_minor": 0,
              "model_id": "44c550288df5419aaca625377a46f076"
            }
          },
          "metadata": {}
        }
      ],
      "source": [
        "# @title Variant text input\n",
        "variants_string = \"\"\"[\"T17P,T54F\", \"V28L,F51A\", \"T17P,V28L,F51A,T54F\"]\n",
        "[\"T13P,T33F\"]\"\"\"\n",
        "style = {'description_width':'initial'}\n",
        "\n",
        "variant_text = widgets.Textarea(\n",
        "    value='',\n",
        "    placeholder=variants_string,\n",
        "    description='Variant String:',\n",
        "    disabled=False,\n",
        "    style = style,\n",
        "    layout=widgets.Layout(height='100px', width='500px'),\n",
        ")\n",
        "\n",
        "variant_text.add_class('variant_text_area')\n",
        "\n",
        "style = \"\"\"\n",
        "<style>\n",
        "  .variant_text_area > textarea::placeholder {\n",
        "    color: var(--colab-primary-text-color);\n",
        "  }\n",
        "\n",
        "  .variant_text_area > textarea {\n",
        "    background-color: var(--colab-secondary-surface-color);\n",
        "    color: var(--colab-primary-text-color);\n",
        "  }\n",
        "</style>\n",
        "\"\"\"\n",
        "\n",
        "display(HTML(style))\n",
        "display(variant_text)"
      ]
    },
    {
      "cell_type": "markdown",
      "source": [
        "If you would rather upload a file, run the cell below and use it to upload a file. If a file is upload, the input above will not be looked at for variants\n"
      ],
      "metadata": {
        "id": "ggs9zSgPHOYj"
      }
    },
    {
      "cell_type": "code",
      "source": [
        "# @title Variant file upload\n",
        "# @markdown If you want to upload a variant JSON file, run this cell and upload the file with the provided button that appears below.\n",
        "\n",
        "\n",
        "def update_variant_file(button_input):\n",
        "  global variant_file\n",
        "  for name, data in button_input['new'].items():\n",
        "    clear_output()\n",
        "    display(variant_upload)\n",
        "    print(f'Loaded file: {name}')\n",
        "    variant_file = data['content'].decode('utf-8').splitlines()\n",
        "\n",
        "variant_upload = widgets.FileUpload(\n",
        "    accept='.json, .txt',\n",
        "    multiple=False\n",
        ")\n",
        "\n",
        "variant_upload.observe(update_variant_file, names='value')\n",
        "variant_upload"
      ],
      "metadata": {
        "colab": {
          "base_uri": "https://localhost:8080/",
          "height": 49,
          "referenced_widgets": [
            "c8e0b77d472e4780b957978018c1db2f",
            "c33d2ae86f334b19bc2a4d61bf0aef7d",
            "6f5c6fd2871f4f79999581a50494f725"
          ]
        },
        "cellView": "form",
        "id": "8TLYi6orHN_8",
        "outputId": "b5e03fc2-5408-481b-f365-bd121d984ea4"
      },
      "execution_count": null,
      "outputs": [
        {
          "output_type": "display_data",
          "data": {
            "text/plain": [
              "FileUpload(value={}, accept='.json, .txt', description='Upload')"
            ],
            "application/vnd.jupyter.widget-view+json": {
              "version_major": 2,
              "version_minor": 0,
              "model_id": "c8e0b77d472e4780b957978018c1db2f"
            }
          },
          "metadata": {}
        }
      ]
    },
    {
      "cell_type": "code",
      "execution_count": null,
      "metadata": {
        "id": "mASfltPUrLGI",
        "colab": {
          "base_uri": "https://localhost:8080/"
        },
        "cellView": "form",
        "outputId": "c2135a87-a580-4272-f572-fb04a8f276a0"
      },
      "outputs": [
        {
          "output_type": "stream",
          "name": "stdout",
          "text": [
            "Using variant placeholder\n"
          ]
        }
      ],
      "source": [
        "# @title Variant Selecting Logic (just run)\n",
        "\n",
        "clear_output()\n",
        "if len(variant_text.value) > 0:\n",
        "  print(\"Using text area input\")\n",
        "  variants = variant_text.value\n",
        "elif variant_file:\n",
        "  print(\"Using variants file\")\n",
        "  variants = variant_file\n",
        "else:\n",
        "  print(\"Using variant placeholder\")\n",
        "  variants = variant_text.placeholder.splitlines()"
      ]
    },
    {
      "cell_type": "markdown",
      "metadata": {
        "id": "YOfEUeNYrLGI"
      },
      "source": [
        "For biologists, one-based indexing is commonly used. However, METL models were designed to used zero-based indexing. If one based indexing is needed, select it in the dropdown below."
      ]
    },
    {
      "cell_type": "code",
      "execution_count": null,
      "metadata": {
        "id": "ecLAU9IOrLGK",
        "cellView": "form"
      },
      "outputs": [],
      "source": [
        "# @title Transform input from 1 based indexing to zero based indexing\n",
        "# @markdown Select indexing for residue mutations\n",
        "indexing = \"0\" # @param ['0', '1']"
      ]
    },
    {
      "cell_type": "markdown",
      "metadata": {
        "id": "ixhZbYm8rLGM"
      },
      "source": [
        "Since both file and string variants give the same result, we only need to use one moving forwards. We will use the string_variants variable.\n",
        "\n",
        "To predict with METL, we will need to use the loaded model and encoder with our variables we defined above. We will wrap this in a for loop to predict on all of our variants as we have multiple lines of them."
      ]
    },
    {
      "cell_type": "code",
      "execution_count": null,
      "metadata": {
        "id": "th1JyojWrLGN",
        "cellView": "form"
      },
      "outputs": [],
      "source": [
        "# @title METL Predicting loop\n",
        "output = []\n",
        "\n",
        "device = torch.device(\"cuda\" if torch.cuda.is_available() else \"cpu\")\n",
        "\n",
        "metl = metl.to(device)\n",
        "\n",
        "if indexing == \"1\":\n",
        "  predict_variants = to_zero_based(variants)\n",
        "else:\n",
        "  predict_variants = variants\n",
        "\n",
        "for variant in predict_variants:\n",
        "    # First in METL we need to encode our variants\n",
        "    if not isinstance(variant, list):\n",
        "      variant = json.loads(variant)\n",
        "    encoded_variants = metl.encoder.encode_variants(wildtype, variant)\n",
        "\n",
        "    #Next, we predict\n",
        "    with torch.no_grad():\n",
        "        if pdb_file_path:\n",
        "            predictions = metl(torch.tensor(encoded_variants).to(device), pdb_fn=pdb_file_path)\n",
        "        else:\n",
        "            predictions = metl(torch.tensor(encoded_variants).to(device))\n",
        "\n",
        "        output.append({\n",
        "            \"wt\": wildtype,\n",
        "            \"variants\": variant,\n",
        "            \"logits\": predictions.tolist()\n",
        "        })"
      ]
    },
    {
      "cell_type": "markdown",
      "metadata": {
        "id": "pO8jdBssrLGO"
      },
      "source": [
        "Finally, we will save our output. We will save our output as a list of JSON Objects."
      ]
    },
    {
      "cell_type": "code",
      "execution_count": null,
      "metadata": {
        "id": "nYz6NRB_rLGP",
        "cellView": "form"
      },
      "outputs": [],
      "source": [
        "# @title Saving the predictions\n",
        "with open('./output.json', 'w') as f:\n",
        "    f.write(json.dumps(output, indent=2))"
      ]
    }
  ],
  "metadata": {
    "kernelspec": {
      "display_name": "Python 3",
      "name": "python3"
    },
    "language_info": {
      "codemirror_mode": {
        "name": "ipython",
        "version": 3
      },
      "file_extension": ".py",
      "mimetype": "text/x-python",
      "name": "python",
      "nbconvert_exporter": "python",
      "pygments_lexer": "ipython3",
      "version": "3.11.5"
    },
    "colab": {
      "provenance": [],
      "gpuType": "T4"
    },
    "widgets": {
      "application/vnd.jupyter.widget-state+json": {
        "d438d18254c247aea4e1762205a4847f": {
          "model_module": "@jupyter-widgets/controls",
          "model_name": "HBoxModel",
          "model_module_version": "1.5.0",
          "state": {
            "_dom_classes": [],
            "_model_module": "@jupyter-widgets/controls",
            "_model_module_version": "1.5.0",
            "_model_name": "HBoxModel",
            "_view_count": null,
            "_view_module": "@jupyter-widgets/controls",
            "_view_module_version": "1.5.0",
            "_view_name": "HBoxView",
            "box_style": "",
            "children": [
              "IPY_MODEL_a04aee5de6734d78bf97f29057882c2c",
              "IPY_MODEL_d8d8c5c034f04f38911318e67b00b279",
              "IPY_MODEL_3d812121bbaa4ad3af2754d11118dfdf"
            ],
            "layout": "IPY_MODEL_d19f4dde776140e8b6d487f8ba356cc8"
          }
        },
        "a04aee5de6734d78bf97f29057882c2c": {
          "model_module": "@jupyter-widgets/controls",
          "model_name": "HTMLModel",
          "model_module_version": "1.5.0",
          "state": {
            "_dom_classes": [],
            "_model_module": "@jupyter-widgets/controls",
            "_model_module_version": "1.5.0",
            "_model_name": "HTMLModel",
            "_view_count": null,
            "_view_module": "@jupyter-widgets/controls",
            "_view_module_version": "1.5.0",
            "_view_name": "HTMLView",
            "description": "",
            "description_tooltip": null,
            "layout": "IPY_MODEL_13d2242e978f4e95a9a41d49bab7d278",
            "placeholder": "​",
            "style": "IPY_MODEL_e0f23caf9cfb4e8e8650ac0207f1a35d",
            "value": "config.json: 100%"
          }
        },
        "d8d8c5c034f04f38911318e67b00b279": {
          "model_module": "@jupyter-widgets/controls",
          "model_name": "FloatProgressModel",
          "model_module_version": "1.5.0",
          "state": {
            "_dom_classes": [],
            "_model_module": "@jupyter-widgets/controls",
            "_model_module_version": "1.5.0",
            "_model_name": "FloatProgressModel",
            "_view_count": null,
            "_view_module": "@jupyter-widgets/controls",
            "_view_module_version": "1.5.0",
            "_view_name": "ProgressView",
            "bar_style": "success",
            "description": "",
            "description_tooltip": null,
            "layout": "IPY_MODEL_2f49051f0cda4ac38d93d60c84c6cc0f",
            "max": 282,
            "min": 0,
            "orientation": "horizontal",
            "style": "IPY_MODEL_d0126606e582428c86a0868a781a5822",
            "value": 282
          }
        },
        "3d812121bbaa4ad3af2754d11118dfdf": {
          "model_module": "@jupyter-widgets/controls",
          "model_name": "HTMLModel",
          "model_module_version": "1.5.0",
          "state": {
            "_dom_classes": [],
            "_model_module": "@jupyter-widgets/controls",
            "_model_module_version": "1.5.0",
            "_model_name": "HTMLModel",
            "_view_count": null,
            "_view_module": "@jupyter-widgets/controls",
            "_view_module_version": "1.5.0",
            "_view_name": "HTMLView",
            "description": "",
            "description_tooltip": null,
            "layout": "IPY_MODEL_aaabbf4c748645339c1d11ebf0136d66",
            "placeholder": "​",
            "style": "IPY_MODEL_349381bae0924ce2b5d0306efb3778d0",
            "value": " 282/282 [00:00&lt;00:00, 6.71kB/s]"
          }
        },
        "d19f4dde776140e8b6d487f8ba356cc8": {
          "model_module": "@jupyter-widgets/base",
          "model_name": "LayoutModel",
          "model_module_version": "1.2.0",
          "state": {
            "_model_module": "@jupyter-widgets/base",
            "_model_module_version": "1.2.0",
            "_model_name": "LayoutModel",
            "_view_count": null,
            "_view_module": "@jupyter-widgets/base",
            "_view_module_version": "1.2.0",
            "_view_name": "LayoutView",
            "align_content": null,
            "align_items": null,
            "align_self": null,
            "border": null,
            "bottom": null,
            "display": null,
            "flex": null,
            "flex_flow": null,
            "grid_area": null,
            "grid_auto_columns": null,
            "grid_auto_flow": null,
            "grid_auto_rows": null,
            "grid_column": null,
            "grid_gap": null,
            "grid_row": null,
            "grid_template_areas": null,
            "grid_template_columns": null,
            "grid_template_rows": null,
            "height": null,
            "justify_content": null,
            "justify_items": null,
            "left": null,
            "margin": null,
            "max_height": null,
            "max_width": null,
            "min_height": null,
            "min_width": null,
            "object_fit": null,
            "object_position": null,
            "order": null,
            "overflow": null,
            "overflow_x": null,
            "overflow_y": null,
            "padding": null,
            "right": null,
            "top": null,
            "visibility": null,
            "width": null
          }
        },
        "13d2242e978f4e95a9a41d49bab7d278": {
          "model_module": "@jupyter-widgets/base",
          "model_name": "LayoutModel",
          "model_module_version": "1.2.0",
          "state": {
            "_model_module": "@jupyter-widgets/base",
            "_model_module_version": "1.2.0",
            "_model_name": "LayoutModel",
            "_view_count": null,
            "_view_module": "@jupyter-widgets/base",
            "_view_module_version": "1.2.0",
            "_view_name": "LayoutView",
            "align_content": null,
            "align_items": null,
            "align_self": null,
            "border": null,
            "bottom": null,
            "display": null,
            "flex": null,
            "flex_flow": null,
            "grid_area": null,
            "grid_auto_columns": null,
            "grid_auto_flow": null,
            "grid_auto_rows": null,
            "grid_column": null,
            "grid_gap": null,
            "grid_row": null,
            "grid_template_areas": null,
            "grid_template_columns": null,
            "grid_template_rows": null,
            "height": null,
            "justify_content": null,
            "justify_items": null,
            "left": null,
            "margin": null,
            "max_height": null,
            "max_width": null,
            "min_height": null,
            "min_width": null,
            "object_fit": null,
            "object_position": null,
            "order": null,
            "overflow": null,
            "overflow_x": null,
            "overflow_y": null,
            "padding": null,
            "right": null,
            "top": null,
            "visibility": null,
            "width": null
          }
        },
        "e0f23caf9cfb4e8e8650ac0207f1a35d": {
          "model_module": "@jupyter-widgets/controls",
          "model_name": "DescriptionStyleModel",
          "model_module_version": "1.5.0",
          "state": {
            "_model_module": "@jupyter-widgets/controls",
            "_model_module_version": "1.5.0",
            "_model_name": "DescriptionStyleModel",
            "_view_count": null,
            "_view_module": "@jupyter-widgets/base",
            "_view_module_version": "1.2.0",
            "_view_name": "StyleView",
            "description_width": ""
          }
        },
        "2f49051f0cda4ac38d93d60c84c6cc0f": {
          "model_module": "@jupyter-widgets/base",
          "model_name": "LayoutModel",
          "model_module_version": "1.2.0",
          "state": {
            "_model_module": "@jupyter-widgets/base",
            "_model_module_version": "1.2.0",
            "_model_name": "LayoutModel",
            "_view_count": null,
            "_view_module": "@jupyter-widgets/base",
            "_view_module_version": "1.2.0",
            "_view_name": "LayoutView",
            "align_content": null,
            "align_items": null,
            "align_self": null,
            "border": null,
            "bottom": null,
            "display": null,
            "flex": null,
            "flex_flow": null,
            "grid_area": null,
            "grid_auto_columns": null,
            "grid_auto_flow": null,
            "grid_auto_rows": null,
            "grid_column": null,
            "grid_gap": null,
            "grid_row": null,
            "grid_template_areas": null,
            "grid_template_columns": null,
            "grid_template_rows": null,
            "height": null,
            "justify_content": null,
            "justify_items": null,
            "left": null,
            "margin": null,
            "max_height": null,
            "max_width": null,
            "min_height": null,
            "min_width": null,
            "object_fit": null,
            "object_position": null,
            "order": null,
            "overflow": null,
            "overflow_x": null,
            "overflow_y": null,
            "padding": null,
            "right": null,
            "top": null,
            "visibility": null,
            "width": null
          }
        },
        "d0126606e582428c86a0868a781a5822": {
          "model_module": "@jupyter-widgets/controls",
          "model_name": "ProgressStyleModel",
          "model_module_version": "1.5.0",
          "state": {
            "_model_module": "@jupyter-widgets/controls",
            "_model_module_version": "1.5.0",
            "_model_name": "ProgressStyleModel",
            "_view_count": null,
            "_view_module": "@jupyter-widgets/base",
            "_view_module_version": "1.2.0",
            "_view_name": "StyleView",
            "bar_color": null,
            "description_width": ""
          }
        },
        "aaabbf4c748645339c1d11ebf0136d66": {
          "model_module": "@jupyter-widgets/base",
          "model_name": "LayoutModel",
          "model_module_version": "1.2.0",
          "state": {
            "_model_module": "@jupyter-widgets/base",
            "_model_module_version": "1.2.0",
            "_model_name": "LayoutModel",
            "_view_count": null,
            "_view_module": "@jupyter-widgets/base",
            "_view_module_version": "1.2.0",
            "_view_name": "LayoutView",
            "align_content": null,
            "align_items": null,
            "align_self": null,
            "border": null,
            "bottom": null,
            "display": null,
            "flex": null,
            "flex_flow": null,
            "grid_area": null,
            "grid_auto_columns": null,
            "grid_auto_flow": null,
            "grid_auto_rows": null,
            "grid_column": null,
            "grid_gap": null,
            "grid_row": null,
            "grid_template_areas": null,
            "grid_template_columns": null,
            "grid_template_rows": null,
            "height": null,
            "justify_content": null,
            "justify_items": null,
            "left": null,
            "margin": null,
            "max_height": null,
            "max_width": null,
            "min_height": null,
            "min_width": null,
            "object_fit": null,
            "object_position": null,
            "order": null,
            "overflow": null,
            "overflow_x": null,
            "overflow_y": null,
            "padding": null,
            "right": null,
            "top": null,
            "visibility": null,
            "width": null
          }
        },
        "349381bae0924ce2b5d0306efb3778d0": {
          "model_module": "@jupyter-widgets/controls",
          "model_name": "DescriptionStyleModel",
          "model_module_version": "1.5.0",
          "state": {
            "_model_module": "@jupyter-widgets/controls",
            "_model_module_version": "1.5.0",
            "_model_name": "DescriptionStyleModel",
            "_view_count": null,
            "_view_module": "@jupyter-widgets/base",
            "_view_module_version": "1.2.0",
            "_view_name": "StyleView",
            "description_width": ""
          }
        },
        "763aa71022c64ef8a28ce64240271949": {
          "model_module": "@jupyter-widgets/controls",
          "model_name": "HBoxModel",
          "model_module_version": "1.5.0",
          "state": {
            "_dom_classes": [],
            "_model_module": "@jupyter-widgets/controls",
            "_model_module_version": "1.5.0",
            "_model_name": "HBoxModel",
            "_view_count": null,
            "_view_module": "@jupyter-widgets/controls",
            "_view_module_version": "1.5.0",
            "_view_name": "HBoxView",
            "box_style": "",
            "children": [
              "IPY_MODEL_a68ae0355b48417c9415a0370f02b5c5",
              "IPY_MODEL_79dc84d811784d7f83aa9abde6f48e7c",
              "IPY_MODEL_be5ffdd32ce74735b6819dc2c8eeaa8f"
            ],
            "layout": "IPY_MODEL_32deec8f5b414cc6ad6869f3e68b4c88"
          }
        },
        "a68ae0355b48417c9415a0370f02b5c5": {
          "model_module": "@jupyter-widgets/controls",
          "model_name": "HTMLModel",
          "model_module_version": "1.5.0",
          "state": {
            "_dom_classes": [],
            "_model_module": "@jupyter-widgets/controls",
            "_model_module_version": "1.5.0",
            "_model_name": "HTMLModel",
            "_view_count": null,
            "_view_module": "@jupyter-widgets/controls",
            "_view_module_version": "1.5.0",
            "_view_name": "HTMLView",
            "description": "",
            "description_tooltip": null,
            "layout": "IPY_MODEL_700d0fcd76684b6d8683859efc97b532",
            "placeholder": "​",
            "style": "IPY_MODEL_bad4c385fa8a4efd8088400f580f7618",
            "value": "huggingface_wrapper.py: 100%"
          }
        },
        "79dc84d811784d7f83aa9abde6f48e7c": {
          "model_module": "@jupyter-widgets/controls",
          "model_name": "FloatProgressModel",
          "model_module_version": "1.5.0",
          "state": {
            "_dom_classes": [],
            "_model_module": "@jupyter-widgets/controls",
            "_model_module_version": "1.5.0",
            "_model_name": "FloatProgressModel",
            "_view_count": null,
            "_view_module": "@jupyter-widgets/controls",
            "_view_module_version": "1.5.0",
            "_view_name": "ProgressView",
            "bar_style": "success",
            "description": "",
            "description_tooltip": null,
            "layout": "IPY_MODEL_5d95cdd43486472ba9e4a4fe91fdb99c",
            "max": 99960,
            "min": 0,
            "orientation": "horizontal",
            "style": "IPY_MODEL_466ae32bf3b648fc9237f2df7ef73e30",
            "value": 99960
          }
        },
        "be5ffdd32ce74735b6819dc2c8eeaa8f": {
          "model_module": "@jupyter-widgets/controls",
          "model_name": "HTMLModel",
          "model_module_version": "1.5.0",
          "state": {
            "_dom_classes": [],
            "_model_module": "@jupyter-widgets/controls",
            "_model_module_version": "1.5.0",
            "_model_name": "HTMLModel",
            "_view_count": null,
            "_view_module": "@jupyter-widgets/controls",
            "_view_module_version": "1.5.0",
            "_view_name": "HTMLView",
            "description": "",
            "description_tooltip": null,
            "layout": "IPY_MODEL_c4795fdf2ec645ab8d6f44ba4f3d2fed",
            "placeholder": "​",
            "style": "IPY_MODEL_d1cdc781de354248adbe248d5fbb9cc6",
            "value": " 100k/100k [00:00&lt;00:00, 1.39MB/s]"
          }
        },
        "32deec8f5b414cc6ad6869f3e68b4c88": {
          "model_module": "@jupyter-widgets/base",
          "model_name": "LayoutModel",
          "model_module_version": "1.2.0",
          "state": {
            "_model_module": "@jupyter-widgets/base",
            "_model_module_version": "1.2.0",
            "_model_name": "LayoutModel",
            "_view_count": null,
            "_view_module": "@jupyter-widgets/base",
            "_view_module_version": "1.2.0",
            "_view_name": "LayoutView",
            "align_content": null,
            "align_items": null,
            "align_self": null,
            "border": null,
            "bottom": null,
            "display": null,
            "flex": null,
            "flex_flow": null,
            "grid_area": null,
            "grid_auto_columns": null,
            "grid_auto_flow": null,
            "grid_auto_rows": null,
            "grid_column": null,
            "grid_gap": null,
            "grid_row": null,
            "grid_template_areas": null,
            "grid_template_columns": null,
            "grid_template_rows": null,
            "height": null,
            "justify_content": null,
            "justify_items": null,
            "left": null,
            "margin": null,
            "max_height": null,
            "max_width": null,
            "min_height": null,
            "min_width": null,
            "object_fit": null,
            "object_position": null,
            "order": null,
            "overflow": null,
            "overflow_x": null,
            "overflow_y": null,
            "padding": null,
            "right": null,
            "top": null,
            "visibility": null,
            "width": null
          }
        },
        "700d0fcd76684b6d8683859efc97b532": {
          "model_module": "@jupyter-widgets/base",
          "model_name": "LayoutModel",
          "model_module_version": "1.2.0",
          "state": {
            "_model_module": "@jupyter-widgets/base",
            "_model_module_version": "1.2.0",
            "_model_name": "LayoutModel",
            "_view_count": null,
            "_view_module": "@jupyter-widgets/base",
            "_view_module_version": "1.2.0",
            "_view_name": "LayoutView",
            "align_content": null,
            "align_items": null,
            "align_self": null,
            "border": null,
            "bottom": null,
            "display": null,
            "flex": null,
            "flex_flow": null,
            "grid_area": null,
            "grid_auto_columns": null,
            "grid_auto_flow": null,
            "grid_auto_rows": null,
            "grid_column": null,
            "grid_gap": null,
            "grid_row": null,
            "grid_template_areas": null,
            "grid_template_columns": null,
            "grid_template_rows": null,
            "height": null,
            "justify_content": null,
            "justify_items": null,
            "left": null,
            "margin": null,
            "max_height": null,
            "max_width": null,
            "min_height": null,
            "min_width": null,
            "object_fit": null,
            "object_position": null,
            "order": null,
            "overflow": null,
            "overflow_x": null,
            "overflow_y": null,
            "padding": null,
            "right": null,
            "top": null,
            "visibility": null,
            "width": null
          }
        },
        "bad4c385fa8a4efd8088400f580f7618": {
          "model_module": "@jupyter-widgets/controls",
          "model_name": "DescriptionStyleModel",
          "model_module_version": "1.5.0",
          "state": {
            "_model_module": "@jupyter-widgets/controls",
            "_model_module_version": "1.5.0",
            "_model_name": "DescriptionStyleModel",
            "_view_count": null,
            "_view_module": "@jupyter-widgets/base",
            "_view_module_version": "1.2.0",
            "_view_name": "StyleView",
            "description_width": ""
          }
        },
        "5d95cdd43486472ba9e4a4fe91fdb99c": {
          "model_module": "@jupyter-widgets/base",
          "model_name": "LayoutModel",
          "model_module_version": "1.2.0",
          "state": {
            "_model_module": "@jupyter-widgets/base",
            "_model_module_version": "1.2.0",
            "_model_name": "LayoutModel",
            "_view_count": null,
            "_view_module": "@jupyter-widgets/base",
            "_view_module_version": "1.2.0",
            "_view_name": "LayoutView",
            "align_content": null,
            "align_items": null,
            "align_self": null,
            "border": null,
            "bottom": null,
            "display": null,
            "flex": null,
            "flex_flow": null,
            "grid_area": null,
            "grid_auto_columns": null,
            "grid_auto_flow": null,
            "grid_auto_rows": null,
            "grid_column": null,
            "grid_gap": null,
            "grid_row": null,
            "grid_template_areas": null,
            "grid_template_columns": null,
            "grid_template_rows": null,
            "height": null,
            "justify_content": null,
            "justify_items": null,
            "left": null,
            "margin": null,
            "max_height": null,
            "max_width": null,
            "min_height": null,
            "min_width": null,
            "object_fit": null,
            "object_position": null,
            "order": null,
            "overflow": null,
            "overflow_x": null,
            "overflow_y": null,
            "padding": null,
            "right": null,
            "top": null,
            "visibility": null,
            "width": null
          }
        },
        "466ae32bf3b648fc9237f2df7ef73e30": {
          "model_module": "@jupyter-widgets/controls",
          "model_name": "ProgressStyleModel",
          "model_module_version": "1.5.0",
          "state": {
            "_model_module": "@jupyter-widgets/controls",
            "_model_module_version": "1.5.0",
            "_model_name": "ProgressStyleModel",
            "_view_count": null,
            "_view_module": "@jupyter-widgets/base",
            "_view_module_version": "1.2.0",
            "_view_name": "StyleView",
            "bar_color": null,
            "description_width": ""
          }
        },
        "c4795fdf2ec645ab8d6f44ba4f3d2fed": {
          "model_module": "@jupyter-widgets/base",
          "model_name": "LayoutModel",
          "model_module_version": "1.2.0",
          "state": {
            "_model_module": "@jupyter-widgets/base",
            "_model_module_version": "1.2.0",
            "_model_name": "LayoutModel",
            "_view_count": null,
            "_view_module": "@jupyter-widgets/base",
            "_view_module_version": "1.2.0",
            "_view_name": "LayoutView",
            "align_content": null,
            "align_items": null,
            "align_self": null,
            "border": null,
            "bottom": null,
            "display": null,
            "flex": null,
            "flex_flow": null,
            "grid_area": null,
            "grid_auto_columns": null,
            "grid_auto_flow": null,
            "grid_auto_rows": null,
            "grid_column": null,
            "grid_gap": null,
            "grid_row": null,
            "grid_template_areas": null,
            "grid_template_columns": null,
            "grid_template_rows": null,
            "height": null,
            "justify_content": null,
            "justify_items": null,
            "left": null,
            "margin": null,
            "max_height": null,
            "max_width": null,
            "min_height": null,
            "min_width": null,
            "object_fit": null,
            "object_position": null,
            "order": null,
            "overflow": null,
            "overflow_x": null,
            "overflow_y": null,
            "padding": null,
            "right": null,
            "top": null,
            "visibility": null,
            "width": null
          }
        },
        "d1cdc781de354248adbe248d5fbb9cc6": {
          "model_module": "@jupyter-widgets/controls",
          "model_name": "DescriptionStyleModel",
          "model_module_version": "1.5.0",
          "state": {
            "_model_module": "@jupyter-widgets/controls",
            "_model_module_version": "1.5.0",
            "_model_name": "DescriptionStyleModel",
            "_view_count": null,
            "_view_module": "@jupyter-widgets/base",
            "_view_module_version": "1.2.0",
            "_view_name": "StyleView",
            "description_width": ""
          }
        },
        "5c9f38f207894e8fbe6eb1466f722b06": {
          "model_module": "@jupyter-widgets/controls",
          "model_name": "HBoxModel",
          "model_module_version": "1.5.0",
          "state": {
            "_dom_classes": [],
            "_model_module": "@jupyter-widgets/controls",
            "_model_module_version": "1.5.0",
            "_model_name": "HBoxModel",
            "_view_count": null,
            "_view_module": "@jupyter-widgets/controls",
            "_view_module_version": "1.5.0",
            "_view_name": "HBoxView",
            "box_style": "",
            "children": [
              "IPY_MODEL_2780bab4b72d4d02a2453f4c09f473ed",
              "IPY_MODEL_2412e2bee90a4d78abcfc0d5c5395e1d",
              "IPY_MODEL_2ba5948c078444fe83c37b02731c5d93"
            ],
            "layout": "IPY_MODEL_e2f93ffdf05d4bc6a1ad3311cf583d32"
          }
        },
        "2780bab4b72d4d02a2453f4c09f473ed": {
          "model_module": "@jupyter-widgets/controls",
          "model_name": "HTMLModel",
          "model_module_version": "1.5.0",
          "state": {
            "_dom_classes": [],
            "_model_module": "@jupyter-widgets/controls",
            "_model_module_version": "1.5.0",
            "_model_name": "HTMLModel",
            "_view_count": null,
            "_view_module": "@jupyter-widgets/controls",
            "_view_module_version": "1.5.0",
            "_view_name": "HTMLView",
            "description": "",
            "description_tooltip": null,
            "layout": "IPY_MODEL_e6fa3fe9edd64ea19822a7b664e2aa70",
            "placeholder": "​",
            "style": "IPY_MODEL_0f29f48044214fa1972fb05859ad0c30",
            "value": "model.safetensors: 100%"
          }
        },
        "2412e2bee90a4d78abcfc0d5c5395e1d": {
          "model_module": "@jupyter-widgets/controls",
          "model_name": "FloatProgressModel",
          "model_module_version": "1.5.0",
          "state": {
            "_dom_classes": [],
            "_model_module": "@jupyter-widgets/controls",
            "_model_module_version": "1.5.0",
            "_model_name": "FloatProgressModel",
            "_view_count": null,
            "_view_module": "@jupyter-widgets/controls",
            "_view_module_version": "1.5.0",
            "_view_name": "ProgressView",
            "bar_style": "success",
            "description": "",
            "description_tooltip": null,
            "layout": "IPY_MODEL_49f8cca765184dcab283a6ae3b276d48",
            "max": 176,
            "min": 0,
            "orientation": "horizontal",
            "style": "IPY_MODEL_20c77d05af294ce5971a1980d73adc56",
            "value": 176
          }
        },
        "2ba5948c078444fe83c37b02731c5d93": {
          "model_module": "@jupyter-widgets/controls",
          "model_name": "HTMLModel",
          "model_module_version": "1.5.0",
          "state": {
            "_dom_classes": [],
            "_model_module": "@jupyter-widgets/controls",
            "_model_module_version": "1.5.0",
            "_model_name": "HTMLModel",
            "_view_count": null,
            "_view_module": "@jupyter-widgets/controls",
            "_view_module_version": "1.5.0",
            "_view_name": "HTMLView",
            "description": "",
            "description_tooltip": null,
            "layout": "IPY_MODEL_ce185df9b8a8450b8e22ad21521e3eda",
            "placeholder": "​",
            "style": "IPY_MODEL_6cfb7e2fe12e4e2797bd787b98822f09",
            "value": " 176/176 [00:00&lt;00:00, 8.47kB/s]"
          }
        },
        "e2f93ffdf05d4bc6a1ad3311cf583d32": {
          "model_module": "@jupyter-widgets/base",
          "model_name": "LayoutModel",
          "model_module_version": "1.2.0",
          "state": {
            "_model_module": "@jupyter-widgets/base",
            "_model_module_version": "1.2.0",
            "_model_name": "LayoutModel",
            "_view_count": null,
            "_view_module": "@jupyter-widgets/base",
            "_view_module_version": "1.2.0",
            "_view_name": "LayoutView",
            "align_content": null,
            "align_items": null,
            "align_self": null,
            "border": null,
            "bottom": null,
            "display": null,
            "flex": null,
            "flex_flow": null,
            "grid_area": null,
            "grid_auto_columns": null,
            "grid_auto_flow": null,
            "grid_auto_rows": null,
            "grid_column": null,
            "grid_gap": null,
            "grid_row": null,
            "grid_template_areas": null,
            "grid_template_columns": null,
            "grid_template_rows": null,
            "height": null,
            "justify_content": null,
            "justify_items": null,
            "left": null,
            "margin": null,
            "max_height": null,
            "max_width": null,
            "min_height": null,
            "min_width": null,
            "object_fit": null,
            "object_position": null,
            "order": null,
            "overflow": null,
            "overflow_x": null,
            "overflow_y": null,
            "padding": null,
            "right": null,
            "top": null,
            "visibility": null,
            "width": null
          }
        },
        "e6fa3fe9edd64ea19822a7b664e2aa70": {
          "model_module": "@jupyter-widgets/base",
          "model_name": "LayoutModel",
          "model_module_version": "1.2.0",
          "state": {
            "_model_module": "@jupyter-widgets/base",
            "_model_module_version": "1.2.0",
            "_model_name": "LayoutModel",
            "_view_count": null,
            "_view_module": "@jupyter-widgets/base",
            "_view_module_version": "1.2.0",
            "_view_name": "LayoutView",
            "align_content": null,
            "align_items": null,
            "align_self": null,
            "border": null,
            "bottom": null,
            "display": null,
            "flex": null,
            "flex_flow": null,
            "grid_area": null,
            "grid_auto_columns": null,
            "grid_auto_flow": null,
            "grid_auto_rows": null,
            "grid_column": null,
            "grid_gap": null,
            "grid_row": null,
            "grid_template_areas": null,
            "grid_template_columns": null,
            "grid_template_rows": null,
            "height": null,
            "justify_content": null,
            "justify_items": null,
            "left": null,
            "margin": null,
            "max_height": null,
            "max_width": null,
            "min_height": null,
            "min_width": null,
            "object_fit": null,
            "object_position": null,
            "order": null,
            "overflow": null,
            "overflow_x": null,
            "overflow_y": null,
            "padding": null,
            "right": null,
            "top": null,
            "visibility": null,
            "width": null
          }
        },
        "0f29f48044214fa1972fb05859ad0c30": {
          "model_module": "@jupyter-widgets/controls",
          "model_name": "DescriptionStyleModel",
          "model_module_version": "1.5.0",
          "state": {
            "_model_module": "@jupyter-widgets/controls",
            "_model_module_version": "1.5.0",
            "_model_name": "DescriptionStyleModel",
            "_view_count": null,
            "_view_module": "@jupyter-widgets/base",
            "_view_module_version": "1.2.0",
            "_view_name": "StyleView",
            "description_width": ""
          }
        },
        "49f8cca765184dcab283a6ae3b276d48": {
          "model_module": "@jupyter-widgets/base",
          "model_name": "LayoutModel",
          "model_module_version": "1.2.0",
          "state": {
            "_model_module": "@jupyter-widgets/base",
            "_model_module_version": "1.2.0",
            "_model_name": "LayoutModel",
            "_view_count": null,
            "_view_module": "@jupyter-widgets/base",
            "_view_module_version": "1.2.0",
            "_view_name": "LayoutView",
            "align_content": null,
            "align_items": null,
            "align_self": null,
            "border": null,
            "bottom": null,
            "display": null,
            "flex": null,
            "flex_flow": null,
            "grid_area": null,
            "grid_auto_columns": null,
            "grid_auto_flow": null,
            "grid_auto_rows": null,
            "grid_column": null,
            "grid_gap": null,
            "grid_row": null,
            "grid_template_areas": null,
            "grid_template_columns": null,
            "grid_template_rows": null,
            "height": null,
            "justify_content": null,
            "justify_items": null,
            "left": null,
            "margin": null,
            "max_height": null,
            "max_width": null,
            "min_height": null,
            "min_width": null,
            "object_fit": null,
            "object_position": null,
            "order": null,
            "overflow": null,
            "overflow_x": null,
            "overflow_y": null,
            "padding": null,
            "right": null,
            "top": null,
            "visibility": null,
            "width": null
          }
        },
        "20c77d05af294ce5971a1980d73adc56": {
          "model_module": "@jupyter-widgets/controls",
          "model_name": "ProgressStyleModel",
          "model_module_version": "1.5.0",
          "state": {
            "_model_module": "@jupyter-widgets/controls",
            "_model_module_version": "1.5.0",
            "_model_name": "ProgressStyleModel",
            "_view_count": null,
            "_view_module": "@jupyter-widgets/base",
            "_view_module_version": "1.2.0",
            "_view_name": "StyleView",
            "bar_color": null,
            "description_width": ""
          }
        },
        "ce185df9b8a8450b8e22ad21521e3eda": {
          "model_module": "@jupyter-widgets/base",
          "model_name": "LayoutModel",
          "model_module_version": "1.2.0",
          "state": {
            "_model_module": "@jupyter-widgets/base",
            "_model_module_version": "1.2.0",
            "_model_name": "LayoutModel",
            "_view_count": null,
            "_view_module": "@jupyter-widgets/base",
            "_view_module_version": "1.2.0",
            "_view_name": "LayoutView",
            "align_content": null,
            "align_items": null,
            "align_self": null,
            "border": null,
            "bottom": null,
            "display": null,
            "flex": null,
            "flex_flow": null,
            "grid_area": null,
            "grid_auto_columns": null,
            "grid_auto_flow": null,
            "grid_auto_rows": null,
            "grid_column": null,
            "grid_gap": null,
            "grid_row": null,
            "grid_template_areas": null,
            "grid_template_columns": null,
            "grid_template_rows": null,
            "height": null,
            "justify_content": null,
            "justify_items": null,
            "left": null,
            "margin": null,
            "max_height": null,
            "max_width": null,
            "min_height": null,
            "min_width": null,
            "object_fit": null,
            "object_position": null,
            "order": null,
            "overflow": null,
            "overflow_x": null,
            "overflow_y": null,
            "padding": null,
            "right": null,
            "top": null,
            "visibility": null,
            "width": null
          }
        },
        "6cfb7e2fe12e4e2797bd787b98822f09": {
          "model_module": "@jupyter-widgets/controls",
          "model_name": "DescriptionStyleModel",
          "model_module_version": "1.5.0",
          "state": {
            "_model_module": "@jupyter-widgets/controls",
            "_model_module_version": "1.5.0",
            "_model_name": "DescriptionStyleModel",
            "_view_count": null,
            "_view_module": "@jupyter-widgets/base",
            "_view_module_version": "1.2.0",
            "_view_name": "StyleView",
            "description_width": ""
          }
        },
        "cbda63c2d2de449baff69851ca9342f4": {
          "model_module": "@jupyter-widgets/controls",
          "model_name": "FileUploadModel",
          "model_module_version": "1.5.0",
          "state": {
            "_counter": 0,
            "_dom_classes": [],
            "_model_module": "@jupyter-widgets/controls",
            "_model_module_version": "1.5.0",
            "_model_name": "FileUploadModel",
            "_view_count": null,
            "_view_module": "@jupyter-widgets/controls",
            "_view_module_version": "1.5.0",
            "_view_name": "FileUploadView",
            "accept": ".pdb",
            "button_style": "",
            "data": [],
            "description": "Upload",
            "description_tooltip": null,
            "disabled": false,
            "error": "",
            "icon": "upload",
            "layout": "IPY_MODEL_284ae90b84c040bdb227127b3428b471",
            "metadata": [],
            "multiple": false,
            "style": "IPY_MODEL_3cc0f506cc8540e3a1024d3dc12d8dae"
          }
        },
        "284ae90b84c040bdb227127b3428b471": {
          "model_module": "@jupyter-widgets/base",
          "model_name": "LayoutModel",
          "model_module_version": "1.2.0",
          "state": {
            "_model_module": "@jupyter-widgets/base",
            "_model_module_version": "1.2.0",
            "_model_name": "LayoutModel",
            "_view_count": null,
            "_view_module": "@jupyter-widgets/base",
            "_view_module_version": "1.2.0",
            "_view_name": "LayoutView",
            "align_content": null,
            "align_items": null,
            "align_self": null,
            "border": null,
            "bottom": null,
            "display": null,
            "flex": null,
            "flex_flow": null,
            "grid_area": null,
            "grid_auto_columns": null,
            "grid_auto_flow": null,
            "grid_auto_rows": null,
            "grid_column": null,
            "grid_gap": null,
            "grid_row": null,
            "grid_template_areas": null,
            "grid_template_columns": null,
            "grid_template_rows": null,
            "height": null,
            "justify_content": null,
            "justify_items": null,
            "left": null,
            "margin": null,
            "max_height": null,
            "max_width": null,
            "min_height": null,
            "min_width": null,
            "object_fit": null,
            "object_position": null,
            "order": null,
            "overflow": null,
            "overflow_x": null,
            "overflow_y": null,
            "padding": null,
            "right": null,
            "top": null,
            "visibility": null,
            "width": null
          }
        },
        "3cc0f506cc8540e3a1024d3dc12d8dae": {
          "model_module": "@jupyter-widgets/controls",
          "model_name": "ButtonStyleModel",
          "model_module_version": "1.5.0",
          "state": {
            "_model_module": "@jupyter-widgets/controls",
            "_model_module_version": "1.5.0",
            "_model_name": "ButtonStyleModel",
            "_view_count": null,
            "_view_module": "@jupyter-widgets/base",
            "_view_module_version": "1.2.0",
            "_view_name": "StyleView",
            "button_color": null,
            "font_weight": ""
          }
        },
        "44c550288df5419aaca625377a46f076": {
          "model_module": "@jupyter-widgets/controls",
          "model_name": "TextareaModel",
          "model_module_version": "1.5.0",
          "state": {
            "_dom_classes": [
              "variant_text_area"
            ],
            "_model_module": "@jupyter-widgets/controls",
            "_model_module_version": "1.5.0",
            "_model_name": "TextareaModel",
            "_view_count": null,
            "_view_module": "@jupyter-widgets/controls",
            "_view_module_version": "1.5.0",
            "_view_name": "TextareaView",
            "continuous_update": true,
            "description": "Variant String:",
            "description_tooltip": null,
            "disabled": false,
            "layout": "IPY_MODEL_19fcb40afff24a139a91964f3c74e26a",
            "placeholder": "[\"T17P,T54F\", \"V28L,F51A\", \"T17P,V28L,F51A,T54F\"]\n[\"T13P,T33F\"]",
            "rows": null,
            "style": "IPY_MODEL_68ac59224bcd48fa8b02928f240e4df4",
            "value": ""
          }
        },
        "19fcb40afff24a139a91964f3c74e26a": {
          "model_module": "@jupyter-widgets/base",
          "model_name": "LayoutModel",
          "model_module_version": "1.2.0",
          "state": {
            "_model_module": "@jupyter-widgets/base",
            "_model_module_version": "1.2.0",
            "_model_name": "LayoutModel",
            "_view_count": null,
            "_view_module": "@jupyter-widgets/base",
            "_view_module_version": "1.2.0",
            "_view_name": "LayoutView",
            "align_content": null,
            "align_items": null,
            "align_self": null,
            "border": null,
            "bottom": null,
            "display": null,
            "flex": null,
            "flex_flow": null,
            "grid_area": null,
            "grid_auto_columns": null,
            "grid_auto_flow": null,
            "grid_auto_rows": null,
            "grid_column": null,
            "grid_gap": null,
            "grid_row": null,
            "grid_template_areas": null,
            "grid_template_columns": null,
            "grid_template_rows": null,
            "height": "100px",
            "justify_content": null,
            "justify_items": null,
            "left": null,
            "margin": null,
            "max_height": null,
            "max_width": null,
            "min_height": null,
            "min_width": null,
            "object_fit": null,
            "object_position": null,
            "order": null,
            "overflow": null,
            "overflow_x": null,
            "overflow_y": null,
            "padding": null,
            "right": null,
            "top": null,
            "visibility": null,
            "width": "500px"
          }
        },
        "68ac59224bcd48fa8b02928f240e4df4": {
          "model_module": "@jupyter-widgets/controls",
          "model_name": "DescriptionStyleModel",
          "model_module_version": "1.5.0",
          "state": {
            "_model_module": "@jupyter-widgets/controls",
            "_model_module_version": "1.5.0",
            "_model_name": "DescriptionStyleModel",
            "_view_count": null,
            "_view_module": "@jupyter-widgets/base",
            "_view_module_version": "1.2.0",
            "_view_name": "StyleView",
            "description_width": "initial"
          }
        },
        "c8e0b77d472e4780b957978018c1db2f": {
          "model_module": "@jupyter-widgets/controls",
          "model_name": "FileUploadModel",
          "model_module_version": "1.5.0",
          "state": {
            "_counter": 0,
            "_dom_classes": [],
            "_model_module": "@jupyter-widgets/controls",
            "_model_module_version": "1.5.0",
            "_model_name": "FileUploadModel",
            "_view_count": null,
            "_view_module": "@jupyter-widgets/controls",
            "_view_module_version": "1.5.0",
            "_view_name": "FileUploadView",
            "accept": ".json, .txt",
            "button_style": "",
            "data": [],
            "description": "Upload",
            "description_tooltip": null,
            "disabled": false,
            "error": "",
            "icon": "upload",
            "layout": "IPY_MODEL_c33d2ae86f334b19bc2a4d61bf0aef7d",
            "metadata": [],
            "multiple": false,
            "style": "IPY_MODEL_6f5c6fd2871f4f79999581a50494f725"
          }
        },
        "c33d2ae86f334b19bc2a4d61bf0aef7d": {
          "model_module": "@jupyter-widgets/base",
          "model_name": "LayoutModel",
          "model_module_version": "1.2.0",
          "state": {
            "_model_module": "@jupyter-widgets/base",
            "_model_module_version": "1.2.0",
            "_model_name": "LayoutModel",
            "_view_count": null,
            "_view_module": "@jupyter-widgets/base",
            "_view_module_version": "1.2.0",
            "_view_name": "LayoutView",
            "align_content": null,
            "align_items": null,
            "align_self": null,
            "border": null,
            "bottom": null,
            "display": null,
            "flex": null,
            "flex_flow": null,
            "grid_area": null,
            "grid_auto_columns": null,
            "grid_auto_flow": null,
            "grid_auto_rows": null,
            "grid_column": null,
            "grid_gap": null,
            "grid_row": null,
            "grid_template_areas": null,
            "grid_template_columns": null,
            "grid_template_rows": null,
            "height": null,
            "justify_content": null,
            "justify_items": null,
            "left": null,
            "margin": null,
            "max_height": null,
            "max_width": null,
            "min_height": null,
            "min_width": null,
            "object_fit": null,
            "object_position": null,
            "order": null,
            "overflow": null,
            "overflow_x": null,
            "overflow_y": null,
            "padding": null,
            "right": null,
            "top": null,
            "visibility": null,
            "width": null
          }
        },
        "6f5c6fd2871f4f79999581a50494f725": {
          "model_module": "@jupyter-widgets/controls",
          "model_name": "ButtonStyleModel",
          "model_module_version": "1.5.0",
          "state": {
            "_model_module": "@jupyter-widgets/controls",
            "_model_module_version": "1.5.0",
            "_model_name": "ButtonStyleModel",
            "_view_count": null,
            "_view_module": "@jupyter-widgets/base",
            "_view_module_version": "1.2.0",
            "_view_name": "StyleView",
            "button_color": null,
            "font_weight": ""
          }
        }
      }
    },
    "accelerator": "GPU"
  },
  "nbformat": 4,
  "nbformat_minor": 0
}