{
  "cells": [
    {
      "cell_type": "markdown",
      "id": "e30ea18e-6b5a-47d4-b7a4-1330804b5602",
      "metadata": {
        "id": "e30ea18e-6b5a-47d4-b7a4-1330804b5602"
      },
      "source": [
        "# Finetune on experimental data\n",
        "This notebook demonstrates how to finetune METL models on experimental data."
      ]
    },
    {
      "cell_type": "code",
      "source": [
        "# @title Cloning metl\n",
        "!git clone https://github.com/gitter-lab/metl.git\n",
        "%cd metl"
      ],
      "metadata": {
        "colab": {
          "base_uri": "https://localhost:8080/"
        },
        "id": "vZx7K4mpi4w1",
        "outputId": "a5c16482-b458-4867-aa34-6e0274126d4f",
        "cellView": "form"
      },
      "id": "vZx7K4mpi4w1",
      "execution_count": null,
      "outputs": [
        {
          "output_type": "stream",
          "name": "stdout",
          "text": [
            "Cloning into 'metl'...\n",
            "remote: Enumerating objects: 370, done.\u001b[K\n",
            "remote: Counting objects: 100% (370/370), done.\u001b[K\n",
            "remote: Compressing objects: 100% (250/250), done.\u001b[K\n",
            "remote: Total 370 (delta 135), reused 305 (delta 84), pack-reused 0 (from 0)\u001b[K\n",
            "Receiving objects: 100% (370/370), 18.03 MiB | 17.74 MiB/s, done.\n",
            "Resolving deltas: 100% (135/135), done.\n",
            "/content/metl\n"
          ]
        }
      ]
    },
    {
      "cell_type": "code",
      "source": [
        "# @title Setting up conda to download notebook dependencies (this takes a while)\n",
        "!wget https://repo.anaconda.com/miniconda/Miniconda3-latest-Linux-x86_64.sh -O ./miniconda.sh\n",
        "!chmod +x miniconda.sh\n",
        "!bash ./miniconda.sh -b -u -p /usr/local\n",
        "!conda env update -q -n base -f ./environment.yml"
      ],
      "metadata": {
        "colab": {
          "base_uri": "https://localhost:8080/"
        },
        "id": "vl7ugAoEjNFQ",
        "outputId": "894a7c19-e680-4ab2-a4e1-88f55507949d",
        "cellView": "form"
      },
      "id": "vl7ugAoEjNFQ",
      "execution_count": null,
      "outputs": [
        {
          "output_type": "stream",
          "name": "stdout",
          "text": [
            "--2024-08-16 16:51:45--  https://repo.anaconda.com/miniconda/Miniconda3-latest-Linux-x86_64.sh\n",
            "Resolving repo.anaconda.com (repo.anaconda.com)... 104.16.32.241, 104.16.191.158, 2606:4700::6810:bf9e, ...\n",
            "Connecting to repo.anaconda.com (repo.anaconda.com)|104.16.32.241|:443... connected.\n",
            "HTTP request sent, awaiting response... 200 OK\n",
            "Length: 146836934 (140M) [application/octet-stream]\n",
            "Saving to: ‘./miniconda.sh’\n",
            "\n",
            "./miniconda.sh      100%[===================>] 140.03M   315MB/s    in 0.4s    \n",
            "\n",
            "2024-08-16 16:51:46 (315 MB/s) - ‘./miniconda.sh’ saved [146836934/146836934]\n",
            "\n",
            "PREFIX=/usr/local\n",
            "Unpacking payload ...\n",
            "\n",
            "Installing base environment...\n",
            "\n",
            "Preparing transaction: ...working... done\n",
            "Executing transaction: ...working... done\n",
            "installation finished.\n",
            "WARNING:\n",
            "    You currently have a PYTHONPATH environment variable set. This may cause\n",
            "    unexpected behavior when running the Python interpreter in Miniconda3.\n",
            "    For best results, please verify that your PYTHONPATH only points to\n",
            "    directories of packages that are compatible with the Python interpreter\n",
            "    in Miniconda3: /usr/local\n",
            "Channels:\n",
            " - conda-forge\n",
            " - defaults\n",
            " - pytorch\n",
            "Platform: linux-64\n",
            "Collecting package metadata (repodata.json): ...working... done\n",
            "Solving environment: ...working... done\n",
            "Preparing transaction: ...working... done\n",
            "Verifying transaction: ...working... done\n",
            "Executing transaction: ...working... By downloading and using the CUDA Toolkit conda packages, you accept the terms and conditions of the CUDA End User License Agreement (EULA): https://docs.nvidia.com/cuda/eula/index.html\n",
            "\n",
            "done\n",
            "Installing pip dependencies: ...working... done\n"
          ]
        }
      ]
    },
    {
      "cell_type": "code",
      "execution_count": null,
      "id": "432eebaf-00b8-42bf-b927-fd651e6ab94d",
      "metadata": {
        "ExecuteTime": {
          "end_time": "2024-02-16T22:51:36.573559Z",
          "start_time": "2024-02-16T22:51:36.569490Z"
        },
        "jupyter": {
          "outputs_hidden": false
        },
        "id": "432eebaf-00b8-42bf-b927-fd651e6ab94d"
      },
      "outputs": [],
      "source": [
        "%load_ext autoreload\n",
        "%autoreload 2"
      ]
    },
    {
      "cell_type": "code",
      "execution_count": null,
      "id": "c566507e-1012-4415-82ba-7498950e0b6c",
      "metadata": {
        "id": "c566507e-1012-4415-82ba-7498950e0b6c"
      },
      "outputs": [],
      "source": [
        "import os\n",
        "import sys\n",
        "\n",
        "sys.path.append('/usr/local/lib/python3.9/site-packages')\n",
        "# define the name of the project root directory\n",
        "project_root_dir_name = \"metl\"\n",
        "\n",
        "# find the project root by checking each parent directory\n",
        "current_dir = os.getcwd()\n",
        "while os.path.basename(current_dir) != project_root_dir_name and current_dir != os.path.dirname(current_dir):\n",
        "    current_dir = os.path.dirname(current_dir)\n",
        "\n",
        "# change the current working directory to the project root directory\n",
        "if os.path.basename(current_dir) == project_root_dir_name:\n",
        "    os.chdir(current_dir)\n",
        "else:\n",
        "    print(\"project root directory not found\")\n",
        "\n",
        "# add the project code folder to the system path so imports work\n",
        "module_path = os.path.abspath(\"code\")\n",
        "if module_path not in sys.path:\n",
        "    sys.path.append(module_path)"
      ]
    },
    {
      "cell_type": "markdown",
      "id": "19876208-66f9-46b5-8f50-8e798fa815a4",
      "metadata": {
        "id": "19876208-66f9-46b5-8f50-8e798fa815a4"
      },
      "source": [
        "# Acquire an experimental dataset\n",
        "\n",
        "For demonstration purposes, this repository contains the [avGFP dataset](../data/dms_data/avgfp) from [Sarkisyan et al. (2016)](https://doi.org/10.1038/nature17995).\n",
        "See the [metl-pub](https://github.com/gitter-lab/metl-pub) repository to access the other experimental datasets we used in our preprint.\n",
        "See the README in the [dms_data](../data/dms_data) directory for information about how to use your own experimental dataset."
      ]
    },
    {
      "cell_type": "markdown",
      "id": "d6abf8b1-aa2d-4055-9184-d962ba0d4582",
      "metadata": {
        "id": "d6abf8b1-aa2d-4055-9184-d962ba0d4582"
      },
      "source": [
        "# Acquire a pretrained model\n",
        "Pretrained METL models are available in the [metl-pretrained](https://github.com/gitter-lab/metl-pretrained) repository. You can use one of those, or you can pretrain your own METL model (see [pretraining.ipynb](pretraining.ipynb)).\n",
        "\n",
        "For demonstration purposes, we include a pretrained avGFP METL-Local model from the [metl-pretrained](https://github.com/gitter-lab/metl-pretrained) repository in the [pretrained_models](../pretrained_models) directory. This model is `METL-L-2M-3D-GFP` (UUID: `Hr4GNHws`).\n",
        "It is the avGFP METL-Local source model we used for the analysis in our preprint.\n",
        "\n",
        "We will show how to finetune this model using the [experimental avGFP dataset](../data/dms_data/avgfp)."
      ]
    },
    {
      "cell_type": "markdown",
      "id": "23a30235-357a-4326-a4ff-77ab26eb5d7f",
      "metadata": {
        "id": "23a30235-357a-4326-a4ff-77ab26eb5d7f"
      },
      "source": [
        "# Training arguments\n",
        "\n",
        "The script for finetuning on experimental data is [train_target_model.py](train_target_model.py). This script has a number of arguments you can view by uncommenting and running the below cell. There are additional arguments related to architecture that won't show up if you run the command, but you can view them in [models.py](../code/models.py) in the `TransferModel` class."
      ]
    },
    {
      "cell_type": "code",
      "execution_count": null,
      "id": "bca8aeea-3dc3-47eb-915c-d80132be8fef",
      "metadata": {
        "id": "bca8aeea-3dc3-47eb-915c-d80132be8fef"
      },
      "outputs": [],
      "source": [
        "# !python code/train_target_model.py -h"
      ]
    },
    {
      "cell_type": "markdown",
      "id": "7ec8c31b-2da2-4ba7-9f4e-39e30dce8056",
      "metadata": {
        "id": "7ec8c31b-2da2-4ba7-9f4e-39e30dce8056"
      },
      "source": [
        "We set up finetuning arguments for this example in [finetune_avgfp_local.txt](../args/pretrain_avgfp_local.txt) in the [args](../args) directory. This argument file can be used directly with [train_target_model.py](train_target_model.py) by calling the command `!python code/train_target_model.py @args/finetune_avgfp_local.txt` (we do this in the next section).\n",
        "\n",
        "Uncomment and run the cell below to view the contents of the argument file. The sections below will walk through and explain the key arguments."
      ]
    },
    {
      "cell_type": "code",
      "execution_count": null,
      "id": "a06a897f-877d-4e41-9bee-4d3eabeead7d",
      "metadata": {
        "id": "a06a897f-877d-4e41-9bee-4d3eabeead7d"
      },
      "outputs": [],
      "source": [
        "# with open(\"args/finetune_avgfp_local.txt\", \"r\") as file:\n",
        "#     contents = file.read()\n",
        "#     print(contents)"
      ]
    },
    {
      "cell_type": "markdown",
      "id": "c2610124-fa2c-4709-98fc-bae51b258338",
      "metadata": {
        "id": "c2610124-fa2c-4709-98fc-bae51b258338"
      },
      "source": [
        "## Dataset arguments"
      ]
    },
    {
      "cell_type": "markdown",
      "id": "9f56ee90-90be-41fa-bc99-c13f94e14976",
      "metadata": {
        "id": "9f56ee90-90be-41fa-bc99-c13f94e14976"
      },
      "source": [
        "\n",
        "Specify the dataset name and the train/val/test split. The dataset must be defined in [datasets.yml](../data/dms_data/datasets.yml). For demonstration purposes, we are using one of the reduced dataset size splits with a dataset size of 160 (train size of 128).\n",
        "```\n",
        "--ds_name\n",
        "avgfp\n",
        "--split_dir\n",
        "data/dms_data/avgfp/splits/resampled/resampled_ds160_val0.2_te0.1_w1abc2f4e9a64_s1_r8099/resampled_ds160_val0.2_te0.1_w1abc2f4e9a64_s1_r8099_rep_0\n",
        "```\n",
        "\n",
        "Specify the names of the train, validation, and test set files in the split directory. Using \"auto\" for the test_name will select the super test set (\"stest.txt\") if it exists in the split directory, otherwise it will use the standard test set (\"test.txt\").\n",
        "\n",
        "```\n",
        "--train_name\n",
        "train\n",
        "--val_name\n",
        "val\n",
        "--test_name\n",
        "test\n",
        "```\n",
        "\n",
        "The name of the target column in the dataset dataframe. The model will be finetuned to predict the score in this column.\n",
        "\n",
        "```\n",
        "--target_names\n",
        "score\n",
        "```\n",
        "\n",
        "The METL-Local model we are finetuning uses 3D structure-based relative position embeddings, so we need to specify the PDB filename. This PDB file is in the [data/pdb_files](../data/pdb_files) directory, which the script checks by default, so there is no need to specify the full path. You can also just specify \"auto\" to use the PDB file defined for this dataset in [datasets.yml](../data/dms_data/datasets.yml).\n",
        "\n",
        "```\n",
        "--pdb_fn\n",
        "1gfl_cm.pdb\n",
        "```"
      ]
    },
    {
      "cell_type": "markdown",
      "id": "890cea13-feae-4e54-bf0f-dcbe97f4409f",
      "metadata": {
        "id": "890cea13-feae-4e54-bf0f-dcbe97f4409f"
      },
      "source": [
        "## Network architecture arguments"
      ]
    },
    {
      "cell_type": "markdown",
      "id": "72ee9762-cae7-4e21-8435-f6dd49781b8c",
      "metadata": {
        "id": "72ee9762-cae7-4e21-8435-f6dd49781b8c"
      },
      "source": [
        "For finetuning, we implemented a special model `transfer_model` that handles pretrained checkpoints with top nets.\n",
        "```\n",
        "--model_name\n",
        "transfer_model\n",
        "```\n",
        "\n",
        "The pretrained checkpoint can be a PyTorch checkpoint (.pt file) downloaded from the [metl-pretrained](https://github.com/gitter-lab/metl-pretrained) repository or a PyTorch Lightning checkpoint (.ckpt file) obtained from pretraining a model with this repository.\n",
        "```\n",
        "--pretrained_ckpt_path\n",
        "pretrained_models/Hr4GNHws.pt\n",
        "```\n",
        "\n",
        "The backbone cutoff determines where to cutoff the pretrained model and place the new prediction head. For METL-Local models, we recommend backbone cutoff -1, and for METL-Global models we recommend backbone cutoff -2.\n",
        "\n",
        "```\n",
        "--backbone_cutoff\n",
        "-1\n",
        "```\n",
        "\n",
        "The remaining arguments determine the encoding, which should be set to `int_seqs`, whether to use dropout after the backbone cutoff, and the architecture of the new top net. You can leave these values as-is to match what we did for the preprint.\n",
        "\n",
        "```\n",
        "--encoding\n",
        "int_seqs\n",
        "--dropout_after_backbone\n",
        "--dropout_after_backbone_rate\n",
        "0.5\n",
        "--top_net_type\n",
        "linear\n",
        "```"
      ]
    },
    {
      "cell_type": "markdown",
      "id": "8d94c112-9770-4a5f-93e0-acf4d9acae16",
      "metadata": {
        "id": "8d94c112-9770-4a5f-93e0-acf4d9acae16"
      },
      "source": [
        "## Finetuning strategy arguments"
      ]
    },
    {
      "cell_type": "markdown",
      "id": "7bb96cb6-7815-4efa-9b6f-305df9bb3050",
      "metadata": {
        "id": "7bb96cb6-7815-4efa-9b6f-305df9bb3050"
      },
      "source": [
        "We implemented a dual-phase finetuning strategy. During the first phase, the backbone weights are frozen and only the top net is trained. During the second phase, all the network weights are unfrozen and trained at a reduced learning rate.\n",
        "\n",
        "The unfreeze_backbone_at_epoch argument determines the training epoch at which to unfreeze the backbone. We train the models for 500 epochs, so the backbone is unfrozen halfway through at epoch 250.\n",
        "\n",
        "```\n",
        "--finetuning\n",
        "--finetuning_strategy\n",
        "backbone\n",
        "--unfreeze_backbone_at_epoch\n",
        "250\n",
        "--backbone_always_align_lr\n",
        "```"
      ]
    },
    {
      "cell_type": "markdown",
      "id": "f51d4584-a0ce-45c3-8fb7-8c34d3a984c3",
      "metadata": {
        "id": "f51d4584-a0ce-45c3-8fb7-8c34d3a984c3"
      },
      "source": [
        "## Optimization arguments"
      ]
    },
    {
      "cell_type": "markdown",
      "id": "d90d10e8-21f3-4b9e-8134-99cb053bef13",
      "metadata": {
        "id": "d90d10e8-21f3-4b9e-8134-99cb053bef13"
      },
      "source": [
        "Basic optimizer arguments include the batch size, learning rate, and maximum number of epochs to train for. Unless early stopping is enabled, the model will train for the given number of epochs.\n",
        "\n",
        "```\n",
        "--optimizer\n",
        "adamw\n",
        "--weight_decay\n",
        "0.1\n",
        "--batch_size\n",
        "128\n",
        "--learning_rate\n",
        "0.001\n",
        "--max_epochs\n",
        "500\n",
        "--gradient_clip_val\n",
        "0.5\n",
        "```\n",
        "\n",
        "The learning rate scheduler we used for finetuning is a dual phase learning rate schedule that matches the dual phase finetuning strategy. Each phase has a linear learning rate warmup for 1% of the total steps in that phase. There is also a cosine decay for the learning rate for each phase. The phase 2 learning rate is 10% of the phase 1 learning rate.\n",
        "\n",
        "```\n",
        "--lr_scheduler\n",
        "dual_phase_warmup_constant_cosine_decay\n",
        "--warmup_steps\n",
        ".01\n",
        "--phase2_lr_ratio\n",
        "0.1\n",
        "\n",
        "```"
      ]
    },
    {
      "cell_type": "markdown",
      "id": "16327f53-7beb-412e-a925-12884e66d70b",
      "metadata": {
        "id": "16327f53-7beb-412e-a925-12884e66d70b"
      },
      "source": [
        "## Logging arguments"
      ]
    },
    {
      "cell_type": "markdown",
      "id": "132db93c-85e6-4658-a31e-9b103df34cb7",
      "metadata": {
        "id": "132db93c-85e6-4658-a31e-9b103df34cb7"
      },
      "source": [
        "We have built in functionality for tracking model training with Weights & Biases. If you have a Weights and Biases account, set the environment variable `WANDB_API_KEY` to your API key and set the flag `--use_wandb` instead of `--no_use_wandb` below.\n",
        "\n",
        "```\n",
        "--no_use_wandb\n",
        "--wandb_project\n",
        "metl-target\n",
        "--wandb_online\n",
        "--experiment\n",
        "default\n",
        "```\n",
        "\n",
        "The below argument determines where to place the log directory locally.\n",
        "```\n",
        "--log_dir_base\n",
        "output/training_logs\n",
        "```"
      ]
    },
    {
      "cell_type": "markdown",
      "id": "53a2fda3-6dfa-46d5-ad3d-3055eda0b29a",
      "metadata": {
        "id": "53a2fda3-6dfa-46d5-ad3d-3055eda0b29a"
      },
      "source": [
        "# Running training"
      ]
    },
    {
      "cell_type": "markdown",
      "id": "8d3d8d23-9d54-4888-842d-4fc8fd843b40",
      "metadata": {
        "id": "8d3d8d23-9d54-4888-842d-4fc8fd843b40"
      },
      "source": [
        "All the arguments described above are contained in [finetune_avgfp_local.txt](../args/pretrain_avgfp_local.txt), which can be fed directly into [train_target_model.py](train_target_model.py).\n",
        "\n",
        "PyTorch Lightning has a built-in progress bar that is convenient for seeing training progress, but it does not display correctly in Jupyter when calling the script with `!python`. We are going to disable the progress bar for by setting the flag `--enable_progress_bar false`. Instead, we implemented a simple print statement to track training progress, which we will enable with the flag `--enable_simple_progress_messages`.\n",
        "\n",
        "The [train_target_model.py](../code/train_target_model.py) script can support running on Apple Silicon with acceleration via MPS, but the version of PyTorch used in this environment is slightly outdated and does not support all MPS operations, so MPS support has been disabled. The script will run on GPU via CUDA if available, otherwise it will use CPUs.\n",
        "\n",
        "To speed up training for demo purposes, we also override `--max_epochs 50` and `--unfreeze_backbone_at_epoch 25`."
      ]
    },
    {
      "cell_type": "code",
      "execution_count": null,
      "id": "977b4d8d-4662-4e03-955c-dc4a8ae7c1dc",
      "metadata": {
        "colab": {
          "base_uri": "https://localhost:8080/"
        },
        "id": "977b4d8d-4662-4e03-955c-dc4a8ae7c1dc",
        "outputId": "116b7cd5-8d91-4f3d-cbea-8ecc90671343"
      },
      "outputs": [
        {
          "output_type": "stream",
          "name": "stdout",
          "text": [
            "Random seed not specified, using: 806881872\n",
            "Global seed set to 806881872\n",
            "Created model UUID: SrcZPH8V\n",
            "Created log directory: output/training_logs/SrcZPH8V\n",
            "Final UUID: SrcZPH8V\n",
            "Final log directory: output/training_logs/SrcZPH8V\n",
            "Trainer already configured with model summary callbacks: [<class 'pytorch_lightning.callbacks.rich_model_summary.RichModelSummary'>]. Skipping setting a default `ModelSummary` callback.\n",
            "GPU available: True (cuda), used: True\n",
            "TPU available: False, using: 0 TPU cores\n",
            "IPU available: False, using: 0 IPUs\n",
            "HPU available: False, using: 0 HPUs\n",
            "LOCAL_RANK: 0 - CUDA_VISIBLE_DEVICES: [0]\n",
            "Loading `train_dataloader` to estimate number of stepping batches.\n",
            "/usr/local/lib/python3.9/site-packages/torch/utils/data/dataloader.py:563: UserWarning: This DataLoader will create 4 worker processes in total. Our suggested max number of worker in current system is 2, which is smaller than what this DataLoader is going to create. Please be aware that excessive worker creation might get DataLoader running slow or even freeze, lower the worker number to avoid potential slowness/freeze if necessary.\n",
            "  warnings.warn(_create_warning_msg(\n",
            "/usr/local/lib/python3.9/site-packages/pytorch_lightning/trainer/trainer.py:1892: PossibleUserWarning: The number of training batches (1) is smaller than the logging interval Trainer(log_every_n_steps=50). Set a lower value for log_every_n_steps if you want to see logs for the training epoch.\n",
            "  rank_zero_warn(\n",
            "Number of training steps is 50\n",
            "Number of warmup steps is 0.5\n",
            "Second warmup phase starts at step 25\n",
            "total_steps 50\n",
            "phase1_total_steps 25\n",
            "phase2_total_steps 25\n",
            "┏━━━┳━━━━━━━━━━━━━━━━━━━━━━━━┳━━━━━━━━━━━━━━━━━━━━┳━━━━━━━━┳━━━━━━━━━━━━┳━━━━━━━━━━━━┓\n",
            "┃\u001b[1;35m \u001b[0m\u001b[1;35m \u001b[0m\u001b[1;35m \u001b[0m┃\u001b[1;35m \u001b[0m\u001b[1;35mName                  \u001b[0m\u001b[1;35m \u001b[0m┃\u001b[1;35m \u001b[0m\u001b[1;35mType              \u001b[0m\u001b[1;35m \u001b[0m┃\u001b[1;35m \u001b[0m\u001b[1;35mParams\u001b[0m\u001b[1;35m \u001b[0m┃\u001b[1;35m \u001b[0m\u001b[1;35m  In sizes\u001b[0m\u001b[1;35m \u001b[0m┃\u001b[1;35m \u001b[0m\u001b[1;35m Out sizes\u001b[0m\u001b[1;35m \u001b[0m┃\n",
            "┡━━━╇━━━━━━━━━━━━━━━━━━━━━━━━╇━━━━━━━━━━━━━━━━━━━━╇━━━━━━━━╇━━━━━━━━━━━━╇━━━━━━━━━━━━┩\n",
            "│\u001b[2m \u001b[0m\u001b[2m0\u001b[0m\u001b[2m \u001b[0m│ model                  │ TransferModel      │  2.4 M │\u001b[37m \u001b[0m\u001b[37m[128, 237]\u001b[0m\u001b[37m \u001b[0m│\u001b[37m \u001b[0m\u001b[37m  [128, 1]\u001b[0m\u001b[37m \u001b[0m│\n",
            "│\u001b[2m \u001b[0m\u001b[2m1\u001b[0m\u001b[2m \u001b[0m│ model.model            │ SequentialWithArgs │  2.4 M │\u001b[37m \u001b[0m\u001b[37m[128, 237]\u001b[0m\u001b[37m \u001b[0m│\u001b[37m \u001b[0m\u001b[37m  [128, 1]\u001b[0m\u001b[37m \u001b[0m│\n",
            "│\u001b[2m \u001b[0m\u001b[2m2\u001b[0m\u001b[2m \u001b[0m│ model.model.backbone   │ SequentialWithArgs │  2.4 M │\u001b[37m \u001b[0m\u001b[37m[128, 237]\u001b[0m\u001b[37m \u001b[0m│\u001b[37m \u001b[0m\u001b[37m[128, 256]\u001b[0m\u001b[37m \u001b[0m│\n",
            "│\u001b[2m \u001b[0m\u001b[2m3\u001b[0m\u001b[2m \u001b[0m│ model.model.dropout    │ Dropout            │      0 │\u001b[37m \u001b[0m\u001b[37m[128, 256]\u001b[0m\u001b[37m \u001b[0m│\u001b[37m \u001b[0m\u001b[37m[128, 256]\u001b[0m\u001b[37m \u001b[0m│\n",
            "│\u001b[2m \u001b[0m\u001b[2m4\u001b[0m\u001b[2m \u001b[0m│ model.model.flatten    │ Flatten            │      0 │\u001b[37m \u001b[0m\u001b[37m[128, 256]\u001b[0m\u001b[37m \u001b[0m│\u001b[37m \u001b[0m\u001b[37m[128, 256]\u001b[0m\u001b[37m \u001b[0m│\n",
            "│\u001b[2m \u001b[0m\u001b[2m5\u001b[0m\u001b[2m \u001b[0m│ model.model.prediction │ Linear             │    257 │\u001b[37m \u001b[0m\u001b[37m[128, 256]\u001b[0m\u001b[37m \u001b[0m│\u001b[37m \u001b[0m\u001b[37m  [128, 1]\u001b[0m\u001b[37m \u001b[0m│\n",
            "│\u001b[2m \u001b[0m\u001b[2m6\u001b[0m\u001b[2m \u001b[0m│ test_pearson           │ PearsonCorrCoef    │      0 │\u001b[37m \u001b[0m\u001b[37m         ?\u001b[0m\u001b[37m \u001b[0m│\u001b[37m \u001b[0m\u001b[37m         ?\u001b[0m\u001b[37m \u001b[0m│\n",
            "│\u001b[2m \u001b[0m\u001b[2m7\u001b[0m\u001b[2m \u001b[0m│ test_spearman          │ SpearmanCorrCoef   │      0 │\u001b[37m \u001b[0m\u001b[37m         ?\u001b[0m\u001b[37m \u001b[0m│\u001b[37m \u001b[0m\u001b[37m         ?\u001b[0m\u001b[37m \u001b[0m│\n",
            "└───┴────────────────────────┴────────────────────┴────────┴────────────┴────────────┘\n",
            "\u001b[1mTrainable params\u001b[0m: 257                                                                               \n",
            "\u001b[1mNon-trainable params\u001b[0m: 2.4 M                                                                         \n",
            "\u001b[1mTotal params\u001b[0m: 2.4 M                                                                                 \n",
            "\u001b[1mTotal estimated model params size (MB)\u001b[0m: 9                                                           \n",
            "Starting sanity check...\n",
            "Sanity check complete.\n",
            "Starting training...\n",
            "Epoch     0: Train Loss =   2.464, Val Loss =   2.207\n",
            "Epoch     1: Train Loss =   2.461, Val Loss =   2.157\n",
            "Epoch     2: Train Loss =   2.423, Val Loss =   2.109\n",
            "Epoch     3: Train Loss =   2.390, Val Loss =   2.062\n",
            "Epoch     4: Train Loss =   2.350, Val Loss =   2.018\n",
            "Epoch     5: Train Loss =   2.259, Val Loss =   1.976\n",
            "Epoch     6: Train Loss =   2.221, Val Loss =   1.937\n",
            "Epoch     7: Train Loss =   2.132, Val Loss =   1.900\n",
            "Epoch     8: Train Loss =   2.109, Val Loss =   1.867\n",
            "Epoch     9: Train Loss =   2.144, Val Loss =   1.836\n",
            "Epoch    10: Train Loss =   2.102, Val Loss =   1.808\n",
            "Epoch    11: Train Loss =   2.013, Val Loss =   1.783\n",
            "Epoch    12: Train Loss =   2.014, Val Loss =   1.760\n",
            "Epoch    13: Train Loss =   1.979, Val Loss =   1.741\n",
            "Epoch    14: Train Loss =   1.995, Val Loss =   1.724\n",
            "Epoch    15: Train Loss =   1.945, Val Loss =   1.710\n",
            "Epoch    16: Train Loss =   1.904, Val Loss =   1.699\n",
            "Epoch    17: Train Loss =   1.972, Val Loss =   1.690\n",
            "Epoch    18: Train Loss =   1.936, Val Loss =   1.682\n",
            "Epoch    19: Train Loss =   1.931, Val Loss =   1.677\n",
            "Epoch    20: Train Loss =   1.907, Val Loss =   1.673\n",
            "Epoch    21: Train Loss =   1.909, Val Loss =   1.671\n",
            "Epoch    22: Train Loss =   1.898, Val Loss =   1.669\n",
            "Epoch    23: Train Loss =   1.904, Val Loss =   1.669\n",
            "Epoch    24: Train Loss =   1.890, Val Loss =   1.668\n",
            "Epoch    25: Train Loss =   1.912, Val Loss =   1.668\n",
            "Epoch    26: Train Loss =   1.894, Val Loss =   1.642\n",
            "Epoch    27: Train Loss =   1.807, Val Loss =   1.615\n",
            "Epoch    28: Train Loss =   1.817, Val Loss =   1.588\n",
            "Epoch    29: Train Loss =   1.811, Val Loss =   1.562\n",
            "Epoch    30: Train Loss =   1.764, Val Loss =   1.537\n",
            "Epoch    31: Train Loss =   1.762, Val Loss =   1.512\n",
            "Epoch    32: Train Loss =   1.680, Val Loss =   1.489\n",
            "Epoch    33: Train Loss =   1.656, Val Loss =   1.466\n",
            "Epoch    34: Train Loss =   1.618, Val Loss =   1.445\n",
            "Epoch    35: Train Loss =   1.621, Val Loss =   1.424\n",
            "Epoch    36: Train Loss =   1.581, Val Loss =   1.405\n",
            "Epoch    37: Train Loss =   1.469, Val Loss =   1.387\n",
            "Epoch    38: Train Loss =   1.531, Val Loss =   1.371\n",
            "Epoch    39: Train Loss =   1.478, Val Loss =   1.357\n",
            "Epoch    40: Train Loss =   1.475, Val Loss =   1.345\n",
            "Epoch    41: Train Loss =   1.453, Val Loss =   1.335\n",
            "Epoch    42: Train Loss =   1.408, Val Loss =   1.326\n",
            "Epoch    43: Train Loss =   1.467, Val Loss =   1.319\n",
            "Epoch    44: Train Loss =   1.420, Val Loss =   1.314\n",
            "Epoch    45: Train Loss =   1.412, Val Loss =   1.310\n",
            "Epoch    46: Train Loss =   1.401, Val Loss =   1.307\n",
            "Epoch    47: Train Loss =   1.443, Val Loss =   1.306\n",
            "Epoch    48: Train Loss =   1.387, Val Loss =   1.305\n",
            "Epoch    49: Train Loss =   1.368, Val Loss =   1.305\n",
            "`Trainer.fit` stopped: `max_epochs=50` reached.\n",
            "Restoring states from the checkpoint path at output/training_logs/SrcZPH8V/checkpoints/epoch=49-step=50.ckpt\n",
            "LOCAL_RANK: 0 - CUDA_VISIBLE_DEVICES: [0]\n",
            "Loaded model weights from checkpoint at output/training_logs/SrcZPH8V/checkpoints/epoch=49-step=50.ckpt\n",
            "/usr/local/lib/python3.9/site-packages/torch/utils/data/dataloader.py:563: UserWarning: This DataLoader will create 4 worker processes in total. Our suggested max number of worker in current system is 2, which is smaller than what this DataLoader is going to create. Please be aware that excessive worker creation might get DataLoader running slow or even freeze, lower the worker number to avoid potential slowness/freeze if necessary.\n",
            "  warnings.warn(_create_warning_msg(\n",
            "Starting testing...\n",
            "Testing complete.\n",
            "┏━━━━━━━━━━━━━━━━━━━━━━━━━━━┳━━━━━━━━━━━━━━━━━━━━━━━━━━━┓\n",
            "┃\u001b[1m \u001b[0m\u001b[1m       Test metric       \u001b[0m\u001b[1m \u001b[0m┃\u001b[1m \u001b[0m\u001b[1m      DataLoader 0       \u001b[0m\u001b[1m \u001b[0m┃\n",
            "┡━━━━━━━━━━━━━━━━━━━━━━━━━━━╇━━━━━━━━━━━━━━━━━━━━━━━━━━━┩\n",
            "│\u001b[36m \u001b[0m\u001b[36m        test_loss        \u001b[0m\u001b[36m \u001b[0m│\u001b[35m \u001b[0m\u001b[35m   1.3567686080932617    \u001b[0m\u001b[35m \u001b[0m│\n",
            "│\u001b[36m \u001b[0m\u001b[36m      test_pearson       \u001b[0m\u001b[36m \u001b[0m│\u001b[35m \u001b[0m\u001b[35m   0.6589984893798828    \u001b[0m\u001b[35m \u001b[0m│\n",
            "│\u001b[36m \u001b[0m\u001b[36m      test_spearman      \u001b[0m\u001b[36m \u001b[0m│\u001b[35m \u001b[0m\u001b[35m   0.6308208107948303    \u001b[0m\u001b[35m \u001b[0m│\n",
            "└───────────────────────────┴───────────────────────────┘\n",
            "Restoring states from the checkpoint path at output/training_logs/SrcZPH8V/checkpoints/epoch=49-step=50.ckpt\n",
            "LOCAL_RANK: 0 - CUDA_VISIBLE_DEVICES: [0]\n",
            "Loaded model weights from checkpoint at output/training_logs/SrcZPH8V/checkpoints/epoch=49-step=50.ckpt\n",
            "Starting prediction...\n",
            "Prediction complete.\n",
            "saving a scatter plot for set: train (128 variants)\n",
            "saving a scatter plot for set: val (32 variants)\n",
            "saving a scatter plot for set: test (4655 variants)\n",
            "            mse  pearsonr        r2  spearmanr\n",
            "set                                           \n",
            "train  1.456980  0.722311 -0.248835   0.686027\n",
            "val    1.305009  0.704652 -0.210136   0.730822\n",
            "test   1.356768  0.658999 -0.218819   0.630821\n"
          ]
        }
      ],
      "source": [
        "!python code/train_target_model.py @args/finetune_avgfp_local.txt --enable_progress_bar false --enable_simple_progress_messages --max_epochs 50 --unfreeze_backbone_at_epoch 25"
      ]
    },
    {
      "cell_type": "markdown",
      "id": "f33fc407-6ab1-45e3-8e6a-9b717dca7f00",
      "metadata": {
        "id": "f33fc407-6ab1-45e3-8e6a-9b717dca7f00"
      },
      "source": [
        "# Additional recommendations"
      ]
    },
    {
      "cell_type": "markdown",
      "id": "39c8e0e5-8bb5-4200-ab45-e559b0f20896",
      "metadata": {
        "jp-MarkdownHeadingCollapsed": true,
        "id": "39c8e0e5-8bb5-4200-ab45-e559b0f20896"
      },
      "source": [
        "## Model selection\n",
        "\n",
        "Selecting the model from the epoch with the lowest validation set loss can help prevent overfitting. It requires having a big enough validation set that provides an accurate estimate of performance.\n",
        "\n",
        "We enabled model selection if the validation set size was ≥ 32 for METL-Local and ≥ 128 for METL-Global. We found the optimization was more stable for METL-Local than METL-Global, thus smaller validation sets were still reliable.\n",
        "\n",
        "Enable model selection by setting argument `--ckpt_monitor val`.\n"
      ]
    },
    {
      "cell_type": "markdown",
      "id": "b18f773b-8209-4993-b3f0-994b0ab2b133",
      "metadata": {
        "id": "b18f773b-8209-4993-b3f0-994b0ab2b133"
      },
      "source": [
        "## Backbone cutoff for METL-Global\n",
        "Finetuning METL-Global is largely the same as METL-Local, except we recommend using a different threshold for model selection (see above), as well as a different backbone cutoff.\n",
        "\n",
        "For METL-Local, we set `--backbone_cutoff -1`, which attaches the new prediction head immediately after the final fully connected layer.\n",
        "\n",
        "For METL-Global, we recommend setting `--backbone_cutoff -2`, which attaches the new prediction head immediately after the global pooling layer. We found this resulted in better finetuning performance for METL-Global."
      ]
    },
    {
      "cell_type": "markdown",
      "id": "2a591eb8-3d5e-437f-9189-3c0834f7f447",
      "metadata": {
        "id": "2a591eb8-3d5e-437f-9189-3c0834f7f447"
      },
      "source": [
        "# Running inference using finetuned model"
      ]
    },
    {
      "cell_type": "markdown",
      "id": "af85ff8f-1a30-4ba2-bf3b-967a773e0e80",
      "metadata": {
        "id": "af85ff8f-1a30-4ba2-bf3b-967a773e0e80"
      },
      "source": [
        "The PyTorch Lightning framework supports inference, but while we put together a working example, we recommend converting the PyTorch Lightning checkpoint to pure PyTorch and using the [metl-pretrained](https://github.com/gitter-lab/metl-pretrained) package to run inference in pure PyTorch."
      ]
    },
    {
      "cell_type": "markdown",
      "id": "1acca5d1-1bca-4c3f-b9d3-56525cf11186",
      "metadata": {
        "id": "1acca5d1-1bca-4c3f-b9d3-56525cf11186"
      },
      "source": [
        "## Convert to PyTorch\n",
        "Lightning checkpoints are compatible with pure pytorch, but they may contain additional items that are not needed for inference. This script loads the checkpoint and saves a smaller checkpoint with just the model weights and hyperparameters."
      ]
    },
    {
      "cell_type": "code",
      "execution_count": null,
      "id": "63d8ce0a-5534-406f-90b6-6c155cb6ea9c",
      "metadata": {
        "colab": {
          "base_uri": "https://localhost:8080/"
        },
        "id": "63d8ce0a-5534-406f-90b6-6c155cb6ea9c",
        "outputId": "f8f83cdb-8c79-4550-c745-869ea9d03962"
      },
      "outputs": [
        {
          "output_type": "stream",
          "name": "stdout",
          "text": [
            "Processing checkpoint: output/training_logs/SrcZPH8V/checkpoints/epoch=49-step=50.ckpt\n",
            "Saving converted checkpoint to: output/training_logs/SrcZPH8V/checkpoints/SrcZPH8V.pt\n"
          ]
        }
      ],
      "source": [
        "# the Lightning checkpoint from the finetuning we performed above\n",
        "fine_tuning_dir_name = os.listdir('output/training_logs')[0]\n",
        "\n",
        "ckpt_fn = f\"output/training_logs/{fine_tuning_dir_name}/checkpoints/epoch=49-step=50.ckpt\"\n",
        "\n",
        "# run the conversion script\n",
        "!python code/convert_ckpt.py --ckpt_path $ckpt_fn"
      ]
    },
    {
      "cell_type": "markdown",
      "id": "98b562aa-663a-4b0d-a719-e85555cf875d",
      "metadata": {
        "id": "98b562aa-663a-4b0d-a719-e85555cf875d"
      },
      "source": [
        "## Load checkpoint with metl-pretrained package\n",
        "Using the hugging face wrapper, we can load the metl library and use it to load our newly trained model checkpoint and inference with it."
      ]
    },
    {
      "cell_type": "code",
      "execution_count": null,
      "id": "ff35ce69-97ed-4a5a-b082-f197aae1addc",
      "metadata": {
        "colab": {
          "base_uri": "https://localhost:8080/",
          "height": 217,
          "referenced_widgets": [
            "42839897b9ce4fa4a524552d2fc989d9",
            "aa724e8a4a5f4854906068997610ac4f",
            "442251f8a1474208ad2ed82debf07e2e",
            "132972e875d24e3a82dbbcf98a04f0ab",
            "b3a8c29390c54992a779d063b8efba43",
            "04c46c0890714949a9d75e3f9814196f",
            "7e90828d391d4169b9a92aff6b2ff21f",
            "1b95ab13b8634294967b009f9547ee82",
            "33659e9904434bc986f6a9c31c92438a",
            "39b9f6db0cf6436bbaaa7aef3a18e8f8",
            "2b447d15f2e247749c00d39d8f4373fb",
            "2ff605c0f3d64de4a57f806696f07d34",
            "33b7810598824a809f7a3ad43d3b82ff",
            "0899ce301cce48549914a63b3814b7b9",
            "b33b73b6146d4790aadbb04d6c93dca3",
            "8efde142cb0f42d29d482364c0601a9d",
            "edf3bc9f33e0449a807d14f19533b686",
            "47126a1b03f64051a2f123efbc66847c",
            "11b0a14c061047809ab1f0966ae7988a",
            "bbcfb2aa215041fcabd5c50657cb137d",
            "a09487f30a37419eb7f59e514f522a28",
            "f0636739f1844b2394ecea3a51a67bc1",
            "455decadb6e742fda1f31f7515c57358",
            "3285d87b40a2481f851e7e1610e575d7",
            "4dc14eb5a7874943983ab033d8caadff",
            "70046589d7df489daab19c3a5dd303df",
            "c329fc9ad7ea489f9f592800f00b1720",
            "02d7c9d4a0e64459a2049d8c0e6c63b9",
            "93e0ac15295a40fea88e4573c7ba36cc",
            "36185473d9084edf8183ac220b7d2bca",
            "fc29e2fc8d674cbcb44e49bb02a6133d",
            "1e68504735754492b54d2c26270299c3",
            "df1241447f234f1eb5f640956da48426"
          ]
        },
        "id": "ff35ce69-97ed-4a5a-b082-f197aae1addc",
        "outputId": "ffff474d-38af-47b2-8a1a-3d4b09a77f2d"
      },
      "outputs": [
        {
          "output_type": "display_data",
          "data": {
            "text/plain": [
              "config.json:   0%|          | 0.00/282 [00:00<?, ?B/s]"
            ],
            "application/vnd.jupyter.widget-view+json": {
              "version_major": 2,
              "version_minor": 0,
              "model_id": "42839897b9ce4fa4a524552d2fc989d9"
            }
          },
          "metadata": {}
        },
        {
          "output_type": "display_data",
          "data": {
            "text/plain": [
              "huggingface_wrapper.py:   0%|          | 0.00/100k [00:00<?, ?B/s]"
            ],
            "application/vnd.jupyter.widget-view+json": {
              "version_major": 2,
              "version_minor": 0,
              "model_id": "2ff605c0f3d64de4a57f806696f07d34"
            }
          },
          "metadata": {}
        },
        {
          "output_type": "stream",
          "name": "stderr",
          "text": [
            "A new version of the following files was downloaded from https://huggingface.co/gitter-lab/METL:\n",
            "- huggingface_wrapper.py\n",
            ". Make sure to double-check they do not contain any added malicious code. To avoid downloading new versions of the code file, you can pin a revision.\n"
          ]
        },
        {
          "output_type": "display_data",
          "data": {
            "text/plain": [
              "model.safetensors:   0%|          | 0.00/176 [00:00<?, ?B/s]"
            ],
            "application/vnd.jupyter.widget-view+json": {
              "version_major": 2,
              "version_minor": 0,
              "model_id": "455decadb6e742fda1f31f7515c57358"
            }
          },
          "metadata": {}
        },
        {
          "output_type": "stream",
          "name": "stderr",
          "text": [
            "Some weights of the model checkpoint at gitter-lab/METL were not used when initializing METLModel: ['model.bias', 'model.weight']\n",
            "- This IS expected if you are initializing METLModel from the checkpoint of a model trained on another task or with another architecture (e.g. initializing a BertForSequenceClassification model from a BertForPreTraining model).\n",
            "- This IS NOT expected if you are initializing METLModel from the checkpoint of a model that you expect to be exactly identical (initializing a BertForSequenceClassification model from a BertForSequenceClassification model).\n"
          ]
        }
      ],
      "source": [
        "from transformers import AutoModel\n",
        "\n",
        "metl = AutoModel.from_pretrained('gitter-lab/METL', trust_remote_code=True)"
      ]
    },
    {
      "cell_type": "code",
      "source": [
        "checkpoint_path = f\"output/training_logs/{fine_tuning_dir_name}/checkpoints/{fine_tuning_dir_name}.pt\"\n",
        "metl.get_from_checkpoint(checkpoint_path)\n",
        "model = metl.model\n",
        "data_encoder = metl.encoder"
      ],
      "metadata": {
        "colab": {
          "base_uri": "https://localhost:8080/"
        },
        "id": "jmVkPSI5G7bE",
        "outputId": "2c539a77-970f-4925-dc75-5dfc333bdc0f"
      },
      "id": "jmVkPSI5G7bE",
      "execution_count": null,
      "outputs": [
        {
          "output_type": "stream",
          "name": "stdout",
          "text": [
            "Initialized PDB bucket matrices in: 0.000\n",
            "Initialized PDB bucket matrices in: 0.000\n"
          ]
        }
      ]
    },
    {
      "cell_type": "markdown",
      "id": "7efa0346-d84b-42ca-ab4b-ed4ae3120933",
      "metadata": {
        "id": "7efa0346-d84b-42ca-ab4b-ed4ae3120933"
      },
      "source": [
        "## Run inference with pure PyTorch"
      ]
    },
    {
      "cell_type": "code",
      "source": [
        "import yaml\n",
        "import torch\n",
        "\n",
        "def load_dataset_metadata(metadata_fn: str = \"data/dms_data/datasets.yml\"):\n",
        "    with open(metadata_fn, \"r\") as stream:\n",
        "        try:\n",
        "            datasets = yaml.safe_load(stream)\n",
        "        except yaml.YAMLError as exc:\n",
        "            print(exc)\n",
        "    return datasets"
      ],
      "metadata": {
        "id": "VdU6Xja_H0L_"
      },
      "id": "VdU6Xja_H0L_",
      "execution_count": null,
      "outputs": []
    },
    {
      "cell_type": "code",
      "execution_count": null,
      "id": "33202a3e-5e35-4b55-8738-3b58ad04796e",
      "metadata": {
        "colab": {
          "base_uri": "https://localhost:8080/"
        },
        "id": "33202a3e-5e35-4b55-8738-3b58ad04796e",
        "outputId": "27666646-f2c6-404f-ec9e-2c64a3f0d7c3"
      },
      "outputs": [
        {
          "output_type": "stream",
          "name": "stdout",
          "text": [
            "tensor([[-0.3429],\n",
            "        [-0.3486],\n",
            "        [-0.5284]])\n"
          ]
        }
      ],
      "source": [
        "# load the GFP wild-type sequence and the PDB file (needed for 3D RPE)\n",
        "datasets = load_dataset_metadata()\n",
        "wt = datasets[\"avgfp\"][\"wt_aa\"]\n",
        "pdb_fn = datasets[\"avgfp\"][\"pdb_fn\"]\n",
        "\n",
        "# some example GFP variants to compute the scores for\n",
        "variants = [\"E3K,G102S\",\n",
        "            \"T36P,S203T,K207R\",\n",
        "            \"V10A,D19G,F25S,E113V\"]\n",
        "\n",
        "encoded_variants = data_encoder.encode_variants(wt, variants)\n",
        "\n",
        "# set model to eval mode\n",
        "model.eval()\n",
        "\n",
        "# no need to compute gradients for inference\n",
        "with torch.no_grad():\n",
        "    # note we are specifying the pdb_fn because this model uses 3D RPE\n",
        "    predictions = model(torch.tensor(encoded_variants), pdb_fn=pdb_fn)\n",
        "\n",
        "print(predictions)"
      ]
    }
  ],
  "metadata": {
    "kernelspec": {
      "display_name": "Python 3",
      "name": "python3"
    },
    "language_info": {
      "codemirror_mode": {
        "name": "ipython",
        "version": 3
      },
      "file_extension": ".py",
      "mimetype": "text/x-python",
      "name": "python",
      "nbconvert_exporter": "python",
      "pygments_lexer": "ipython3",
      "version": "3.9.13"
    },
    "colab": {
      "provenance": [],
      "gpuType": "T4",
      "collapsed_sections": [
        "f33fc407-6ab1-45e3-8e6a-9b717dca7f00"
      ]
    },
    "accelerator": "GPU",
    "widgets": {
      "application/vnd.jupyter.widget-state+json": {
        "42839897b9ce4fa4a524552d2fc989d9": {
          "model_module": "@jupyter-widgets/controls",
          "model_name": "HBoxModel",
          "model_module_version": "1.5.0",
          "state": {
            "_dom_classes": [],
            "_model_module": "@jupyter-widgets/controls",
            "_model_module_version": "1.5.0",
            "_model_name": "HBoxModel",
            "_view_count": null,
            "_view_module": "@jupyter-widgets/controls",
            "_view_module_version": "1.5.0",
            "_view_name": "HBoxView",
            "box_style": "",
            "children": [
              "IPY_MODEL_aa724e8a4a5f4854906068997610ac4f",
              "IPY_MODEL_442251f8a1474208ad2ed82debf07e2e",
              "IPY_MODEL_132972e875d24e3a82dbbcf98a04f0ab"
            ],
            "layout": "IPY_MODEL_b3a8c29390c54992a779d063b8efba43"
          }
        },
        "aa724e8a4a5f4854906068997610ac4f": {
          "model_module": "@jupyter-widgets/controls",
          "model_name": "HTMLModel",
          "model_module_version": "1.5.0",
          "state": {
            "_dom_classes": [],
            "_model_module": "@jupyter-widgets/controls",
            "_model_module_version": "1.5.0",
            "_model_name": "HTMLModel",
            "_view_count": null,
            "_view_module": "@jupyter-widgets/controls",
            "_view_module_version": "1.5.0",
            "_view_name": "HTMLView",
            "description": "",
            "description_tooltip": null,
            "layout": "IPY_MODEL_04c46c0890714949a9d75e3f9814196f",
            "placeholder": "​",
            "style": "IPY_MODEL_7e90828d391d4169b9a92aff6b2ff21f",
            "value": "config.json: 100%"
          }
        },
        "442251f8a1474208ad2ed82debf07e2e": {
          "model_module": "@jupyter-widgets/controls",
          "model_name": "FloatProgressModel",
          "model_module_version": "1.5.0",
          "state": {
            "_dom_classes": [],
            "_model_module": "@jupyter-widgets/controls",
            "_model_module_version": "1.5.0",
            "_model_name": "FloatProgressModel",
            "_view_count": null,
            "_view_module": "@jupyter-widgets/controls",
            "_view_module_version": "1.5.0",
            "_view_name": "ProgressView",
            "bar_style": "success",
            "description": "",
            "description_tooltip": null,
            "layout": "IPY_MODEL_1b95ab13b8634294967b009f9547ee82",
            "max": 282,
            "min": 0,
            "orientation": "horizontal",
            "style": "IPY_MODEL_33659e9904434bc986f6a9c31c92438a",
            "value": 282
          }
        },
        "132972e875d24e3a82dbbcf98a04f0ab": {
          "model_module": "@jupyter-widgets/controls",
          "model_name": "HTMLModel",
          "model_module_version": "1.5.0",
          "state": {
            "_dom_classes": [],
            "_model_module": "@jupyter-widgets/controls",
            "_model_module_version": "1.5.0",
            "_model_name": "HTMLModel",
            "_view_count": null,
            "_view_module": "@jupyter-widgets/controls",
            "_view_module_version": "1.5.0",
            "_view_name": "HTMLView",
            "description": "",
            "description_tooltip": null,
            "layout": "IPY_MODEL_39b9f6db0cf6436bbaaa7aef3a18e8f8",
            "placeholder": "​",
            "style": "IPY_MODEL_2b447d15f2e247749c00d39d8f4373fb",
            "value": " 282/282 [00:00&lt;00:00, 12.6kB/s]"
          }
        },
        "b3a8c29390c54992a779d063b8efba43": {
          "model_module": "@jupyter-widgets/base",
          "model_name": "LayoutModel",
          "model_module_version": "1.2.0",
          "state": {
            "_model_module": "@jupyter-widgets/base",
            "_model_module_version": "1.2.0",
            "_model_name": "LayoutModel",
            "_view_count": null,
            "_view_module": "@jupyter-widgets/base",
            "_view_module_version": "1.2.0",
            "_view_name": "LayoutView",
            "align_content": null,
            "align_items": null,
            "align_self": null,
            "border": null,
            "bottom": null,
            "display": null,
            "flex": null,
            "flex_flow": null,
            "grid_area": null,
            "grid_auto_columns": null,
            "grid_auto_flow": null,
            "grid_auto_rows": null,
            "grid_column": null,
            "grid_gap": null,
            "grid_row": null,
            "grid_template_areas": null,
            "grid_template_columns": null,
            "grid_template_rows": null,
            "height": null,
            "justify_content": null,
            "justify_items": null,
            "left": null,
            "margin": null,
            "max_height": null,
            "max_width": null,
            "min_height": null,
            "min_width": null,
            "object_fit": null,
            "object_position": null,
            "order": null,
            "overflow": null,
            "overflow_x": null,
            "overflow_y": null,
            "padding": null,
            "right": null,
            "top": null,
            "visibility": null,
            "width": null
          }
        },
        "04c46c0890714949a9d75e3f9814196f": {
          "model_module": "@jupyter-widgets/base",
          "model_name": "LayoutModel",
          "model_module_version": "1.2.0",
          "state": {
            "_model_module": "@jupyter-widgets/base",
            "_model_module_version": "1.2.0",
            "_model_name": "LayoutModel",
            "_view_count": null,
            "_view_module": "@jupyter-widgets/base",
            "_view_module_version": "1.2.0",
            "_view_name": "LayoutView",
            "align_content": null,
            "align_items": null,
            "align_self": null,
            "border": null,
            "bottom": null,
            "display": null,
            "flex": null,
            "flex_flow": null,
            "grid_area": null,
            "grid_auto_columns": null,
            "grid_auto_flow": null,
            "grid_auto_rows": null,
            "grid_column": null,
            "grid_gap": null,
            "grid_row": null,
            "grid_template_areas": null,
            "grid_template_columns": null,
            "grid_template_rows": null,
            "height": null,
            "justify_content": null,
            "justify_items": null,
            "left": null,
            "margin": null,
            "max_height": null,
            "max_width": null,
            "min_height": null,
            "min_width": null,
            "object_fit": null,
            "object_position": null,
            "order": null,
            "overflow": null,
            "overflow_x": null,
            "overflow_y": null,
            "padding": null,
            "right": null,
            "top": null,
            "visibility": null,
            "width": null
          }
        },
        "7e90828d391d4169b9a92aff6b2ff21f": {
          "model_module": "@jupyter-widgets/controls",
          "model_name": "DescriptionStyleModel",
          "model_module_version": "1.5.0",
          "state": {
            "_model_module": "@jupyter-widgets/controls",
            "_model_module_version": "1.5.0",
            "_model_name": "DescriptionStyleModel",
            "_view_count": null,
            "_view_module": "@jupyter-widgets/base",
            "_view_module_version": "1.2.0",
            "_view_name": "StyleView",
            "description_width": ""
          }
        },
        "1b95ab13b8634294967b009f9547ee82": {
          "model_module": "@jupyter-widgets/base",
          "model_name": "LayoutModel",
          "model_module_version": "1.2.0",
          "state": {
            "_model_module": "@jupyter-widgets/base",
            "_model_module_version": "1.2.0",
            "_model_name": "LayoutModel",
            "_view_count": null,
            "_view_module": "@jupyter-widgets/base",
            "_view_module_version": "1.2.0",
            "_view_name": "LayoutView",
            "align_content": null,
            "align_items": null,
            "align_self": null,
            "border": null,
            "bottom": null,
            "display": null,
            "flex": null,
            "flex_flow": null,
            "grid_area": null,
            "grid_auto_columns": null,
            "grid_auto_flow": null,
            "grid_auto_rows": null,
            "grid_column": null,
            "grid_gap": null,
            "grid_row": null,
            "grid_template_areas": null,
            "grid_template_columns": null,
            "grid_template_rows": null,
            "height": null,
            "justify_content": null,
            "justify_items": null,
            "left": null,
            "margin": null,
            "max_height": null,
            "max_width": null,
            "min_height": null,
            "min_width": null,
            "object_fit": null,
            "object_position": null,
            "order": null,
            "overflow": null,
            "overflow_x": null,
            "overflow_y": null,
            "padding": null,
            "right": null,
            "top": null,
            "visibility": null,
            "width": null
          }
        },
        "33659e9904434bc986f6a9c31c92438a": {
          "model_module": "@jupyter-widgets/controls",
          "model_name": "ProgressStyleModel",
          "model_module_version": "1.5.0",
          "state": {
            "_model_module": "@jupyter-widgets/controls",
            "_model_module_version": "1.5.0",
            "_model_name": "ProgressStyleModel",
            "_view_count": null,
            "_view_module": "@jupyter-widgets/base",
            "_view_module_version": "1.2.0",
            "_view_name": "StyleView",
            "bar_color": null,
            "description_width": ""
          }
        },
        "39b9f6db0cf6436bbaaa7aef3a18e8f8": {
          "model_module": "@jupyter-widgets/base",
          "model_name": "LayoutModel",
          "model_module_version": "1.2.0",
          "state": {
            "_model_module": "@jupyter-widgets/base",
            "_model_module_version": "1.2.0",
            "_model_name": "LayoutModel",
            "_view_count": null,
            "_view_module": "@jupyter-widgets/base",
            "_view_module_version": "1.2.0",
            "_view_name": "LayoutView",
            "align_content": null,
            "align_items": null,
            "align_self": null,
            "border": null,
            "bottom": null,
            "display": null,
            "flex": null,
            "flex_flow": null,
            "grid_area": null,
            "grid_auto_columns": null,
            "grid_auto_flow": null,
            "grid_auto_rows": null,
            "grid_column": null,
            "grid_gap": null,
            "grid_row": null,
            "grid_template_areas": null,
            "grid_template_columns": null,
            "grid_template_rows": null,
            "height": null,
            "justify_content": null,
            "justify_items": null,
            "left": null,
            "margin": null,
            "max_height": null,
            "max_width": null,
            "min_height": null,
            "min_width": null,
            "object_fit": null,
            "object_position": null,
            "order": null,
            "overflow": null,
            "overflow_x": null,
            "overflow_y": null,
            "padding": null,
            "right": null,
            "top": null,
            "visibility": null,
            "width": null
          }
        },
        "2b447d15f2e247749c00d39d8f4373fb": {
          "model_module": "@jupyter-widgets/controls",
          "model_name": "DescriptionStyleModel",
          "model_module_version": "1.5.0",
          "state": {
            "_model_module": "@jupyter-widgets/controls",
            "_model_module_version": "1.5.0",
            "_model_name": "DescriptionStyleModel",
            "_view_count": null,
            "_view_module": "@jupyter-widgets/base",
            "_view_module_version": "1.2.0",
            "_view_name": "StyleView",
            "description_width": ""
          }
        },
        "2ff605c0f3d64de4a57f806696f07d34": {
          "model_module": "@jupyter-widgets/controls",
          "model_name": "HBoxModel",
          "model_module_version": "1.5.0",
          "state": {
            "_dom_classes": [],
            "_model_module": "@jupyter-widgets/controls",
            "_model_module_version": "1.5.0",
            "_model_name": "HBoxModel",
            "_view_count": null,
            "_view_module": "@jupyter-widgets/controls",
            "_view_module_version": "1.5.0",
            "_view_name": "HBoxView",
            "box_style": "",
            "children": [
              "IPY_MODEL_33b7810598824a809f7a3ad43d3b82ff",
              "IPY_MODEL_0899ce301cce48549914a63b3814b7b9",
              "IPY_MODEL_b33b73b6146d4790aadbb04d6c93dca3"
            ],
            "layout": "IPY_MODEL_8efde142cb0f42d29d482364c0601a9d"
          }
        },
        "33b7810598824a809f7a3ad43d3b82ff": {
          "model_module": "@jupyter-widgets/controls",
          "model_name": "HTMLModel",
          "model_module_version": "1.5.0",
          "state": {
            "_dom_classes": [],
            "_model_module": "@jupyter-widgets/controls",
            "_model_module_version": "1.5.0",
            "_model_name": "HTMLModel",
            "_view_count": null,
            "_view_module": "@jupyter-widgets/controls",
            "_view_module_version": "1.5.0",
            "_view_name": "HTMLView",
            "description": "",
            "description_tooltip": null,
            "layout": "IPY_MODEL_edf3bc9f33e0449a807d14f19533b686",
            "placeholder": "​",
            "style": "IPY_MODEL_47126a1b03f64051a2f123efbc66847c",
            "value": "huggingface_wrapper.py: 100%"
          }
        },
        "0899ce301cce48549914a63b3814b7b9": {
          "model_module": "@jupyter-widgets/controls",
          "model_name": "FloatProgressModel",
          "model_module_version": "1.5.0",
          "state": {
            "_dom_classes": [],
            "_model_module": "@jupyter-widgets/controls",
            "_model_module_version": "1.5.0",
            "_model_name": "FloatProgressModel",
            "_view_count": null,
            "_view_module": "@jupyter-widgets/controls",
            "_view_module_version": "1.5.0",
            "_view_name": "ProgressView",
            "bar_style": "success",
            "description": "",
            "description_tooltip": null,
            "layout": "IPY_MODEL_11b0a14c061047809ab1f0966ae7988a",
            "max": 99960,
            "min": 0,
            "orientation": "horizontal",
            "style": "IPY_MODEL_bbcfb2aa215041fcabd5c50657cb137d",
            "value": 99960
          }
        },
        "b33b73b6146d4790aadbb04d6c93dca3": {
          "model_module": "@jupyter-widgets/controls",
          "model_name": "HTMLModel",
          "model_module_version": "1.5.0",
          "state": {
            "_dom_classes": [],
            "_model_module": "@jupyter-widgets/controls",
            "_model_module_version": "1.5.0",
            "_model_name": "HTMLModel",
            "_view_count": null,
            "_view_module": "@jupyter-widgets/controls",
            "_view_module_version": "1.5.0",
            "_view_name": "HTMLView",
            "description": "",
            "description_tooltip": null,
            "layout": "IPY_MODEL_a09487f30a37419eb7f59e514f522a28",
            "placeholder": "​",
            "style": "IPY_MODEL_f0636739f1844b2394ecea3a51a67bc1",
            "value": " 100k/100k [00:00&lt;00:00, 560kB/s]"
          }
        },
        "8efde142cb0f42d29d482364c0601a9d": {
          "model_module": "@jupyter-widgets/base",
          "model_name": "LayoutModel",
          "model_module_version": "1.2.0",
          "state": {
            "_model_module": "@jupyter-widgets/base",
            "_model_module_version": "1.2.0",
            "_model_name": "LayoutModel",
            "_view_count": null,
            "_view_module": "@jupyter-widgets/base",
            "_view_module_version": "1.2.0",
            "_view_name": "LayoutView",
            "align_content": null,
            "align_items": null,
            "align_self": null,
            "border": null,
            "bottom": null,
            "display": null,
            "flex": null,
            "flex_flow": null,
            "grid_area": null,
            "grid_auto_columns": null,
            "grid_auto_flow": null,
            "grid_auto_rows": null,
            "grid_column": null,
            "grid_gap": null,
            "grid_row": null,
            "grid_template_areas": null,
            "grid_template_columns": null,
            "grid_template_rows": null,
            "height": null,
            "justify_content": null,
            "justify_items": null,
            "left": null,
            "margin": null,
            "max_height": null,
            "max_width": null,
            "min_height": null,
            "min_width": null,
            "object_fit": null,
            "object_position": null,
            "order": null,
            "overflow": null,
            "overflow_x": null,
            "overflow_y": null,
            "padding": null,
            "right": null,
            "top": null,
            "visibility": null,
            "width": null
          }
        },
        "edf3bc9f33e0449a807d14f19533b686": {
          "model_module": "@jupyter-widgets/base",
          "model_name": "LayoutModel",
          "model_module_version": "1.2.0",
          "state": {
            "_model_module": "@jupyter-widgets/base",
            "_model_module_version": "1.2.0",
            "_model_name": "LayoutModel",
            "_view_count": null,
            "_view_module": "@jupyter-widgets/base",
            "_view_module_version": "1.2.0",
            "_view_name": "LayoutView",
            "align_content": null,
            "align_items": null,
            "align_self": null,
            "border": null,
            "bottom": null,
            "display": null,
            "flex": null,
            "flex_flow": null,
            "grid_area": null,
            "grid_auto_columns": null,
            "grid_auto_flow": null,
            "grid_auto_rows": null,
            "grid_column": null,
            "grid_gap": null,
            "grid_row": null,
            "grid_template_areas": null,
            "grid_template_columns": null,
            "grid_template_rows": null,
            "height": null,
            "justify_content": null,
            "justify_items": null,
            "left": null,
            "margin": null,
            "max_height": null,
            "max_width": null,
            "min_height": null,
            "min_width": null,
            "object_fit": null,
            "object_position": null,
            "order": null,
            "overflow": null,
            "overflow_x": null,
            "overflow_y": null,
            "padding": null,
            "right": null,
            "top": null,
            "visibility": null,
            "width": null
          }
        },
        "47126a1b03f64051a2f123efbc66847c": {
          "model_module": "@jupyter-widgets/controls",
          "model_name": "DescriptionStyleModel",
          "model_module_version": "1.5.0",
          "state": {
            "_model_module": "@jupyter-widgets/controls",
            "_model_module_version": "1.5.0",
            "_model_name": "DescriptionStyleModel",
            "_view_count": null,
            "_view_module": "@jupyter-widgets/base",
            "_view_module_version": "1.2.0",
            "_view_name": "StyleView",
            "description_width": ""
          }
        },
        "11b0a14c061047809ab1f0966ae7988a": {
          "model_module": "@jupyter-widgets/base",
          "model_name": "LayoutModel",
          "model_module_version": "1.2.0",
          "state": {
            "_model_module": "@jupyter-widgets/base",
            "_model_module_version": "1.2.0",
            "_model_name": "LayoutModel",
            "_view_count": null,
            "_view_module": "@jupyter-widgets/base",
            "_view_module_version": "1.2.0",
            "_view_name": "LayoutView",
            "align_content": null,
            "align_items": null,
            "align_self": null,
            "border": null,
            "bottom": null,
            "display": null,
            "flex": null,
            "flex_flow": null,
            "grid_area": null,
            "grid_auto_columns": null,
            "grid_auto_flow": null,
            "grid_auto_rows": null,
            "grid_column": null,
            "grid_gap": null,
            "grid_row": null,
            "grid_template_areas": null,
            "grid_template_columns": null,
            "grid_template_rows": null,
            "height": null,
            "justify_content": null,
            "justify_items": null,
            "left": null,
            "margin": null,
            "max_height": null,
            "max_width": null,
            "min_height": null,
            "min_width": null,
            "object_fit": null,
            "object_position": null,
            "order": null,
            "overflow": null,
            "overflow_x": null,
            "overflow_y": null,
            "padding": null,
            "right": null,
            "top": null,
            "visibility": null,
            "width": null
          }
        },
        "bbcfb2aa215041fcabd5c50657cb137d": {
          "model_module": "@jupyter-widgets/controls",
          "model_name": "ProgressStyleModel",
          "model_module_version": "1.5.0",
          "state": {
            "_model_module": "@jupyter-widgets/controls",
            "_model_module_version": "1.5.0",
            "_model_name": "ProgressStyleModel",
            "_view_count": null,
            "_view_module": "@jupyter-widgets/base",
            "_view_module_version": "1.2.0",
            "_view_name": "StyleView",
            "bar_color": null,
            "description_width": ""
          }
        },
        "a09487f30a37419eb7f59e514f522a28": {
          "model_module": "@jupyter-widgets/base",
          "model_name": "LayoutModel",
          "model_module_version": "1.2.0",
          "state": {
            "_model_module": "@jupyter-widgets/base",
            "_model_module_version": "1.2.0",
            "_model_name": "LayoutModel",
            "_view_count": null,
            "_view_module": "@jupyter-widgets/base",
            "_view_module_version": "1.2.0",
            "_view_name": "LayoutView",
            "align_content": null,
            "align_items": null,
            "align_self": null,
            "border": null,
            "bottom": null,
            "display": null,
            "flex": null,
            "flex_flow": null,
            "grid_area": null,
            "grid_auto_columns": null,
            "grid_auto_flow": null,
            "grid_auto_rows": null,
            "grid_column": null,
            "grid_gap": null,
            "grid_row": null,
            "grid_template_areas": null,
            "grid_template_columns": null,
            "grid_template_rows": null,
            "height": null,
            "justify_content": null,
            "justify_items": null,
            "left": null,
            "margin": null,
            "max_height": null,
            "max_width": null,
            "min_height": null,
            "min_width": null,
            "object_fit": null,
            "object_position": null,
            "order": null,
            "overflow": null,
            "overflow_x": null,
            "overflow_y": null,
            "padding": null,
            "right": null,
            "top": null,
            "visibility": null,
            "width": null
          }
        },
        "f0636739f1844b2394ecea3a51a67bc1": {
          "model_module": "@jupyter-widgets/controls",
          "model_name": "DescriptionStyleModel",
          "model_module_version": "1.5.0",
          "state": {
            "_model_module": "@jupyter-widgets/controls",
            "_model_module_version": "1.5.0",
            "_model_name": "DescriptionStyleModel",
            "_view_count": null,
            "_view_module": "@jupyter-widgets/base",
            "_view_module_version": "1.2.0",
            "_view_name": "StyleView",
            "description_width": ""
          }
        },
        "455decadb6e742fda1f31f7515c57358": {
          "model_module": "@jupyter-widgets/controls",
          "model_name": "HBoxModel",
          "model_module_version": "1.5.0",
          "state": {
            "_dom_classes": [],
            "_model_module": "@jupyter-widgets/controls",
            "_model_module_version": "1.5.0",
            "_model_name": "HBoxModel",
            "_view_count": null,
            "_view_module": "@jupyter-widgets/controls",
            "_view_module_version": "1.5.0",
            "_view_name": "HBoxView",
            "box_style": "",
            "children": [
              "IPY_MODEL_3285d87b40a2481f851e7e1610e575d7",
              "IPY_MODEL_4dc14eb5a7874943983ab033d8caadff",
              "IPY_MODEL_70046589d7df489daab19c3a5dd303df"
            ],
            "layout": "IPY_MODEL_c329fc9ad7ea489f9f592800f00b1720"
          }
        },
        "3285d87b40a2481f851e7e1610e575d7": {
          "model_module": "@jupyter-widgets/controls",
          "model_name": "HTMLModel",
          "model_module_version": "1.5.0",
          "state": {
            "_dom_classes": [],
            "_model_module": "@jupyter-widgets/controls",
            "_model_module_version": "1.5.0",
            "_model_name": "HTMLModel",
            "_view_count": null,
            "_view_module": "@jupyter-widgets/controls",
            "_view_module_version": "1.5.0",
            "_view_name": "HTMLView",
            "description": "",
            "description_tooltip": null,
            "layout": "IPY_MODEL_02d7c9d4a0e64459a2049d8c0e6c63b9",
            "placeholder": "​",
            "style": "IPY_MODEL_93e0ac15295a40fea88e4573c7ba36cc",
            "value": "model.safetensors: 100%"
          }
        },
        "4dc14eb5a7874943983ab033d8caadff": {
          "model_module": "@jupyter-widgets/controls",
          "model_name": "FloatProgressModel",
          "model_module_version": "1.5.0",
          "state": {
            "_dom_classes": [],
            "_model_module": "@jupyter-widgets/controls",
            "_model_module_version": "1.5.0",
            "_model_name": "FloatProgressModel",
            "_view_count": null,
            "_view_module": "@jupyter-widgets/controls",
            "_view_module_version": "1.5.0",
            "_view_name": "ProgressView",
            "bar_style": "success",
            "description": "",
            "description_tooltip": null,
            "layout": "IPY_MODEL_36185473d9084edf8183ac220b7d2bca",
            "max": 176,
            "min": 0,
            "orientation": "horizontal",
            "style": "IPY_MODEL_fc29e2fc8d674cbcb44e49bb02a6133d",
            "value": 176
          }
        },
        "70046589d7df489daab19c3a5dd303df": {
          "model_module": "@jupyter-widgets/controls",
          "model_name": "HTMLModel",
          "model_module_version": "1.5.0",
          "state": {
            "_dom_classes": [],
            "_model_module": "@jupyter-widgets/controls",
            "_model_module_version": "1.5.0",
            "_model_name": "HTMLModel",
            "_view_count": null,
            "_view_module": "@jupyter-widgets/controls",
            "_view_module_version": "1.5.0",
            "_view_name": "HTMLView",
            "description": "",
            "description_tooltip": null,
            "layout": "IPY_MODEL_1e68504735754492b54d2c26270299c3",
            "placeholder": "​",
            "style": "IPY_MODEL_df1241447f234f1eb5f640956da48426",
            "value": " 176/176 [00:00&lt;00:00, 13.0kB/s]"
          }
        },
        "c329fc9ad7ea489f9f592800f00b1720": {
          "model_module": "@jupyter-widgets/base",
          "model_name": "LayoutModel",
          "model_module_version": "1.2.0",
          "state": {
            "_model_module": "@jupyter-widgets/base",
            "_model_module_version": "1.2.0",
            "_model_name": "LayoutModel",
            "_view_count": null,
            "_view_module": "@jupyter-widgets/base",
            "_view_module_version": "1.2.0",
            "_view_name": "LayoutView",
            "align_content": null,
            "align_items": null,
            "align_self": null,
            "border": null,
            "bottom": null,
            "display": null,
            "flex": null,
            "flex_flow": null,
            "grid_area": null,
            "grid_auto_columns": null,
            "grid_auto_flow": null,
            "grid_auto_rows": null,
            "grid_column": null,
            "grid_gap": null,
            "grid_row": null,
            "grid_template_areas": null,
            "grid_template_columns": null,
            "grid_template_rows": null,
            "height": null,
            "justify_content": null,
            "justify_items": null,
            "left": null,
            "margin": null,
            "max_height": null,
            "max_width": null,
            "min_height": null,
            "min_width": null,
            "object_fit": null,
            "object_position": null,
            "order": null,
            "overflow": null,
            "overflow_x": null,
            "overflow_y": null,
            "padding": null,
            "right": null,
            "top": null,
            "visibility": null,
            "width": null
          }
        },
        "02d7c9d4a0e64459a2049d8c0e6c63b9": {
          "model_module": "@jupyter-widgets/base",
          "model_name": "LayoutModel",
          "model_module_version": "1.2.0",
          "state": {
            "_model_module": "@jupyter-widgets/base",
            "_model_module_version": "1.2.0",
            "_model_name": "LayoutModel",
            "_view_count": null,
            "_view_module": "@jupyter-widgets/base",
            "_view_module_version": "1.2.0",
            "_view_name": "LayoutView",
            "align_content": null,
            "align_items": null,
            "align_self": null,
            "border": null,
            "bottom": null,
            "display": null,
            "flex": null,
            "flex_flow": null,
            "grid_area": null,
            "grid_auto_columns": null,
            "grid_auto_flow": null,
            "grid_auto_rows": null,
            "grid_column": null,
            "grid_gap": null,
            "grid_row": null,
            "grid_template_areas": null,
            "grid_template_columns": null,
            "grid_template_rows": null,
            "height": null,
            "justify_content": null,
            "justify_items": null,
            "left": null,
            "margin": null,
            "max_height": null,
            "max_width": null,
            "min_height": null,
            "min_width": null,
            "object_fit": null,
            "object_position": null,
            "order": null,
            "overflow": null,
            "overflow_x": null,
            "overflow_y": null,
            "padding": null,
            "right": null,
            "top": null,
            "visibility": null,
            "width": null
          }
        },
        "93e0ac15295a40fea88e4573c7ba36cc": {
          "model_module": "@jupyter-widgets/controls",
          "model_name": "DescriptionStyleModel",
          "model_module_version": "1.5.0",
          "state": {
            "_model_module": "@jupyter-widgets/controls",
            "_model_module_version": "1.5.0",
            "_model_name": "DescriptionStyleModel",
            "_view_count": null,
            "_view_module": "@jupyter-widgets/base",
            "_view_module_version": "1.2.0",
            "_view_name": "StyleView",
            "description_width": ""
          }
        },
        "36185473d9084edf8183ac220b7d2bca": {
          "model_module": "@jupyter-widgets/base",
          "model_name": "LayoutModel",
          "model_module_version": "1.2.0",
          "state": {
            "_model_module": "@jupyter-widgets/base",
            "_model_module_version": "1.2.0",
            "_model_name": "LayoutModel",
            "_view_count": null,
            "_view_module": "@jupyter-widgets/base",
            "_view_module_version": "1.2.0",
            "_view_name": "LayoutView",
            "align_content": null,
            "align_items": null,
            "align_self": null,
            "border": null,
            "bottom": null,
            "display": null,
            "flex": null,
            "flex_flow": null,
            "grid_area": null,
            "grid_auto_columns": null,
            "grid_auto_flow": null,
            "grid_auto_rows": null,
            "grid_column": null,
            "grid_gap": null,
            "grid_row": null,
            "grid_template_areas": null,
            "grid_template_columns": null,
            "grid_template_rows": null,
            "height": null,
            "justify_content": null,
            "justify_items": null,
            "left": null,
            "margin": null,
            "max_height": null,
            "max_width": null,
            "min_height": null,
            "min_width": null,
            "object_fit": null,
            "object_position": null,
            "order": null,
            "overflow": null,
            "overflow_x": null,
            "overflow_y": null,
            "padding": null,
            "right": null,
            "top": null,
            "visibility": null,
            "width": null
          }
        },
        "fc29e2fc8d674cbcb44e49bb02a6133d": {
          "model_module": "@jupyter-widgets/controls",
          "model_name": "ProgressStyleModel",
          "model_module_version": "1.5.0",
          "state": {
            "_model_module": "@jupyter-widgets/controls",
            "_model_module_version": "1.5.0",
            "_model_name": "ProgressStyleModel",
            "_view_count": null,
            "_view_module": "@jupyter-widgets/base",
            "_view_module_version": "1.2.0",
            "_view_name": "StyleView",
            "bar_color": null,
            "description_width": ""
          }
        },
        "1e68504735754492b54d2c26270299c3": {
          "model_module": "@jupyter-widgets/base",
          "model_name": "LayoutModel",
          "model_module_version": "1.2.0",
          "state": {
            "_model_module": "@jupyter-widgets/base",
            "_model_module_version": "1.2.0",
            "_model_name": "LayoutModel",
            "_view_count": null,
            "_view_module": "@jupyter-widgets/base",
            "_view_module_version": "1.2.0",
            "_view_name": "LayoutView",
            "align_content": null,
            "align_items": null,
            "align_self": null,
            "border": null,
            "bottom": null,
            "display": null,
            "flex": null,
            "flex_flow": null,
            "grid_area": null,
            "grid_auto_columns": null,
            "grid_auto_flow": null,
            "grid_auto_rows": null,
            "grid_column": null,
            "grid_gap": null,
            "grid_row": null,
            "grid_template_areas": null,
            "grid_template_columns": null,
            "grid_template_rows": null,
            "height": null,
            "justify_content": null,
            "justify_items": null,
            "left": null,
            "margin": null,
            "max_height": null,
            "max_width": null,
            "min_height": null,
            "min_width": null,
            "object_fit": null,
            "object_position": null,
            "order": null,
            "overflow": null,
            "overflow_x": null,
            "overflow_y": null,
            "padding": null,
            "right": null,
            "top": null,
            "visibility": null,
            "width": null
          }
        },
        "df1241447f234f1eb5f640956da48426": {
          "model_module": "@jupyter-widgets/controls",
          "model_name": "DescriptionStyleModel",
          "model_module_version": "1.5.0",
          "state": {
            "_model_module": "@jupyter-widgets/controls",
            "_model_module_version": "1.5.0",
            "_model_name": "DescriptionStyleModel",
            "_view_count": null,
            "_view_module": "@jupyter-widgets/base",
            "_view_module_version": "1.2.0",
            "_view_name": "StyleView",
            "description_width": ""
          }
        }
      }
    }
  },
  "nbformat": 4,
  "nbformat_minor": 5
}